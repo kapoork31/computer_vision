{
 "cells": [
  {
   "cell_type": "code",
   "execution_count": 1,
   "metadata": {},
   "outputs": [],
   "source": [
    "import cv2\n",
    "import numpy as np\n",
    "import tensorflow.keras.models as models\n",
    "from flask import Flask, request, Response\n",
    "from cv2 import CascadeClassifier\n",
    "from tensorflow.keras.preprocessing.image import img_to_array\n",
    "from tensorflow.keras.applications.mobilenet_v2 import preprocess_input\n",
    "import json\n",
    "import mlflow"
   ]
  },
  {
   "cell_type": "code",
   "execution_count": 2,
   "metadata": {},
   "outputs": [],
   "source": [
    "keras_model = mlflow.keras.load_model(\"mlruns/1/7d516d278b5a4a2c9472d72bc3028713/artifacts/face_mask_model\")"
   ]
  },
  {
   "cell_type": "code",
   "execution_count": 3,
   "metadata": {},
   "outputs": [
    {
     "name": "stdout",
     "output_type": "stream",
     "text": [
      " * Serving Flask app \"__main__\" (lazy loading)\n",
      " * Environment: production\n",
      "   WARNING: Do not use the development server in a production environment.\n",
      "   Use a production WSGI server instead.\n",
      " * Debug mode: off\n"
     ]
<<<<<<< HEAD
=======
    },
    {
     "name": "stderr",
     "output_type": "stream",
     "text": [
      " * Running on http://0.0.0.0:5000/ (Press CTRL+C to quit)\n",
      "127.0.0.1 - - [31/Oct/2020 12:58:53] \"\u001b[37mPOST /api/test HTTP/1.1\u001b[0m\" 200 -\n"
     ]
    },
    {
     "name": "stdout",
     "output_type": "stream",
     "text": [
      "[{\"label\": \"No Mask: 51.39%\", \"x\": \"92\", \"y\": \"161\", \"x2\": \"298\", \"y2\": \"367\", \"mask\": \"0.48609075\", \"withoutMask\": \"0.5139093\"}]\n"
     ]
    },
    {
     "name": "stderr",
     "output_type": "stream",
     "text": [
      "127.0.0.1 - - [31/Oct/2020 12:58:54] \"\u001b[37mPOST /api/test HTTP/1.1\u001b[0m\" 200 -\n"
     ]
    },
    {
     "name": "stdout",
     "output_type": "stream",
     "text": [
      "[{\"label\": \"No Mask: 85.38%\", \"x\": \"73\", \"y\": \"303\", \"x2\": \"144\", \"y2\": \"374\", \"mask\": \"0.14622718\", \"withoutMask\": \"0.8537728\"}]\n"
     ]
    },
    {
     "name": "stderr",
     "output_type": "stream",
     "text": [
      "127.0.0.1 - - [31/Oct/2020 12:58:54] \"\u001b[37mPOST /api/test HTTP/1.1\u001b[0m\" 200 -\n"
     ]
    },
    {
     "name": "stdout",
     "output_type": "stream",
     "text": [
      "[{\"label\": \"No Mask: 96.25%\", \"x\": \"71\", \"y\": \"156\", \"x2\": \"287\", \"y2\": \"372\", \"mask\": \"0.03748015\", \"withoutMask\": \"0.9625199\"}]\n"
     ]
    },
    {
     "name": "stderr",
     "output_type": "stream",
     "text": [
      "127.0.0.1 - - [31/Oct/2020 12:58:55] \"\u001b[37mPOST /api/test HTTP/1.1\u001b[0m\" 200 -\n"
     ]
    },
    {
     "name": "stdout",
     "output_type": "stream",
     "text": [
      "[{\"label\": \"No Mask: 95.77%\", \"x\": \"89\", \"y\": \"157\", \"x2\": \"290\", \"y2\": \"358\", \"mask\": \"0.042326033\", \"withoutMask\": \"0.95767397\"}]\n"
     ]
    },
    {
     "name": "stderr",
     "output_type": "stream",
     "text": [
      "127.0.0.1 - - [31/Oct/2020 12:58:55] \"\u001b[37mPOST /api/test HTTP/1.1\u001b[0m\" 200 -\n"
     ]
    },
    {
     "name": "stdout",
     "output_type": "stream",
     "text": [
      "[{\"label\": \"No Mask: 98.16%\", \"x\": \"85\", \"y\": \"154\", \"x2\": \"289\", \"y2\": \"358\", \"mask\": \"0.01840977\", \"withoutMask\": \"0.9815902\"}]\n"
     ]
    },
    {
     "name": "stderr",
     "output_type": "stream",
     "text": [
      "127.0.0.1 - - [31/Oct/2020 12:58:56] \"\u001b[37mPOST /api/test HTTP/1.1\u001b[0m\" 200 -\n"
     ]
    },
    {
     "name": "stdout",
     "output_type": "stream",
     "text": [
      "[{\"label\": \"No Mask: 97.09%\", \"x\": \"79\", \"y\": \"150\", \"x2\": \"288\", \"y2\": \"359\", \"mask\": \"0.029102227\", \"withoutMask\": \"0.97089773\"}]\n"
     ]
    },
    {
     "name": "stderr",
     "output_type": "stream",
     "text": [
      "127.0.0.1 - - [31/Oct/2020 12:58:56] \"\u001b[37mPOST /api/test HTTP/1.1\u001b[0m\" 200 -\n"
     ]
    },
    {
     "name": "stdout",
     "output_type": "stream",
     "text": [
      "[{\"label\": \"No Mask: 98.00%\", \"x\": \"80\", \"y\": \"150\", \"x2\": \"291\", \"y2\": \"361\", \"mask\": \"0.02001057\", \"withoutMask\": \"0.97998947\"}]\n"
     ]
    },
    {
     "name": "stderr",
     "output_type": "stream",
     "text": [
      "127.0.0.1 - - [31/Oct/2020 12:58:56] \"\u001b[37mPOST /api/test HTTP/1.1\u001b[0m\" 200 -\n"
     ]
    },
    {
     "name": "stdout",
     "output_type": "stream",
     "text": [
      "[{\"label\": \"No Mask: 97.80%\", \"x\": \"83\", \"y\": \"153\", \"x2\": \"290\", \"y2\": \"360\", \"mask\": \"0.021975016\", \"withoutMask\": \"0.97802496\"}]\n"
     ]
    },
    {
     "name": "stderr",
     "output_type": "stream",
     "text": [
      "127.0.0.1 - - [31/Oct/2020 12:58:56] \"\u001b[37mPOST /api/test HTTP/1.1\u001b[0m\" 200 -\n"
     ]
    },
    {
     "name": "stdout",
     "output_type": "stream",
     "text": [
      "[{\"label\": \"No Mask: 94.88%\", \"x\": \"89\", \"y\": \"154\", \"x2\": \"288\", \"y2\": \"353\", \"mask\": \"0.051243465\", \"withoutMask\": \"0.9487565\"}]\n"
     ]
    },
    {
     "name": "stderr",
     "output_type": "stream",
     "text": [
      "127.0.0.1 - - [31/Oct/2020 12:58:56] \"\u001b[37mPOST /api/test HTTP/1.1\u001b[0m\" 200 -\n"
     ]
    },
    {
     "name": "stdout",
     "output_type": "stream",
     "text": [
      "[{\"label\": \"No Mask: 97.15%\", \"x\": \"89\", \"y\": \"155\", \"x2\": \"289\", \"y2\": \"355\", \"mask\": \"0.028452616\", \"withoutMask\": \"0.97154737\"}]\n"
     ]
    },
    {
     "name": "stderr",
     "output_type": "stream",
     "text": [
      "127.0.0.1 - - [31/Oct/2020 12:58:57] \"\u001b[37mPOST /api/test HTTP/1.1\u001b[0m\" 200 -\n"
     ]
    },
    {
     "name": "stdout",
     "output_type": "stream",
     "text": [
      "[{\"label\": \"No Mask: 95.41%\", \"x\": \"91\", \"y\": \"152\", \"x2\": \"294\", \"y2\": \"355\", \"mask\": \"0.045897637\", \"withoutMask\": \"0.95410234\"}]\n",
      "[{\"label\": \"No Mask: 95.81%\", \"x\": \"95\", \"y\": \"155\", \"x2\": \"294\", \"y2\": \"354\", \"mask\": \"0.04187054\", \"withoutMask\": \"0.9581294\"}]"
     ]
    },
    {
     "name": "stderr",
     "output_type": "stream",
     "text": [
      "127.0.0.1 - - [31/Oct/2020 12:58:57] \"\u001b[37mPOST /api/test HTTP/1.1\u001b[0m\" 200 -\n"
     ]
    },
    {
     "name": "stdout",
     "output_type": "stream",
     "text": [
      "\n",
      "[{\"label\": \"No Mask: 87.50%\", \"x\": \"88\", \"y\": \"147\", \"x2\": \"305\", \"y2\": \"364\", \"mask\": \"0.12495235\", \"withoutMask\": \"0.8750476\"}]"
     ]
    },
    {
     "name": "stderr",
     "output_type": "stream",
     "text": [
      "127.0.0.1 - - [31/Oct/2020 12:58:57] \"\u001b[37mPOST /api/test HTTP/1.1\u001b[0m\" 200 -\n"
     ]
    },
    {
     "name": "stdout",
     "output_type": "stream",
     "text": [
      "\n"
     ]
    },
    {
     "name": "stderr",
     "output_type": "stream",
     "text": [
      "127.0.0.1 - - [31/Oct/2020 12:58:57] \"\u001b[37mPOST /api/test HTTP/1.1\u001b[0m\" 200 -\n"
     ]
    },
    {
     "name": "stdout",
     "output_type": "stream",
     "text": [
      "[{\"label\": \"No Mask: 88.23%\", \"x\": \"87\", \"y\": \"150\", \"x2\": \"306\", \"y2\": \"369\", \"mask\": \"0.11766529\", \"withoutMask\": \"0.88233465\"}]\n"
     ]
    },
    {
     "name": "stderr",
     "output_type": "stream",
     "text": [
      "127.0.0.1 - - [31/Oct/2020 12:58:58] \"\u001b[37mPOST /api/test HTTP/1.1\u001b[0m\" 200 -\n"
     ]
    },
    {
     "name": "stdout",
     "output_type": "stream",
     "text": [
      "[{\"label\": \"No Mask: 77.64%\", \"x\": \"87\", \"y\": \"149\", \"x2\": \"306\", \"y2\": \"368\", \"mask\": \"0.22364222\", \"withoutMask\": \"0.77635777\"}]\n"
     ]
    },
    {
     "name": "stderr",
     "output_type": "stream",
     "text": [
      "127.0.0.1 - - [31/Oct/2020 12:58:58] \"\u001b[37mPOST /api/test HTTP/1.1\u001b[0m\" 200 -\n"
     ]
    },
    {
     "name": "stdout",
     "output_type": "stream",
     "text": [
      "[{\"label\": \"No Mask: 89.32%\", \"x\": \"86\", \"y\": \"149\", \"x2\": \"305\", \"y2\": \"368\", \"mask\": \"0.1067923\", \"withoutMask\": \"0.89320767\"}]\n"
     ]
    },
    {
     "name": "stderr",
     "output_type": "stream",
     "text": [
      "127.0.0.1 - - [31/Oct/2020 12:58:58] \"\u001b[37mPOST /api/test HTTP/1.1\u001b[0m\" 200 -\n"
     ]
    },
    {
     "name": "stdout",
     "output_type": "stream",
     "text": [
      "[{\"label\": \"No Mask: 97.81%\", \"x\": \"89\", \"y\": \"149\", \"x2\": \"306\", \"y2\": \"366\", \"mask\": \"0.021853194\", \"withoutMask\": \"0.97814685\"}]\n"
     ]
    },
    {
     "name": "stderr",
     "output_type": "stream",
     "text": [
      "127.0.0.1 - - [31/Oct/2020 12:58:58] \"\u001b[37mPOST /api/test HTTP/1.1\u001b[0m\" 200 -\n"
     ]
    },
    {
     "name": "stdout",
     "output_type": "stream",
     "text": [
      "[{\"label\": \"No Mask: 94.72%\", \"x\": \"93\", \"y\": \"152\", \"x2\": \"304\", \"y2\": \"363\", \"mask\": \"0.05284629\", \"withoutMask\": \"0.9471537\"}]\n"
     ]
    },
    {
     "name": "stderr",
     "output_type": "stream",
     "text": [
      "127.0.0.1 - - [31/Oct/2020 12:58:58] \"\u001b[37mPOST /api/test HTTP/1.1\u001b[0m\" 200 -\n"
     ]
    },
    {
     "name": "stdout",
     "output_type": "stream",
     "text": [
      "[{\"label\": \"No Mask: 99.47%\", \"x\": \"98\", \"y\": \"151\", \"x2\": \"305\", \"y2\": \"358\", \"mask\": \"0.005293382\", \"withoutMask\": \"0.9947067\"}]\n"
     ]
    },
    {
     "name": "stderr",
     "output_type": "stream",
     "text": [
      "127.0.0.1 - - [31/Oct/2020 12:58:59] \"\u001b[37mPOST /api/test HTTP/1.1\u001b[0m\" 200 -\n"
     ]
    },
    {
     "name": "stdout",
     "output_type": "stream",
     "text": [
      "[{\"label\": \"No Mask: 99.75%\", \"x\": \"105\", \"y\": \"143\", \"x2\": \"318\", \"y2\": \"356\", \"mask\": \"0.002473342\", \"withoutMask\": \"0.9975267\"}]\n",
      "[{\"label\": \"No Mask: 99.04%\", \"x\": \"117\", \"y\": \"142\", \"x2\": \"326\", \"y2\": \"351\", \"mask\": \"0.009636843\", \"withoutMask\": \"0.9903632\"}]"
     ]
    },
    {
     "name": "stderr",
     "output_type": "stream",
     "text": [
      "127.0.0.1 - - [31/Oct/2020 12:58:59] \"\u001b[37mPOST /api/test HTTP/1.1\u001b[0m\" 200 -\n"
     ]
    },
    {
     "name": "stdout",
     "output_type": "stream",
     "text": [
      "\n"
     ]
    },
    {
     "name": "stderr",
     "output_type": "stream",
     "text": [
      "127.0.0.1 - - [31/Oct/2020 12:58:59] \"\u001b[37mPOST /api/test HTTP/1.1\u001b[0m\" 200 -\n"
     ]
    },
    {
     "name": "stdout",
     "output_type": "stream",
     "text": [
      "[{\"label\": \"No Mask: 99.98%\", \"x\": \"118\", \"y\": \"142\", \"x2\": \"331\", \"y2\": \"355\", \"mask\": \"0.00017818616\", \"withoutMask\": \"0.99982184\"}]\n"
     ]
    },
    {
     "name": "stderr",
     "output_type": "stream",
     "text": [
      "127.0.0.1 - - [31/Oct/2020 12:58:59] \"\u001b[37mPOST /api/test HTTP/1.1\u001b[0m\" 200 -\n"
     ]
    },
    {
     "name": "stdout",
     "output_type": "stream",
     "text": [
      "[{\"label\": \"No Mask: 99.98%\", \"x\": \"117\", \"y\": \"143\", \"x2\": \"328\", \"y2\": \"354\", \"mask\": \"0.00021298154\", \"withoutMask\": \"0.99978703\"}]\n"
     ]
    },
    {
     "name": "stderr",
     "output_type": "stream",
     "text": [
      "127.0.0.1 - - [31/Oct/2020 12:59:00] \"\u001b[37mPOST /api/test HTTP/1.1\u001b[0m\" 200 -\n"
     ]
    },
    {
     "name": "stdout",
     "output_type": "stream",
     "text": [
      "[{\"label\": \"No Mask: 99.32%\", \"x\": \"113\", \"y\": \"146\", \"x2\": \"325\", \"y2\": \"358\", \"mask\": \"0.0068086726\", \"withoutMask\": \"0.9931913\"}]\n"
     ]
    },
    {
     "name": "stderr",
     "output_type": "stream",
     "text": [
      "127.0.0.1 - - [31/Oct/2020 12:59:00] \"\u001b[37mPOST /api/test HTTP/1.1\u001b[0m\" 200 -\n"
     ]
    },
    {
     "name": "stdout",
     "output_type": "stream",
     "text": [
      "[{\"label\": \"No Mask: 99.62%\", \"x\": \"114\", \"y\": \"146\", \"x2\": \"322\", \"y2\": \"354\", \"mask\": \"0.0037740327\", \"withoutMask\": \"0.99622595\"}]\n"
     ]
    },
    {
     "name": "stderr",
     "output_type": "stream",
     "text": [
      "127.0.0.1 - - [31/Oct/2020 12:59:00] \"\u001b[37mPOST /api/test HTTP/1.1\u001b[0m\" 200 -\n"
     ]
    },
    {
     "name": "stdout",
     "output_type": "stream",
     "text": [
      "[{\"label\": \"No Mask: 99.67%\", \"x\": \"114\", \"y\": \"146\", \"x2\": \"325\", \"y2\": \"357\", \"mask\": \"0.0032851868\", \"withoutMask\": \"0.99671483\"}]\n"
     ]
    },
    {
     "name": "stderr",
     "output_type": "stream",
     "text": [
      "127.0.0.1 - - [31/Oct/2020 12:59:00] \"\u001b[37mPOST /api/test HTTP/1.1\u001b[0m\" 200 -\n"
     ]
    },
    {
     "name": "stdout",
     "output_type": "stream",
     "text": [
      "[{\"label\": \"No Mask: 99.84%\", \"x\": \"113\", \"y\": \"145\", \"x2\": \"324\", \"y2\": \"356\", \"mask\": \"0.0016482587\", \"withoutMask\": \"0.9983518\"}]\n"
     ]
    },
    {
     "name": "stderr",
     "output_type": "stream",
     "text": [
      "127.0.0.1 - - [31/Oct/2020 12:59:01] \"\u001b[37mPOST /api/test HTTP/1.1\u001b[0m\" 200 -\n"
     ]
    },
    {
     "name": "stdout",
     "output_type": "stream",
     "text": [
      "[{\"label\": \"No Mask: 99.84%\", \"x\": \"111\", \"y\": \"144\", \"x2\": \"324\", \"y2\": \"357\", \"mask\": \"0.0015553347\", \"withoutMask\": \"0.99844474\"}]\n"
     ]
    },
    {
     "name": "stderr",
     "output_type": "stream",
     "text": [
      "127.0.0.1 - - [31/Oct/2020 12:59:01] \"\u001b[37mPOST /api/test HTTP/1.1\u001b[0m\" 200 -\n"
     ]
    },
    {
     "name": "stdout",
     "output_type": "stream",
     "text": [
      "[{\"label\": \"No Mask: 99.87%\", \"x\": \"113\", \"y\": \"148\", \"x2\": \"322\", \"y2\": \"357\", \"mask\": \"0.0012917153\", \"withoutMask\": \"0.99870825\"}]\n",
      "[{\"label\": \"No Mask: 99.92%\", \"x\": \"113\", \"y\": \"147\", \"x2\": \"322\", \"y2\": \"356\", \"mask\": \"0.00082411803\", \"withoutMask\": \"0.99917585\"}]"
     ]
    },
    {
     "name": "stderr",
     "output_type": "stream",
     "text": [
      "127.0.0.1 - - [31/Oct/2020 12:59:01] \"\u001b[37mPOST /api/test HTTP/1.1\u001b[0m\" 200 -\n"
     ]
    },
    {
     "name": "stdout",
     "output_type": "stream",
     "text": [
      "\n"
     ]
    },
    {
     "name": "stderr",
     "output_type": "stream",
     "text": [
      "127.0.0.1 - - [31/Oct/2020 12:59:01] \"\u001b[37mPOST /api/test HTTP/1.1\u001b[0m\" 200 -\n"
     ]
    },
    {
     "name": "stdout",
     "output_type": "stream",
     "text": [
      "[{\"label\": \"No Mask: 99.92%\", \"x\": \"111\", \"y\": \"147\", \"x2\": \"324\", \"y2\": \"360\", \"mask\": \"0.0007681513\", \"withoutMask\": \"0.9992318\"}]\n"
     ]
    },
    {
     "name": "stderr",
     "output_type": "stream",
     "text": [
      "127.0.0.1 - - [31/Oct/2020 12:59:01] \"\u001b[37mPOST /api/test HTTP/1.1\u001b[0m\" 200 -\n"
     ]
    },
    {
     "name": "stdout",
     "output_type": "stream",
     "text": [
      "[{\"label\": \"No Mask: 99.98%\", \"x\": \"111\", \"y\": \"147\", \"x2\": \"322\", \"y2\": \"358\", \"mask\": \"0.00018356252\", \"withoutMask\": \"0.9998165\"}]\n"
     ]
    },
    {
     "name": "stderr",
     "output_type": "stream",
     "text": [
      "127.0.0.1 - - [31/Oct/2020 12:59:02] \"\u001b[37mPOST /api/test HTTP/1.1\u001b[0m\" 200 -\n"
     ]
    },
    {
     "name": "stdout",
     "output_type": "stream",
     "text": [
      "[{\"label\": \"No Mask: 98.45%\", \"x\": \"112\", \"y\": \"146\", \"x2\": \"325\", \"y2\": \"359\", \"mask\": \"0.015519596\", \"withoutMask\": \"0.98448044\"}]\n"
     ]
    },
    {
     "name": "stderr",
     "output_type": "stream",
     "text": [
      "127.0.0.1 - - [31/Oct/2020 12:59:02] \"\u001b[37mPOST /api/test HTTP/1.1\u001b[0m\" 200 -\n"
     ]
    },
    {
     "name": "stdout",
     "output_type": "stream",
     "text": [
      "[{\"label\": \"No Mask: 99.41%\", \"x\": \"112\", \"y\": \"146\", \"x2\": \"324\", \"y2\": \"358\", \"mask\": \"0.005913689\", \"withoutMask\": \"0.99408627\"}]\n"
     ]
    },
    {
     "name": "stderr",
     "output_type": "stream",
     "text": [
      "127.0.0.1 - - [31/Oct/2020 12:59:02] \"\u001b[37mPOST /api/test HTTP/1.1\u001b[0m\" 200 -\n"
     ]
    },
    {
     "name": "stdout",
     "output_type": "stream",
     "text": [
      "[{\"label\": \"No Mask: 99.89%\", \"x\": \"110\", \"y\": \"148\", \"x2\": \"324\", \"y2\": \"362\", \"mask\": \"0.0011494479\", \"withoutMask\": \"0.9988506\"}]\n",
      "[{\"label\": \"No Mask: 99.70%\", \"x\": \"113\", \"y\": \"148\", \"x2\": \"324\", \"y2\": \"359\", \"mask\": \"0.0029795023\", \"withoutMask\": \"0.9970204\"}]"
     ]
    },
    {
     "name": "stderr",
     "output_type": "stream",
     "text": [
      "127.0.0.1 - - [31/Oct/2020 12:59:02] \"\u001b[37mPOST /api/test HTTP/1.1\u001b[0m\" 200 -\n"
     ]
    },
    {
     "name": "stdout",
     "output_type": "stream",
     "text": [
      "\n"
     ]
    },
    {
     "name": "stderr",
     "output_type": "stream",
     "text": [
      "127.0.0.1 - - [31/Oct/2020 12:59:03] \"\u001b[37mPOST /api/test HTTP/1.1\u001b[0m\" 200 -\n"
     ]
    },
    {
     "name": "stdout",
     "output_type": "stream",
     "text": [
      "[{\"label\": \"No Mask: 99.61%\", \"x\": \"111\", \"y\": \"149\", \"x2\": \"322\", \"y2\": \"360\", \"mask\": \"0.0039094295\", \"withoutMask\": \"0.9960906\"}]\n"
     ]
    },
    {
     "name": "stderr",
     "output_type": "stream",
     "text": [
      "127.0.0.1 - - [31/Oct/2020 12:59:03] \"\u001b[37mPOST /api/test HTTP/1.1\u001b[0m\" 200 -\n"
     ]
    },
    {
     "name": "stdout",
     "output_type": "stream",
     "text": [
      "[{\"label\": \"No Mask: 99.70%\", \"x\": \"112\", \"y\": \"151\", \"x2\": \"320\", \"y2\": \"359\", \"mask\": \"0.0029901152\", \"withoutMask\": \"0.9970099\"}]\n"
     ]
    },
    {
     "name": "stderr",
     "output_type": "stream",
     "text": [
      "127.0.0.1 - - [31/Oct/2020 12:59:03] \"\u001b[37mPOST /api/test HTTP/1.1\u001b[0m\" 200 -\n"
     ]
    },
    {
     "name": "stdout",
     "output_type": "stream",
     "text": [
      "[{\"label\": \"No Mask: 97.68%\", \"x\": \"106\", \"y\": \"150\", \"x2\": \"315\", \"y2\": \"359\", \"mask\": \"0.023158502\", \"withoutMask\": \"0.9768415\"}]\n"
     ]
    },
    {
     "name": "stderr",
     "output_type": "stream",
     "text": [
      "127.0.0.1 - - [31/Oct/2020 12:59:03] \"\u001b[37mPOST /api/test HTTP/1.1\u001b[0m\" 200 -\n"
     ]
    },
    {
     "name": "stdout",
     "output_type": "stream",
     "text": [
      "[{\"label\": \"No Mask: 98.96%\", \"x\": \"101\", \"y\": \"149\", \"x2\": \"316\", \"y2\": \"364\", \"mask\": \"0.010368656\", \"withoutMask\": \"0.98963135\"}]\n"
     ]
    },
    {
     "name": "stderr",
     "output_type": "stream",
     "text": [
      "127.0.0.1 - - [31/Oct/2020 12:59:04] \"\u001b[37mPOST /api/test HTTP/1.1\u001b[0m\" 200 -\n"
     ]
    },
    {
     "name": "stdout",
     "output_type": "stream",
     "text": [
      "[{\"label\": \"No Mask: 99.02%\", \"x\": \"101\", \"y\": \"150\", \"x2\": \"314\", \"y2\": \"363\", \"mask\": \"0.009764723\", \"withoutMask\": \"0.99023527\"}]\n"
     ]
    },
    {
     "name": "stderr",
     "output_type": "stream",
     "text": [
      "127.0.0.1 - - [31/Oct/2020 12:59:04] \"\u001b[37mPOST /api/test HTTP/1.1\u001b[0m\" 200 -\n"
     ]
    },
    {
     "name": "stdout",
     "output_type": "stream",
     "text": [
      "[{\"label\": \"No Mask: 98.08%\", \"x\": \"104\", \"y\": \"150\", \"x2\": \"314\", \"y2\": \"360\", \"mask\": \"0.0192165\", \"withoutMask\": \"0.9807835\"}]\n",
      "[{\"label\": \"No Mask: 99.49%\", \"x\": \"101\", \"y\": \"149\", \"x2\": \"318\", \"y2\": \"366\", \"mask\": \"0.0050969548\", \"withoutMask\": \"0.9949031\"}]"
     ]
    },
    {
     "name": "stderr",
     "output_type": "stream",
     "text": [
      "127.0.0.1 - - [31/Oct/2020 12:59:04] \"\u001b[37mPOST /api/test HTTP/1.1\u001b[0m\" 200 -\n"
     ]
    },
    {
     "name": "stdout",
     "output_type": "stream",
     "text": [
      "\n"
     ]
    },
    {
     "name": "stderr",
     "output_type": "stream",
     "text": [
      "127.0.0.1 - - [31/Oct/2020 12:59:04] \"\u001b[37mPOST /api/test HTTP/1.1\u001b[0m\" 200 -\n"
     ]
    },
    {
     "name": "stdout",
     "output_type": "stream",
     "text": [
      "[{\"label\": \"No Mask: 99.07%\", \"x\": \"99\", \"y\": \"148\", \"x2\": \"315\", \"y2\": \"364\", \"mask\": \"0.00933653\", \"withoutMask\": \"0.9906634\"}]\n",
      "[{\"label\": \"No Mask: 96.79%\", \"x\": \"100\", \"y\": \"150\", \"x2\": \"312\", \"y2\": \"362\", \"mask\": \"0.032059938\", \"withoutMask\": \"0.96794003\"}]"
     ]
    },
    {
     "name": "stderr",
     "output_type": "stream",
     "text": [
      "127.0.0.1 - - [31/Oct/2020 12:59:05] \"\u001b[37mPOST /api/test HTTP/1.1\u001b[0m\" 200 -\n"
     ]
    },
    {
     "name": "stdout",
     "output_type": "stream",
     "text": [
      "\n"
     ]
    },
    {
     "name": "stderr",
     "output_type": "stream",
     "text": [
      "127.0.0.1 - - [31/Oct/2020 12:59:05] \"\u001b[37mPOST /api/test HTTP/1.1\u001b[0m\" 200 -\n"
     ]
    },
    {
     "name": "stdout",
     "output_type": "stream",
     "text": [
      "[{\"label\": \"No Mask: 94.96%\", \"x\": \"94\", \"y\": \"151\", \"x2\": \"310\", \"y2\": \"367\", \"mask\": \"0.050398856\", \"withoutMask\": \"0.9496011\"}]\n"
     ]
    },
    {
     "name": "stderr",
     "output_type": "stream",
     "text": [
      "127.0.0.1 - - [31/Oct/2020 12:59:05] \"\u001b[37mPOST /api/test HTTP/1.1\u001b[0m\" 200 -\n"
     ]
    },
    {
     "name": "stdout",
     "output_type": "stream",
     "text": [
      "[{\"label\": \"No Mask: 97.63%\", \"x\": \"97\", \"y\": \"154\", \"x2\": \"309\", \"y2\": \"366\", \"mask\": \"0.023749396\", \"withoutMask\": \"0.9762506\"}]\n"
     ]
    },
    {
     "name": "stderr",
     "output_type": "stream",
     "text": [
      "127.0.0.1 - - [31/Oct/2020 12:59:05] \"\u001b[37mPOST /api/test HTTP/1.1\u001b[0m\" 200 -\n"
     ]
    },
    {
     "name": "stdout",
     "output_type": "stream",
     "text": [
      "[{\"label\": \"No Mask: 91.31%\", \"x\": \"95\", \"y\": \"153\", \"x2\": \"309\", \"y2\": \"367\", \"mask\": \"0.08685561\", \"withoutMask\": \"0.91314435\"}]\n",
      "[{\"label\": \"No Mask: 97.89%\", \"x\": \"96\", \"y\": \"154\", \"x2\": \"308\", \"y2\": \"366\", \"mask\": \"0.021092582\", \"withoutMask\": \"0.9789074\"}]"
     ]
    },
    {
     "name": "stderr",
     "output_type": "stream",
     "text": [
      "127.0.0.1 - - [31/Oct/2020 12:59:05] \"\u001b[37mPOST /api/test HTTP/1.1\u001b[0m\" 200 -\n"
     ]
    },
    {
     "name": "stdout",
     "output_type": "stream",
     "text": [
      "\n"
     ]
    },
    {
     "name": "stderr",
     "output_type": "stream",
     "text": [
      "127.0.0.1 - - [31/Oct/2020 12:59:06] \"\u001b[37mPOST /api/test HTTP/1.1\u001b[0m\" 200 -\n"
     ]
    },
    {
     "name": "stdout",
     "output_type": "stream",
     "text": [
      "[{\"label\": \"No Mask: 97.77%\", \"x\": \"96\", \"y\": \"154\", \"x2\": \"308\", \"y2\": \"366\", \"mask\": \"0.022346944\", \"withoutMask\": \"0.977653\"}]\n"
     ]
    },
    {
     "name": "stderr",
     "output_type": "stream",
     "text": [
      "127.0.0.1 - - [31/Oct/2020 13:00:23] \"\u001b[37mPOST /api/test HTTP/1.1\u001b[0m\" 200 -\n"
     ]
    },
    {
     "name": "stdout",
     "output_type": "stream",
     "text": [
      "[{\"label\": \"No Mask: 99.89%\", \"x\": \"94\", \"y\": \"143\", \"x2\": \"299\", \"y2\": \"348\", \"mask\": \"0.0011298506\", \"withoutMask\": \"0.9988701\"}]\n"
     ]
    },
    {
     "name": "stderr",
     "output_type": "stream",
     "text": [
      "127.0.0.1 - - [31/Oct/2020 13:00:23] \"\u001b[37mPOST /api/test HTTP/1.1\u001b[0m\" 200 -\n",
      "127.0.0.1 - - [31/Oct/2020 13:00:23] \"\u001b[37mPOST /api/test HTTP/1.1\u001b[0m\" 200 -\n"
     ]
    },
    {
     "name": "stdout",
     "output_type": "stream",
     "text": [
      "[{\"label\": \"No Mask: 99.00%\", \"x\": \"93\", \"y\": \"150\", \"x2\": \"298\", \"y2\": \"355\", \"mask\": \"0.00996126\", \"withoutMask\": \"0.99003875\"}]\n",
      "[]\n"
     ]
    },
    {
     "name": "stderr",
     "output_type": "stream",
     "text": [
      "127.0.0.1 - - [31/Oct/2020 13:00:24] \"\u001b[37mPOST /api/test HTTP/1.1\u001b[0m\" 200 -\n"
     ]
    },
    {
     "name": "stdout",
     "output_type": "stream",
     "text": [
      "[{\"label\": \"No Mask: 98.89%\", \"x\": \"91\", \"y\": \"178\", \"x2\": \"264\", \"y2\": \"351\", \"mask\": \"0.011114831\", \"withoutMask\": \"0.98888516\"}]\n"
     ]
    },
    {
     "name": "stderr",
     "output_type": "stream",
     "text": [
      "127.0.0.1 - - [31/Oct/2020 13:00:24] \"\u001b[37mPOST /api/test HTTP/1.1\u001b[0m\" 200 -\n"
     ]
    },
    {
     "name": "stdout",
     "output_type": "stream",
     "text": [
      "[{\"label\": \"No Mask: 99.92%\", \"x\": \"103\", \"y\": \"149\", \"x2\": \"317\", \"y2\": \"363\", \"mask\": \"0.0007967239\", \"withoutMask\": \"0.99920326\"}]\n"
     ]
    },
    {
     "name": "stderr",
     "output_type": "stream",
     "text": [
      "127.0.0.1 - - [31/Oct/2020 13:00:24] \"\u001b[37mPOST /api/test HTTP/1.1\u001b[0m\" 200 -\n"
     ]
    },
    {
     "name": "stdout",
     "output_type": "stream",
     "text": [
      "[{\"label\": \"No Mask: 99.89%\", \"x\": \"106\", \"y\": \"154\", \"x2\": \"315\", \"y2\": \"363\", \"mask\": \"0.0011462823\", \"withoutMask\": \"0.9988537\"}]\n"
     ]
    },
    {
     "name": "stderr",
     "output_type": "stream",
     "text": [
      "127.0.0.1 - - [31/Oct/2020 13:00:24] \"\u001b[37mPOST /api/test HTTP/1.1\u001b[0m\" 200 -\n"
     ]
    },
    {
     "name": "stdout",
     "output_type": "stream",
     "text": [
      "[{\"label\": \"No Mask: 99.91%\", \"x\": \"112\", \"y\": \"158\", \"x2\": \"323\", \"y2\": \"369\", \"mask\": \"0.0008879729\", \"withoutMask\": \"0.99911207\"}]\n"
     ]
    },
    {
     "name": "stderr",
     "output_type": "stream",
     "text": [
      "127.0.0.1 - - [31/Oct/2020 13:00:25] \"\u001b[37mPOST /api/test HTTP/1.1\u001b[0m\" 200 -\n"
     ]
    },
    {
     "name": "stdout",
     "output_type": "stream",
     "text": [
      "[{\"label\": \"No Mask: 99.53%\", \"x\": \"113\", \"y\": \"158\", \"x2\": \"326\", \"y2\": \"371\", \"mask\": \"0.004671426\", \"withoutMask\": \"0.99532855\"}]\n"
     ]
    },
    {
     "name": "stderr",
     "output_type": "stream",
     "text": [
      "127.0.0.1 - - [31/Oct/2020 13:00:25] \"\u001b[37mPOST /api/test HTTP/1.1\u001b[0m\" 200 -\n"
     ]
    },
    {
     "name": "stdout",
     "output_type": "stream",
     "text": [
      "[{\"label\": \"No Mask: 99.34%\", \"x\": \"113\", \"y\": \"157\", \"x2\": \"331\", \"y2\": \"375\", \"mask\": \"0.0065930006\", \"withoutMask\": \"0.993407\"}]\n"
     ]
    },
    {
     "name": "stderr",
     "output_type": "stream",
     "text": [
      "127.0.0.1 - - [31/Oct/2020 13:00:25] \"\u001b[37mPOST /api/test HTTP/1.1\u001b[0m\" 200 -\n"
     ]
    },
    {
     "name": "stdout",
     "output_type": "stream",
     "text": [
      "[{\"label\": \"No Mask: 99.12%\", \"x\": \"108\", \"y\": \"156\", \"x2\": \"329\", \"y2\": \"377\", \"mask\": \"0.008808985\", \"withoutMask\": \"0.99119097\"}]\n"
     ]
    },
    {
     "name": "stderr",
     "output_type": "stream",
     "text": [
      "127.0.0.1 - - [31/Oct/2020 13:00:25] \"\u001b[37mPOST /api/test HTTP/1.1\u001b[0m\" 200 -\n"
     ]
    },
    {
     "name": "stdout",
     "output_type": "stream",
     "text": [
      "[{\"label\": \"No Mask: 97.51%\", \"x\": \"96\", \"y\": \"153\", \"x2\": \"325\", \"y2\": \"382\", \"mask\": \"0.024875937\", \"withoutMask\": \"0.97512406\"}]\n"
     ]
    },
    {
     "name": "stderr",
     "output_type": "stream",
     "text": [
      "127.0.0.1 - - [31/Oct/2020 13:00:26] \"\u001b[37mPOST /api/test HTTP/1.1\u001b[0m\" 200 -\n"
     ]
    },
    {
     "name": "stdout",
     "output_type": "stream",
     "text": [
      "[{\"label\": \"No Mask: 89.95%\", \"x\": \"93\", \"y\": \"156\", \"x2\": \"316\", \"y2\": \"379\", \"mask\": \"0.1004616\", \"withoutMask\": \"0.89953846\"}]\n"
     ]
    },
    {
     "name": "stderr",
     "output_type": "stream",
     "text": [
      "127.0.0.1 - - [31/Oct/2020 13:00:26] \"\u001b[37mPOST /api/test HTTP/1.1\u001b[0m\" 200 -\n"
     ]
    },
    {
     "name": "stdout",
     "output_type": "stream",
     "text": [
      "[{\"label\": \"No Mask: 98.84%\", \"x\": \"89\", \"y\": \"155\", \"x2\": \"313\", \"y2\": \"379\", \"mask\": \"0.0115989465\", \"withoutMask\": \"0.98840106\"}]\n"
     ]
    },
    {
     "name": "stderr",
     "output_type": "stream",
     "text": [
      "127.0.0.1 - - [31/Oct/2020 13:00:26] \"\u001b[37mPOST /api/test HTTP/1.1\u001b[0m\" 200 -\n",
      "127.0.0.1 - - [31/Oct/2020 13:00:26] \"\u001b[37mPOST /api/test HTTP/1.1\u001b[0m\" 200 -\n"
     ]
    },
    {
     "name": "stdout",
     "output_type": "stream",
     "text": [
      "[{\"label\": \"No Mask: 61.62%\", \"x\": \"92\", \"y\": \"154\", \"x2\": \"314\", \"y2\": \"376\", \"mask\": \"0.3837948\", \"withoutMask\": \"0.61620516\"}]\n",
      "[{\"label\": \"No Mask: 93.30%\", \"x\": \"95\", \"y\": \"151\", \"x2\": \"318\", \"y2\": \"374\", \"mask\": \"0.06696976\", \"withoutMask\": \"0.93303025\"}]\n"
     ]
    },
    {
     "name": "stderr",
     "output_type": "stream",
     "text": [
      "127.0.0.1 - - [31/Oct/2020 13:00:49] \"\u001b[37mPOST /api/test HTTP/1.1\u001b[0m\" 200 -\n"
     ]
    },
    {
     "name": "stdout",
     "output_type": "stream",
     "text": [
      "[{\"label\": \"No Mask: 79.08%\", \"x\": \"82\", \"y\": \"161\", \"x2\": \"308\", \"y2\": \"387\", \"mask\": \"0.2092432\", \"withoutMask\": \"0.7907568\"}]\n"
     ]
    },
    {
     "name": "stderr",
     "output_type": "stream",
     "text": [
      "127.0.0.1 - - [31/Oct/2020 13:00:49] \"\u001b[37mPOST /api/test HTTP/1.1\u001b[0m\" 200 -\n"
     ]
    },
    {
     "name": "stdout",
     "output_type": "stream",
     "text": [
      "[{\"label\": \"No Mask: 89.29%\", \"x\": \"79\", \"y\": \"155\", \"x2\": \"316\", \"y2\": \"392\", \"mask\": \"0.107123464\", \"withoutMask\": \"0.8928765\"}]\n"
     ]
    },
    {
     "name": "stderr",
     "output_type": "stream",
     "text": [
      "127.0.0.1 - - [31/Oct/2020 13:00:50] \"\u001b[37mPOST /api/test HTTP/1.1\u001b[0m\" 200 -\n"
     ]
    },
    {
     "name": "stdout",
     "output_type": "stream",
     "text": [
      "[{\"label\": \"No Mask: 98.01%\", \"x\": \"78\", \"y\": \"153\", \"x2\": \"313\", \"y2\": \"388\", \"mask\": \"0.019890016\", \"withoutMask\": \"0.98010993\"}]\n"
     ]
    },
    {
     "name": "stderr",
     "output_type": "stream",
     "text": [
      "127.0.0.1 - - [31/Oct/2020 13:00:50] \"\u001b[37mPOST /api/test HTTP/1.1\u001b[0m\" 200 -\n"
     ]
    },
    {
     "name": "stdout",
     "output_type": "stream",
     "text": [
      "[{\"label\": \"No Mask: 98.49%\", \"x\": \"82\", \"y\": \"158\", \"x2\": \"311\", \"y2\": \"387\", \"mask\": \"0.015133143\", \"withoutMask\": \"0.9848668\"}]\n"
     ]
    },
    {
     "name": "stderr",
     "output_type": "stream",
     "text": [
      "127.0.0.1 - - [31/Oct/2020 13:00:50] \"\u001b[37mPOST /api/test HTTP/1.1\u001b[0m\" 200 -\n"
     ]
    },
    {
     "name": "stdout",
     "output_type": "stream",
     "text": [
      "[{\"label\": \"No Mask: 96.96%\", \"x\": \"81\", \"y\": \"158\", \"x2\": \"311\", \"y2\": \"388\", \"mask\": \"0.030446\", \"withoutMask\": \"0.96955395\"}]\n"
     ]
    },
    {
     "name": "stderr",
     "output_type": "stream",
     "text": [
      "127.0.0.1 - - [31/Oct/2020 13:00:51] \"\u001b[37mPOST /api/test HTTP/1.1\u001b[0m\" 200 -\n"
     ]
    },
    {
     "name": "stdout",
     "output_type": "stream",
     "text": [
      "[{\"label\": \"No Mask: 84.50%\", \"x\": \"80\", \"y\": \"156\", \"x2\": \"315\", \"y2\": \"391\", \"mask\": \"0.15501544\", \"withoutMask\": \"0.8449846\"}]\n"
     ]
    },
    {
     "name": "stderr",
     "output_type": "stream",
     "text": [
      "127.0.0.1 - - [31/Oct/2020 13:00:51] \"\u001b[37mPOST /api/test HTTP/1.1\u001b[0m\" 200 -\n"
     ]
    },
    {
     "name": "stdout",
     "output_type": "stream",
     "text": [
      "[{\"label\": \"No Mask: 98.20%\", \"x\": \"89\", \"y\": \"147\", \"x2\": \"320\", \"y2\": \"378\", \"mask\": \"0.017951183\", \"withoutMask\": \"0.9820488\"}]\n"
     ]
    },
    {
     "name": "stderr",
     "output_type": "stream",
     "text": [
      "127.0.0.1 - - [31/Oct/2020 13:00:51] \"\u001b[37mPOST /api/test HTTP/1.1\u001b[0m\" 200 -\n"
     ]
    },
    {
     "name": "stdout",
     "output_type": "stream",
     "text": [
      "[{\"label\": \"No Mask: 96.83%\", \"x\": \"100\", \"y\": \"146\", \"x2\": \"316\", \"y2\": \"362\", \"mask\": \"0.03165735\", \"withoutMask\": \"0.96834266\"}]\n"
     ]
    },
    {
     "name": "stderr",
     "output_type": "stream",
     "text": [
      "127.0.0.1 - - [31/Oct/2020 13:00:51] \"\u001b[37mPOST /api/test HTTP/1.1\u001b[0m\" 200 -\n"
     ]
    },
    {
     "name": "stdout",
     "output_type": "stream",
     "text": [
      "[{\"label\": \"No Mask: 99.90%\", \"x\": \"101\", \"y\": \"145\", \"x2\": \"321\", \"y2\": \"365\", \"mask\": \"0.0009741385\", \"withoutMask\": \"0.9990258\"}]\n"
     ]
    },
    {
     "name": "stderr",
     "output_type": "stream",
     "text": [
      "127.0.0.1 - - [31/Oct/2020 13:00:51] \"\u001b[37mPOST /api/test HTTP/1.1\u001b[0m\" 200 -\n"
     ]
    },
    {
     "name": "stdout",
     "output_type": "stream",
     "text": [
      "[{\"label\": \"No Mask: 99.73%\", \"x\": \"101\", \"y\": \"149\", \"x2\": \"314\", \"y2\": \"362\", \"mask\": \"0.0027137538\", \"withoutMask\": \"0.9972862\"}]\n"
     ]
    },
    {
     "name": "stderr",
     "output_type": "stream",
     "text": [
      "127.0.0.1 - - [31/Oct/2020 13:00:52] \"\u001b[37mPOST /api/test HTTP/1.1\u001b[0m\" 200 -\n"
     ]
    },
    {
     "name": "stdout",
     "output_type": "stream",
     "text": [
      "[{\"label\": \"Mask: 69.30%\", \"x\": \"106\", \"y\": \"145\", \"x2\": \"301\", \"y2\": \"340\", \"mask\": \"0.6930271\", \"withoutMask\": \"0.30697286\"}]\n"
     ]
    },
    {
     "name": "stderr",
     "output_type": "stream",
     "text": [
      "127.0.0.1 - - [31/Oct/2020 13:00:52] \"\u001b[37mPOST /api/test HTTP/1.1\u001b[0m\" 200 -\n",
      "127.0.0.1 - - [31/Oct/2020 13:00:52] \"\u001b[37mPOST /api/test HTTP/1.1\u001b[0m\" 200 -\n"
     ]
    },
    {
     "name": "stdout",
     "output_type": "stream",
     "text": [
      "[{\"label\": \"No Mask: 64.97%\", \"x\": \"91\", \"y\": \"127\", \"x2\": \"322\", \"y2\": \"358\", \"mask\": \"0.35028568\", \"withoutMask\": \"0.64971435\"}]\n",
      "[]\n"
     ]
    },
    {
     "name": "stderr",
     "output_type": "stream",
     "text": [
      "127.0.0.1 - - [31/Oct/2020 13:00:52] \"\u001b[37mPOST /api/test HTTP/1.1\u001b[0m\" 200 -\n"
     ]
    },
    {
     "name": "stdout",
     "output_type": "stream",
     "text": [
      "[{\"label\": \"No Mask: 69.38%\", \"x\": \"89\", \"y\": \"117\", \"x2\": \"340\", \"y2\": \"368\", \"mask\": \"0.3062369\", \"withoutMask\": \"0.69376314\"}]\n"
     ]
    },
    {
     "name": "stderr",
     "output_type": "stream",
     "text": [
      "127.0.0.1 - - [31/Oct/2020 13:00:52] \"\u001b[37mPOST /api/test HTTP/1.1\u001b[0m\" 200 -\n",
      "127.0.0.1 - - [31/Oct/2020 13:00:53] \"\u001b[37mPOST /api/test HTTP/1.1\u001b[0m\" 200 -\n"
     ]
    },
    {
     "name": "stdout",
     "output_type": "stream",
     "text": [
      "[{\"label\": \"No Mask: 79.10%\", \"x\": \"84\", \"y\": \"118\", \"x2\": \"328\", \"y2\": \"362\", \"mask\": \"0.20901194\", \"withoutMask\": \"0.7909881\"}]\n",
      "[]\n"
     ]
    },
    {
     "name": "stderr",
     "output_type": "stream",
     "text": [
      "127.0.0.1 - - [31/Oct/2020 13:00:53] \"\u001b[37mPOST /api/test HTTP/1.1\u001b[0m\" 200 -\n",
      "127.0.0.1 - - [31/Oct/2020 13:00:53] \"\u001b[37mPOST /api/test HTTP/1.1\u001b[0m\" 200 -\n"
     ]
    },
    {
     "name": "stdout",
     "output_type": "stream",
     "text": [
      "[{\"label\": \"Mask: 70.58%\", \"x\": \"271\", \"y\": \"304\", \"x2\": \"316\", \"y2\": \"349\", \"mask\": \"0.7057881\", \"withoutMask\": \"0.29421195\"}]\n",
      "[]\n"
     ]
    },
    {
     "name": "stderr",
     "output_type": "stream",
     "text": [
      "127.0.0.1 - - [31/Oct/2020 13:00:53] \"\u001b[37mPOST /api/test HTTP/1.1\u001b[0m\" 200 -\n"
     ]
    },
    {
     "name": "stdout",
     "output_type": "stream",
     "text": [
      "[{\"label\": \"Mask: 59.22%\", \"x\": \"85\", \"y\": \"117\", \"x2\": \"328\", \"y2\": \"360\", \"mask\": \"0.5921936\", \"withoutMask\": \"0.40780637\"}]\n"
     ]
    },
    {
     "name": "stderr",
     "output_type": "stream",
     "text": [
      "127.0.0.1 - - [31/Oct/2020 13:00:53] \"\u001b[37mPOST /api/test HTTP/1.1\u001b[0m\" 200 -\n",
      "127.0.0.1 - - [31/Oct/2020 13:00:53] \"\u001b[37mPOST /api/test HTTP/1.1\u001b[0m\" 200 -\n"
     ]
    },
    {
     "name": "stdout",
     "output_type": "stream",
     "text": [
      "[{\"label\": \"No Mask: 80.28%\", \"x\": \"247\", \"y\": \"266\", \"x2\": \"318\", \"y2\": \"337\", \"mask\": \"0.19715254\", \"withoutMask\": \"0.80284745\"}]\n",
      "[]\n"
     ]
    },
    {
     "name": "stderr",
     "output_type": "stream",
     "text": [
      "127.0.0.1 - - [31/Oct/2020 13:00:54] \"\u001b[37mPOST /api/test HTTP/1.1\u001b[0m\" 200 -\n"
     ]
    },
    {
     "name": "stdout",
     "output_type": "stream",
     "text": [
      "[]\n"
     ]
    },
    {
     "name": "stderr",
     "output_type": "stream",
     "text": [
      "127.0.0.1 - - [31/Oct/2020 13:00:54] \"\u001b[37mPOST /api/test HTTP/1.1\u001b[0m\" 200 -\n"
     ]
    },
    {
     "name": "stdout",
     "output_type": "stream",
     "text": [
      "[{\"label\": \"No Mask: 69.46%\", \"x\": \"84\", \"y\": \"123\", \"x2\": \"320\", \"y2\": \"359\", \"mask\": \"0.30538154\", \"withoutMask\": \"0.6946184\"}]\n",
      "[{\"label\": \"No Mask: 89.21%\", \"x\": \"91\", \"y\": \"120\", \"x2\": \"335\", \"y2\": \"364\", \"mask\": \"0.10788575\", \"withoutMask\": \"0.8921142\"}]"
     ]
    },
    {
     "name": "stderr",
     "output_type": "stream",
     "text": [
      "127.0.0.1 - - [31/Oct/2020 13:00:54] \"\u001b[37mPOST /api/test HTTP/1.1\u001b[0m\" 200 -\n"
     ]
    },
    {
     "name": "stdout",
     "output_type": "stream",
     "text": [
      "\n"
     ]
    },
    {
     "name": "stderr",
     "output_type": "stream",
     "text": [
      "127.0.0.1 - - [31/Oct/2020 13:00:54] \"\u001b[37mPOST /api/test HTTP/1.1\u001b[0m\" 200 -\n"
     ]
    },
    {
     "name": "stdout",
     "output_type": "stream",
     "text": [
      "[{\"label\": \"No Mask: 92.47%\", \"x\": \"89\", \"y\": \"120\", \"x2\": \"339\", \"y2\": \"370\", \"mask\": \"0.07533938\", \"withoutMask\": \"0.9246606\"}]\n"
     ]
    },
    {
     "name": "stderr",
     "output_type": "stream",
     "text": [
      "127.0.0.1 - - [31/Oct/2020 13:00:54] \"\u001b[37mPOST /api/test HTTP/1.1\u001b[0m\" 200 -\n"
     ]
    },
    {
     "name": "stdout",
     "output_type": "stream",
     "text": [
      "[{\"label\": \"No Mask: 79.44%\", \"x\": \"94\", \"y\": \"123\", \"x2\": \"343\", \"y2\": \"372\", \"mask\": \"0.20562714\", \"withoutMask\": \"0.7943728\"}]\n"
     ]
    },
    {
     "name": "stderr",
     "output_type": "stream",
     "text": [
      "127.0.0.1 - - [31/Oct/2020 13:00:55] \"\u001b[37mPOST /api/test HTTP/1.1\u001b[0m\" 200 -\n"
     ]
    },
    {
     "name": "stdout",
     "output_type": "stream",
     "text": [
      "[{\"label\": \"No Mask: 76.14%\", \"x\": \"98\", \"y\": \"125\", \"x2\": \"334\", \"y2\": \"361\", \"mask\": \"0.23861916\", \"withoutMask\": \"0.76138085\"}]\n"
     ]
    },
    {
     "name": "stderr",
     "output_type": "stream",
     "text": [
      "127.0.0.1 - - [31/Oct/2020 13:00:55] \"\u001b[37mPOST /api/test HTTP/1.1\u001b[0m\" 200 -\n"
     ]
    },
    {
     "name": "stdout",
     "output_type": "stream",
     "text": [
      "[{\"label\": \"No Mask: 74.57%\", \"x\": \"79\", \"y\": \"125\", \"x2\": \"340\", \"y2\": \"386\", \"mask\": \"0.2542842\", \"withoutMask\": \"0.7457158\"}]\n"
     ]
    },
    {
     "name": "stderr",
     "output_type": "stream",
     "text": [
      "127.0.0.1 - - [31/Oct/2020 13:00:55] \"\u001b[37mPOST /api/test HTTP/1.1\u001b[0m\" 200 -\n"
     ]
    },
    {
     "name": "stdout",
     "output_type": "stream",
     "text": [
      "[{\"label\": \"No Mask: 72.93%\", \"x\": \"86\", \"y\": \"126\", \"x2\": \"339\", \"y2\": \"379\", \"mask\": \"0.27074036\", \"withoutMask\": \"0.7292596\"}]\n"
     ]
    },
    {
     "name": "stderr",
     "output_type": "stream",
     "text": [
      "127.0.0.1 - - [31/Oct/2020 13:00:55] \"\u001b[37mPOST /api/test HTTP/1.1\u001b[0m\" 200 -\n"
     ]
    },
    {
     "name": "stdout",
     "output_type": "stream",
     "text": [
      "[{\"label\": \"No Mask: 86.66%\", \"x\": \"96\", \"y\": \"124\", \"x2\": \"338\", \"y2\": \"366\", \"mask\": \"0.13339402\", \"withoutMask\": \"0.866606\"}]\n"
     ]
    },
    {
     "name": "stderr",
     "output_type": "stream",
     "text": [
      "127.0.0.1 - - [31/Oct/2020 13:00:56] \"\u001b[37mPOST /api/test HTTP/1.1\u001b[0m\" 200 -\n"
     ]
    },
    {
     "name": "stdout",
     "output_type": "stream",
     "text": [
      "[{\"label\": \"Mask: 77.99%\", \"x\": \"105\", \"y\": \"139\", \"x2\": \"334\", \"y2\": \"368\", \"mask\": \"0.77991414\", \"withoutMask\": \"0.22008595\"}]\n"
     ]
    },
    {
     "name": "stderr",
     "output_type": "stream",
     "text": [
      "127.0.0.1 - - [31/Oct/2020 13:00:56] \"\u001b[37mPOST /api/test HTTP/1.1\u001b[0m\" 200 -\n"
     ]
    },
    {
     "name": "stdout",
     "output_type": "stream",
     "text": [
      "[{\"label\": \"No Mask: 90.90%\", \"x\": \"99\", \"y\": \"148\", \"x2\": \"326\", \"y2\": \"375\", \"mask\": \"0.091014475\", \"withoutMask\": \"0.9089855\"}]\n"
     ]
    },
    {
     "name": "stderr",
     "output_type": "stream",
     "text": [
      "127.0.0.1 - - [31/Oct/2020 13:00:56] \"\u001b[37mPOST /api/test HTTP/1.1\u001b[0m\" 200 -\n"
     ]
    },
    {
     "name": "stdout",
     "output_type": "stream",
     "text": [
      "[{\"label\": \"No Mask: 98.22%\", \"x\": \"98\", \"y\": \"154\", \"x2\": \"319\", \"y2\": \"375\", \"mask\": \"0.017774086\", \"withoutMask\": \"0.9822259\"}]\n"
     ]
    },
    {
     "name": "stderr",
     "output_type": "stream",
     "text": [
      "127.0.0.1 - - [31/Oct/2020 13:00:56] \"\u001b[37mPOST /api/test HTTP/1.1\u001b[0m\" 200 -\n"
     ]
    },
    {
     "name": "stdout",
     "output_type": "stream",
     "text": [
      "[{\"label\": \"No Mask: 98.66%\", \"x\": \"97\", \"y\": \"155\", \"x2\": \"314\", \"y2\": \"372\", \"mask\": \"0.013377649\", \"withoutMask\": \"0.9866224\"}]\n"
     ]
    },
    {
     "name": "stderr",
     "output_type": "stream",
     "text": [
      "127.0.0.1 - - [31/Oct/2020 13:00:56] \"\u001b[37mPOST /api/test HTTP/1.1\u001b[0m\" 200 -\n"
     ]
    },
    {
     "name": "stdout",
     "output_type": "stream",
     "text": [
      "[{\"label\": \"No Mask: 99.08%\", \"x\": \"97\", \"y\": \"155\", \"x2\": \"312\", \"y2\": \"370\", \"mask\": \"0.009160867\", \"withoutMask\": \"0.9908392\"}]\n"
     ]
    },
    {
     "name": "stderr",
     "output_type": "stream",
     "text": [
      "127.0.0.1 - - [31/Oct/2020 13:00:57] \"\u001b[37mPOST /api/test HTTP/1.1\u001b[0m\" 200 -\n"
     ]
    },
    {
     "name": "stdout",
     "output_type": "stream",
     "text": [
      "[{\"label\": \"No Mask: 99.41%\", \"x\": \"99\", \"y\": \"156\", \"x2\": \"315\", \"y2\": \"372\", \"mask\": \"0.005868712\", \"withoutMask\": \"0.99413127\"}]\n"
     ]
    },
    {
     "name": "stderr",
     "output_type": "stream",
     "text": [
      "127.0.0.1 - - [31/Oct/2020 13:00:57] \"\u001b[37mPOST /api/test HTTP/1.1\u001b[0m\" 200 -\n"
     ]
    },
    {
     "name": "stdout",
     "output_type": "stream",
     "text": [
      "[{\"label\": \"No Mask: 99.57%\", \"x\": \"100\", \"y\": \"155\", \"x2\": \"316\", \"y2\": \"371\", \"mask\": \"0.0042934683\", \"withoutMask\": \"0.9957065\"}]\n"
     ]
    },
    {
     "name": "stderr",
     "output_type": "stream",
     "text": [
      "127.0.0.1 - - [31/Oct/2020 13:00:57] \"\u001b[37mPOST /api/test HTTP/1.1\u001b[0m\" 200 -\n"
     ]
    },
    {
     "name": "stdout",
     "output_type": "stream",
     "text": [
      "[{\"label\": \"No Mask: 99.84%\", \"x\": \"99\", \"y\": \"155\", \"x2\": \"302\", \"y2\": \"358\", \"mask\": \"0.0015884354\", \"withoutMask\": \"0.99841154\"}]\n"
     ]
    },
    {
     "name": "stderr",
     "output_type": "stream",
     "text": [
      "127.0.0.1 - - [31/Oct/2020 13:00:57] \"\u001b[37mPOST /api/test HTTP/1.1\u001b[0m\" 200 -\n"
     ]
    },
    {
     "name": "stdout",
     "output_type": "stream",
     "text": [
      "[{\"label\": \"No Mask: 99.69%\", \"x\": \"97\", \"y\": \"149\", \"x2\": \"311\", \"y2\": \"363\", \"mask\": \"0.003128396\", \"withoutMask\": \"0.99687165\"}]\n"
     ]
    },
    {
     "name": "stderr",
     "output_type": "stream",
     "text": [
      "127.0.0.1 - - [31/Oct/2020 13:00:58] \"\u001b[37mPOST /api/test HTTP/1.1\u001b[0m\" 200 -\n"
     ]
    },
    {
     "name": "stdout",
     "output_type": "stream",
     "text": [
      "[{\"label\": \"No Mask: 97.93%\", \"x\": \"99\", \"y\": \"148\", \"x2\": \"311\", \"y2\": \"360\", \"mask\": \"0.020714656\", \"withoutMask\": \"0.9792853\"}]\n"
     ]
    },
    {
     "name": "stderr",
     "output_type": "stream",
     "text": [
      "127.0.0.1 - - [31/Oct/2020 13:00:58] \"\u001b[37mPOST /api/test HTTP/1.1\u001b[0m\" 200 -\n"
     ]
    },
    {
     "name": "stdout",
     "output_type": "stream",
     "text": [
      "[{\"label\": \"No Mask: 99.95%\", \"x\": \"98\", \"y\": \"149\", \"x2\": \"309\", \"y2\": \"360\", \"mask\": \"0.00047765212\", \"withoutMask\": \"0.9995223\"}]\n"
     ]
    },
    {
     "name": "stderr",
     "output_type": "stream",
     "text": [
      "127.0.0.1 - - [31/Oct/2020 13:00:58] \"\u001b[37mPOST /api/test HTTP/1.1\u001b[0m\" 200 -\n"
     ]
    },
    {
     "name": "stdout",
     "output_type": "stream",
     "text": [
      "[{\"label\": \"No Mask: 99.30%\", \"x\": \"94\", \"y\": \"147\", \"x2\": \"309\", \"y2\": \"362\", \"mask\": \"0.0070030196\", \"withoutMask\": \"0.992997\"}]\n"
     ]
    },
    {
     "name": "stderr",
     "output_type": "stream",
     "text": [
      "127.0.0.1 - - [31/Oct/2020 13:00:58] \"\u001b[37mPOST /api/test HTTP/1.1\u001b[0m\" 200 -\n"
     ]
    },
    {
     "name": "stdout",
     "output_type": "stream",
     "text": [
      "[{\"label\": \"No Mask: 98.69%\", \"x\": \"100\", \"y\": \"149\", \"x2\": \"307\", \"y2\": \"356\", \"mask\": \"0.013097742\", \"withoutMask\": \"0.98690224\"}]\n"
     ]
    },
    {
     "name": "stderr",
     "output_type": "stream",
     "text": [
      "127.0.0.1 - - [31/Oct/2020 13:00:59] \"\u001b[37mPOST /api/test HTTP/1.1\u001b[0m\" 200 -\n"
     ]
    },
    {
     "name": "stdout",
     "output_type": "stream",
     "text": [
      "[{\"label\": \"No Mask: 99.17%\", \"x\": \"102\", \"y\": \"149\", \"x2\": \"310\", \"y2\": \"357\", \"mask\": \"0.008286456\", \"withoutMask\": \"0.9917135\"}]\n"
     ]
    },
    {
     "name": "stderr",
     "output_type": "stream",
     "text": [
      "127.0.0.1 - - [31/Oct/2020 13:00:59] \"\u001b[37mPOST /api/test HTTP/1.1\u001b[0m\" 200 -\n"
     ]
    },
    {
     "name": "stdout",
     "output_type": "stream",
     "text": [
      "[{\"label\": \"No Mask: 98.78%\", \"x\": \"100\", \"y\": \"152\", \"x2\": \"315\", \"y2\": \"367\", \"mask\": \"0.012172314\", \"withoutMask\": \"0.98782766\"}]\n"
     ]
    },
    {
     "name": "stderr",
     "output_type": "stream",
     "text": [
      "127.0.0.1 - - [31/Oct/2020 13:00:59] \"\u001b[37mPOST /api/test HTTP/1.1\u001b[0m\" 200 -\n"
     ]
    },
    {
     "name": "stdout",
     "output_type": "stream",
     "text": [
      "[{\"label\": \"No Mask: 99.84%\", \"x\": \"107\", \"y\": \"155\", \"x2\": \"317\", \"y2\": \"365\", \"mask\": \"0.0016172497\", \"withoutMask\": \"0.9983828\"}]\n"
     ]
    },
    {
     "name": "stderr",
     "output_type": "stream",
     "text": [
      "127.0.0.1 - - [31/Oct/2020 13:00:59] \"\u001b[37mPOST /api/test HTTP/1.1\u001b[0m\" 200 -\n"
     ]
    },
    {
     "name": "stdout",
     "output_type": "stream",
     "text": [
      "[{\"label\": \"No Mask: 98.74%\", \"x\": \"110\", \"y\": \"159\", \"x2\": \"319\", \"y2\": \"368\", \"mask\": \"0.012576302\", \"withoutMask\": \"0.9874237\"}]\n"
     ]
    },
    {
     "name": "stderr",
     "output_type": "stream",
     "text": [
      "127.0.0.1 - - [31/Oct/2020 13:00:59] \"\u001b[37mPOST /api/test HTTP/1.1\u001b[0m\" 200 -\n"
     ]
    },
    {
     "name": "stdout",
     "output_type": "stream",
     "text": [
      "[{\"label\": \"No Mask: 98.62%\", \"x\": \"122\", \"y\": \"76\", \"x2\": \"333\", \"y2\": \"287\", \"mask\": \"0.013799348\", \"withoutMask\": \"0.98620063\"}]\n"
     ]
    },
    {
     "name": "stderr",
     "output_type": "stream",
     "text": [
      "127.0.0.1 - - [31/Oct/2020 13:01:00] \"\u001b[37mPOST /api/test HTTP/1.1\u001b[0m\" 200 -\n",
      "127.0.0.1 - - [31/Oct/2020 13:01:00] \"\u001b[37mPOST /api/test HTTP/1.1\u001b[0m\" 200 -\n"
     ]
    },
    {
     "name": "stdout",
     "output_type": "stream",
     "text": [
      "[{\"label\": \"No Mask: 92.93%\", \"x\": \"129\", \"y\": \"8\", \"x2\": \"318\", \"y2\": \"197\", \"mask\": \"0.07068006\", \"withoutMask\": \"0.92932\"}]\n",
      "[]\n"
     ]
    },
    {
     "name": "stderr",
     "output_type": "stream",
     "text": [
      "127.0.0.1 - - [31/Oct/2020 13:01:00] \"\u001b[37mPOST /api/test HTTP/1.1\u001b[0m\" 200 -\n"
     ]
    },
    {
     "name": "stdout",
     "output_type": "stream",
     "text": [
      "[{\"label\": \"No Mask: 98.93%\", \"x\": \"127\", \"y\": \"8\", \"x2\": \"321\", \"y2\": \"202\", \"mask\": \"0.010685095\", \"withoutMask\": \"0.9893149\"}]\n"
     ]
    },
    {
     "name": "stderr",
     "output_type": "stream",
     "text": [
      "127.0.0.1 - - [31/Oct/2020 13:01:00] \"\u001b[37mPOST /api/test HTTP/1.1\u001b[0m\" 200 -\n"
     ]
    },
    {
     "name": "stdout",
     "output_type": "stream",
     "text": [
      "[{\"label\": \"Mask: 78.85%\", \"x\": \"129\", \"y\": \"4\", \"x2\": \"312\", \"y2\": \"187\", \"mask\": \"0.7884603\", \"withoutMask\": \"0.2115397\"}]\n"
     ]
    },
    {
     "name": "stderr",
     "output_type": "stream",
     "text": [
      "127.0.0.1 - - [31/Oct/2020 13:01:00] \"\u001b[37mPOST /api/test HTTP/1.1\u001b[0m\" 200 -\n"
     ]
    },
    {
     "name": "stdout",
     "output_type": "stream",
     "text": [
      "[{\"label\": \"No Mask: 99.27%\", \"x\": \"119\", \"y\": \"7\", \"x2\": \"318\", \"y2\": \"206\", \"mask\": \"0.007338803\", \"withoutMask\": \"0.99266124\"}]\n"
     ]
    },
    {
     "name": "stderr",
     "output_type": "stream",
     "text": [
      "127.0.0.1 - - [31/Oct/2020 13:01:01] \"\u001b[37mPOST /api/test HTTP/1.1\u001b[0m\" 200 -\n"
     ]
    },
    {
     "name": "stdout",
     "output_type": "stream",
     "text": [
      "[{\"label\": \"No Mask: 98.28%\", \"x\": \"121\", \"y\": \"9\", \"x2\": \"314\", \"y2\": \"202\", \"mask\": \"0.017209591\", \"withoutMask\": \"0.98279047\"}]\n"
     ]
    },
    {
     "name": "stderr",
     "output_type": "stream",
     "text": [
      "127.0.0.1 - - [31/Oct/2020 13:01:01] \"\u001b[37mPOST /api/test HTTP/1.1\u001b[0m\" 200 -\n",
      "127.0.0.1 - - [31/Oct/2020 13:01:01] \"\u001b[37mPOST /api/test HTTP/1.1\u001b[0m\" 200 -\n",
      "127.0.0.1 - - [31/Oct/2020 13:01:01] \"\u001b[37mPOST /api/test HTTP/1.1\u001b[0m\" 200 -\n"
     ]
    },
    {
     "name": "stdout",
     "output_type": "stream",
     "text": [
      "[{\"label\": \"No Mask: 98.56%\", \"x\": \"121\", \"y\": \"6\", \"x2\": \"320\", \"y2\": \"205\", \"mask\": \"0.014363895\", \"withoutMask\": \"0.9856361\"}]\n",
      "[]\n",
      "[]\n"
     ]
    },
    {
     "name": "stderr",
     "output_type": "stream",
     "text": [
      "127.0.0.1 - - [31/Oct/2020 13:01:01] \"\u001b[37mPOST /api/test HTTP/1.1\u001b[0m\" 200 -\n",
      "127.0.0.1 - - [31/Oct/2020 13:01:01] \"\u001b[37mPOST /api/test HTTP/1.1\u001b[0m\" 200 -\n",
      "127.0.0.1 - - [31/Oct/2020 13:01:01] \"\u001b[37mPOST /api/test HTTP/1.1\u001b[0m\" 200 -\n"
     ]
    },
    {
     "name": "stdout",
     "output_type": "stream",
     "text": [
      "[]\n",
      "[]\n",
      "[]\n"
     ]
    },
    {
     "name": "stderr",
     "output_type": "stream",
     "text": [
      "127.0.0.1 - - [31/Oct/2020 13:01:01] \"\u001b[37mPOST /api/test HTTP/1.1\u001b[0m\" 200 -\n",
      "127.0.0.1 - - [31/Oct/2020 13:01:02] \"\u001b[37mPOST /api/test HTTP/1.1\u001b[0m\" 200 -\n"
     ]
    },
    {
     "name": "stdout",
     "output_type": "stream",
     "text": [
      "[]\n",
      "[]\n"
     ]
    },
    {
     "name": "stderr",
     "output_type": "stream",
     "text": [
      "127.0.0.1 - - [31/Oct/2020 13:01:02] \"\u001b[37mPOST /api/test HTTP/1.1\u001b[0m\" 200 -\n"
     ]
    },
    {
     "name": "stdout",
     "output_type": "stream",
     "text": [
      "[]\n"
     ]
    },
    {
     "name": "stderr",
     "output_type": "stream",
     "text": [
      "127.0.0.1 - - [31/Oct/2020 13:01:02] \"\u001b[37mPOST /api/test HTTP/1.1\u001b[0m\" 200 -\n"
     ]
    },
    {
     "name": "stdout",
     "output_type": "stream",
     "text": [
      "[{\"label\": \"No Mask: 97.47%\", \"x\": \"112\", \"y\": \"84\", \"x2\": \"327\", \"y2\": \"299\", \"mask\": \"0.025328062\", \"withoutMask\": \"0.97467196\"}]\n"
     ]
    },
    {
     "name": "stderr",
     "output_type": "stream",
     "text": [
      "127.0.0.1 - - [31/Oct/2020 13:01:02] \"\u001b[37mPOST /api/test HTTP/1.1\u001b[0m\" 200 -\n"
     ]
    },
    {
     "name": "stdout",
     "output_type": "stream",
     "text": [
      "[{\"label\": \"No Mask: 98.98%\", \"x\": \"112\", \"y\": \"82\", \"x2\": \"320\", \"y2\": \"290\", \"mask\": \"0.010174503\", \"withoutMask\": \"0.98982555\"}]\n"
     ]
    },
    {
     "name": "stderr",
     "output_type": "stream",
     "text": [
      "127.0.0.1 - - [31/Oct/2020 13:01:02] \"\u001b[37mPOST /api/test HTTP/1.1\u001b[0m\" 200 -\n"
     ]
    },
    {
     "name": "stdout",
     "output_type": "stream",
     "text": [
      "[{\"label\": \"No Mask: 74.34%\", \"x\": \"119\", \"y\": \"112\", \"x2\": \"197\", \"y2\": \"190\", \"mask\": \"0.25658596\", \"withoutMask\": \"0.74341404\"}]\n"
     ]
    },
    {
     "name": "stderr",
     "output_type": "stream",
     "text": [
      "127.0.0.1 - - [31/Oct/2020 13:01:03] \"\u001b[37mPOST /api/test HTTP/1.1\u001b[0m\" 200 -\n"
     ]
    },
    {
     "name": "stdout",
     "output_type": "stream",
     "text": [
      "[{\"label\": \"Mask: 80.32%\", \"x\": \"111\", \"y\": \"114\", \"x2\": \"187\", \"y2\": \"190\", \"mask\": \"0.8031786\", \"withoutMask\": \"0.19682133\"}]\n"
     ]
    },
    {
     "name": "stderr",
     "output_type": "stream",
     "text": [
      "127.0.0.1 - - [31/Oct/2020 13:01:39] \"\u001b[37mPOST /api/test HTTP/1.1\u001b[0m\" 200 -\n"
     ]
    },
    {
     "name": "stdout",
     "output_type": "stream",
     "text": [
      "[{\"label\": \"No Mask: 90.19%\", \"x\": \"91\", \"y\": \"137\", \"x2\": \"324\", \"y2\": \"370\", \"mask\": \"0.09806601\", \"withoutMask\": \"0.90193397\"}]\n"
     ]
    },
    {
     "name": "stderr",
     "output_type": "stream",
     "text": [
      "127.0.0.1 - - [31/Oct/2020 13:01:39] \"\u001b[37mPOST /api/test HTTP/1.1\u001b[0m\" 200 -\n"
     ]
    },
    {
     "name": "stdout",
     "output_type": "stream",
     "text": [
      "[{\"label\": \"No Mask: 76.49%\", \"x\": \"85\", \"y\": \"131\", \"x2\": \"321\", \"y2\": \"367\", \"mask\": \"0.23507941\", \"withoutMask\": \"0.7649206\"}]\n"
     ]
    },
    {
     "name": "stderr",
     "output_type": "stream",
     "text": [
      "127.0.0.1 - - [31/Oct/2020 13:01:40] \"\u001b[37mPOST /api/test HTTP/1.1\u001b[0m\" 200 -\n"
     ]
    },
    {
     "name": "stdout",
     "output_type": "stream",
     "text": [
      "[{\"label\": \"No Mask: 89.57%\", \"x\": \"88\", \"y\": \"118\", \"x2\": \"312\", \"y2\": \"342\", \"mask\": \"0.10432822\", \"withoutMask\": \"0.8956717\"}]\n"
     ]
    },
    {
     "name": "stderr",
     "output_type": "stream",
     "text": [
      "127.0.0.1 - - [31/Oct/2020 13:01:40] \"\u001b[37mPOST /api/test HTTP/1.1\u001b[0m\" 200 -\n"
     ]
    },
    {
     "name": "stdout",
     "output_type": "stream",
     "text": [
      "[{\"label\": \"No Mask: 99.12%\", \"x\": \"112\", \"y\": \"112\", \"x2\": \"324\", \"y2\": \"324\", \"mask\": \"0.008813583\", \"withoutMask\": \"0.99118644\"}]\n"
     ]
    },
    {
     "name": "stderr",
     "output_type": "stream",
     "text": [
      "127.0.0.1 - - [31/Oct/2020 13:01:40] \"\u001b[37mPOST /api/test HTTP/1.1\u001b[0m\" 200 -\n"
     ]
    },
    {
     "name": "stdout",
     "output_type": "stream",
     "text": [
      "[{\"label\": \"No Mask: 95.22%\", \"x\": \"125\", \"y\": \"110\", \"x2\": \"332\", \"y2\": \"317\", \"mask\": \"0.047830075\", \"withoutMask\": \"0.95216995\"}]\n"
     ]
    },
    {
     "name": "stderr",
     "output_type": "stream",
     "text": [
      "127.0.0.1 - - [31/Oct/2020 13:01:40] \"\u001b[37mPOST /api/test HTTP/1.1\u001b[0m\" 200 -\n"
     ]
    },
    {
     "name": "stdout",
     "output_type": "stream",
     "text": [
      "[{\"label\": \"No Mask: 97.77%\", \"x\": \"138\", \"y\": \"111\", \"x2\": \"347\", \"y2\": \"320\", \"mask\": \"0.022299375\", \"withoutMask\": \"0.97770065\"}]\n"
     ]
    },
    {
     "name": "stderr",
     "output_type": "stream",
     "text": [
      "127.0.0.1 - - [31/Oct/2020 13:01:40] \"\u001b[37mPOST /api/test HTTP/1.1\u001b[0m\" 200 -\n"
     ]
    },
    {
     "name": "stdout",
     "output_type": "stream",
     "text": [
      "[{\"label\": \"No Mask: 99.57%\", \"x\": \"145\", \"y\": \"111\", \"x2\": \"350\", \"y2\": \"316\", \"mask\": \"0.004333458\", \"withoutMask\": \"0.9956665\"}]\n"
     ]
    },
    {
     "name": "stderr",
     "output_type": "stream",
     "text": [
      "127.0.0.1 - - [31/Oct/2020 13:01:41] \"\u001b[37mPOST /api/test HTTP/1.1\u001b[0m\" 200 -\n",
      "127.0.0.1 - - [31/Oct/2020 13:01:41] \"\u001b[37mPOST /api/test HTTP/1.1\u001b[0m\" 200 -\n"
     ]
    },
    {
     "name": "stdout",
     "output_type": "stream",
     "text": [
      "[{\"label\": \"No Mask: 99.40%\", \"x\": \"142\", \"y\": \"103\", \"x2\": \"349\", \"y2\": \"310\", \"mask\": \"0.0060371524\", \"withoutMask\": \"0.9939628\"}]\n",
      "[]\n"
     ]
    },
    {
     "name": "stderr",
     "output_type": "stream",
     "text": [
      "127.0.0.1 - - [31/Oct/2020 13:01:41] \"\u001b[37mPOST /api/test HTTP/1.1\u001b[0m\" 200 -\n",
      "127.0.0.1 - - [31/Oct/2020 13:01:41] \"\u001b[37mPOST /api/test HTTP/1.1\u001b[0m\" 200 -\n"
     ]
    },
    {
     "name": "stdout",
     "output_type": "stream",
     "text": [
      "[]\n",
      "[]\n"
     ]
    },
    {
     "name": "stderr",
     "output_type": "stream",
     "text": [
      "127.0.0.1 - - [31/Oct/2020 13:01:41] \"\u001b[37mPOST /api/test HTTP/1.1\u001b[0m\" 200 -\n",
      "127.0.0.1 - - [31/Oct/2020 13:01:41] \"\u001b[37mPOST /api/test HTTP/1.1\u001b[0m\" 200 -\n"
     ]
    },
    {
     "name": "stdout",
     "output_type": "stream",
     "text": [
      "[]\n",
      "[]\n"
     ]
    },
    {
     "name": "stderr",
     "output_type": "stream",
     "text": [
      "127.0.0.1 - - [31/Oct/2020 13:01:41] \"\u001b[37mPOST /api/test HTTP/1.1\u001b[0m\" 200 -\n"
     ]
    },
    {
     "name": "stdout",
     "output_type": "stream",
     "text": [
      "[]\n"
     ]
    },
    {
     "name": "stderr",
     "output_type": "stream",
     "text": [
      "127.0.0.1 - - [31/Oct/2020 13:01:42] \"\u001b[37mPOST /api/test HTTP/1.1\u001b[0m\" 200 -\n"
     ]
    },
    {
     "name": "stdout",
     "output_type": "stream",
     "text": [
      "[{\"label\": \"No Mask: 99.96%\", \"x\": \"116\", \"y\": \"245\", \"x2\": \"234\", \"y2\": \"363\", \"mask\": \"0.000375907\", \"withoutMask\": \"0.999624\"}]\n"
     ]
    },
    {
     "name": "stderr",
     "output_type": "stream",
     "text": [
      "127.0.0.1 - - [31/Oct/2020 13:01:42] \"\u001b[37mPOST /api/test HTTP/1.1\u001b[0m\" 200 -\n",
      "127.0.0.1 - - [31/Oct/2020 13:01:42] \"\u001b[37mPOST /api/test HTTP/1.1\u001b[0m\" 200 -\n"
     ]
    },
    {
     "name": "stdout",
     "output_type": "stream",
     "text": [
      "[{\"label\": \"No Mask: 87.62%\", \"x\": \"78\", \"y\": \"185\", \"x2\": \"150\", \"y2\": \"257\", \"mask\": \"0.12376682\", \"withoutMask\": \"0.8762332\"}, {\"label\": \"No Mask: 99.09%\", \"x\": \"118\", \"y\": \"146\", \"x2\": \"354\", \"y2\": \"382\", \"mask\": \"0.009076421\", \"withoutMask\": \"0.9909236\"}]\n",
      "[]\n"
     ]
    },
    {
     "name": "stderr",
     "output_type": "stream",
     "text": [
      "127.0.0.1 - - [31/Oct/2020 13:01:42] \"\u001b[37mPOST /api/test HTTP/1.1\u001b[0m\" 200 -\n",
      "127.0.0.1 - - [31/Oct/2020 13:01:42] \"\u001b[37mPOST /api/test HTTP/1.1\u001b[0m\" 200 -\n"
     ]
    },
    {
     "name": "stdout",
     "output_type": "stream",
     "text": [
      "[]\n",
      "[]\n"
     ]
    },
    {
     "name": "stderr",
     "output_type": "stream",
     "text": [
      "127.0.0.1 - - [31/Oct/2020 13:01:43] \"\u001b[37mPOST /api/test HTTP/1.1\u001b[0m\" 200 -\n",
      "127.0.0.1 - - [31/Oct/2020 13:01:43] \"\u001b[37mPOST /api/test HTTP/1.1\u001b[0m\" 200 -\n"
     ]
    },
    {
     "name": "stdout",
     "output_type": "stream",
     "text": [
      "[]\n",
      "[]\n"
     ]
    },
    {
     "name": "stderr",
     "output_type": "stream",
     "text": [
      "127.0.0.1 - - [31/Oct/2020 13:01:43] \"\u001b[37mPOST /api/test HTTP/1.1\u001b[0m\" 200 -\n",
      "127.0.0.1 - - [31/Oct/2020 13:01:43] \"\u001b[37mPOST /api/test HTTP/1.1\u001b[0m\" 200 -\n"
     ]
    },
    {
     "name": "stdout",
     "output_type": "stream",
     "text": [
      "[]\n",
      "[]\n"
     ]
    },
    {
     "name": "stderr",
     "output_type": "stream",
     "text": [
      "127.0.0.1 - - [31/Oct/2020 13:01:43] \"\u001b[37mPOST /api/test HTTP/1.1\u001b[0m\" 200 -\n",
      "127.0.0.1 - - [31/Oct/2020 13:01:43] \"\u001b[37mPOST /api/test HTTP/1.1\u001b[0m\" 200 -\n"
     ]
    },
    {
     "name": "stdout",
     "output_type": "stream",
     "text": [
      "[{\"label\": \"No Mask: 66.89%\", \"x\": \"145\", \"y\": \"164\", \"x2\": \"332\", \"y2\": \"351\", \"mask\": \"0.3311077\", \"withoutMask\": \"0.6688923\"}]\n",
      "[]\n"
     ]
    },
    {
     "name": "stderr",
     "output_type": "stream",
     "text": [
      "127.0.0.1 - - [31/Oct/2020 13:01:43] \"\u001b[37mPOST /api/test HTTP/1.1\u001b[0m\" 200 -\n"
     ]
    },
    {
     "name": "stdout",
     "output_type": "stream",
     "text": [
      "[]\n"
     ]
    },
    {
     "name": "stderr",
     "output_type": "stream",
     "text": [
      "127.0.0.1 - - [31/Oct/2020 13:01:44] \"\u001b[37mPOST /api/test HTTP/1.1\u001b[0m\" 200 -\n"
     ]
    },
    {
     "name": "stdout",
     "output_type": "stream",
     "text": [
      "[{\"label\": \"No Mask: 98.46%\", \"x\": \"132\", \"y\": \"144\", \"x2\": \"364\", \"y2\": \"376\", \"mask\": \"0.015437114\", \"withoutMask\": \"0.98456293\"}]\n"
     ]
    },
    {
     "name": "stderr",
     "output_type": "stream",
     "text": [
      "127.0.0.1 - - [31/Oct/2020 13:01:44] \"\u001b[37mPOST /api/test HTTP/1.1\u001b[0m\" 200 -\n"
     ]
    },
    {
     "name": "stdout",
     "output_type": "stream",
     "text": [
      "[{\"label\": \"No Mask: 96.78%\", \"x\": \"182\", \"y\": \"127\", \"x2\": \"397\", \"y2\": \"342\", \"mask\": \"0.03218535\", \"withoutMask\": \"0.9678146\"}]\n"
     ]
    },
    {
     "name": "stderr",
     "output_type": "stream",
     "text": [
      "127.0.0.1 - - [31/Oct/2020 13:01:44] \"\u001b[37mPOST /api/test HTTP/1.1\u001b[0m\" 200 -\n",
      "127.0.0.1 - - [31/Oct/2020 13:01:44] \"\u001b[37mPOST /api/test HTTP/1.1\u001b[0m\" 200 -\n"
     ]
    },
    {
     "name": "stdout",
     "output_type": "stream",
     "text": [
      "[{\"label\": \"No Mask: 99.65%\", \"x\": \"173\", \"y\": \"32\", \"x2\": \"394\", \"y2\": \"253\", \"mask\": \"0.003524786\", \"withoutMask\": \"0.99647516\"}]\n",
      "[]\n"
     ]
    },
    {
     "name": "stderr",
     "output_type": "stream",
     "text": [
      "127.0.0.1 - - [31/Oct/2020 13:01:44] \"\u001b[37mPOST /api/test HTTP/1.1\u001b[0m\" 200 -\n"
     ]
    },
    {
     "name": "stdout",
     "output_type": "stream",
     "text": [
      "[]\n"
     ]
    },
    {
     "name": "stderr",
     "output_type": "stream",
     "text": [
      "127.0.0.1 - - [31/Oct/2020 13:01:45] \"\u001b[37mPOST /api/test HTTP/1.1\u001b[0m\" 200 -\n"
     ]
    },
    {
     "name": "stdout",
     "output_type": "stream",
     "text": [
      "[{\"label\": \"No Mask: 92.28%\", \"x\": \"184\", \"y\": \"31\", \"x2\": \"396\", \"y2\": \"243\", \"mask\": \"0.077163085\", \"withoutMask\": \"0.92283696\"}]\n"
     ]
    },
    {
     "name": "stderr",
     "output_type": "stream",
     "text": [
      "127.0.0.1 - - [31/Oct/2020 13:01:45] \"\u001b[37mPOST /api/test HTTP/1.1\u001b[0m\" 200 -\n"
     ]
    },
    {
     "name": "stdout",
     "output_type": "stream",
     "text": [
      "[{\"label\": \"No Mask: 98.65%\", \"x\": \"186\", \"y\": \"23\", \"x2\": \"391\", \"y2\": \"228\", \"mask\": \"0.013506832\", \"withoutMask\": \"0.9864932\"}]\n"
     ]
    },
    {
     "name": "stderr",
     "output_type": "stream",
     "text": [
      "127.0.0.1 - - [31/Oct/2020 13:01:45] \"\u001b[37mPOST /api/test HTTP/1.1\u001b[0m\" 200 -\n"
     ]
    },
    {
     "name": "stdout",
     "output_type": "stream",
     "text": [
      "[{\"label\": \"No Mask: 96.17%\", \"x\": \"186\", \"y\": \"19\", \"x2\": \"405\", \"y2\": \"238\", \"mask\": \"0.038339853\", \"withoutMask\": \"0.9616602\"}]\n"
     ]
    },
    {
     "name": "stderr",
     "output_type": "stream",
     "text": [
      "127.0.0.1 - - [31/Oct/2020 13:01:45] \"\u001b[37mPOST /api/test HTTP/1.1\u001b[0m\" 200 -\n"
     ]
    },
    {
     "name": "stdout",
     "output_type": "stream",
     "text": [
      "[{\"label\": \"No Mask: 96.48%\", \"x\": \"190\", \"y\": \"26\", \"x2\": \"393\", \"y2\": \"229\", \"mask\": \"0.03522259\", \"withoutMask\": \"0.96477735\"}]\n"
     ]
    },
    {
     "name": "stderr",
     "output_type": "stream",
     "text": [
      "127.0.0.1 - - [31/Oct/2020 13:01:46] \"\u001b[37mPOST /api/test HTTP/1.1\u001b[0m\" 200 -\n"
     ]
    },
    {
     "name": "stdout",
     "output_type": "stream",
     "text": [
      "[{\"label\": \"No Mask: 97.89%\", \"x\": \"183\", \"y\": \"20\", \"x2\": \"397\", \"y2\": \"234\", \"mask\": \"0.021148594\", \"withoutMask\": \"0.97885144\"}]\n"
     ]
    },
    {
     "name": "stderr",
     "output_type": "stream",
     "text": [
      "127.0.0.1 - - [31/Oct/2020 13:01:46] \"\u001b[37mPOST /api/test HTTP/1.1\u001b[0m\" 200 -\n"
     ]
    },
    {
     "name": "stdout",
     "output_type": "stream",
     "text": [
      "[{\"label\": \"No Mask: 73.14%\", \"x\": \"185\", \"y\": \"19\", \"x2\": \"399\", \"y2\": \"233\", \"mask\": \"0.26863116\", \"withoutMask\": \"0.73136884\"}]\n"
     ]
    },
    {
     "name": "stderr",
     "output_type": "stream",
     "text": [
      "127.0.0.1 - - [31/Oct/2020 13:01:46] \"\u001b[37mPOST /api/test HTTP/1.1\u001b[0m\" 200 -\n"
     ]
    },
    {
     "name": "stdout",
     "output_type": "stream",
     "text": [
      "[{\"label\": \"No Mask: 97.50%\", \"x\": \"182\", \"y\": \"16\", \"x2\": \"404\", \"y2\": \"238\", \"mask\": \"0.024998564\", \"withoutMask\": \"0.9750014\"}]\n"
     ]
    },
    {
     "name": "stderr",
     "output_type": "stream",
     "text": [
      "127.0.0.1 - - [31/Oct/2020 13:01:46] \"\u001b[37mPOST /api/test HTTP/1.1\u001b[0m\" 200 -\n"
     ]
    },
    {
     "name": "stdout",
     "output_type": "stream",
     "text": [
      "[{\"label\": \"No Mask: 99.95%\", \"x\": \"186\", \"y\": \"101\", \"x2\": \"400\", \"y2\": \"315\", \"mask\": \"0.0004942462\", \"withoutMask\": \"0.99950576\"}]\n"
     ]
    },
    {
     "name": "stderr",
     "output_type": "stream",
     "text": [
      "127.0.0.1 - - [31/Oct/2020 13:01:47] \"\u001b[37mPOST /api/test HTTP/1.1\u001b[0m\" 200 -\n",
      "127.0.0.1 - - [31/Oct/2020 13:01:47] \"\u001b[37mPOST /api/test HTTP/1.1\u001b[0m\" 200 -\n"
     ]
    },
    {
     "name": "stdout",
     "output_type": "stream",
     "text": [
      "[{\"label\": \"No Mask: 99.86%\", \"x\": \"178\", \"y\": \"72\", \"x2\": \"408\", \"y2\": \"302\", \"mask\": \"0.0013568179\", \"withoutMask\": \"0.9986432\"}]\n",
      "[]\n"
     ]
    },
    {
     "name": "stderr",
     "output_type": "stream",
     "text": [
      "127.0.0.1 - - [31/Oct/2020 13:01:47] \"\u001b[37mPOST /api/test HTTP/1.1\u001b[0m\" 200 -\n",
      "127.0.0.1 - - [31/Oct/2020 13:01:47] \"\u001b[37mPOST /api/test HTTP/1.1\u001b[0m\" 200 -\n"
     ]
    },
    {
     "name": "stdout",
     "output_type": "stream",
     "text": [
      "[{\"label\": \"No Mask: 99.01%\", \"x\": \"178\", \"y\": \"93\", \"x2\": \"389\", \"y2\": \"304\", \"mask\": \"0.009870027\", \"withoutMask\": \"0.99013\"}]\n",
      "[]\n"
     ]
    },
    {
     "name": "stderr",
     "output_type": "stream",
     "text": [
      "127.0.0.1 - - [31/Oct/2020 13:01:47] \"\u001b[37mPOST /api/test HTTP/1.1\u001b[0m\" 200 -\n",
      "127.0.0.1 - - [31/Oct/2020 13:01:47] \"\u001b[37mPOST /api/test HTTP/1.1\u001b[0m\" 200 -\n"
     ]
    },
    {
     "name": "stdout",
     "output_type": "stream",
     "text": [
      "[]\n",
      "[]\n"
     ]
    },
    {
     "name": "stderr",
     "output_type": "stream",
     "text": [
      "127.0.0.1 - - [31/Oct/2020 13:01:47] \"\u001b[37mPOST /api/test HTTP/1.1\u001b[0m\" 200 -\n",
      "127.0.0.1 - - [31/Oct/2020 13:01:48] \"\u001b[37mPOST /api/test HTTP/1.1\u001b[0m\" 200 -\n"
     ]
    },
    {
     "name": "stdout",
     "output_type": "stream",
     "text": [
      "[]\n",
      "[]\n"
     ]
    },
    {
     "name": "stderr",
     "output_type": "stream",
     "text": [
      "127.0.0.1 - - [31/Oct/2020 13:01:48] \"\u001b[37mPOST /api/test HTTP/1.1\u001b[0m\" 200 -\n"
     ]
    },
    {
     "name": "stdout",
     "output_type": "stream",
     "text": [
      "[{\"label\": \"No Mask: 85.12%\", \"x\": \"179\", \"y\": \"107\", \"x2\": \"364\", \"y2\": \"292\", \"mask\": \"0.14881131\", \"withoutMask\": \"0.85118866\"}]\n"
     ]
    },
    {
     "name": "stderr",
     "output_type": "stream",
     "text": [
      "127.0.0.1 - - [31/Oct/2020 13:01:48] \"\u001b[37mPOST /api/test HTTP/1.1\u001b[0m\" 200 -\n",
      "127.0.0.1 - - [31/Oct/2020 13:01:48] \"\u001b[37mPOST /api/test HTTP/1.1\u001b[0m\" 200 -\n"
     ]
    },
    {
     "name": "stdout",
     "output_type": "stream",
     "text": [
      "[{\"label\": \"No Mask: 91.50%\", \"x\": \"172\", \"y\": \"103\", \"x2\": \"372\", \"y2\": \"303\", \"mask\": \"0.085010484\", \"withoutMask\": \"0.9149895\"}]\n",
      "[]\n"
     ]
    },
    {
     "name": "stderr",
     "output_type": "stream",
     "text": [
      "127.0.0.1 - - [31/Oct/2020 13:01:48] \"\u001b[37mPOST /api/test HTTP/1.1\u001b[0m\" 200 -\n"
     ]
    },
    {
     "name": "stdout",
     "output_type": "stream",
     "text": [
      "[]\n"
     ]
    },
    {
     "name": "stderr",
     "output_type": "stream",
     "text": [
      "127.0.0.1 - - [31/Oct/2020 13:01:49] \"\u001b[37mPOST /api/test HTTP/1.1\u001b[0m\" 200 -\n",
      "127.0.0.1 - - [31/Oct/2020 13:01:49] \"\u001b[37mPOST /api/test HTTP/1.1\u001b[0m\" 200 -\n"
     ]
    },
    {
     "name": "stdout",
     "output_type": "stream",
     "text": [
      "[{\"label\": \"No Mask: 97.04%\", \"x\": \"125\", \"y\": \"164\", \"x2\": \"233\", \"y2\": \"272\", \"mask\": \"0.029588936\", \"withoutMask\": \"0.97041106\"}]\n",
      "[]\n"
     ]
    },
    {
     "name": "stderr",
     "output_type": "stream",
     "text": [
      "127.0.0.1 - - [31/Oct/2020 13:01:49] \"\u001b[37mPOST /api/test HTTP/1.1\u001b[0m\" 200 -\n",
      "127.0.0.1 - - [31/Oct/2020 13:01:49] \"\u001b[37mPOST /api/test HTTP/1.1\u001b[0m\" 200 -\n"
     ]
    },
    {
     "name": "stdout",
     "output_type": "stream",
     "text": [
      "[]\n",
      "[]\n"
     ]
    },
    {
     "name": "stderr",
     "output_type": "stream",
     "text": [
      "127.0.0.1 - - [31/Oct/2020 13:01:49] \"\u001b[37mPOST /api/test HTTP/1.1\u001b[0m\" 200 -\n",
      "127.0.0.1 - - [31/Oct/2020 13:01:49] \"\u001b[37mPOST /api/test HTTP/1.1\u001b[0m\" 200 -\n"
     ]
    },
    {
     "name": "stdout",
     "output_type": "stream",
     "text": [
      "[]\n",
      "[]\n"
     ]
    },
    {
     "name": "stderr",
     "output_type": "stream",
     "text": [
      "127.0.0.1 - - [31/Oct/2020 13:01:49] \"\u001b[37mPOST /api/test HTTP/1.1\u001b[0m\" 200 -\n"
     ]
    },
    {
     "name": "stdout",
     "output_type": "stream",
     "text": [
      "[]\n"
     ]
    },
    {
     "name": "stderr",
     "output_type": "stream",
     "text": [
      "127.0.0.1 - - [31/Oct/2020 13:01:50] \"\u001b[37mPOST /api/test HTTP/1.1\u001b[0m\" 200 -\n",
      "127.0.0.1 - - [31/Oct/2020 13:01:50] \"\u001b[37mPOST /api/test HTTP/1.1\u001b[0m\" 200 -\n"
     ]
    },
    {
     "name": "stdout",
     "output_type": "stream",
     "text": [
      "[{\"label\": \"No Mask: 89.16%\", \"x\": \"191\", \"y\": \"109\", \"x2\": \"375\", \"y2\": \"293\", \"mask\": \"0.10842398\", \"withoutMask\": \"0.89157605\"}]\n",
      "[]\n"
     ]
    },
    {
     "name": "stderr",
     "output_type": "stream",
     "text": [
      "127.0.0.1 - - [31/Oct/2020 13:01:50] \"\u001b[37mPOST /api/test HTTP/1.1\u001b[0m\" 200 -\n",
      "127.0.0.1 - - [31/Oct/2020 13:01:50] \"\u001b[37mPOST /api/test HTTP/1.1\u001b[0m\" 200 -\n"
     ]
    },
    {
     "name": "stdout",
     "output_type": "stream",
     "text": [
      "[{\"label\": \"No Mask: 77.09%\", \"x\": \"191\", \"y\": \"110\", \"x2\": \"373\", \"y2\": \"292\", \"mask\": \"0.22913152\", \"withoutMask\": \"0.7708685\"}]\n",
      "[]\n"
     ]
    },
    {
     "name": "stderr",
     "output_type": "stream",
     "text": [
      "127.0.0.1 - - [31/Oct/2020 13:01:50] \"\u001b[37mPOST /api/test HTTP/1.1\u001b[0m\" 200 -\n"
     ]
    },
    {
     "name": "stdout",
     "output_type": "stream",
     "text": [
      "[{\"label\": \"No Mask: 96.98%\", \"x\": \"186\", \"y\": \"104\", \"x2\": \"378\", \"y2\": \"296\", \"mask\": \"0.030224662\", \"withoutMask\": \"0.9697753\"}]\n"
     ]
    },
    {
     "name": "stderr",
     "output_type": "stream",
     "text": [
      "127.0.0.1 - - [31/Oct/2020 13:01:50] \"\u001b[37mPOST /api/test HTTP/1.1\u001b[0m\" 200 -\n",
      "127.0.0.1 - - [31/Oct/2020 13:01:51] \"\u001b[37mPOST /api/test HTTP/1.1\u001b[0m\" 200 -\n"
     ]
    },
    {
     "name": "stdout",
     "output_type": "stream",
     "text": [
      "[{\"label\": \"No Mask: 95.20%\", \"x\": \"181\", \"y\": \"100\", \"x2\": \"377\", \"y2\": \"296\", \"mask\": \"0.048038594\", \"withoutMask\": \"0.95196146\"}]\n",
      "[]\n"
     ]
    },
    {
     "name": "stderr",
     "output_type": "stream",
     "text": [
      "127.0.0.1 - - [31/Oct/2020 13:01:51] \"\u001b[37mPOST /api/test HTTP/1.1\u001b[0m\" 200 -\n",
      "127.0.0.1 - - [31/Oct/2020 13:01:51] \"\u001b[37mPOST /api/test HTTP/1.1\u001b[0m\" 200 -\n"
     ]
    },
    {
     "name": "stdout",
     "output_type": "stream",
     "text": [
      "[{\"label\": \"No Mask: 93.83%\", \"x\": \"200\", \"y\": \"118\", \"x2\": \"362\", \"y2\": \"280\", \"mask\": \"0.06174041\", \"withoutMask\": \"0.93825954\"}]\n",
      "[]\n"
     ]
    },
    {
     "name": "stderr",
     "output_type": "stream",
     "text": [
      "127.0.0.1 - - [31/Oct/2020 13:01:51] \"\u001b[37mPOST /api/test HTTP/1.1\u001b[0m\" 200 -\n"
     ]
    },
    {
     "name": "stdout",
     "output_type": "stream",
     "text": [
      "[]\n"
     ]
    },
    {
     "name": "stderr",
     "output_type": "stream",
     "text": [
      "127.0.0.1 - - [31/Oct/2020 13:01:52] \"\u001b[37mPOST /api/test HTTP/1.1\u001b[0m\" 200 -\n"
     ]
    },
    {
     "name": "stdout",
     "output_type": "stream",
     "text": [
      "[{\"label\": \"No Mask: 93.29%\", \"x\": \"188\", \"y\": \"105\", \"x2\": \"375\", \"y2\": \"292\", \"mask\": \"0.067118675\", \"withoutMask\": \"0.93288136\"}]\n"
     ]
    },
    {
     "name": "stderr",
     "output_type": "stream",
     "text": [
      "127.0.0.1 - - [31/Oct/2020 13:01:52] \"\u001b[37mPOST /api/test HTTP/1.1\u001b[0m\" 200 -\n"
     ]
    },
    {
     "name": "stdout",
     "output_type": "stream",
     "text": [
      "[{\"label\": \"No Mask: 58.44%\", \"x\": \"193\", \"y\": \"111\", \"x2\": \"371\", \"y2\": \"289\", \"mask\": \"0.41558233\", \"withoutMask\": \"0.5844177\"}]\n"
     ]
    },
    {
     "name": "stderr",
     "output_type": "stream",
     "text": [
      "127.0.0.1 - - [31/Oct/2020 13:01:52] \"\u001b[37mPOST /api/test HTTP/1.1\u001b[0m\" 200 -\n"
     ]
    },
    {
     "name": "stdout",
     "output_type": "stream",
     "text": [
      "[{\"label\": \"No Mask: 91.22%\", \"x\": \"189\", \"y\": \"107\", \"x2\": \"378\", \"y2\": \"296\", \"mask\": \"0.08784338\", \"withoutMask\": \"0.9121566\"}]\n"
     ]
    },
    {
     "name": "stderr",
     "output_type": "stream",
     "text": [
      "127.0.0.1 - - [31/Oct/2020 13:01:52] \"\u001b[37mPOST /api/test HTTP/1.1\u001b[0m\" 200 -\n",
      "127.0.0.1 - - [31/Oct/2020 13:01:52] \"\u001b[37mPOST /api/test HTTP/1.1\u001b[0m\" 200 -\n"
     ]
    },
    {
     "name": "stdout",
     "output_type": "stream",
     "text": [
      "[{\"label\": \"No Mask: 99.55%\", \"x\": \"198\", \"y\": \"102\", \"x2\": \"377\", \"y2\": \"281\", \"mask\": \"0.0044962703\", \"withoutMask\": \"0.9955037\"}]\n",
      "[]\n"
     ]
    },
    {
     "name": "stderr",
     "output_type": "stream",
     "text": [
      "127.0.0.1 - - [31/Oct/2020 13:01:53] \"\u001b[37mPOST /api/test HTTP/1.1\u001b[0m\" 200 -\n",
      "127.0.0.1 - - [31/Oct/2020 13:01:53] \"\u001b[37mPOST /api/test HTTP/1.1\u001b[0m\" 200 -\n"
     ]
    },
    {
     "name": "stdout",
     "output_type": "stream",
     "text": [
      "[]\n",
      "[]\n"
     ]
    },
    {
     "name": "stderr",
     "output_type": "stream",
     "text": [
      "127.0.0.1 - - [31/Oct/2020 13:01:53] \"\u001b[37mPOST /api/test HTTP/1.1\u001b[0m\" 200 -\n",
      "127.0.0.1 - - [31/Oct/2020 13:01:53] \"\u001b[37mPOST /api/test HTTP/1.1\u001b[0m\" 200 -\n"
     ]
    },
    {
     "name": "stdout",
     "output_type": "stream",
     "text": [
      "[]\n",
      "[]\n"
     ]
    },
    {
     "name": "stderr",
     "output_type": "stream",
     "text": [
      "127.0.0.1 - - [31/Oct/2020 13:01:53] \"\u001b[37mPOST /api/test HTTP/1.1\u001b[0m\" 200 -\n",
      "127.0.0.1 - - [31/Oct/2020 13:01:53] \"\u001b[37mPOST /api/test HTTP/1.1\u001b[0m\" 200 -\n"
     ]
    },
    {
     "name": "stdout",
     "output_type": "stream",
     "text": [
      "[]\n",
      "[]\n"
     ]
    },
    {
     "name": "stderr",
     "output_type": "stream",
     "text": [
      "127.0.0.1 - - [31/Oct/2020 13:01:53] \"\u001b[37mPOST /api/test HTTP/1.1\u001b[0m\" 200 -\n",
      "127.0.0.1 - - [31/Oct/2020 13:01:53] \"\u001b[37mPOST /api/test HTTP/1.1\u001b[0m\" 200 -\n"
     ]
    },
    {
     "name": "stdout",
     "output_type": "stream",
     "text": [
      "[]\n",
      "[]\n"
     ]
    },
    {
     "name": "stderr",
     "output_type": "stream",
     "text": [
      "127.0.0.1 - - [31/Oct/2020 13:01:54] \"\u001b[37mPOST /api/test HTTP/1.1\u001b[0m\" 200 -\n",
      "127.0.0.1 - - [31/Oct/2020 13:01:54] \"\u001b[37mPOST /api/test HTTP/1.1\u001b[0m\" 200 -\n"
     ]
    },
    {
     "name": "stdout",
     "output_type": "stream",
     "text": [
      "[]\n",
      "[]\n"
     ]
    },
    {
     "name": "stderr",
     "output_type": "stream",
     "text": [
      "127.0.0.1 - - [31/Oct/2020 13:01:54] \"\u001b[37mPOST /api/test HTTP/1.1\u001b[0m\" 200 -\n",
      "127.0.0.1 - - [31/Oct/2020 13:01:54] \"\u001b[37mPOST /api/test HTTP/1.1\u001b[0m\" 200 -\n"
     ]
    },
    {
     "name": "stdout",
     "output_type": "stream",
     "text": [
      "[]\n",
      "[]\n"
     ]
    },
    {
     "name": "stderr",
     "output_type": "stream",
     "text": [
      "127.0.0.1 - - [31/Oct/2020 13:01:54] \"\u001b[37mPOST /api/test HTTP/1.1\u001b[0m\" 200 -\n",
      "127.0.0.1 - - [31/Oct/2020 13:01:54] \"\u001b[37mPOST /api/test HTTP/1.1\u001b[0m\" 200 -\n"
     ]
    },
    {
     "name": "stdout",
     "output_type": "stream",
     "text": [
      "[]\n",
      "[]\n"
     ]
    },
    {
     "name": "stderr",
     "output_type": "stream",
     "text": [
      "127.0.0.1 - - [31/Oct/2020 13:01:54] \"\u001b[37mPOST /api/test HTTP/1.1\u001b[0m\" 200 -\n",
      "127.0.0.1 - - [31/Oct/2020 13:01:54] \"\u001b[37mPOST /api/test HTTP/1.1\u001b[0m\" 200 -\n"
     ]
    },
    {
     "name": "stdout",
     "output_type": "stream",
     "text": [
      "[]\n",
      "[]\n"
     ]
    },
    {
     "name": "stderr",
     "output_type": "stream",
     "text": [
      "127.0.0.1 - - [31/Oct/2020 13:01:54] \"\u001b[37mPOST /api/test HTTP/1.1\u001b[0m\" 200 -\n",
      "127.0.0.1 - - [31/Oct/2020 13:01:55] \"\u001b[37mPOST /api/test HTTP/1.1\u001b[0m\" 200 -\n"
     ]
    },
    {
     "name": "stdout",
     "output_type": "stream",
     "text": [
      "[]\n",
      "[]\n"
     ]
    },
    {
     "name": "stderr",
     "output_type": "stream",
     "text": [
      "127.0.0.1 - - [31/Oct/2020 13:01:55] \"\u001b[37mPOST /api/test HTTP/1.1\u001b[0m\" 200 -\n",
      "127.0.0.1 - - [31/Oct/2020 13:01:55] \"\u001b[37mPOST /api/test HTTP/1.1\u001b[0m\" 200 -\n"
     ]
    },
    {
     "name": "stdout",
     "output_type": "stream",
     "text": [
      "[]\n",
      "[]\n"
     ]
    },
    {
     "name": "stderr",
     "output_type": "stream",
     "text": [
      "127.0.0.1 - - [31/Oct/2020 13:01:55] \"\u001b[37mPOST /api/test HTTP/1.1\u001b[0m\" 200 -\n",
      "127.0.0.1 - - [31/Oct/2020 13:01:55] \"\u001b[37mPOST /api/test HTTP/1.1\u001b[0m\" 200 -\n"
     ]
    },
    {
     "name": "stdout",
     "output_type": "stream",
     "text": [
      "[]\n",
      "[]\n"
     ]
    },
    {
     "name": "stderr",
     "output_type": "stream",
     "text": [
      "127.0.0.1 - - [31/Oct/2020 13:01:55] \"\u001b[37mPOST /api/test HTTP/1.1\u001b[0m\" 200 -\n",
      "127.0.0.1 - - [31/Oct/2020 13:01:55] \"\u001b[37mPOST /api/test HTTP/1.1\u001b[0m\" 200 -\n"
     ]
    },
    {
     "name": "stdout",
     "output_type": "stream",
     "text": [
      "[]\n",
      "[]\n"
     ]
    },
    {
     "name": "stderr",
     "output_type": "stream",
     "text": [
      "127.0.0.1 - - [31/Oct/2020 13:01:55] \"\u001b[37mPOST /api/test HTTP/1.1\u001b[0m\" 200 -\n",
      "127.0.0.1 - - [31/Oct/2020 13:01:55] \"\u001b[37mPOST /api/test HTTP/1.1\u001b[0m\" 200 -\n"
     ]
    },
    {
     "name": "stdout",
     "output_type": "stream",
     "text": [
      "[]\n",
      "[]\n"
     ]
    },
    {
     "name": "stderr",
     "output_type": "stream",
     "text": [
      "127.0.0.1 - - [31/Oct/2020 13:01:56] \"\u001b[37mPOST /api/test HTTP/1.1\u001b[0m\" 200 -\n"
     ]
    },
    {
     "name": "stdout",
     "output_type": "stream",
     "text": [
      "[]\n"
     ]
    },
    {
     "name": "stderr",
     "output_type": "stream",
     "text": [
      "127.0.0.1 - - [31/Oct/2020 13:01:56] \"\u001b[37mPOST /api/test HTTP/1.1\u001b[0m\" 200 -\n",
      "127.0.0.1 - - [31/Oct/2020 13:01:56] \"\u001b[37mPOST /api/test HTTP/1.1\u001b[0m\" 200 -\n"
     ]
    },
    {
     "name": "stdout",
     "output_type": "stream",
     "text": [
      "[{\"label\": \"No Mask: 92.82%\", \"x\": \"206\", \"y\": \"30\", \"x2\": \"432\", \"y2\": \"256\", \"mask\": \"0.07182877\", \"withoutMask\": \"0.9281712\"}]\n",
      "[]\n",
      "[]"
     ]
    },
    {
     "name": "stderr",
     "output_type": "stream",
     "text": [
      "127.0.0.1 - - [31/Oct/2020 13:01:56] \"\u001b[37mPOST /api/test HTTP/1.1\u001b[0m\" 200 -\n",
      "127.0.0.1 - - [31/Oct/2020 13:01:56] \"\u001b[37mPOST /api/test HTTP/1.1\u001b[0m\" 200 -\n"
     ]
    },
    {
     "name": "stdout",
     "output_type": "stream",
     "text": [
      "\n",
      "[]\n"
     ]
    },
    {
     "name": "stderr",
     "output_type": "stream",
     "text": [
      "127.0.0.1 - - [31/Oct/2020 13:01:56] \"\u001b[37mPOST /api/test HTTP/1.1\u001b[0m\" 200 -\n",
      "127.0.0.1 - - [31/Oct/2020 13:01:56] \"\u001b[37mPOST /api/test HTTP/1.1\u001b[0m\" 200 -\n"
     ]
    },
    {
     "name": "stdout",
     "output_type": "stream",
     "text": [
      "[]\n",
      "[]\n",
      "[]"
     ]
    },
    {
     "name": "stderr",
     "output_type": "stream",
     "text": [
      "127.0.0.1 - - [31/Oct/2020 13:01:56] \"\u001b[37mPOST /api/test HTTP/1.1\u001b[0m\" 200 -\n",
      "127.0.0.1 - - [31/Oct/2020 13:01:57] \"\u001b[37mPOST /api/test HTTP/1.1\u001b[0m\" 200 -\n"
     ]
    },
    {
     "name": "stdout",
     "output_type": "stream",
     "text": [
      "\n",
      "[]\n",
      "[]"
     ]
    },
    {
     "name": "stderr",
     "output_type": "stream",
     "text": [
      "127.0.0.1 - - [31/Oct/2020 13:01:57] \"\u001b[37mPOST /api/test HTTP/1.1\u001b[0m\" 200 -\n",
      "127.0.0.1 - - [31/Oct/2020 13:01:57] \"\u001b[37mPOST /api/test HTTP/1.1\u001b[0m\" 200 -\n"
     ]
    },
    {
     "name": "stdout",
     "output_type": "stream",
     "text": [
      "\n",
      "[]\n"
     ]
    },
    {
     "name": "stderr",
     "output_type": "stream",
     "text": [
      "127.0.0.1 - - [31/Oct/2020 13:01:57] \"\u001b[37mPOST /api/test HTTP/1.1\u001b[0m\" 200 -\n",
      "127.0.0.1 - - [31/Oct/2020 13:01:57] \"\u001b[37mPOST /api/test HTTP/1.1\u001b[0m\" 200 -\n"
     ]
    },
    {
     "name": "stdout",
     "output_type": "stream",
     "text": [
      "[]\n",
      "[]\n"
     ]
    },
    {
     "name": "stderr",
     "output_type": "stream",
     "text": [
      "127.0.0.1 - - [31/Oct/2020 13:01:57] \"\u001b[37mPOST /api/test HTTP/1.1\u001b[0m\" 200 -\n",
      "127.0.0.1 - - [31/Oct/2020 13:01:57] \"\u001b[37mPOST /api/test HTTP/1.1\u001b[0m\" 200 -\n"
     ]
    },
    {
     "name": "stdout",
     "output_type": "stream",
     "text": [
      "[]\n",
      "[]\n"
     ]
    },
    {
     "name": "stderr",
     "output_type": "stream",
     "text": [
      "127.0.0.1 - - [31/Oct/2020 13:01:57] \"\u001b[37mPOST /api/test HTTP/1.1\u001b[0m\" 200 -\n",
      "127.0.0.1 - - [31/Oct/2020 13:01:57] \"\u001b[37mPOST /api/test HTTP/1.1\u001b[0m\" 200 -\n"
     ]
    },
    {
     "name": "stdout",
     "output_type": "stream",
     "text": [
      "[]\n",
      "[]\n"
     ]
    },
    {
     "name": "stderr",
     "output_type": "stream",
     "text": [
      "127.0.0.1 - - [31/Oct/2020 13:01:58] \"\u001b[37mPOST /api/test HTTP/1.1\u001b[0m\" 200 -\n"
     ]
    },
    {
     "name": "stdout",
     "output_type": "stream",
     "text": [
      "[{\"label\": \"No Mask: 83.27%\", \"x\": \"191\", \"y\": \"177\", \"x2\": \"420\", \"y2\": \"406\", \"mask\": \"0.16730261\", \"withoutMask\": \"0.83269733\"}]\n"
     ]
    },
    {
     "name": "stderr",
     "output_type": "stream",
     "text": [
      "127.0.0.1 - - [31/Oct/2020 13:01:58] \"\u001b[37mPOST /api/test HTTP/1.1\u001b[0m\" 200 -\n"
     ]
    },
    {
     "name": "stdout",
     "output_type": "stream",
     "text": [
      "[{\"label\": \"Mask: 63.57%\", \"x\": \"189\", \"y\": \"173\", \"x2\": \"420\", \"y2\": \"404\", \"mask\": \"0.6357194\", \"withoutMask\": \"0.3642806\"}]\n"
     ]
    },
    {
     "name": "stderr",
     "output_type": "stream",
     "text": [
      "127.0.0.1 - - [31/Oct/2020 13:01:58] \"\u001b[37mPOST /api/test HTTP/1.1\u001b[0m\" 200 -\n"
     ]
    },
    {
     "name": "stdout",
     "output_type": "stream",
     "text": [
      "[{\"label\": \"Mask: 94.72%\", \"x\": \"191\", \"y\": \"155\", \"x2\": \"411\", \"y2\": \"375\", \"mask\": \"0.94717276\", \"withoutMask\": \"0.052827287\"}]\n"
     ]
    },
    {
     "name": "stderr",
     "output_type": "stream",
     "text": [
      "127.0.0.1 - - [31/Oct/2020 13:01:58] \"\u001b[37mPOST /api/test HTTP/1.1\u001b[0m\" 200 -\n"
     ]
    },
    {
     "name": "stdout",
     "output_type": "stream",
     "text": [
      "[{\"label\": \"No Mask: 69.58%\", \"x\": \"190\", \"y\": \"189\", \"x2\": \"412\", \"y2\": \"411\", \"mask\": \"0.30424422\", \"withoutMask\": \"0.6957557\"}]\n"
     ]
    },
    {
     "name": "stderr",
     "output_type": "stream",
     "text": [
      "127.0.0.1 - - [31/Oct/2020 13:01:59] \"\u001b[37mPOST /api/test HTTP/1.1\u001b[0m\" 200 -\n"
     ]
    },
    {
     "name": "stdout",
     "output_type": "stream",
     "text": [
      "[{\"label\": \"No Mask: 77.74%\", \"x\": \"189\", \"y\": \"185\", \"x2\": \"411\", \"y2\": \"407\", \"mask\": \"0.22261536\", \"withoutMask\": \"0.7773846\"}]\n"
     ]
    },
    {
     "name": "stderr",
     "output_type": "stream",
     "text": [
      "127.0.0.1 - - [31/Oct/2020 13:01:59] \"\u001b[37mPOST /api/test HTTP/1.1\u001b[0m\" 200 -\n"
     ]
    },
    {
     "name": "stdout",
     "output_type": "stream",
     "text": [
      "[{\"label\": \"No Mask: 84.24%\", \"x\": \"188\", \"y\": \"177\", \"x2\": \"416\", \"y2\": \"405\", \"mask\": \"0.15756938\", \"withoutMask\": \"0.8424306\"}]\n"
     ]
    },
    {
     "name": "stderr",
     "output_type": "stream",
     "text": [
      "127.0.0.1 - - [31/Oct/2020 13:01:59] \"\u001b[37mPOST /api/test HTTP/1.1\u001b[0m\" 200 -\n"
     ]
    },
    {
     "name": "stdout",
     "output_type": "stream",
     "text": [
      "[{\"label\": \"Mask: 96.25%\", \"x\": \"182\", \"y\": \"153\", \"x2\": \"413\", \"y2\": \"384\", \"mask\": \"0.96250683\", \"withoutMask\": \"0.037493125\"}, {\"label\": \"No Mask: 61.98%\", \"x\": \"199\", \"y\": \"222\", \"x2\": \"411\", \"y2\": \"434\", \"mask\": \"0.3802359\", \"withoutMask\": \"0.61976415\"}]\n"
     ]
    },
    {
     "name": "stderr",
     "output_type": "stream",
     "text": [
      "127.0.0.1 - - [31/Oct/2020 13:01:59] \"\u001b[37mPOST /api/test HTTP/1.1\u001b[0m\" 200 -\n"
     ]
    },
    {
     "name": "stdout",
     "output_type": "stream",
     "text": [
      "[{\"label\": \"No Mask: 90.61%\", \"x\": \"203\", \"y\": \"223\", \"x2\": \"401\", \"y2\": \"421\", \"mask\": \"0.093934424\", \"withoutMask\": \"0.9060656\"}, {\"label\": \"Mask: 85.35%\", \"x\": \"186\", \"y\": \"148\", \"x2\": \"416\", \"y2\": \"378\", \"mask\": \"0.8535459\", \"withoutMask\": \"0.14645416\"}]\n"
     ]
    },
    {
     "name": "stderr",
     "output_type": "stream",
     "text": [
      "127.0.0.1 - - [31/Oct/2020 13:02:00] \"\u001b[37mPOST /api/test HTTP/1.1\u001b[0m\" 200 -\n"
     ]
    },
    {
     "name": "stdout",
     "output_type": "stream",
     "text": [
      "[{\"label\": \"No Mask: 54.43%\", \"x\": \"184\", \"y\": \"187\", \"x2\": \"426\", \"y2\": \"429\", \"mask\": \"0.45570806\", \"withoutMask\": \"0.544292\"}]\n"
     ]
    },
    {
     "name": "stderr",
     "output_type": "stream",
     "text": [
      "127.0.0.1 - - [31/Oct/2020 13:02:00] \"\u001b[37mPOST /api/test HTTP/1.1\u001b[0m\" 200 -\n"
     ]
    },
    {
     "name": "stdout",
     "output_type": "stream",
     "text": [
      "[{\"label\": \"No Mask: 98.26%\", \"x\": \"189\", \"y\": \"183\", \"x2\": \"424\", \"y2\": \"418\", \"mask\": \"0.017379818\", \"withoutMask\": \"0.9826202\"}]\n"
     ]
    },
    {
     "name": "stderr",
     "output_type": "stream",
     "text": [
      "127.0.0.1 - - [31/Oct/2020 13:02:00] \"\u001b[37mPOST /api/test HTTP/1.1\u001b[0m\" 200 -\n"
     ]
    },
    {
     "name": "stdout",
     "output_type": "stream",
     "text": [
      "[{\"label\": \"No Mask: 98.12%\", \"x\": \"188\", \"y\": \"191\", \"x2\": \"425\", \"y2\": \"428\", \"mask\": \"0.018813174\", \"withoutMask\": \"0.98118687\"}]\n"
     ]
    },
    {
     "name": "stderr",
     "output_type": "stream",
     "text": [
      "127.0.0.1 - - [31/Oct/2020 13:02:00] \"\u001b[37mPOST /api/test HTTP/1.1\u001b[0m\" 200 -\n"
     ]
    },
    {
     "name": "stdout",
     "output_type": "stream",
     "text": [
      "[{\"label\": \"No Mask: 94.70%\", \"x\": \"187\", \"y\": \"174\", \"x2\": \"421\", \"y2\": \"408\", \"mask\": \"0.053022914\", \"withoutMask\": \"0.9469771\"}]\n"
     ]
    },
    {
     "name": "stderr",
     "output_type": "stream",
     "text": [
      "127.0.0.1 - - [31/Oct/2020 13:02:01] \"\u001b[37mPOST /api/test HTTP/1.1\u001b[0m\" 200 -\n"
     ]
    },
    {
     "name": "stdout",
     "output_type": "stream",
     "text": [
      "[{\"label\": \"No Mask: 82.75%\", \"x\": \"187\", \"y\": \"194\", \"x2\": \"421\", \"y2\": \"428\", \"mask\": \"0.17248651\", \"withoutMask\": \"0.82751346\"}]\n"
     ]
    },
    {
     "name": "stderr",
     "output_type": "stream",
     "text": [
      "127.0.0.1 - - [31/Oct/2020 13:02:01] \"\u001b[37mPOST /api/test HTTP/1.1\u001b[0m\" 200 -\n"
     ]
    },
    {
     "name": "stdout",
     "output_type": "stream",
     "text": [
      "[{\"label\": \"No Mask: 89.20%\", \"x\": \"172\", \"y\": \"182\", \"x2\": \"426\", \"y2\": \"436\", \"mask\": \"0.10802541\", \"withoutMask\": \"0.89197457\"}, {\"label\": \"Mask: 92.29%\", \"x\": \"214\", \"y\": \"162\", \"x2\": \"388\", \"y2\": \"336\", \"mask\": \"0.922949\", \"withoutMask\": \"0.07705102\"}]\n"
     ]
    },
    {
     "name": "stderr",
     "output_type": "stream",
     "text": [
      "127.0.0.1 - - [31/Oct/2020 13:02:01] \"\u001b[37mPOST /api/test HTTP/1.1\u001b[0m\" 200 -\n"
     ]
    },
    {
     "name": "stdout",
     "output_type": "stream",
     "text": [
      "[{\"label\": \"No Mask: 74.80%\", \"x\": \"193\", \"y\": \"189\", \"x2\": \"425\", \"y2\": \"421\", \"mask\": \"0.25199485\", \"withoutMask\": \"0.74800515\"}]\n"
     ]
    },
    {
     "name": "stderr",
     "output_type": "stream",
     "text": [
      "127.0.0.1 - - [31/Oct/2020 13:02:01] \"\u001b[37mPOST /api/test HTTP/1.1\u001b[0m\" 200 -\n"
     ]
    },
    {
     "name": "stdout",
     "output_type": "stream",
     "text": [
      "[{\"label\": \"No Mask: 96.69%\", \"x\": \"188\", \"y\": \"174\", \"x2\": \"429\", \"y2\": \"415\", \"mask\": \"0.03306109\", \"withoutMask\": \"0.9669389\"}]\n"
     ]
    },
    {
     "name": "stderr",
     "output_type": "stream",
     "text": [
      "127.0.0.1 - - [31/Oct/2020 13:02:02] \"\u001b[37mPOST /api/test HTTP/1.1\u001b[0m\" 200 -\n"
     ]
    },
    {
     "name": "stdout",
     "output_type": "stream",
     "text": [
      "[{\"label\": \"No Mask: 94.67%\", \"x\": \"188\", \"y\": \"170\", \"x2\": \"429\", \"y2\": \"411\", \"mask\": \"0.053338297\", \"withoutMask\": \"0.9466617\"}]\n"
     ]
    },
    {
     "name": "stderr",
     "output_type": "stream",
     "text": [
      "127.0.0.1 - - [31/Oct/2020 13:02:02] \"\u001b[37mPOST /api/test HTTP/1.1\u001b[0m\" 200 -\n"
     ]
    },
    {
     "name": "stdout",
     "output_type": "stream",
     "text": [
      "[{\"label\": \"No Mask: 96.27%\", \"x\": \"189\", \"y\": \"176\", \"x2\": \"423\", \"y2\": \"410\", \"mask\": \"0.037280653\", \"withoutMask\": \"0.9627194\"}]\n"
     ]
    },
    {
     "name": "stderr",
     "output_type": "stream",
     "text": [
      "127.0.0.1 - - [31/Oct/2020 13:02:02] \"\u001b[37mPOST /api/test HTTP/1.1\u001b[0m\" 200 -\n"
     ]
    },
    {
     "name": "stdout",
     "output_type": "stream",
     "text": [
      "[{\"label\": \"No Mask: 94.67%\", \"x\": \"187\", \"y\": \"161\", \"x2\": \"426\", \"y2\": \"400\", \"mask\": \"0.053321928\", \"withoutMask\": \"0.94667804\"}]\n"
     ]
    },
    {
     "name": "stderr",
     "output_type": "stream",
     "text": [
      "127.0.0.1 - - [31/Oct/2020 13:02:02] \"\u001b[37mPOST /api/test HTTP/1.1\u001b[0m\" 200 -\n"
     ]
    },
    {
     "name": "stdout",
     "output_type": "stream",
     "text": [
      "[{\"label\": \"No Mask: 97.28%\", \"x\": \"188\", \"y\": \"170\", \"x2\": \"429\", \"y2\": \"411\", \"mask\": \"0.027244506\", \"withoutMask\": \"0.97275555\"}]\n"
     ]
    },
    {
     "name": "stderr",
     "output_type": "stream",
     "text": [
      "127.0.0.1 - - [31/Oct/2020 13:02:02] \"\u001b[37mPOST /api/test HTTP/1.1\u001b[0m\" 200 -\n"
     ]
    },
    {
     "name": "stdout",
     "output_type": "stream",
     "text": [
      "[{\"label\": \"No Mask: 84.52%\", \"x\": \"184\", \"y\": \"164\", \"x2\": \"429\", \"y2\": \"409\", \"mask\": \"0.15481742\", \"withoutMask\": \"0.8451826\"}]\n",
      "[{\"label\": \"No Mask: 97.46%\", \"x\": \"188\", \"y\": \"173\", \"x2\": \"425\", \"y2\": \"410\", \"mask\": \"0.025426421\", \"withoutMask\": \"0.97457355\"}]"
     ]
    },
    {
     "name": "stderr",
     "output_type": "stream",
     "text": [
      "127.0.0.1 - - [31/Oct/2020 13:02:03] \"\u001b[37mPOST /api/test HTTP/1.1\u001b[0m\" 200 -\n"
     ]
    },
    {
     "name": "stdout",
     "output_type": "stream",
     "text": [
      "\n"
     ]
    },
    {
     "name": "stderr",
     "output_type": "stream",
     "text": [
      "127.0.0.1 - - [31/Oct/2020 13:02:03] \"\u001b[37mPOST /api/test HTTP/1.1\u001b[0m\" 200 -\n"
     ]
    },
    {
     "name": "stdout",
     "output_type": "stream",
     "text": [
      "[{\"label\": \"No Mask: 96.42%\", \"x\": \"183\", \"y\": \"170\", \"x2\": \"428\", \"y2\": \"415\", \"mask\": \"0.03584863\", \"withoutMask\": \"0.9641514\"}]\n"
     ]
    },
    {
     "name": "stderr",
     "output_type": "stream",
     "text": [
      "127.0.0.1 - - [31/Oct/2020 13:02:03] \"\u001b[37mPOST /api/test HTTP/1.1\u001b[0m\" 200 -\n"
     ]
    },
    {
     "name": "stdout",
     "output_type": "stream",
     "text": [
      "[{\"label\": \"No Mask: 97.73%\", \"x\": \"190\", \"y\": \"172\", \"x2\": \"427\", \"y2\": \"409\", \"mask\": \"0.022662835\", \"withoutMask\": \"0.9773372\"}]\n"
     ]
    },
    {
     "name": "stderr",
     "output_type": "stream",
     "text": [
      "127.0.0.1 - - [31/Oct/2020 13:02:03] \"\u001b[37mPOST /api/test HTTP/1.1\u001b[0m\" 200 -\n",
      "127.0.0.1 - - [31/Oct/2020 13:02:03] \"\u001b[37mPOST /api/test HTTP/1.1\u001b[0m\" 200 -\n"
     ]
    },
    {
     "name": "stdout",
     "output_type": "stream",
     "text": [
      "[{\"label\": \"No Mask: 69.18%\", \"x\": \"190\", \"y\": \"173\", \"x2\": \"426\", \"y2\": \"409\", \"mask\": \"0.30818582\", \"withoutMask\": \"0.6918142\"}]\n",
      "[]\n"
     ]
    },
    {
     "name": "stderr",
     "output_type": "stream",
     "text": [
      "127.0.0.1 - - [31/Oct/2020 13:02:04] \"\u001b[37mPOST /api/test HTTP/1.1\u001b[0m\" 200 -\n",
      "127.0.0.1 - - [31/Oct/2020 13:02:04] \"\u001b[37mPOST /api/test HTTP/1.1\u001b[0m\" 200 -\n"
     ]
    },
    {
     "name": "stdout",
     "output_type": "stream",
     "text": [
      "[]\n",
      "[]\n"
     ]
    },
    {
     "name": "stderr",
     "output_type": "stream",
     "text": [
      "127.0.0.1 - - [31/Oct/2020 13:02:04] \"\u001b[37mPOST /api/test HTTP/1.1\u001b[0m\" 200 -\n",
      "127.0.0.1 - - [31/Oct/2020 13:02:04] \"\u001b[37mPOST /api/test HTTP/1.1\u001b[0m\" 200 -\n"
     ]
    },
    {
     "name": "stdout",
     "output_type": "stream",
     "text": [
      "[]\n",
      "[]\n"
     ]
    },
    {
     "name": "stderr",
     "output_type": "stream",
     "text": [
      "127.0.0.1 - - [31/Oct/2020 13:02:04] \"\u001b[37mPOST /api/test HTTP/1.1\u001b[0m\" 200 -\n",
      "127.0.0.1 - - [31/Oct/2020 13:02:04] \"\u001b[37mPOST /api/test HTTP/1.1\u001b[0m\" 200 -\n"
     ]
    },
    {
     "name": "stdout",
     "output_type": "stream",
     "text": [
      "[]\n",
      "[]\n"
     ]
    },
    {
     "name": "stderr",
     "output_type": "stream",
     "text": [
      "127.0.0.1 - - [31/Oct/2020 13:02:04] \"\u001b[37mPOST /api/test HTTP/1.1\u001b[0m\" 200 -\n",
      "127.0.0.1 - - [31/Oct/2020 13:02:04] \"\u001b[37mPOST /api/test HTTP/1.1\u001b[0m\" 200 -\n"
     ]
    },
    {
     "name": "stdout",
     "output_type": "stream",
     "text": [
      "[]\n",
      "[]\n"
     ]
    },
    {
     "name": "stderr",
     "output_type": "stream",
     "text": [
      "127.0.0.1 - - [31/Oct/2020 13:02:04] \"\u001b[37mPOST /api/test HTTP/1.1\u001b[0m\" 200 -\n",
      "127.0.0.1 - - [31/Oct/2020 13:02:05] \"\u001b[37mPOST /api/test HTTP/1.1\u001b[0m\" 200 -\n"
     ]
    },
    {
     "name": "stdout",
     "output_type": "stream",
     "text": [
      "[]\n",
      "[]\n"
     ]
    },
    {
     "name": "stderr",
     "output_type": "stream",
     "text": [
      "127.0.0.1 - - [31/Oct/2020 13:02:05] \"\u001b[37mPOST /api/test HTTP/1.1\u001b[0m\" 200 -\n",
      "127.0.0.1 - - [31/Oct/2020 13:02:05] \"\u001b[37mPOST /api/test HTTP/1.1\u001b[0m\" 200 -\n"
     ]
    },
    {
     "name": "stdout",
     "output_type": "stream",
     "text": [
      "[]\n",
      "[]\n"
     ]
    },
    {
     "name": "stderr",
     "output_type": "stream",
     "text": [
      "127.0.0.1 - - [31/Oct/2020 13:02:05] \"\u001b[37mPOST /api/test HTTP/1.1\u001b[0m\" 200 -\n"
     ]
    },
    {
     "name": "stdout",
     "output_type": "stream",
     "text": [
      "[{\"label\": \"No Mask: 97.82%\", \"x\": \"191\", \"y\": \"175\", \"x2\": \"424\", \"y2\": \"408\", \"mask\": \"0.021813266\", \"withoutMask\": \"0.9781868\"}]\n"
     ]
    },
    {
     "name": "stderr",
     "output_type": "stream",
     "text": [
      "127.0.0.1 - - [31/Oct/2020 13:02:05] \"\u001b[37mPOST /api/test HTTP/1.1\u001b[0m\" 200 -\n"
     ]
    },
    {
     "name": "stdout",
     "output_type": "stream",
     "text": [
      "[{\"label\": \"No Mask: 82.69%\", \"x\": \"182\", \"y\": \"172\", \"x2\": \"426\", \"y2\": \"416\", \"mask\": \"0.17305692\", \"withoutMask\": \"0.82694304\"}]\n"
     ]
    },
    {
     "name": "stderr",
     "output_type": "stream",
     "text": [
      "127.0.0.1 - - [31/Oct/2020 13:02:06] \"\u001b[37mPOST /api/test HTTP/1.1\u001b[0m\" 200 -\n"
     ]
    },
    {
     "name": "stdout",
     "output_type": "stream",
     "text": [
      "[{\"label\": \"No Mask: 50.50%\", \"x\": \"183\", \"y\": \"185\", \"x2\": \"421\", \"y2\": \"423\", \"mask\": \"0.49500242\", \"withoutMask\": \"0.50499755\"}]\n"
     ]
    },
    {
     "name": "stderr",
     "output_type": "stream",
     "text": [
      "127.0.0.1 - - [31/Oct/2020 13:02:06] \"\u001b[37mPOST /api/test HTTP/1.1\u001b[0m\" 200 -\n"
     ]
    },
    {
     "name": "stdout",
     "output_type": "stream",
     "text": [
      "[{\"label\": \"No Mask: 73.49%\", \"x\": \"176\", \"y\": \"182\", \"x2\": \"425\", \"y2\": \"431\", \"mask\": \"0.26508844\", \"withoutMask\": \"0.73491156\"}]\n"
     ]
    },
    {
     "name": "stderr",
     "output_type": "stream",
     "text": [
      "127.0.0.1 - - [31/Oct/2020 13:02:06] \"\u001b[37mPOST /api/test HTTP/1.1\u001b[0m\" 200 -\n"
     ]
    },
    {
     "name": "stdout",
     "output_type": "stream",
     "text": [
      "[{\"label\": \"Mask: 93.33%\", \"x\": \"163\", \"y\": \"141\", \"x2\": \"416\", \"y2\": \"394\", \"mask\": \"0.93332297\", \"withoutMask\": \"0.06667705\"}]\n"
     ]
    },
    {
     "name": "stderr",
     "output_type": "stream",
     "text": [
      "127.0.0.1 - - [31/Oct/2020 13:02:06] \"\u001b[37mPOST /api/test HTTP/1.1\u001b[0m\" 200 -\n"
     ]
    },
    {
     "name": "stdout",
     "output_type": "stream",
     "text": [
      "[{\"label\": \"Mask: 76.08%\", \"x\": \"160\", \"y\": \"138\", \"x2\": \"426\", \"y2\": \"404\", \"mask\": \"0.7607889\", \"withoutMask\": \"0.23921107\"}, {\"label\": \"No Mask: 99.42%\", \"x\": \"190\", \"y\": \"222\", \"x2\": \"405\", \"y2\": \"437\", \"mask\": \"0.0057957005\", \"withoutMask\": \"0.99420434\"}]\n"
     ]
    },
    {
     "name": "stderr",
     "output_type": "stream",
     "text": [
      "127.0.0.1 - - [31/Oct/2020 13:02:07] \"\u001b[37mPOST /api/test HTTP/1.1\u001b[0m\" 200 -\n"
     ]
    },
    {
     "name": "stdout",
     "output_type": "stream",
     "text": [
      "[{\"label\": \"No Mask: 96.40%\", \"x\": \"152\", \"y\": \"133\", \"x2\": \"440\", \"y2\": \"421\", \"mask\": \"0.035976537\", \"withoutMask\": \"0.9640234\"}]\n"
     ]
    },
    {
     "name": "stderr",
     "output_type": "stream",
     "text": [
      "127.0.0.1 - - [31/Oct/2020 13:02:07] \"\u001b[37mPOST /api/test HTTP/1.1\u001b[0m\" 200 -\n",
      "127.0.0.1 - - [31/Oct/2020 13:02:07] \"\u001b[37mPOST /api/test HTTP/1.1\u001b[0m\" 200 -\n"
     ]
    },
    {
     "name": "stdout",
     "output_type": "stream",
     "text": [
      "[{\"label\": \"No Mask: 56.16%\", \"x\": \"157\", \"y\": \"143\", \"x2\": \"428\", \"y2\": \"414\", \"mask\": \"0.43843916\", \"withoutMask\": \"0.5615609\"}]\n",
      "[]\n"
     ]
    },
    {
     "name": "stderr",
     "output_type": "stream",
     "text": [
      "127.0.0.1 - - [31/Oct/2020 13:02:07] \"\u001b[37mPOST /api/test HTTP/1.1\u001b[0m\" 200 -\n"
     ]
    },
    {
     "name": "stdout",
     "output_type": "stream",
     "text": [
      "[{\"label\": \"No Mask: 60.43%\", \"x\": \"160\", \"y\": \"149\", \"x2\": \"407\", \"y2\": \"396\", \"mask\": \"0.39568833\", \"withoutMask\": \"0.6043117\"}, {\"label\": \"No Mask: 96.53%\", \"x\": \"193\", \"y\": \"236\", \"x2\": \"393\", \"y2\": \"436\", \"mask\": \"0.034748267\", \"withoutMask\": \"0.96525174\"}]\n"
     ]
    },
    {
     "name": "stderr",
     "output_type": "stream",
     "text": [
      "127.0.0.1 - - [31/Oct/2020 13:02:08] \"\u001b[37mPOST /api/test HTTP/1.1\u001b[0m\" 200 -\n"
     ]
    },
    {
     "name": "stdout",
     "output_type": "stream",
     "text": [
      "[{\"label\": \"Mask: 94.86%\", \"x\": \"165\", \"y\": \"155\", \"x2\": \"395\", \"y2\": \"385\", \"mask\": \"0.94856745\", \"withoutMask\": \"0.05143254\"}, {\"label\": \"No Mask: 99.89%\", \"x\": \"185\", \"y\": \"234\", \"x2\": \"400\", \"y2\": \"449\", \"mask\": \"0.0011181554\", \"withoutMask\": \"0.9988819\"}]\n"
     ]
    },
    {
     "name": "stderr",
     "output_type": "stream",
     "text": [
      "127.0.0.1 - - [31/Oct/2020 13:02:08] \"\u001b[37mPOST /api/test HTTP/1.1\u001b[0m\" 200 -\n"
     ]
    },
    {
     "name": "stdout",
     "output_type": "stream",
     "text": [
      "[{\"label\": \"No Mask: 96.84%\", \"x\": \"152\", \"y\": \"132\", \"x2\": \"440\", \"y2\": \"420\", \"mask\": \"0.03164696\", \"withoutMask\": \"0.96835303\"}]\n"
     ]
    },
    {
     "name": "stderr",
     "output_type": "stream",
     "text": [
      "127.0.0.1 - - [31/Oct/2020 13:02:08] \"\u001b[37mPOST /api/test HTTP/1.1\u001b[0m\" 200 -\n"
     ]
    },
    {
     "name": "stdout",
     "output_type": "stream",
     "text": [
      "[{\"label\": \"No Mask: 69.22%\", \"x\": \"144\", \"y\": \"130\", \"x2\": \"446\", \"y2\": \"432\", \"mask\": \"0.3078125\", \"withoutMask\": \"0.6921874\"}]\n"
     ]
    },
    {
     "name": "stderr",
     "output_type": "stream",
     "text": [
      "127.0.0.1 - - [31/Oct/2020 13:02:08] \"\u001b[37mPOST /api/test HTTP/1.1\u001b[0m\" 200 -\n"
     ]
    },
    {
     "name": "stdout",
     "output_type": "stream",
     "text": [
      "[{\"label\": \"No Mask: 85.44%\", \"x\": \"152\", \"y\": \"144\", \"x2\": \"439\", \"y2\": \"431\", \"mask\": \"0.14558643\", \"withoutMask\": \"0.8544136\"}]\n"
     ]
    },
    {
     "name": "stderr",
     "output_type": "stream",
     "text": [
      "127.0.0.1 - - [31/Oct/2020 13:02:08] \"\u001b[37mPOST /api/test HTTP/1.1\u001b[0m\" 200 -\n"
     ]
    },
    {
     "name": "stdout",
     "output_type": "stream",
     "text": [
      "[{\"label\": \"No Mask: 95.13%\", \"x\": \"155\", \"y\": \"141\", \"x2\": \"439\", \"y2\": \"425\", \"mask\": \"0.0487159\", \"withoutMask\": \"0.9512841\"}]\n"
     ]
    },
    {
     "name": "stderr",
     "output_type": "stream",
     "text": [
      "127.0.0.1 - - [31/Oct/2020 13:02:09] \"\u001b[37mPOST /api/test HTTP/1.1\u001b[0m\" 200 -\n"
     ]
    },
    {
     "name": "stdout",
     "output_type": "stream",
     "text": [
      "[{\"label\": \"No Mask: 99.70%\", \"x\": \"187\", \"y\": \"234\", \"x2\": \"407\", \"y2\": \"454\", \"mask\": \"0.0030436318\", \"withoutMask\": \"0.99695635\"}]\n"
     ]
    },
    {
     "name": "stderr",
     "output_type": "stream",
     "text": [
      "127.0.0.1 - - [31/Oct/2020 13:02:09] \"\u001b[37mPOST /api/test HTTP/1.1\u001b[0m\" 200 -\n"
     ]
    },
    {
     "name": "stdout",
     "output_type": "stream",
     "text": [
      "[{\"label\": \"No Mask: 97.62%\", \"x\": \"149\", \"y\": \"141\", \"x2\": \"437\", \"y2\": \"429\", \"mask\": \"0.023829022\", \"withoutMask\": \"0.97617096\"}]\n"
     ]
    },
    {
     "name": "stderr",
     "output_type": "stream",
     "text": [
      "127.0.0.1 - - [31/Oct/2020 13:02:09] \"\u001b[37mPOST /api/test HTTP/1.1\u001b[0m\" 200 -\n"
     ]
    },
    {
     "name": "stdout",
     "output_type": "stream",
     "text": [
      "[{\"label\": \"No Mask: 98.31%\", \"x\": \"148\", \"y\": \"142\", \"x2\": \"442\", \"y2\": \"436\", \"mask\": \"0.016934399\", \"withoutMask\": \"0.9830656\"}]\n"
     ]
    },
    {
     "name": "stderr",
     "output_type": "stream",
     "text": [
      "127.0.0.1 - - [31/Oct/2020 13:02:09] \"\u001b[37mPOST /api/test HTTP/1.1\u001b[0m\" 200 -\n"
     ]
    },
    {
     "name": "stdout",
     "output_type": "stream",
     "text": [
      "[{\"label\": \"No Mask: 92.30%\", \"x\": \"133\", \"y\": \"136\", \"x2\": \"431\", \"y2\": \"434\", \"mask\": \"0.076966666\", \"withoutMask\": \"0.9230333\"}]\n"
     ]
    },
    {
     "name": "stderr",
     "output_type": "stream",
     "text": [
      "127.0.0.1 - - [31/Oct/2020 13:02:10] \"\u001b[37mPOST /api/test HTTP/1.1\u001b[0m\" 200 -\n",
      "127.0.0.1 - - [31/Oct/2020 13:02:10] \"\u001b[37mPOST /api/test HTTP/1.1\u001b[0m\" 200 -\n"
     ]
    },
    {
     "name": "stdout",
     "output_type": "stream",
     "text": [
      "[{\"label\": \"No Mask: 90.19%\", \"x\": \"146\", \"y\": \"136\", \"x2\": \"444\", \"y2\": \"434\", \"mask\": \"0.09814931\", \"withoutMask\": \"0.90185076\"}, {\"label\": \"Mask: 74.61%\", \"x\": \"292\", \"y\": \"203\", \"x2\": \"352\", \"y2\": \"263\", \"mask\": \"0.7460691\", \"withoutMask\": \"0.25393096\"}]\n",
      "[]\n"
     ]
    },
    {
     "name": "stderr",
     "output_type": "stream",
     "text": [
      "127.0.0.1 - - [31/Oct/2020 13:02:10] \"\u001b[37mPOST /api/test HTTP/1.1\u001b[0m\" 200 -\n"
     ]
    },
    {
     "name": "stdout",
     "output_type": "stream",
     "text": [
      "[{\"label\": \"No Mask: 95.27%\", \"x\": \"138\", \"y\": \"138\", \"x2\": \"438\", \"y2\": \"438\", \"mask\": \"0.04732391\", \"withoutMask\": \"0.95267606\"}]\n"
     ]
    },
    {
     "name": "stderr",
     "output_type": "stream",
     "text": [
      "127.0.0.1 - - [31/Oct/2020 13:02:10] \"\u001b[37mPOST /api/test HTTP/1.1\u001b[0m\" 200 -\n"
     ]
    },
    {
     "name": "stdout",
     "output_type": "stream",
     "text": [
      "[{\"label\": \"No Mask: 99.72%\", \"x\": \"138\", \"y\": \"148\", \"x2\": \"436\", \"y2\": \"446\", \"mask\": \"0.0028398982\", \"withoutMask\": \"0.9971601\"}]\n"
     ]
    },
    {
     "name": "stderr",
     "output_type": "stream",
     "text": [
      "127.0.0.1 - - [31/Oct/2020 13:02:11] \"\u001b[37mPOST /api/test HTTP/1.1\u001b[0m\" 200 -\n"
     ]
    },
    {
     "name": "stdout",
     "output_type": "stream",
     "text": [
      "[{\"label\": \"No Mask: 99.44%\", \"x\": \"157\", \"y\": \"173\", \"x2\": \"385\", \"y2\": \"401\", \"mask\": \"0.0055661383\", \"withoutMask\": \"0.9944338\"}]\n"
     ]
    },
    {
     "name": "stderr",
     "output_type": "stream",
     "text": [
      "127.0.0.1 - - [31/Oct/2020 13:02:11] \"\u001b[37mPOST /api/test HTTP/1.1\u001b[0m\" 200 -\n"
     ]
    },
    {
     "name": "stdout",
     "output_type": "stream",
     "text": [
      "[{\"label\": \"No Mask: 99.37%\", \"x\": \"154\", \"y\": \"161\", \"x2\": \"433\", \"y2\": \"440\", \"mask\": \"0.0062688305\", \"withoutMask\": \"0.9937312\"}]\n"
     ]
    },
    {
     "name": "stderr",
     "output_type": "stream",
     "text": [
      "127.0.0.1 - - [31/Oct/2020 13:02:11] \"\u001b[37mPOST /api/test HTTP/1.1\u001b[0m\" 200 -\n"
     ]
    },
    {
     "name": "stdout",
     "output_type": "stream",
     "text": [
      "[{\"label\": \"No Mask: 92.89%\", \"x\": \"151\", \"y\": \"165\", \"x2\": \"426\", \"y2\": \"440\", \"mask\": \"0.07112556\", \"withoutMask\": \"0.9288744\"}]\n"
     ]
    },
    {
     "name": "stderr",
     "output_type": "stream",
     "text": [
      "127.0.0.1 - - [31/Oct/2020 13:02:11] \"\u001b[37mPOST /api/test HTTP/1.1\u001b[0m\" 200 -\n"
     ]
    },
    {
     "name": "stdout",
     "output_type": "stream",
     "text": [
      "[{\"label\": \"No Mask: 98.21%\", \"x\": \"154\", \"y\": \"172\", \"x2\": \"409\", \"y2\": \"427\", \"mask\": \"0.017910752\", \"withoutMask\": \"0.9820893\"}]\n"
     ]
    },
    {
     "name": "stderr",
     "output_type": "stream",
     "text": [
      "127.0.0.1 - - [31/Oct/2020 13:02:11] \"\u001b[37mPOST /api/test HTTP/1.1\u001b[0m\" 200 -\n"
     ]
    },
    {
     "name": "stdout",
     "output_type": "stream",
     "text": [
      "[{\"label\": \"No Mask: 89.59%\", \"x\": \"158\", \"y\": \"171\", \"x2\": \"419\", \"y2\": \"432\", \"mask\": \"0.10408831\", \"withoutMask\": \"0.89591163\"}]\n"
     ]
    },
    {
     "name": "stderr",
     "output_type": "stream",
     "text": [
      "127.0.0.1 - - [31/Oct/2020 13:02:12] \"\u001b[37mPOST /api/test HTTP/1.1\u001b[0m\" 200 -\n"
     ]
    },
    {
     "name": "stdout",
     "output_type": "stream",
     "text": [
      "[{\"label\": \"No Mask: 64.05%\", \"x\": \"155\", \"y\": \"173\", \"x2\": \"420\", \"y2\": \"438\", \"mask\": \"0.35954976\", \"withoutMask\": \"0.64045024\"}]\n"
     ]
    },
    {
     "name": "stderr",
     "output_type": "stream",
     "text": [
      "127.0.0.1 - - [31/Oct/2020 13:02:12] \"\u001b[37mPOST /api/test HTTP/1.1\u001b[0m\" 200 -\n"
     ]
    },
    {
     "name": "stdout",
     "output_type": "stream",
     "text": [
      "[{\"label\": \"Mask: 85.99%\", \"x\": \"149\", \"y\": \"176\", \"x2\": \"413\", \"y2\": \"440\", \"mask\": \"0.859912\", \"withoutMask\": \"0.14008804\"}]\n"
     ]
    },
    {
     "name": "stderr",
     "output_type": "stream",
     "text": [
      "127.0.0.1 - - [31/Oct/2020 13:02:12] \"\u001b[37mPOST /api/test HTTP/1.1\u001b[0m\" 200 -\n"
     ]
    },
    {
     "name": "stdout",
     "output_type": "stream",
     "text": [
      "[{\"label\": \"No Mask: 56.25%\", \"x\": \"154\", \"y\": \"179\", \"x2\": \"418\", \"y2\": \"443\", \"mask\": \"0.4374781\", \"withoutMask\": \"0.56252193\"}]\n"
     ]
    },
    {
     "name": "stderr",
     "output_type": "stream",
     "text": [
      "127.0.0.1 - - [31/Oct/2020 13:02:12] \"\u001b[37mPOST /api/test HTTP/1.1\u001b[0m\" 200 -\n"
     ]
    },
    {
     "name": "stdout",
     "output_type": "stream",
     "text": [
      "[{\"label\": \"Mask: 74.41%\", \"x\": \"162\", \"y\": \"174\", \"x2\": \"423\", \"y2\": \"435\", \"mask\": \"0.7440852\", \"withoutMask\": \"0.2559148\"}]\n"
     ]
    },
    {
     "name": "stderr",
     "output_type": "stream",
     "text": [
      "127.0.0.1 - - [31/Oct/2020 13:02:13] \"\u001b[37mPOST /api/test HTTP/1.1\u001b[0m\" 200 -\n"
     ]
    },
    {
     "name": "stdout",
     "output_type": "stream",
     "text": [
      "[{\"label\": \"Mask: 55.39%\", \"x\": \"159\", \"y\": \"169\", \"x2\": \"430\", \"y2\": \"440\", \"mask\": \"0.55393815\", \"withoutMask\": \"0.4460618\"}]\n"
     ]
    },
    {
     "name": "stderr",
     "output_type": "stream",
     "text": [
      "127.0.0.1 - - [31/Oct/2020 13:02:13] \"\u001b[37mPOST /api/test HTTP/1.1\u001b[0m\" 200 -\n",
      "127.0.0.1 - - [31/Oct/2020 13:02:13] \"\u001b[37mPOST /api/test HTTP/1.1\u001b[0m\" 200 -\n"
     ]
    },
    {
     "name": "stdout",
     "output_type": "stream",
     "text": [
      "[{\"label\": \"No Mask: 76.78%\", \"x\": \"157\", \"y\": \"167\", \"x2\": \"430\", \"y2\": \"440\", \"mask\": \"0.23219587\", \"withoutMask\": \"0.76780415\"}]\n",
      "[]\n"
     ]
    },
    {
     "name": "stderr",
     "output_type": "stream",
     "text": [
      "127.0.0.1 - - [31/Oct/2020 13:02:13] \"\u001b[37mPOST /api/test HTTP/1.1\u001b[0m\" 200 -\n"
     ]
    },
    {
     "name": "stdout",
     "output_type": "stream",
     "text": [
      "[]\n"
     ]
    },
    {
     "name": "stderr",
     "output_type": "stream",
     "text": [
      "127.0.0.1 - - [31/Oct/2020 13:02:13] \"\u001b[37mPOST /api/test HTTP/1.1\u001b[0m\" 200 -\n"
     ]
    },
    {
     "name": "stdout",
     "output_type": "stream",
     "text": [
      "[{\"label\": \"Mask: 76.35%\", \"x\": \"159\", \"y\": \"170\", \"x2\": \"430\", \"y2\": \"441\", \"mask\": \"0.7634759\", \"withoutMask\": \"0.23652412\"}]\n"
     ]
    },
    {
     "name": "stderr",
     "output_type": "stream",
     "text": [
      "127.0.0.1 - - [31/Oct/2020 13:02:14] \"\u001b[37mPOST /api/test HTTP/1.1\u001b[0m\" 200 -\n",
      "127.0.0.1 - - [31/Oct/2020 13:02:14] \"\u001b[37mPOST /api/test HTTP/1.1\u001b[0m\" 200 -\n"
     ]
    },
    {
     "name": "stdout",
     "output_type": "stream",
     "text": [
      "[{\"label\": \"No Mask: 80.55%\", \"x\": \"156\", \"y\": \"176\", \"x2\": \"426\", \"y2\": \"446\", \"mask\": \"0.19447581\", \"withoutMask\": \"0.8055242\"}]\n",
      "[]\n"
     ]
    },
    {
     "name": "stderr",
     "output_type": "stream",
     "text": [
      "127.0.0.1 - - [31/Oct/2020 13:02:14] \"\u001b[37mPOST /api/test HTTP/1.1\u001b[0m\" 200 -\n"
     ]
    },
    {
     "name": "stdout",
     "output_type": "stream",
     "text": [
      "[{\"label\": \"No Mask: 97.25%\", \"x\": \"132\", \"y\": \"187\", \"x2\": \"358\", \"y2\": \"413\", \"mask\": \"0.02746655\", \"withoutMask\": \"0.97253346\"}]\n"
     ]
    },
    {
     "name": "stderr",
     "output_type": "stream",
     "text": [
      "127.0.0.1 - - [31/Oct/2020 13:02:14] \"\u001b[37mPOST /api/test HTTP/1.1\u001b[0m\" 200 -\n",
      "127.0.0.1 - - [31/Oct/2020 13:02:14] \"\u001b[37mPOST /api/test HTTP/1.1\u001b[0m\" 200 -\n"
     ]
    },
    {
     "name": "stdout",
     "output_type": "stream",
     "text": [
      "[{\"label\": \"No Mask: 80.82%\", \"x\": \"152\", \"y\": \"178\", \"x2\": \"413\", \"y2\": \"439\", \"mask\": \"0.19177507\", \"withoutMask\": \"0.808225\"}]\n",
      "[]\n"
     ]
    },
    {
     "name": "stderr",
     "output_type": "stream",
     "text": [
      "127.0.0.1 - - [31/Oct/2020 13:02:15] \"\u001b[37mPOST /api/test HTTP/1.1\u001b[0m\" 200 -\n",
      "127.0.0.1 - - [31/Oct/2020 13:02:15] \"\u001b[37mPOST /api/test HTTP/1.1\u001b[0m\" 200 -\n"
     ]
    },
    {
     "name": "stdout",
     "output_type": "stream",
     "text": [
      "[{\"label\": \"Mask: 91.24%\", \"x\": \"157\", \"y\": \"182\", \"x2\": \"413\", \"y2\": \"438\", \"mask\": \"0.9123832\", \"withoutMask\": \"0.08761679\"}]\n",
      "[]\n"
     ]
    },
    {
     "name": "stderr",
     "output_type": "stream",
     "text": [
      "127.0.0.1 - - [31/Oct/2020 13:02:15] \"\u001b[37mPOST /api/test HTTP/1.1\u001b[0m\" 200 -\n"
     ]
    },
    {
     "name": "stdout",
     "output_type": "stream",
     "text": [
      "[{\"label\": \"Mask: 58.19%\", \"x\": \"153\", \"y\": \"179\", \"x2\": \"420\", \"y2\": \"446\", \"mask\": \"0.5819407\", \"withoutMask\": \"0.41805923\"}]\n"
     ]
    },
    {
     "name": "stderr",
     "output_type": "stream",
     "text": [
      "127.0.0.1 - - [31/Oct/2020 13:02:15] \"\u001b[37mPOST /api/test HTTP/1.1\u001b[0m\" 200 -\n"
     ]
    },
    {
     "name": "stdout",
     "output_type": "stream",
     "text": [
      "[{\"label\": \"No Mask: 54.68%\", \"x\": \"156\", \"y\": \"184\", \"x2\": \"414\", \"y2\": \"442\", \"mask\": \"0.45318773\", \"withoutMask\": \"0.54681224\"}]\n"
     ]
    },
    {
     "name": "stderr",
     "output_type": "stream",
     "text": [
      "127.0.0.1 - - [31/Oct/2020 13:02:15] \"\u001b[37mPOST /api/test HTTP/1.1\u001b[0m\" 200 -\n",
      "127.0.0.1 - - [31/Oct/2020 13:02:16] \"\u001b[37mPOST /api/test HTTP/1.1\u001b[0m\" 200 -\n"
     ]
    },
    {
     "name": "stdout",
     "output_type": "stream",
     "text": [
      "[{\"label\": \"No Mask: 89.41%\", \"x\": \"148\", \"y\": \"182\", \"x2\": \"422\", \"y2\": \"456\", \"mask\": \"0.105869405\", \"withoutMask\": \"0.8941306\"}]\n",
      "[]\n"
     ]
    },
    {
     "name": "stderr",
     "output_type": "stream",
     "text": [
      "127.0.0.1 - - [31/Oct/2020 13:02:16] \"\u001b[37mPOST /api/test HTTP/1.1\u001b[0m\" 200 -\n"
     ]
    },
    {
     "name": "stdout",
     "output_type": "stream",
     "text": [
      "[]\n"
     ]
    },
    {
     "name": "stderr",
     "output_type": "stream",
     "text": [
      "127.0.0.1 - - [31/Oct/2020 13:02:16] \"\u001b[37mPOST /api/test HTTP/1.1\u001b[0m\" 200 -\n"
     ]
    },
    {
     "name": "stdout",
     "output_type": "stream",
     "text": [
      "[{\"label\": \"No Mask: 52.28%\", \"x\": \"153\", \"y\": \"188\", \"x2\": \"406\", \"y2\": \"441\", \"mask\": \"0.47717854\", \"withoutMask\": \"0.5228215\"}]\n"
     ]
    },
    {
     "name": "stderr",
     "output_type": "stream",
     "text": [
      "127.0.0.1 - - [31/Oct/2020 13:02:16] \"\u001b[37mPOST /api/test HTTP/1.1\u001b[0m\" 200 -\n"
     ]
    },
    {
     "name": "stdout",
     "output_type": "stream",
     "text": [
      "[{\"label\": \"No Mask: 54.20%\", \"x\": \"153\", \"y\": \"184\", \"x2\": \"415\", \"y2\": \"446\", \"mask\": \"0.45800212\", \"withoutMask\": \"0.54199785\"}]\n"
     ]
    },
    {
     "name": "stderr",
     "output_type": "stream",
     "text": [
      "127.0.0.1 - - [31/Oct/2020 13:02:16] \"\u001b[37mPOST /api/test HTTP/1.1\u001b[0m\" 200 -\n",
      "127.0.0.1 - - [31/Oct/2020 13:02:16] \"\u001b[37mPOST /api/test HTTP/1.1\u001b[0m\" 200 -\n"
     ]
    },
    {
     "name": "stdout",
     "output_type": "stream",
     "text": [
      "[{\"label\": \"No Mask: 59.21%\", \"x\": \"149\", \"y\": \"179\", \"x2\": \"430\", \"y2\": \"460\", \"mask\": \"0.4079337\", \"withoutMask\": \"0.5920663\"}]\n",
      "[]\n"
     ]
    },
    {
     "name": "stderr",
     "output_type": "stream",
     "text": [
      "127.0.0.1 - - [31/Oct/2020 13:02:17] \"\u001b[37mPOST /api/test HTTP/1.1\u001b[0m\" 200 -\n"
     ]
    },
    {
     "name": "stdout",
     "output_type": "stream",
     "text": [
      "[]\n"
     ]
    },
    {
     "name": "stderr",
     "output_type": "stream",
     "text": [
      "127.0.0.1 - - [31/Oct/2020 13:02:17] \"\u001b[37mPOST /api/test HTTP/1.1\u001b[0m\" 200 -\n"
     ]
    },
    {
     "name": "stdout",
     "output_type": "stream",
     "text": [
      "[{\"label\": \"No Mask: 99.91%\", \"x\": \"144\", \"y\": \"149\", \"x2\": \"425\", \"y2\": \"430\", \"mask\": \"0.00086813443\", \"withoutMask\": \"0.99913186\"}]\n"
     ]
    },
    {
     "name": "stderr",
     "output_type": "stream",
     "text": [
      "127.0.0.1 - - [31/Oct/2020 13:02:18] \"\u001b[37mPOST /api/test HTTP/1.1\u001b[0m\" 200 -\n",
      "127.0.0.1 - - [31/Oct/2020 13:02:18] \"\u001b[37mPOST /api/test HTTP/1.1\u001b[0m\" 200 -\n"
     ]
    },
    {
     "name": "stdout",
     "output_type": "stream",
     "text": [
      "[{\"label\": \"No Mask: 97.25%\", \"x\": \"186\", \"y\": \"183\", \"x2\": \"421\", \"y2\": \"418\", \"mask\": \"0.027499164\", \"withoutMask\": \"0.9725008\"}, {\"label\": \"No Mask: 98.61%\", \"x\": \"381\", \"y\": \"288\", \"x2\": \"485\", \"y2\": \"392\", \"mask\": \"0.013856596\", \"withoutMask\": \"0.9861434\"}]\n",
      "[]\n"
     ]
    },
    {
     "name": "stderr",
     "output_type": "stream",
     "text": [
      "127.0.0.1 - - [31/Oct/2020 13:02:18] \"\u001b[37mPOST /api/test HTTP/1.1\u001b[0m\" 200 -\n"
     ]
    },
    {
     "name": "stdout",
     "output_type": "stream",
     "text": [
      "[]\n"
     ]
    },
    {
     "name": "stderr",
     "output_type": "stream",
     "text": [
      "127.0.0.1 - - [31/Oct/2020 13:02:18] \"\u001b[37mPOST /api/test HTTP/1.1\u001b[0m\" 200 -\n"
     ]
    },
    {
     "name": "stdout",
     "output_type": "stream",
     "text": [
      "[{\"label\": \"No Mask: 99.99%\", \"x\": \"227\", \"y\": \"122\", \"x2\": \"447\", \"y2\": \"342\", \"mask\": \"7.203467e-05\", \"withoutMask\": \"0.999928\"}]\n"
     ]
    },
    {
     "name": "stderr",
     "output_type": "stream",
     "text": [
      "127.0.0.1 - - [31/Oct/2020 13:02:18] \"\u001b[37mPOST /api/test HTTP/1.1\u001b[0m\" 200 -\n"
     ]
    },
    {
     "name": "stdout",
     "output_type": "stream",
     "text": [
      "[{\"label\": \"No Mask: 99.60%\", \"x\": \"243\", \"y\": \"116\", \"x2\": \"468\", \"y2\": \"341\", \"mask\": \"0.0040211813\", \"withoutMask\": \"0.99597883\"}, {\"label\": \"No Mask: 90.29%\", \"x\": \"130\", \"y\": \"265\", \"x2\": \"282\", \"y2\": \"417\", \"mask\": \"0.09709418\", \"withoutMask\": \"0.9029058\"}]\n"
     ]
    },
    {
     "name": "stderr",
     "output_type": "stream",
     "text": [
      "127.0.0.1 - - [31/Oct/2020 13:02:19] \"\u001b[37mPOST /api/test HTTP/1.1\u001b[0m\" 200 -\n"
     ]
    },
    {
     "name": "stdout",
     "output_type": "stream",
     "text": [
      "[{\"label\": \"No Mask: 99.16%\", \"x\": \"251\", \"y\": \"153\", \"x2\": \"450\", \"y2\": \"352\", \"mask\": \"0.008425298\", \"withoutMask\": \"0.9915747\"}]\n",
      "[{\"label\": \"No Mask: 99.51%\", \"x\": \"243\", \"y\": \"159\", \"x2\": \"440\", \"y2\": \"356\", \"mask\": \"0.0048528304\", \"withoutMask\": \"0.99514717\"}]"
     ]
    },
    {
     "name": "stderr",
     "output_type": "stream",
     "text": [
      "127.0.0.1 - - [31/Oct/2020 13:02:19] \"\u001b[37mPOST /api/test HTTP/1.1\u001b[0m\" 200 -\n"
     ]
    },
    {
     "name": "stdout",
     "output_type": "stream",
     "text": [
      "\n",
      "[{\"label\": \"No Mask: 99.97%\", \"x\": \"220\", \"y\": \"158\", \"x2\": \"431\", \"y2\": \"369\", \"mask\": \"0.00034310698\", \"withoutMask\": \"0.9996569\"}]"
     ]
    },
    {
     "name": "stderr",
     "output_type": "stream",
     "text": [
      "127.0.0.1 - - [31/Oct/2020 13:02:19] \"\u001b[37mPOST /api/test HTTP/1.1\u001b[0m\" 200 -\n"
     ]
    },
    {
     "name": "stdout",
     "output_type": "stream",
     "text": [
      "\n"
     ]
    },
    {
     "name": "stderr",
     "output_type": "stream",
     "text": [
      "127.0.0.1 - - [31/Oct/2020 13:02:19] \"\u001b[37mPOST /api/test HTTP/1.1\u001b[0m\" 200 -\n"
     ]
    },
    {
     "name": "stdout",
     "output_type": "stream",
     "text": [
      "[{\"label\": \"No Mask: 99.44%\", \"x\": \"166\", \"y\": \"176\", \"x2\": \"370\", \"y2\": \"380\", \"mask\": \"0.0056383326\", \"withoutMask\": \"0.99436164\"}]\n"
     ]
    },
    {
     "name": "stderr",
     "output_type": "stream",
     "text": [
      "127.0.0.1 - - [31/Oct/2020 13:02:19] \"\u001b[37mPOST /api/test HTTP/1.1\u001b[0m\" 200 -\n"
     ]
    },
    {
     "name": "stdout",
     "output_type": "stream",
     "text": [
      "[{\"label\": \"No Mask: 98.30%\", \"x\": \"126\", \"y\": \"150\", \"x2\": \"332\", \"y2\": \"356\", \"mask\": \"0.017025147\", \"withoutMask\": \"0.9829748\"}]\n",
      "[{\"label\": \"No Mask: 98.91%\", \"x\": \"137\", \"y\": \"159\", \"x2\": \"351\", \"y2\": \"373\", \"mask\": \"0.010850168\", \"withoutMask\": \"0.98914987\"}]"
     ]
    },
    {
     "name": "stderr",
     "output_type": "stream",
     "text": [
      "127.0.0.1 - - [31/Oct/2020 13:02:20] \"\u001b[37mPOST /api/test HTTP/1.1\u001b[0m\" 200 -\n"
     ]
    },
    {
     "name": "stdout",
     "output_type": "stream",
     "text": [
      "\n"
     ]
    },
    {
     "name": "stderr",
     "output_type": "stream",
     "text": [
      "127.0.0.1 - - [31/Oct/2020 13:02:20] \"\u001b[37mPOST /api/test HTTP/1.1\u001b[0m\" 200 -\n"
     ]
    },
    {
     "name": "stdout",
     "output_type": "stream",
     "text": [
      "[{\"label\": \"No Mask: 97.83%\", \"x\": \"170\", \"y\": \"177\", \"x2\": \"388\", \"y2\": \"395\", \"mask\": \"0.02172403\", \"withoutMask\": \"0.978276\"}]\n",
      "[{\"label\": \"No Mask: 94.29%\", \"x\": \"168\", \"y\": \"165\", \"x2\": \"384\", \"y2\": \"381\", \"mask\": \"0.0570807\", \"withoutMask\": \"0.9429193\"}]"
     ]
    },
    {
     "name": "stderr",
     "output_type": "stream",
     "text": [
      "127.0.0.1 - - [31/Oct/2020 13:02:20] \"\u001b[37mPOST /api/test HTTP/1.1\u001b[0m\" 200 -\n"
     ]
    },
    {
     "name": "stdout",
     "output_type": "stream",
     "text": [
      "\n"
     ]
    },
    {
     "name": "stderr",
     "output_type": "stream",
     "text": [
      "127.0.0.1 - - [31/Oct/2020 13:02:20] \"\u001b[37mPOST /api/test HTTP/1.1\u001b[0m\" 200 -\n"
     ]
    },
    {
     "name": "stdout",
     "output_type": "stream",
     "text": [
      "[{\"label\": \"No Mask: 96.40%\", \"x\": \"161\", \"y\": \"169\", \"x2\": \"372\", \"y2\": \"380\", \"mask\": \"0.036024235\", \"withoutMask\": \"0.9639758\"}]\n"
     ]
    },
    {
     "name": "stderr",
     "output_type": "stream",
     "text": [
      "127.0.0.1 - - [31/Oct/2020 13:02:21] \"\u001b[37mPOST /api/test HTTP/1.1\u001b[0m\" 200 -\n"
     ]
    },
    {
     "name": "stdout",
     "output_type": "stream",
     "text": [
      "[{\"label\": \"No Mask: 97.09%\", \"x\": \"160\", \"y\": \"158\", \"x2\": \"370\", \"y2\": \"368\", \"mask\": \"0.029122094\", \"withoutMask\": \"0.9708779\"}]\n"
     ]
    },
    {
     "name": "stderr",
     "output_type": "stream",
     "text": [
      "127.0.0.1 - - [31/Oct/2020 13:02:21] \"\u001b[37mPOST /api/test HTTP/1.1\u001b[0m\" 200 -\n"
     ]
    },
    {
     "name": "stdout",
     "output_type": "stream",
     "text": [
      "[{\"label\": \"No Mask: 98.67%\", \"x\": \"166\", \"y\": \"163\", \"x2\": \"375\", \"y2\": \"372\", \"mask\": \"0.013311701\", \"withoutMask\": \"0.9866883\"}]\n"
     ]
    },
    {
     "name": "stderr",
     "output_type": "stream",
     "text": [
      "127.0.0.1 - - [31/Oct/2020 13:02:21] \"\u001b[37mPOST /api/test HTTP/1.1\u001b[0m\" 200 -\n"
     ]
    },
    {
     "name": "stdout",
     "output_type": "stream",
     "text": [
      "[{\"label\": \"No Mask: 95.24%\", \"x\": \"170\", \"y\": \"159\", \"x2\": \"382\", \"y2\": \"371\", \"mask\": \"0.04763127\", \"withoutMask\": \"0.9523688\"}]\n",
      "[{\"label\": \"No Mask: 99.05%\", \"x\": \"211\", \"y\": \"152\", \"x2\": \"420\", \"y2\": \"361\", \"mask\": \"0.009471422\", \"withoutMask\": \"0.9905285\"}]"
     ]
    },
    {
     "name": "stderr",
     "output_type": "stream",
     "text": [
      "127.0.0.1 - - [31/Oct/2020 13:02:21] \"\u001b[37mPOST /api/test HTTP/1.1\u001b[0m\" 200 -\n"
     ]
    },
    {
     "name": "stdout",
     "output_type": "stream",
     "text": [
      "\n"
     ]
    },
    {
     "name": "stderr",
     "output_type": "stream",
     "text": [
      "127.0.0.1 - - [31/Oct/2020 13:02:21] \"\u001b[37mPOST /api/test HTTP/1.1\u001b[0m\" 200 -\n"
     ]
    },
    {
     "name": "stdout",
     "output_type": "stream",
     "text": [
      "[{\"label\": \"No Mask: 99.43%\", \"x\": \"256\", \"y\": \"160\", \"x2\": \"447\", \"y2\": \"351\", \"mask\": \"0.005657821\", \"withoutMask\": \"0.9943422\"}]\n"
     ]
    },
    {
     "name": "stderr",
     "output_type": "stream",
     "text": [
      "127.0.0.1 - - [31/Oct/2020 13:02:22] \"\u001b[37mPOST /api/test HTTP/1.1\u001b[0m\" 200 -\n"
     ]
    },
    {
     "name": "stdout",
     "output_type": "stream",
     "text": [
      "[{\"label\": \"No Mask: 99.57%\", \"x\": \"272\", \"y\": \"169\", \"x2\": \"440\", \"y2\": \"337\", \"mask\": \"0.0042847604\", \"withoutMask\": \"0.9957152\"}]\n"
     ]
    },
    {
     "name": "stderr",
     "output_type": "stream",
     "text": [
      "127.0.0.1 - - [31/Oct/2020 13:02:22] \"\u001b[37mPOST /api/test HTTP/1.1\u001b[0m\" 200 -\n"
     ]
    },
    {
     "name": "stdout",
     "output_type": "stream",
     "text": [
      "[{\"label\": \"No Mask: 93.47%\", \"x\": \"252\", \"y\": \"175\", \"x2\": \"442\", \"y2\": \"365\", \"mask\": \"0.06525418\", \"withoutMask\": \"0.9347458\"}]\n"
     ]
    },
    {
     "name": "stderr",
     "output_type": "stream",
     "text": [
      "127.0.0.1 - - [31/Oct/2020 13:02:22] \"\u001b[37mPOST /api/test HTTP/1.1\u001b[0m\" 200 -\n"
     ]
    },
    {
     "name": "stdout",
     "output_type": "stream",
     "text": [
      "[{\"label\": \"No Mask: 99.25%\", \"x\": \"222\", \"y\": \"167\", \"x2\": \"435\", \"y2\": \"380\", \"mask\": \"0.007493287\", \"withoutMask\": \"0.9925067\"}]\n",
      "[{\"label\": \"No Mask: 99.60%\", \"x\": \"223\", \"y\": \"170\", \"x2\": \"434\", \"y2\": \"381\", \"mask\": \"0.0040481044\", \"withoutMask\": \"0.9959519\"}]"
     ]
    },
    {
     "name": "stderr",
     "output_type": "stream",
     "text": [
      "127.0.0.1 - - [31/Oct/2020 13:02:22] \"\u001b[37mPOST /api/test HTTP/1.1\u001b[0m\" 200 -\n"
     ]
    },
    {
     "name": "stdout",
     "output_type": "stream",
     "text": [
      "\n"
     ]
    },
    {
     "name": "stderr",
     "output_type": "stream",
     "text": [
      "127.0.0.1 - - [31/Oct/2020 13:02:23] \"\u001b[37mPOST /api/test HTTP/1.1\u001b[0m\" 200 -\n"
     ]
    },
    {
     "name": "stdout",
     "output_type": "stream",
     "text": [
      "[{\"label\": \"No Mask: 99.34%\", \"x\": \"198\", \"y\": \"175\", \"x2\": \"421\", \"y2\": \"398\", \"mask\": \"0.0065869503\", \"withoutMask\": \"0.99341303\"}]\n",
      "[{\"label\": \"No Mask: 99.77%\", \"x\": \"170\", \"y\": \"196\", \"x2\": \"396\", \"y2\": \"422\", \"mask\": \"0.0022575755\", \"withoutMask\": \"0.9977424\"}]"
     ]
    },
    {
     "name": "stderr",
     "output_type": "stream",
     "text": [
      "127.0.0.1 - - [31/Oct/2020 13:02:23] \"\u001b[37mPOST /api/test HTTP/1.1\u001b[0m\" 200 -\n"
     ]
    },
    {
     "name": "stdout",
     "output_type": "stream",
     "text": [
      "\n"
     ]
    },
    {
     "name": "stderr",
     "output_type": "stream",
     "text": [
      "127.0.0.1 - - [31/Oct/2020 13:02:23] \"\u001b[37mPOST /api/test HTTP/1.1\u001b[0m\" 200 -\n"
     ]
    },
    {
     "name": "stdout",
     "output_type": "stream",
     "text": [
      "[{\"label\": \"No Mask: 99.95%\", \"x\": \"145\", \"y\": \"188\", \"x2\": \"371\", \"y2\": \"414\", \"mask\": \"0.00048238397\", \"withoutMask\": \"0.9995177\"}]\n",
      "[{\"label\": \"No Mask: 99.26%\", \"x\": \"62\", \"y\": \"170\", \"x2\": \"305\", \"y2\": \"413\", \"mask\": \"0.0074412264\", \"withoutMask\": \"0.9925587\"}]"
     ]
    },
    {
     "name": "stderr",
     "output_type": "stream",
     "text": [
      "127.0.0.1 - - [31/Oct/2020 13:02:23] \"\u001b[37mPOST /api/test HTTP/1.1\u001b[0m\" 200 -\n",
      "127.0.0.1 - - [31/Oct/2020 13:02:23] \"\u001b[37mPOST /api/test HTTP/1.1\u001b[0m\" 200 -\n"
     ]
    },
    {
     "name": "stdout",
     "output_type": "stream",
     "text": [
      "\n",
      "[]\n"
     ]
    },
    {
     "name": "stderr",
     "output_type": "stream",
     "text": [
      "127.0.0.1 - - [31/Oct/2020 13:02:24] \"\u001b[37mPOST /api/test HTTP/1.1\u001b[0m\" 200 -\n"
     ]
    },
    {
     "name": "stdout",
     "output_type": "stream",
     "text": [
      "[{\"label\": \"No Mask: 97.61%\", \"x\": \"128\", \"y\": \"310\", \"x2\": \"218\", \"y2\": \"400\", \"mask\": \"0.023933746\", \"withoutMask\": \"0.97606623\"}]\n"
     ]
    },
    {
     "name": "stderr",
     "output_type": "stream",
     "text": [
      "127.0.0.1 - - [31/Oct/2020 13:02:24] \"\u001b[37mPOST /api/test HTTP/1.1\u001b[0m\" 200 -\n",
      "127.0.0.1 - - [31/Oct/2020 13:02:24] \"\u001b[37mPOST /api/test HTTP/1.1\u001b[0m\" 200 -\n"
     ]
    },
    {
     "name": "stdout",
     "output_type": "stream",
     "text": [
      "[{\"label\": \"No Mask: 100.00%\", \"x\": \"60\", \"y\": \"184\", \"x2\": \"265\", \"y2\": \"389\", \"mask\": \"4.139315e-05\", \"withoutMask\": \"0.99995863\"}]\n",
      "[]\n"
     ]
    },
    {
     "name": "stderr",
     "output_type": "stream",
     "text": [
      "127.0.0.1 - - [31/Oct/2020 13:02:24] \"\u001b[37mPOST /api/test HTTP/1.1\u001b[0m\" 200 -\n"
     ]
    },
    {
     "name": "stdout",
     "output_type": "stream",
     "text": [
      "[{\"label\": \"No Mask: 100.00%\", \"x\": \"48\", \"y\": \"158\", \"x2\": \"290\", \"y2\": \"400\", \"mask\": \"2.8753448e-05\", \"withoutMask\": \"0.9999713\"}, {\"label\": \"No Mask: 92.54%\", \"x\": \"138\", \"y\": \"305\", \"x2\": \"227\", \"y2\": \"394\", \"mask\": \"0.074600324\", \"withoutMask\": \"0.92539966\"}]\n"
     ]
    },
    {
     "name": "stderr",
     "output_type": "stream",
     "text": [
      "127.0.0.1 - - [31/Oct/2020 13:02:24] \"\u001b[37mPOST /api/test HTTP/1.1\u001b[0m\" 200 -\n",
      "127.0.0.1 - - [31/Oct/2020 13:02:25] \"\u001b[37mPOST /api/test HTTP/1.1\u001b[0m\" 200 -\n"
     ]
    },
    {
     "name": "stdout",
     "output_type": "stream",
     "text": [
      "[{\"label\": \"No Mask: 98.84%\", \"x\": \"49\", \"y\": \"129\", \"x2\": \"101\", \"y2\": \"181\", \"mask\": \"0.011573238\", \"withoutMask\": \"0.98842674\"}, {\"label\": \"Mask: 55.27%\", \"x\": \"164\", \"y\": \"236\", \"x2\": \"192\", \"y2\": \"264\", \"mask\": \"0.55265975\", \"withoutMask\": \"0.44734025\"}]\n",
      "[]\n",
      "[]"
     ]
    },
    {
     "name": "stderr",
     "output_type": "stream",
     "text": [
      "127.0.0.1 - - [31/Oct/2020 13:02:25] \"\u001b[37mPOST /api/test HTTP/1.1\u001b[0m\" 200 -\n"
     ]
    },
    {
     "name": "stdout",
     "output_type": "stream",
     "text": [
      "\n"
     ]
    },
    {
     "name": "stderr",
     "output_type": "stream",
     "text": [
      "127.0.0.1 - - [31/Oct/2020 13:02:25] \"\u001b[37mPOST /api/test HTTP/1.1\u001b[0m\" 200 -\n"
     ]
    },
    {
     "name": "stdout",
     "output_type": "stream",
     "text": [
      "[{\"label\": \"No Mask: 94.76%\", \"x\": \"207\", \"y\": \"380\", \"x2\": \"288\", \"y2\": \"461\", \"mask\": \"0.052442964\", \"withoutMask\": \"0.94755703\"}]\n"
     ]
    },
    {
     "name": "stderr",
     "output_type": "stream",
     "text": [
      "127.0.0.1 - - [31/Oct/2020 13:02:25] \"\u001b[37mPOST /api/test HTTP/1.1\u001b[0m\" 200 -\n"
     ]
    },
    {
     "name": "stdout",
     "output_type": "stream",
     "text": [
      "[{\"label\": \"No Mask: 86.68%\", \"x\": \"228\", \"y\": \"392\", \"x2\": \"285\", \"y2\": \"449\", \"mask\": \"0.13318984\", \"withoutMask\": \"0.86681014\"}, {\"label\": \"No Mask: 97.55%\", \"x\": \"203\", \"y\": \"370\", \"x2\": \"299\", \"y2\": \"466\", \"mask\": \"0.024499949\", \"withoutMask\": \"0.97550005\"}]\n",
      "[{\"label\": \"No Mask: 98.67%\", \"x\": \"102\", \"y\": \"171\", \"x2\": \"314\", \"y2\": \"383\", \"mask\": \"0.01326913\", \"withoutMask\": \"0.98673093\"}]"
     ]
    },
    {
     "name": "stderr",
     "output_type": "stream",
     "text": [
      "127.0.0.1 - - [31/Oct/2020 13:02:25] \"\u001b[37mPOST /api/test HTTP/1.1\u001b[0m\" 200 -\n"
     ]
    },
    {
     "name": "stdout",
     "output_type": "stream",
     "text": [
      "\n"
     ]
    },
    {
     "name": "stderr",
     "output_type": "stream",
     "text": [
      "127.0.0.1 - - [31/Oct/2020 13:02:26] \"\u001b[37mPOST /api/test HTTP/1.1\u001b[0m\" 200 -\n"
     ]
    },
    {
     "name": "stdout",
     "output_type": "stream",
     "text": [
      "[{\"label\": \"No Mask: 98.81%\", \"x\": \"149\", \"y\": \"159\", \"x2\": \"363\", \"y2\": \"373\", \"mask\": \"0.011947592\", \"withoutMask\": \"0.98805237\"}]\n"
     ]
    },
    {
     "name": "stderr",
     "output_type": "stream",
     "text": [
      "127.0.0.1 - - [31/Oct/2020 13:02:26] \"\u001b[37mPOST /api/test HTTP/1.1\u001b[0m\" 200 -\n"
     ]
    },
    {
     "name": "stdout",
     "output_type": "stream",
     "text": [
      "[{\"label\": \"No Mask: 99.87%\", \"x\": \"162\", \"y\": \"153\", \"x2\": \"383\", \"y2\": \"374\", \"mask\": \"0.0012811854\", \"withoutMask\": \"0.99871886\"}]\n",
      "[{\"label\": \"No Mask: 99.56%\", \"x\": \"131\", \"y\": \"168\", \"x2\": \"330\", \"y2\": \"367\", \"mask\": \"0.004380485\", \"withoutMask\": \"0.9956195\"}]"
     ]
    },
    {
     "name": "stderr",
     "output_type": "stream",
     "text": [
      "127.0.0.1 - - [31/Oct/2020 13:02:26] \"\u001b[37mPOST /api/test HTTP/1.1\u001b[0m\" 200 -\n",
      "127.0.0.1 - - [31/Oct/2020 13:02:26] \"\u001b[37mPOST /api/test HTTP/1.1\u001b[0m\" 200 -\n"
     ]
    },
    {
     "name": "stdout",
     "output_type": "stream",
     "text": [
      "\n",
      "[]\n"
     ]
    },
    {
     "name": "stderr",
     "output_type": "stream",
     "text": [
      "127.0.0.1 - - [31/Oct/2020 13:02:26] \"\u001b[37mPOST /api/test HTTP/1.1\u001b[0m\" 200 -\n"
     ]
    },
    {
     "name": "stdout",
     "output_type": "stream",
     "text": [
      "[{\"label\": \"No Mask: 90.98%\", \"x\": \"213\", \"y\": \"384\", \"x2\": \"290\", \"y2\": \"461\", \"mask\": \"0.09019289\", \"withoutMask\": \"0.9098071\"}]\n",
      "[{\"label\": \"No Mask: 92.82%\", \"x\": \"196\", \"y\": \"384\", \"x2\": \"266\", \"y2\": \"454\", \"mask\": \"0.0718398\", \"withoutMask\": \"0.9281602\"}]"
     ]
    },
    {
     "name": "stderr",
     "output_type": "stream",
     "text": [
      "127.0.0.1 - - [31/Oct/2020 13:02:27] \"\u001b[37mPOST /api/test HTTP/1.1\u001b[0m\" 200 -\n",
      "127.0.0.1 - - [31/Oct/2020 13:02:27] \"\u001b[37mPOST /api/test HTTP/1.1\u001b[0m\" 200 -\n",
      "127.0.0.1 - - [31/Oct/2020 13:02:27] \"\u001b[37mPOST /api/test HTTP/1.1\u001b[0m\" 200 -\n"
     ]
    },
    {
     "name": "stdout",
     "output_type": "stream",
     "text": [
      "\n",
      "[]\n",
      "[]\n"
     ]
    },
    {
     "name": "stderr",
     "output_type": "stream",
     "text": [
      "127.0.0.1 - - [31/Oct/2020 13:02:27] \"\u001b[37mPOST /api/test HTTP/1.1\u001b[0m\" 200 -\n",
      "127.0.0.1 - - [31/Oct/2020 13:02:27] \"\u001b[37mPOST /api/test HTTP/1.1\u001b[0m\" 200 -\n"
     ]
    },
    {
     "name": "stdout",
     "output_type": "stream",
     "text": [
      "[]\n",
      "[]\n",
      "[]\n"
     ]
    },
    {
     "name": "stderr",
     "output_type": "stream",
     "text": [
      "127.0.0.1 - - [31/Oct/2020 13:02:27] \"\u001b[37mPOST /api/test HTTP/1.1\u001b[0m\" 200 -\n",
      "127.0.0.1 - - [31/Oct/2020 13:02:27] \"\u001b[37mPOST /api/test HTTP/1.1\u001b[0m\" 200 -\n",
      "127.0.0.1 - - [31/Oct/2020 13:02:27] \"\u001b[37mPOST /api/test HTTP/1.1\u001b[0m\" 200 -\n"
     ]
    },
    {
     "name": "stdout",
     "output_type": "stream",
     "text": [
      "[]\n",
      "[]\n",
      "[]"
     ]
    },
    {
     "name": "stderr",
     "output_type": "stream",
     "text": [
      "127.0.0.1 - - [31/Oct/2020 13:02:27] \"\u001b[37mPOST /api/test HTTP/1.1\u001b[0m\" 200 -\n",
      "127.0.0.1 - - [31/Oct/2020 13:02:27] \"\u001b[37mPOST /api/test HTTP/1.1\u001b[0m\" 200 -\n"
     ]
    },
    {
     "name": "stdout",
     "output_type": "stream",
     "text": [
      "\n",
      "[]\n",
      "[]"
     ]
    },
    {
     "name": "stderr",
     "output_type": "stream",
     "text": [
      "127.0.0.1 - - [31/Oct/2020 13:02:27] \"\u001b[37mPOST /api/test HTTP/1.1\u001b[0m\" 200 -\n",
      "127.0.0.1 - - [31/Oct/2020 13:02:28] \"\u001b[37mPOST /api/test HTTP/1.1\u001b[0m\" 200 -\n"
     ]
    },
    {
     "name": "stdout",
     "output_type": "stream",
     "text": [
      "\n",
      "[]\n"
     ]
    },
    {
     "name": "stderr",
     "output_type": "stream",
     "text": [
      "127.0.0.1 - - [31/Oct/2020 13:02:28] \"\u001b[37mPOST /api/test HTTP/1.1\u001b[0m\" 200 -\n",
      "127.0.0.1 - - [31/Oct/2020 13:02:28] \"\u001b[37mPOST /api/test HTTP/1.1\u001b[0m\" 200 -\n",
      "127.0.0.1 - - [31/Oct/2020 13:02:28] \"\u001b[37mPOST /api/test HTTP/1.1\u001b[0m\" 200 -\n"
     ]
    },
    {
     "name": "stdout",
     "output_type": "stream",
     "text": [
      "[{\"label\": \"No Mask: 90.06%\", \"x\": \"186\", \"y\": \"369\", \"x2\": \"269\", \"y2\": \"452\", \"mask\": \"0.09939562\", \"withoutMask\": \"0.90060437\"}]\n",
      "[]\n",
      "[]\n"
     ]
    },
    {
     "name": "stderr",
     "output_type": "stream",
     "text": [
      "127.0.0.1 - - [31/Oct/2020 13:02:28] \"\u001b[37mPOST /api/test HTTP/1.1\u001b[0m\" 200 -\n"
     ]
    },
    {
     "name": "stdout",
     "output_type": "stream",
     "text": [
      "[]\n",
      "[{\"label\": \"No Mask: 95.45%\", \"x\": \"112\", \"y\": \"158\", \"x2\": \"308\", \"y2\": \"354\", \"mask\": \"0.04553247\", \"withoutMask\": \"0.95446754\"}]"
     ]
    },
    {
     "name": "stderr",
     "output_type": "stream",
     "text": [
      "127.0.0.1 - - [31/Oct/2020 13:02:28] \"\u001b[37mPOST /api/test HTTP/1.1\u001b[0m\" 200 -\n",
      "127.0.0.1 - - [31/Oct/2020 13:02:28] \"\u001b[37mPOST /api/test HTTP/1.1\u001b[0m\" 200 -\n",
      "127.0.0.1 - - [31/Oct/2020 13:02:28] \"\u001b[37mPOST /api/test HTTP/1.1\u001b[0m\" 200 -\n"
     ]
    },
    {
     "name": "stdout",
     "output_type": "stream",
     "text": [
      "\n",
      "[]\n",
      "[]\n"
     ]
    },
    {
     "name": "stderr",
     "output_type": "stream",
     "text": [
      "127.0.0.1 - - [31/Oct/2020 13:02:28] \"\u001b[37mPOST /api/test HTTP/1.1\u001b[0m\" 200 -\n",
      "127.0.0.1 - - [31/Oct/2020 13:02:29] \"\u001b[37mPOST /api/test HTTP/1.1\u001b[0m\" 200 -\n"
     ]
    },
    {
     "name": "stdout",
     "output_type": "stream",
     "text": [
      "[]\n",
      "[]\n",
      "[]"
     ]
    },
    {
     "name": "stderr",
     "output_type": "stream",
     "text": [
      "127.0.0.1 - - [31/Oct/2020 13:02:29] \"\u001b[37mPOST /api/test HTTP/1.1\u001b[0m\" 200 -\n"
     ]
    },
    {
     "name": "stdout",
     "output_type": "stream",
     "text": [
      "\n",
      "[{\"label\": \"No Mask: 94.99%\", \"x\": \"222\", \"y\": \"381\", \"x2\": \"289\", \"y2\": \"448\", \"mask\": \"0.050096374\", \"withoutMask\": \"0.9499036\"}]"
     ]
    },
    {
     "name": "stderr",
     "output_type": "stream",
     "text": [
      "127.0.0.1 - - [31/Oct/2020 13:02:29] \"\u001b[37mPOST /api/test HTTP/1.1\u001b[0m\" 200 -\n",
      "127.0.0.1 - - [31/Oct/2020 13:02:29] \"\u001b[37mPOST /api/test HTTP/1.1\u001b[0m\" 200 -\n"
     ]
    },
    {
     "name": "stdout",
     "output_type": "stream",
     "text": [
      "\n",
      "[]\n"
     ]
    },
    {
     "name": "stderr",
     "output_type": "stream",
     "text": [
      "127.0.0.1 - - [31/Oct/2020 13:02:29] \"\u001b[37mPOST /api/test HTTP/1.1\u001b[0m\" 200 -\n"
     ]
    },
    {
     "name": "stdout",
     "output_type": "stream",
     "text": [
      "[{\"label\": \"No Mask: 93.57%\", \"x\": \"210\", \"y\": \"379\", \"x2\": \"292\", \"y2\": \"461\", \"mask\": \"0.064251095\", \"withoutMask\": \"0.9357489\"}]\n"
     ]
    },
    {
     "name": "stderr",
     "output_type": "stream",
     "text": [
      "127.0.0.1 - - [31/Oct/2020 13:02:29] \"\u001b[37mPOST /api/test HTTP/1.1\u001b[0m\" 200 -\n",
      "127.0.0.1 - - [31/Oct/2020 13:02:29] \"\u001b[37mPOST /api/test HTTP/1.1\u001b[0m\" 200 -\n"
     ]
    },
    {
     "name": "stdout",
     "output_type": "stream",
     "text": [
      "[{\"label\": \"No Mask: 82.44%\", \"x\": \"219\", \"y\": \"382\", \"x2\": \"290\", \"y2\": \"453\", \"mask\": \"0.1755608\", \"withoutMask\": \"0.8244392\"}]\n",
      "[]\n",
      "[]"
     ]
    },
    {
     "name": "stderr",
     "output_type": "stream",
     "text": [
      "127.0.0.1 - - [31/Oct/2020 13:02:30] \"\u001b[37mPOST /api/test HTTP/1.1\u001b[0m\" 200 -\n"
     ]
    },
    {
     "name": "stdout",
     "output_type": "stream",
     "text": [
      "\n"
     ]
    },
    {
     "name": "stderr",
     "output_type": "stream",
     "text": [
      "127.0.0.1 - - [31/Oct/2020 13:02:30] \"\u001b[37mPOST /api/test HTTP/1.1\u001b[0m\" 200 -\n",
      "127.0.0.1 - - [31/Oct/2020 13:02:30] \"\u001b[37mPOST /api/test HTTP/1.1\u001b[0m\" 200 -\n"
     ]
    },
    {
     "name": "stdout",
     "output_type": "stream",
     "text": [
      "[{\"label\": \"No Mask: 99.60%\", \"x\": \"21\", \"y\": \"206\", \"x2\": \"191\", \"y2\": \"376\", \"mask\": \"0.0039821924\", \"withoutMask\": \"0.99601775\"}, {\"label\": \"No Mask: 90.97%\", \"x\": \"205\", \"y\": \"379\", \"x2\": \"293\", \"y2\": \"467\", \"mask\": \"0.090281345\", \"withoutMask\": \"0.9097187\"}]\n",
      "[]\n",
      "[]"
     ]
    },
    {
     "name": "stderr",
     "output_type": "stream",
     "text": [
      "127.0.0.1 - - [31/Oct/2020 13:02:30] \"\u001b[37mPOST /api/test HTTP/1.1\u001b[0m\" 200 -\n",
      "127.0.0.1 - - [31/Oct/2020 13:02:30] \"\u001b[37mPOST /api/test HTTP/1.1\u001b[0m\" 200 -\n"
     ]
    },
    {
     "name": "stdout",
     "output_type": "stream",
     "text": [
      "\n",
      "[]\n",
      "[]"
     ]
    },
    {
     "name": "stderr",
     "output_type": "stream",
     "text": [
      "127.0.0.1 - - [31/Oct/2020 13:02:30] \"\u001b[37mPOST /api/test HTTP/1.1\u001b[0m\" 200 -\n",
      "127.0.0.1 - - [31/Oct/2020 13:02:30] \"\u001b[37mPOST /api/test HTTP/1.1\u001b[0m\" 200 -\n",
      "127.0.0.1 - - [31/Oct/2020 13:02:30] \"\u001b[37mPOST /api/test HTTP/1.1\u001b[0m\" 200 -\n"
     ]
    },
    {
     "name": "stdout",
     "output_type": "stream",
     "text": [
      "\n",
      "[]\n",
      "[]\n"
     ]
    },
    {
     "name": "stderr",
     "output_type": "stream",
     "text": [
      "127.0.0.1 - - [31/Oct/2020 13:02:31] \"\u001b[37mPOST /api/test HTTP/1.1\u001b[0m\" 200 -\n"
     ]
    },
    {
     "name": "stdout",
     "output_type": "stream",
     "text": [
      "[]\n",
      "[{\"label\": \"No Mask: 77.67%\", \"x\": \"74\", \"y\": \"169\", \"x2\": \"101\", \"y2\": \"196\", \"mask\": \"0.22325683\", \"withoutMask\": \"0.7767432\"}]"
     ]
    },
    {
     "name": "stderr",
     "output_type": "stream",
     "text": [
      "127.0.0.1 - - [31/Oct/2020 13:02:31] \"\u001b[37mPOST /api/test HTTP/1.1\u001b[0m\" 200 -\n",
      "127.0.0.1 - - [31/Oct/2020 13:02:31] \"\u001b[37mPOST /api/test HTTP/1.1\u001b[0m\" 200 -\n"
     ]
    },
    {
     "name": "stdout",
     "output_type": "stream",
     "text": [
      "\n",
      "[]\n"
     ]
    },
    {
     "name": "stderr",
     "output_type": "stream",
     "text": [
      "127.0.0.1 - - [31/Oct/2020 13:02:31] \"\u001b[37mPOST /api/test HTTP/1.1\u001b[0m\" 200 -\n"
     ]
    },
    {
     "name": "stdout",
     "output_type": "stream",
     "text": [
      "[{\"label\": \"No Mask: 98.27%\", \"x\": \"41\", \"y\": \"178\", \"x2\": \"264\", \"y2\": \"401\", \"mask\": \"0.0173247\", \"withoutMask\": \"0.9826753\"}]\n",
      "[{\"label\": \"No Mask: 99.26%\", \"x\": \"115\", \"y\": \"169\", \"x2\": \"316\", \"y2\": \"370\", \"mask\": \"0.0073761498\", \"withoutMask\": \"0.9926239\"}]"
     ]
    },
    {
     "name": "stderr",
     "output_type": "stream",
     "text": [
      "127.0.0.1 - - [31/Oct/2020 13:02:31] \"\u001b[37mPOST /api/test HTTP/1.1\u001b[0m\" 200 -\n"
     ]
    },
    {
     "name": "stdout",
     "output_type": "stream",
     "text": [
      "\n",
      "[{\"label\": \"No Mask: 99.82%\", \"x\": \"120\", \"y\": \"172\", \"x2\": \"322\", \"y2\": \"374\", \"mask\": \"0.0017751481\", \"withoutMask\": \"0.9982248\"}]"
     ]
    },
    {
     "name": "stderr",
     "output_type": "stream",
     "text": [
      "127.0.0.1 - - [31/Oct/2020 13:02:31] \"\u001b[37mPOST /api/test HTTP/1.1\u001b[0m\" 200 -\n"
     ]
    },
    {
     "name": "stdout",
     "output_type": "stream",
     "text": [
      "\n",
      "[{\"label\": \"No Mask: 99.96%\", \"x\": \"141\", \"y\": \"170\", \"x2\": \"333\", \"y2\": \"362\", \"mask\": \"0.0004092693\", \"withoutMask\": \"0.9995907\"}]"
     ]
    },
    {
     "name": "stderr",
     "output_type": "stream",
     "text": [
      "127.0.0.1 - - [31/Oct/2020 13:02:32] \"\u001b[37mPOST /api/test HTTP/1.1\u001b[0m\" 200 -\n"
     ]
    },
    {
     "name": "stdout",
     "output_type": "stream",
     "text": [
      "\n"
     ]
    },
    {
     "name": "stderr",
     "output_type": "stream",
     "text": [
      "127.0.0.1 - - [31/Oct/2020 13:02:32] \"\u001b[37mPOST /api/test HTTP/1.1\u001b[0m\" 200 -\n"
     ]
    },
    {
     "name": "stdout",
     "output_type": "stream",
     "text": [
      "[{\"label\": \"No Mask: 99.80%\", \"x\": \"177\", \"y\": \"172\", \"x2\": \"372\", \"y2\": \"367\", \"mask\": \"0.0020418882\", \"withoutMask\": \"0.99795806\"}]\n"
     ]
    },
    {
     "name": "stderr",
     "output_type": "stream",
     "text": [
      "127.0.0.1 - - [31/Oct/2020 13:02:32] \"\u001b[37mPOST /api/test HTTP/1.1\u001b[0m\" 200 -\n"
     ]
    },
    {
     "name": "stdout",
     "output_type": "stream",
     "text": [
      "[{\"label\": \"No Mask: 99.58%\", \"x\": \"188\", \"y\": \"171\", \"x2\": \"380\", \"y2\": \"363\", \"mask\": \"0.004197111\", \"withoutMask\": \"0.99580294\"}]\n",
      "[{\"label\": \"No Mask: 99.97%\", \"x\": \"171\", \"y\": \"150\", \"x2\": \"372\", \"y2\": \"351\", \"mask\": \"0.00025610116\", \"withoutMask\": \"0.9997439\"}]"
     ]
    },
    {
     "name": "stderr",
     "output_type": "stream",
     "text": [
      "127.0.0.1 - - [31/Oct/2020 13:02:32] \"\u001b[37mPOST /api/test HTTP/1.1\u001b[0m\" 200 -\n"
     ]
    },
    {
     "name": "stdout",
     "output_type": "stream",
     "text": [
      "\n"
     ]
    },
    {
     "name": "stderr",
     "output_type": "stream",
     "text": [
      "127.0.0.1 - - [31/Oct/2020 13:02:32] \"\u001b[37mPOST /api/test HTTP/1.1\u001b[0m\" 200 -\n"
     ]
    },
    {
     "name": "stdout",
     "output_type": "stream",
     "text": [
      "[{\"label\": \"No Mask: 99.25%\", \"x\": \"152\", \"y\": \"136\", \"x2\": \"350\", \"y2\": \"334\", \"mask\": \"0.0074515287\", \"withoutMask\": \"0.9925485\"}]\n"
     ]
    },
    {
     "name": "stderr",
     "output_type": "stream",
     "text": [
      "127.0.0.1 - - [31/Oct/2020 13:02:33] \"\u001b[37mPOST /api/test HTTP/1.1\u001b[0m\" 200 -\n"
     ]
    },
    {
     "name": "stdout",
     "output_type": "stream",
     "text": [
      "[{\"label\": \"No Mask: 98.25%\", \"x\": \"139\", \"y\": \"124\", \"x2\": \"347\", \"y2\": \"332\", \"mask\": \"0.017487725\", \"withoutMask\": \"0.98251224\"}]\n"
     ]
    },
    {
     "name": "stderr",
     "output_type": "stream",
     "text": [
      "127.0.0.1 - - [31/Oct/2020 13:02:33] \"\u001b[37mPOST /api/test HTTP/1.1\u001b[0m\" 200 -\n"
     ]
    },
    {
     "name": "stdout",
     "output_type": "stream",
     "text": [
      "[{\"label\": \"No Mask: 99.45%\", \"x\": \"137\", \"y\": \"122\", \"x2\": \"342\", \"y2\": \"327\", \"mask\": \"0.0055190483\", \"withoutMask\": \"0.99448097\"}]\n"
     ]
    },
    {
     "name": "stderr",
     "output_type": "stream",
     "text": [
      "127.0.0.1 - - [31/Oct/2020 13:02:33] \"\u001b[37mPOST /api/test HTTP/1.1\u001b[0m\" 200 -\n"
     ]
    },
    {
     "name": "stdout",
     "output_type": "stream",
     "text": [
      "[{\"label\": \"No Mask: 97.31%\", \"x\": \"138\", \"y\": \"120\", \"x2\": \"344\", \"y2\": \"326\", \"mask\": \"0.026903497\", \"withoutMask\": \"0.97309655\"}]\n"
     ]
    },
    {
     "name": "stderr",
     "output_type": "stream",
     "text": [
      "127.0.0.1 - - [31/Oct/2020 13:02:33] \"\u001b[37mPOST /api/test HTTP/1.1\u001b[0m\" 200 -\n"
     ]
    },
    {
     "name": "stdout",
     "output_type": "stream",
     "text": [
      "[{\"label\": \"No Mask: 97.62%\", \"x\": \"132\", \"y\": \"122\", \"x2\": \"342\", \"y2\": \"332\", \"mask\": \"0.023847114\", \"withoutMask\": \"0.9761529\"}]\n"
     ]
    },
    {
     "name": "stderr",
     "output_type": "stream",
     "text": [
      "127.0.0.1 - - [31/Oct/2020 13:02:34] \"\u001b[37mPOST /api/test HTTP/1.1\u001b[0m\" 200 -\n"
     ]
    },
    {
     "name": "stdout",
     "output_type": "stream",
     "text": [
      "[{\"label\": \"No Mask: 92.57%\", \"x\": \"128\", \"y\": \"121\", \"x2\": \"341\", \"y2\": \"334\", \"mask\": \"0.074254185\", \"withoutMask\": \"0.92574584\"}]\n",
      "[{\"label\": \"No Mask: 95.20%\", \"x\": \"126\", \"y\": \"123\", \"x2\": \"337\", \"y2\": \"334\", \"mask\": \"0.047968917\", \"withoutMask\": \"0.95203114\"}]"
     ]
    },
    {
     "name": "stderr",
     "output_type": "stream",
     "text": [
      "127.0.0.1 - - [31/Oct/2020 13:02:34] \"\u001b[37mPOST /api/test HTTP/1.1\u001b[0m\" 200 -\n"
     ]
    },
    {
     "name": "stdout",
     "output_type": "stream",
     "text": [
      "\n"
     ]
    },
    {
     "name": "stderr",
     "output_type": "stream",
     "text": [
      "127.0.0.1 - - [31/Oct/2020 13:02:53] \"\u001b[37mPOST /api/test HTTP/1.1\u001b[0m\" 200 -\n"
     ]
    },
    {
     "name": "stdout",
     "output_type": "stream",
     "text": [
      "[{\"label\": \"No Mask: 99.48%\", \"x\": \"131\", \"y\": \"115\", \"x2\": \"330\", \"y2\": \"314\", \"mask\": \"0.0052411137\", \"withoutMask\": \"0.9947589\"}]\n"
     ]
    },
    {
     "name": "stderr",
     "output_type": "stream",
     "text": [
      "127.0.0.1 - - [31/Oct/2020 13:02:53] \"\u001b[37mPOST /api/test HTTP/1.1\u001b[0m\" 200 -\n"
     ]
    },
    {
     "name": "stdout",
     "output_type": "stream",
     "text": [
      "[{\"label\": \"No Mask: 99.39%\", \"x\": \"137\", \"y\": \"113\", \"x2\": \"344\", \"y2\": \"320\", \"mask\": \"0.006102974\", \"withoutMask\": \"0.993897\"}]\n"
     ]
    },
    {
     "name": "stderr",
     "output_type": "stream",
     "text": [
      "127.0.0.1 - - [31/Oct/2020 13:02:54] \"\u001b[37mPOST /api/test HTTP/1.1\u001b[0m\" 200 -\n"
     ]
    },
    {
     "name": "stdout",
     "output_type": "stream",
     "text": [
      "[{\"label\": \"No Mask: 97.63%\", \"x\": \"134\", \"y\": \"112\", \"x2\": \"350\", \"y2\": \"328\", \"mask\": \"0.023735205\", \"withoutMask\": \"0.9762648\"}]\n"
     ]
    },
    {
     "name": "stderr",
     "output_type": "stream",
     "text": [
      "127.0.0.1 - - [31/Oct/2020 13:02:54] \"\u001b[37mPOST /api/test HTTP/1.1\u001b[0m\" 200 -\n"
     ]
    },
    {
     "name": "stdout",
     "output_type": "stream",
     "text": [
      "[{\"label\": \"No Mask: 96.93%\", \"x\": \"140\", \"y\": \"112\", \"x2\": \"349\", \"y2\": \"321\", \"mask\": \"0.030736076\", \"withoutMask\": \"0.9692639\"}]\n"
     ]
    },
    {
     "name": "stderr",
     "output_type": "stream",
     "text": [
      "127.0.0.1 - - [31/Oct/2020 13:02:54] \"\u001b[37mPOST /api/test HTTP/1.1\u001b[0m\" 200 -\n"
     ]
    },
    {
     "name": "stdout",
     "output_type": "stream",
     "text": [
      "[{\"label\": \"No Mask: 97.21%\", \"x\": \"140\", \"y\": \"110\", \"x2\": \"351\", \"y2\": \"321\", \"mask\": \"0.027880149\", \"withoutMask\": \"0.97211987\"}]\n"
     ]
    },
    {
     "name": "stderr",
     "output_type": "stream",
     "text": [
      "127.0.0.1 - - [31/Oct/2020 13:02:54] \"\u001b[37mPOST /api/test HTTP/1.1\u001b[0m\" 200 -\n"
     ]
    },
    {
     "name": "stdout",
     "output_type": "stream",
     "text": [
      "[{\"label\": \"No Mask: 99.66%\", \"x\": \"139\", \"y\": \"108\", \"x2\": \"352\", \"y2\": \"321\", \"mask\": \"0.0033514237\", \"withoutMask\": \"0.9966486\"}]\n"
     ]
    },
    {
     "name": "stderr",
     "output_type": "stream",
     "text": [
      "127.0.0.1 - - [31/Oct/2020 13:02:55] \"\u001b[37mPOST /api/test HTTP/1.1\u001b[0m\" 200 -\n"
     ]
    },
    {
     "name": "stdout",
     "output_type": "stream",
     "text": [
      "[{\"label\": \"No Mask: 99.02%\", \"x\": \"136\", \"y\": \"107\", \"x2\": \"349\", \"y2\": \"320\", \"mask\": \"0.009751251\", \"withoutMask\": \"0.99024874\"}]\n",
      "[{\"label\": \"No Mask: 99.82%\", \"x\": \"138\", \"y\": \"108\", \"x2\": \"350\", \"y2\": \"320\", \"mask\": \"0.001822765\", \"withoutMask\": \"0.9981773\"}]"
     ]
    },
    {
     "name": "stderr",
     "output_type": "stream",
     "text": [
      "127.0.0.1 - - [31/Oct/2020 13:02:55] \"\u001b[37mPOST /api/test HTTP/1.1\u001b[0m\" 200 -\n"
     ]
    },
    {
     "name": "stdout",
     "output_type": "stream",
     "text": [
      "\n"
     ]
    },
    {
     "name": "stderr",
     "output_type": "stream",
     "text": [
      "127.0.0.1 - - [31/Oct/2020 13:02:55] \"\u001b[37mPOST /api/test HTTP/1.1\u001b[0m\" 200 -\n"
     ]
    },
    {
     "name": "stdout",
     "output_type": "stream",
     "text": [
      "[{\"label\": \"No Mask: 98.20%\", \"x\": \"143\", \"y\": \"115\", \"x2\": \"354\", \"y2\": \"326\", \"mask\": \"0.017965352\", \"withoutMask\": \"0.9820347\"}]\n"
     ]
    },
    {
     "name": "stderr",
     "output_type": "stream",
     "text": [
      "127.0.0.1 - - [31/Oct/2020 13:02:55] \"\u001b[37mPOST /api/test HTTP/1.1\u001b[0m\" 200 -\n"
     ]
    },
    {
     "name": "stdout",
     "output_type": "stream",
     "text": [
      "[{\"label\": \"No Mask: 99.99%\", \"x\": \"135\", \"y\": \"126\", \"x2\": \"344\", \"y2\": \"335\", \"mask\": \"9.975181e-05\", \"withoutMask\": \"0.9999002\"}]\n"
     ]
    },
    {
     "name": "stderr",
     "output_type": "stream",
     "text": [
      "127.0.0.1 - - [31/Oct/2020 13:02:55] \"\u001b[37mPOST /api/test HTTP/1.1\u001b[0m\" 200 -\n"
     ]
    },
    {
     "name": "stdout",
     "output_type": "stream",
     "text": [
      "[{\"label\": \"No Mask: 99.89%\", \"x\": \"132\", \"y\": \"131\", \"x2\": \"335\", \"y2\": \"334\", \"mask\": \"0.0010562586\", \"withoutMask\": \"0.99894375\"}]\n",
      "[{\"label\": \"No Mask: 99.97%\", \"x\": \"130\", \"y\": \"128\", \"x2\": \"343\", \"y2\": \"341\", \"mask\": \"0.00034704743\", \"withoutMask\": \"0.999653\"}]"
     ]
    },
    {
     "name": "stderr",
     "output_type": "stream",
     "text": [
      "127.0.0.1 - - [31/Oct/2020 13:02:56] \"\u001b[37mPOST /api/test HTTP/1.1\u001b[0m\" 200 -\n"
     ]
    },
    {
     "name": "stdout",
     "output_type": "stream",
     "text": [
      "\n"
     ]
    },
    {
     "name": "stderr",
     "output_type": "stream",
     "text": [
      "127.0.0.1 - - [31/Oct/2020 13:02:56] \"\u001b[37mPOST /api/test HTTP/1.1\u001b[0m\" 200 -\n"
     ]
    },
    {
     "name": "stdout",
     "output_type": "stream",
     "text": [
      "[{\"label\": \"No Mask: 99.91%\", \"x\": \"135\", \"y\": \"130\", \"x2\": \"343\", \"y2\": \"338\", \"mask\": \"0.000919036\", \"withoutMask\": \"0.9990809\"}]\n"
     ]
    },
    {
     "name": "stderr",
     "output_type": "stream",
     "text": [
      "127.0.0.1 - - [31/Oct/2020 13:02:56] \"\u001b[37mPOST /api/test HTTP/1.1\u001b[0m\" 200 -\n"
     ]
    },
    {
     "name": "stdout",
     "output_type": "stream",
     "text": [
      "[{\"label\": \"No Mask: 99.87%\", \"x\": \"137\", \"y\": \"132\", \"x2\": \"342\", \"y2\": \"337\", \"mask\": \"0.0013386791\", \"withoutMask\": \"0.9986613\"}]\n"
     ]
    },
    {
     "name": "stderr",
     "output_type": "stream",
     "text": [
      "127.0.0.1 - - [31/Oct/2020 13:02:56] \"\u001b[37mPOST /api/test HTTP/1.1\u001b[0m\" 200 -\n"
     ]
    },
    {
     "name": "stdout",
     "output_type": "stream",
     "text": [
      "[{\"label\": \"No Mask: 99.08%\", \"x\": \"135\", \"y\": \"131\", \"x2\": \"344\", \"y2\": \"340\", \"mask\": \"0.009202111\", \"withoutMask\": \"0.9907979\"}]\n"
     ]
    },
    {
     "name": "stderr",
     "output_type": "stream",
     "text": [
      "127.0.0.1 - - [31/Oct/2020 13:02:57] \"\u001b[37mPOST /api/test HTTP/1.1\u001b[0m\" 200 -\n"
     ]
    },
    {
     "name": "stdout",
     "output_type": "stream",
     "text": [
      "[{\"label\": \"No Mask: 99.92%\", \"x\": \"135\", \"y\": \"135\", \"x2\": \"342\", \"y2\": \"342\", \"mask\": \"0.0008215694\", \"withoutMask\": \"0.99917847\"}]\n"
     ]
    },
    {
     "name": "stderr",
     "output_type": "stream",
     "text": [
      "127.0.0.1 - - [31/Oct/2020 13:02:57] \"\u001b[37mPOST /api/test HTTP/1.1\u001b[0m\" 200 -\n"
     ]
    },
    {
     "name": "stdout",
     "output_type": "stream",
     "text": [
      "[{\"label\": \"No Mask: 99.07%\", \"x\": \"137\", \"y\": \"137\", \"x2\": \"341\", \"y2\": \"341\", \"mask\": \"0.009323533\", \"withoutMask\": \"0.9906764\"}]\n"
     ]
    },
    {
     "name": "stderr",
     "output_type": "stream",
     "text": [
      "127.0.0.1 - - [31/Oct/2020 13:02:57] \"\u001b[37mPOST /api/test HTTP/1.1\u001b[0m\" 200 -\n"
     ]
    },
    {
     "name": "stdout",
     "output_type": "stream",
     "text": [
      "[{\"label\": \"No Mask: 99.21%\", \"x\": \"140\", \"y\": \"136\", \"x2\": \"347\", \"y2\": \"343\", \"mask\": \"0.00787274\", \"withoutMask\": \"0.9921273\"}]\n"
     ]
    },
    {
     "name": "stderr",
     "output_type": "stream",
     "text": [
      "127.0.0.1 - - [31/Oct/2020 13:02:57] \"\u001b[37mPOST /api/test HTTP/1.1\u001b[0m\" 200 -\n"
     ]
    },
    {
     "name": "stdout",
     "output_type": "stream",
     "text": [
      "[{\"label\": \"No Mask: 98.05%\", \"x\": \"141\", \"y\": \"139\", \"x2\": \"350\", \"y2\": \"348\", \"mask\": \"0.019453695\", \"withoutMask\": \"0.9805463\"}]\n"
     ]
    },
    {
     "name": "stderr",
     "output_type": "stream",
     "text": [
      "127.0.0.1 - - [31/Oct/2020 13:02:58] \"\u001b[37mPOST /api/test HTTP/1.1\u001b[0m\" 200 -\n"
     ]
    },
    {
     "name": "stdout",
     "output_type": "stream",
     "text": [
      "[{\"label\": \"No Mask: 99.93%\", \"x\": \"144\", \"y\": \"144\", \"x2\": \"350\", \"y2\": \"350\", \"mask\": \"0.0006807237\", \"withoutMask\": \"0.9993193\"}]\n"
     ]
    },
    {
     "name": "stderr",
     "output_type": "stream",
     "text": [
      "127.0.0.1 - - [31/Oct/2020 13:02:58] \"\u001b[37mPOST /api/test HTTP/1.1\u001b[0m\" 200 -\n"
     ]
    },
    {
     "name": "stdout",
     "output_type": "stream",
     "text": [
      "[{\"label\": \"No Mask: 93.27%\", \"x\": \"168\", \"y\": \"152\", \"x2\": \"388\", \"y2\": \"372\", \"mask\": \"0.067333736\", \"withoutMask\": \"0.93266624\"}]\n"
     ]
    },
    {
     "name": "stderr",
     "output_type": "stream",
     "text": [
      "127.0.0.1 - - [31/Oct/2020 13:02:58] \"\u001b[37mPOST /api/test HTTP/1.1\u001b[0m\" 200 -\n"
     ]
    },
    {
     "name": "stdout",
     "output_type": "stream",
     "text": [
      "[{\"label\": \"No Mask: 96.58%\", \"x\": \"151\", \"y\": \"147\", \"x2\": \"362\", \"y2\": \"358\", \"mask\": \"0.03423912\", \"withoutMask\": \"0.9657609\"}]\n"
     ]
    },
    {
     "name": "stderr",
     "output_type": "stream",
     "text": [
      "127.0.0.1 - - [31/Oct/2020 13:02:59] \"\u001b[37mPOST /api/test HTTP/1.1\u001b[0m\" 200 -\n",
      "127.0.0.1 - - [31/Oct/2020 13:02:59] \"\u001b[37mPOST /api/test HTTP/1.1\u001b[0m\" 200 -\n"
     ]
    },
    {
     "name": "stdout",
     "output_type": "stream",
     "text": [
      "[{\"label\": \"No Mask: 51.32%\", \"x\": \"159\", \"y\": \"148\", \"x2\": \"353\", \"y2\": \"342\", \"mask\": \"0.4867685\", \"withoutMask\": \"0.51323146\"}]\n",
      "[]\n"
     ]
    },
    {
     "name": "stderr",
     "output_type": "stream",
     "text": [
      "127.0.0.1 - - [31/Oct/2020 13:02:59] \"\u001b[37mPOST /api/test HTTP/1.1\u001b[0m\" 200 -\n"
     ]
    },
    {
     "name": "stdout",
     "output_type": "stream",
     "text": [
      "[]\n"
     ]
    },
    {
     "name": "stderr",
     "output_type": "stream",
     "text": [
      "127.0.0.1 - - [31/Oct/2020 13:02:59] \"\u001b[37mPOST /api/test HTTP/1.1\u001b[0m\" 200 -\n"
     ]
    },
    {
     "name": "stdout",
     "output_type": "stream",
     "text": [
      "[{\"label\": \"Mask: 59.48%\", \"x\": \"108\", \"y\": \"216\", \"x2\": \"208\", \"y2\": \"316\", \"mask\": \"0.5948356\", \"withoutMask\": \"0.40516448\"}]\n"
     ]
    },
    {
     "name": "stderr",
     "output_type": "stream",
     "text": [
      "127.0.0.1 - - [31/Oct/2020 13:02:59] \"\u001b[37mPOST /api/test HTTP/1.1\u001b[0m\" 200 -\n"
     ]
    },
    {
     "name": "stdout",
     "output_type": "stream",
     "text": [
      "[{\"label\": \"No Mask: 99.48%\", \"x\": \"174\", \"y\": \"190\", \"x2\": \"295\", \"y2\": \"311\", \"mask\": \"0.005174614\", \"withoutMask\": \"0.99482536\"}]\n"
     ]
    },
    {
     "name": "stderr",
     "output_type": "stream",
     "text": [
      "127.0.0.1 - - [31/Oct/2020 13:03:00] \"\u001b[37mPOST /api/test HTTP/1.1\u001b[0m\" 200 -\n"
     ]
    },
    {
     "name": "stdout",
     "output_type": "stream",
     "text": [
      "[{\"label\": \"No Mask: 99.07%\", \"x\": \"131\", \"y\": \"159\", \"x2\": \"322\", \"y2\": \"350\", \"mask\": \"0.009301638\", \"withoutMask\": \"0.9906984\"}]\n"
     ]
    },
    {
     "name": "stderr",
     "output_type": "stream",
     "text": [
      "127.0.0.1 - - [31/Oct/2020 13:03:00] \"\u001b[37mPOST /api/test HTTP/1.1\u001b[0m\" 200 -\n"
     ]
    },
    {
     "name": "stdout",
     "output_type": "stream",
     "text": [
      "[{\"label\": \"No Mask: 96.40%\", \"x\": \"130\", \"y\": \"174\", \"x2\": \"346\", \"y2\": \"390\", \"mask\": \"0.035970677\", \"withoutMask\": \"0.9640293\"}]\n"
     ]
    },
    {
     "name": "stderr",
     "output_type": "stream",
     "text": [
      "127.0.0.1 - - [31/Oct/2020 13:03:00] \"\u001b[37mPOST /api/test HTTP/1.1\u001b[0m\" 200 -\n"
     ]
    },
    {
     "name": "stdout",
     "output_type": "stream",
     "text": [
      "[{\"label\": \"No Mask: 99.67%\", \"x\": \"268\", \"y\": \"227\", \"x2\": \"323\", \"y2\": \"282\", \"mask\": \"0.00332021\", \"withoutMask\": \"0.9966798\"}]\n"
     ]
    },
    {
     "name": "stderr",
     "output_type": "stream",
     "text": [
      "127.0.0.1 - - [31/Oct/2020 13:03:00] \"\u001b[37mPOST /api/test HTTP/1.1\u001b[0m\" 200 -\n"
     ]
    },
    {
     "name": "stdout",
     "output_type": "stream",
     "text": [
      "[{\"label\": \"No Mask: 83.69%\", \"x\": \"132\", \"y\": \"158\", \"x2\": \"366\", \"y2\": \"392\", \"mask\": \"0.16310598\", \"withoutMask\": \"0.83689404\"}, {\"label\": \"No Mask: 96.87%\", \"x\": \"196\", \"y\": \"200\", \"x2\": \"299\", \"y2\": \"303\", \"mask\": \"0.031305585\", \"withoutMask\": \"0.96869445\"}]\n"
     ]
    },
    {
     "name": "stderr",
     "output_type": "stream",
     "text": [
      "127.0.0.1 - - [31/Oct/2020 13:03:01] \"\u001b[37mPOST /api/test HTTP/1.1\u001b[0m\" 200 -\n",
      "127.0.0.1 - - [31/Oct/2020 13:03:01] \"\u001b[37mPOST /api/test HTTP/1.1\u001b[0m\" 200 -\n"
     ]
    },
    {
     "name": "stdout",
     "output_type": "stream",
     "text": [
      "[{\"label\": \"Mask: 92.04%\", \"x\": \"177\", \"y\": \"142\", \"x2\": \"355\", \"y2\": \"320\", \"mask\": \"0.9204033\", \"withoutMask\": \"0.07959674\"}]\n",
      "[]\n"
     ]
    },
    {
     "name": "stderr",
     "output_type": "stream",
     "text": [
      "127.0.0.1 - - [31/Oct/2020 13:03:01] \"\u001b[37mPOST /api/test HTTP/1.1\u001b[0m\" 200 -\n"
     ]
    },
    {
     "name": "stdout",
     "output_type": "stream",
     "text": [
      "[{\"label\": \"No Mask: 95.01%\", \"x\": \"117\", \"y\": \"140\", \"x2\": \"372\", \"y2\": \"395\", \"mask\": \"0.04989562\", \"withoutMask\": \"0.95010436\"}]\n"
     ]
    },
    {
     "name": "stderr",
     "output_type": "stream",
     "text": [
      "127.0.0.1 - - [31/Oct/2020 13:03:01] \"\u001b[37mPOST /api/test HTTP/1.1\u001b[0m\" 200 -\n",
      "127.0.0.1 - - [31/Oct/2020 13:03:01] \"\u001b[37mPOST /api/test HTTP/1.1\u001b[0m\" 200 -\n"
     ]
    },
    {
     "name": "stdout",
     "output_type": "stream",
     "text": [
      "[{\"label\": \"No Mask: 96.04%\", \"x\": \"192\", \"y\": \"215\", \"x2\": \"298\", \"y2\": \"321\", \"mask\": \"0.03958951\", \"withoutMask\": \"0.9604104\"}, {\"label\": \"No Mask: 98.29%\", \"x\": \"134\", \"y\": \"164\", \"x2\": \"371\", \"y2\": \"401\", \"mask\": \"0.01710215\", \"withoutMask\": \"0.9828979\"}]\n",
      "[]\n"
     ]
    },
    {
     "name": "stderr",
     "output_type": "stream",
     "text": [
      "127.0.0.1 - - [31/Oct/2020 13:03:02] \"\u001b[37mPOST /api/test HTTP/1.1\u001b[0m\" 200 -\n"
     ]
    },
    {
     "name": "stdout",
     "output_type": "stream",
     "text": [
      "[{\"label\": \"Mask: 91.35%\", \"x\": \"175\", \"y\": \"143\", \"x2\": \"357\", \"y2\": \"325\", \"mask\": \"0.9134537\", \"withoutMask\": \"0.08654633\"}]\n"
     ]
    },
    {
     "name": "stderr",
     "output_type": "stream",
     "text": [
      "127.0.0.1 - - [31/Oct/2020 13:03:02] \"\u001b[37mPOST /api/test HTTP/1.1\u001b[0m\" 200 -\n",
      "127.0.0.1 - - [31/Oct/2020 13:03:02] \"\u001b[37mPOST /api/test HTTP/1.1\u001b[0m\" 200 -\n"
     ]
    },
    {
     "name": "stdout",
     "output_type": "stream",
     "text": [
      "[{\"label\": \"No Mask: 89.10%\", \"x\": \"143\", \"y\": \"180\", \"x2\": \"344\", \"y2\": \"381\", \"mask\": \"0.10904112\", \"withoutMask\": \"0.8909589\"}]\n",
      "[]\n"
     ]
    },
    {
     "name": "stderr",
     "output_type": "stream",
     "text": [
      "127.0.0.1 - - [31/Oct/2020 13:03:02] \"\u001b[37mPOST /api/test HTTP/1.1\u001b[0m\" 200 -\n",
      "127.0.0.1 - - [31/Oct/2020 13:03:02] \"\u001b[37mPOST /api/test HTTP/1.1\u001b[0m\" 200 -\n"
     ]
    },
    {
     "name": "stdout",
     "output_type": "stream",
     "text": [
      "[{\"label\": \"Mask: 88.93%\", \"x\": \"178\", \"y\": \"141\", \"x2\": \"356\", \"y2\": \"319\", \"mask\": \"0.8892528\", \"withoutMask\": \"0.11074721\"}]\n",
      "[]\n"
     ]
    },
    {
     "name": "stderr",
     "output_type": "stream",
     "text": [
      "127.0.0.1 - - [31/Oct/2020 13:03:02] \"\u001b[37mPOST /api/test HTTP/1.1\u001b[0m\" 200 -\n",
      "127.0.0.1 - - [31/Oct/2020 13:03:03] \"\u001b[37mPOST /api/test HTTP/1.1\u001b[0m\" 200 -\n"
     ]
    },
    {
     "name": "stdout",
     "output_type": "stream",
     "text": [
      "[]\n",
      "[]\n"
     ]
    },
    {
     "name": "stderr",
     "output_type": "stream",
     "text": [
      "127.0.0.1 - - [31/Oct/2020 13:03:03] \"\u001b[37mPOST /api/test HTTP/1.1\u001b[0m\" 200 -\n",
      "127.0.0.1 - - [31/Oct/2020 13:03:03] \"\u001b[37mPOST /api/test HTTP/1.1\u001b[0m\" 200 -\n"
     ]
    },
    {
     "name": "stdout",
     "output_type": "stream",
     "text": [
      "[]\n",
      "[]\n"
     ]
    },
    {
     "name": "stderr",
     "output_type": "stream",
     "text": [
      "127.0.0.1 - - [31/Oct/2020 13:03:03] \"\u001b[37mPOST /api/test HTTP/1.1\u001b[0m\" 200 -\n",
      "127.0.0.1 - - [31/Oct/2020 13:03:03] \"\u001b[37mPOST /api/test HTTP/1.1\u001b[0m\" 200 -\n"
     ]
    },
    {
     "name": "stdout",
     "output_type": "stream",
     "text": [
      "[]\n",
      "[]\n"
     ]
    },
    {
     "name": "stderr",
     "output_type": "stream",
     "text": [
      "127.0.0.1 - - [31/Oct/2020 13:03:03] \"\u001b[37mPOST /api/test HTTP/1.1\u001b[0m\" 200 -\n",
      "127.0.0.1 - - [31/Oct/2020 13:03:03] \"\u001b[37mPOST /api/test HTTP/1.1\u001b[0m\" 200 -\n"
     ]
    },
    {
     "name": "stdout",
     "output_type": "stream",
     "text": [
      "[]\n",
      "[]\n"
     ]
    },
    {
     "name": "stderr",
     "output_type": "stream",
     "text": [
      "127.0.0.1 - - [31/Oct/2020 13:03:03] \"\u001b[37mPOST /api/test HTTP/1.1\u001b[0m\" 200 -\n"
     ]
    },
    {
     "name": "stdout",
     "output_type": "stream",
     "text": [
      "[]\n"
     ]
    },
    {
     "name": "stderr",
     "output_type": "stream",
     "text": [
      "127.0.0.1 - - [31/Oct/2020 13:03:04] \"\u001b[37mPOST /api/test HTTP/1.1\u001b[0m\" 200 -\n"
     ]
    },
    {
     "name": "stdout",
     "output_type": "stream",
     "text": [
      "[{\"label\": \"No Mask: 97.95%\", \"x\": \"124\", \"y\": \"145\", \"x2\": \"375\", \"y2\": \"396\", \"mask\": \"0.02046323\", \"withoutMask\": \"0.9795368\"}]\n"
     ]
    },
    {
     "name": "stderr",
     "output_type": "stream",
     "text": [
      "127.0.0.1 - - [31/Oct/2020 13:03:04] \"\u001b[37mPOST /api/test HTTP/1.1\u001b[0m\" 200 -\n"
     ]
    },
    {
     "name": "stdout",
     "output_type": "stream",
     "text": [
      "[{\"label\": \"Mask: 56.77%\", \"x\": \"131\", \"y\": \"138\", \"x2\": \"379\", \"y2\": \"386\", \"mask\": \"0.56772095\", \"withoutMask\": \"0.43227914\"}]\n"
     ]
    },
    {
     "name": "stderr",
     "output_type": "stream",
     "text": [
      "127.0.0.1 - - [31/Oct/2020 13:03:04] \"\u001b[37mPOST /api/test HTTP/1.1\u001b[0m\" 200 -\n"
     ]
    },
    {
     "name": "stdout",
     "output_type": "stream",
     "text": [
      "[{\"label\": \"Mask: 85.96%\", \"x\": \"138\", \"y\": \"139\", \"x2\": \"366\", \"y2\": \"367\", \"mask\": \"0.8596193\", \"withoutMask\": \"0.1403807\"}]\n"
     ]
    },
    {
     "name": "stderr",
     "output_type": "stream",
     "text": [
      "127.0.0.1 - - [31/Oct/2020 13:03:04] \"\u001b[37mPOST /api/test HTTP/1.1\u001b[0m\" 200 -\n",
      "127.0.0.1 - - [31/Oct/2020 13:03:04] \"\u001b[37mPOST /api/test HTTP/1.1\u001b[0m\" 200 -\n"
     ]
    },
    {
     "name": "stdout",
     "output_type": "stream",
     "text": [
      "[{\"label\": \"Mask: 56.77%\", \"x\": \"145\", \"y\": \"137\", \"x2\": \"366\", \"y2\": \"358\", \"mask\": \"0.56765854\", \"withoutMask\": \"0.4323414\"}]\n",
      "[]\n"
     ]
    },
    {
     "name": "stderr",
     "output_type": "stream",
     "text": [
      "127.0.0.1 - - [31/Oct/2020 13:03:05] \"\u001b[37mPOST /api/test HTTP/1.1\u001b[0m\" 200 -\n",
      "127.0.0.1 - - [31/Oct/2020 13:03:05] \"\u001b[37mPOST /api/test HTTP/1.1\u001b[0m\" 200 -\n"
     ]
    },
    {
     "name": "stdout",
     "output_type": "stream",
     "text": [
      "[]\n",
      "[]\n"
     ]
    },
    {
     "name": "stderr",
     "output_type": "stream",
     "text": [
      "127.0.0.1 - - [31/Oct/2020 13:03:05] \"\u001b[37mPOST /api/test HTTP/1.1\u001b[0m\" 200 -\n"
     ]
    },
    {
     "name": "stdout",
     "output_type": "stream",
     "text": [
      "[{\"label\": \"Mask: 92.64%\", \"x\": \"171\", \"y\": \"140\", \"x2\": \"376\", \"y2\": \"345\", \"mask\": \"0.9264174\", \"withoutMask\": \"0.073582545\"}]\n"
     ]
    },
    {
     "name": "stderr",
     "output_type": "stream",
     "text": [
      "127.0.0.1 - - [31/Oct/2020 13:03:05] \"\u001b[37mPOST /api/test HTTP/1.1\u001b[0m\" 200 -\n"
     ]
    },
    {
     "name": "stdout",
     "output_type": "stream",
     "text": [
      "[{\"label\": \"No Mask: 59.95%\", \"x\": \"148\", \"y\": \"133\", \"x2\": \"383\", \"y2\": \"368\", \"mask\": \"0.40051448\", \"withoutMask\": \"0.5994855\"}]\n"
     ]
    },
    {
     "name": "stderr",
     "output_type": "stream",
     "text": [
      "127.0.0.1 - - [31/Oct/2020 13:03:05] \"\u001b[37mPOST /api/test HTTP/1.1\u001b[0m\" 200 -\n"
     ]
    },
    {
     "name": "stdout",
     "output_type": "stream",
     "text": [
      "[{\"label\": \"Mask: 61.13%\", \"x\": \"132\", \"y\": \"127\", \"x2\": \"383\", \"y2\": \"378\", \"mask\": \"0.61132365\", \"withoutMask\": \"0.38867638\"}]\n"
     ]
    },
    {
     "name": "stderr",
     "output_type": "stream",
     "text": [
      "127.0.0.1 - - [31/Oct/2020 13:03:06] \"\u001b[37mPOST /api/test HTTP/1.1\u001b[0m\" 200 -\n"
     ]
    },
    {
     "name": "stdout",
     "output_type": "stream",
     "text": [
      "[{\"label\": \"No Mask: 89.41%\", \"x\": \"123\", \"y\": \"128\", \"x2\": \"365\", \"y2\": \"370\", \"mask\": \"0.1059078\", \"withoutMask\": \"0.8940922\"}]\n"
     ]
    },
    {
     "name": "stderr",
     "output_type": "stream",
     "text": [
      "127.0.0.1 - - [31/Oct/2020 13:03:06] \"\u001b[37mPOST /api/test HTTP/1.1\u001b[0m\" 200 -\n"
     ]
    },
    {
     "name": "stdout",
     "output_type": "stream",
     "text": [
      "[{\"label\": \"No Mask: 64.35%\", \"x\": \"123\", \"y\": \"128\", \"x2\": \"382\", \"y2\": \"387\", \"mask\": \"0.3564637\", \"withoutMask\": \"0.6435363\"}]\n"
     ]
    },
    {
     "name": "stderr",
     "output_type": "stream",
     "text": [
      "127.0.0.1 - - [31/Oct/2020 13:03:06] \"\u001b[37mPOST /api/test HTTP/1.1\u001b[0m\" 200 -\n"
     ]
    },
    {
     "name": "stdout",
     "output_type": "stream",
     "text": [
      "[{\"label\": \"No Mask: 80.79%\", \"x\": \"120\", \"y\": \"130\", \"x2\": \"378\", \"y2\": \"388\", \"mask\": \"0.19205199\", \"withoutMask\": \"0.807948\"}]\n"
     ]
    },
    {
     "name": "stderr",
     "output_type": "stream",
     "text": [
      "127.0.0.1 - - [31/Oct/2020 13:03:06] \"\u001b[37mPOST /api/test HTTP/1.1\u001b[0m\" 200 -\n"
     ]
    },
    {
     "name": "stdout",
     "output_type": "stream",
     "text": [
      "[{\"label\": \"No Mask: 85.02%\", \"x\": \"108\", \"y\": \"129\", \"x2\": \"378\", \"y2\": \"399\", \"mask\": \"0.14979866\", \"withoutMask\": \"0.8502013\"}]\n"
     ]
    },
    {
     "name": "stderr",
     "output_type": "stream",
     "text": [
      "127.0.0.1 - - [31/Oct/2020 13:03:06] \"\u001b[37mPOST /api/test HTTP/1.1\u001b[0m\" 200 -\n"
     ]
    },
    {
     "name": "stdout",
     "output_type": "stream",
     "text": [
      "[{\"label\": \"Mask: 61.62%\", \"x\": \"126\", \"y\": \"142\", \"x2\": \"363\", \"y2\": \"379\", \"mask\": \"0.6162247\", \"withoutMask\": \"0.38377526\"}]\n"
     ]
    },
    {
     "name": "stderr",
     "output_type": "stream",
     "text": [
      "127.0.0.1 - - [31/Oct/2020 13:03:07] \"\u001b[37mPOST /api/test HTTP/1.1\u001b[0m\" 200 -\n"
     ]
    },
    {
     "name": "stdout",
     "output_type": "stream",
     "text": [
      "[{\"label\": \"Mask: 61.23%\", \"x\": \"108\", \"y\": \"128\", \"x2\": \"370\", \"y2\": \"390\", \"mask\": \"0.6123363\", \"withoutMask\": \"0.38766366\"}]\n"
     ]
    },
    {
     "name": "stderr",
     "output_type": "stream",
     "text": [
      "127.0.0.1 - - [31/Oct/2020 13:03:07] \"\u001b[37mPOST /api/test HTTP/1.1\u001b[0m\" 200 -\n"
     ]
    },
    {
     "name": "stdout",
     "output_type": "stream",
     "text": [
      "[{\"label\": \"Mask: 51.25%\", \"x\": \"108\", \"y\": \"123\", \"x2\": \"380\", \"y2\": \"395\", \"mask\": \"0.5125318\", \"withoutMask\": \"0.48746824\"}]\n"
     ]
    },
    {
     "name": "stderr",
     "output_type": "stream",
     "text": [
      "127.0.0.1 - - [31/Oct/2020 13:03:07] \"\u001b[37mPOST /api/test HTTP/1.1\u001b[0m\" 200 -\n"
     ]
    },
    {
     "name": "stdout",
     "output_type": "stream",
     "text": [
      "[{\"label\": \"No Mask: 81.29%\", \"x\": \"113\", \"y\": \"125\", \"x2\": \"370\", \"y2\": \"382\", \"mask\": \"0.18712601\", \"withoutMask\": \"0.812874\"}]\n"
     ]
    },
    {
     "name": "stderr",
     "output_type": "stream",
     "text": [
      "127.0.0.1 - - [31/Oct/2020 13:03:07] \"\u001b[37mPOST /api/test HTTP/1.1\u001b[0m\" 200 -\n"
     ]
    },
    {
     "name": "stdout",
     "output_type": "stream",
     "text": [
      "[{\"label\": \"No Mask: 72.38%\", \"x\": \"108\", \"y\": \"120\", \"x2\": \"373\", \"y2\": \"385\", \"mask\": \"0.2762473\", \"withoutMask\": \"0.72375274\"}]\n"
     ]
    },
    {
     "name": "stderr",
     "output_type": "stream",
     "text": [
      "127.0.0.1 - - [31/Oct/2020 13:03:08] \"\u001b[37mPOST /api/test HTTP/1.1\u001b[0m\" 200 -\n"
     ]
    },
    {
     "name": "stdout",
     "output_type": "stream",
     "text": [
      "[{\"label\": \"No Mask: 75.86%\", \"x\": \"251\", \"y\": \"61\", \"x2\": \"279\", \"y2\": \"89\", \"mask\": \"0.24137299\", \"withoutMask\": \"0.75862706\"}, {\"label\": \"Mask: 87.51%\", \"x\": \"118\", \"y\": \"126\", \"x2\": \"372\", \"y2\": \"380\", \"mask\": \"0.8751437\", \"withoutMask\": \"0.12485628\"}]\n"
     ]
    },
    {
     "name": "stderr",
     "output_type": "stream",
     "text": [
      "127.0.0.1 - - [31/Oct/2020 13:03:08] \"\u001b[37mPOST /api/test HTTP/1.1\u001b[0m\" 200 -\n"
     ]
    },
    {
     "name": "stdout",
     "output_type": "stream",
     "text": [
      "[{\"label\": \"Mask: 81.10%\", \"x\": \"112\", \"y\": \"126\", \"x2\": \"369\", \"y2\": \"383\", \"mask\": \"0.81104684\", \"withoutMask\": \"0.18895313\"}]\n"
     ]
    },
    {
     "name": "stderr",
     "output_type": "stream",
     "text": [
      "127.0.0.1 - - [31/Oct/2020 13:03:08] \"\u001b[37mPOST /api/test HTTP/1.1\u001b[0m\" 200 -\n"
     ]
    },
    {
     "name": "stdout",
     "output_type": "stream",
     "text": [
      "[{\"label\": \"Mask: 89.14%\", \"x\": \"111\", \"y\": \"124\", \"x2\": \"370\", \"y2\": \"383\", \"mask\": \"0.89144754\", \"withoutMask\": \"0.10855241\"}]\n"
     ]
    },
    {
     "name": "stderr",
     "output_type": "stream",
     "text": [
      "127.0.0.1 - - [31/Oct/2020 13:03:08] \"\u001b[37mPOST /api/test HTTP/1.1\u001b[0m\" 200 -\n"
     ]
    },
    {
     "name": "stdout",
     "output_type": "stream",
     "text": [
      "[{\"label\": \"Mask: 70.37%\", \"x\": \"112\", \"y\": \"124\", \"x2\": \"370\", \"y2\": \"382\", \"mask\": \"0.70374644\", \"withoutMask\": \"0.29625356\"}]\n"
     ]
    },
    {
     "name": "stderr",
     "output_type": "stream",
     "text": [
      "127.0.0.1 - - [31/Oct/2020 13:03:09] \"\u001b[37mPOST /api/test HTTP/1.1\u001b[0m\" 200 -\n"
     ]
    },
    {
     "name": "stdout",
     "output_type": "stream",
     "text": [
      "[{\"label\": \"Mask: 91.45%\", \"x\": \"113\", \"y\": \"126\", \"x2\": \"370\", \"y2\": \"383\", \"mask\": \"0.91448635\", \"withoutMask\": \"0.085513644\"}]\n"
     ]
    },
    {
     "name": "stderr",
     "output_type": "stream",
     "text": [
      "127.0.0.1 - - [31/Oct/2020 13:03:09] \"\u001b[37mPOST /api/test HTTP/1.1\u001b[0m\" 200 -\n"
     ]
    },
    {
     "name": "stdout",
     "output_type": "stream",
     "text": [
      "[{\"label\": \"Mask: 71.89%\", \"x\": \"106\", \"y\": \"121\", \"x2\": \"372\", \"y2\": \"387\", \"mask\": \"0.7189344\", \"withoutMask\": \"0.28106555\"}]\n"
     ]
    },
    {
     "name": "stderr",
     "output_type": "stream",
     "text": [
      "127.0.0.1 - - [31/Oct/2020 13:03:09] \"\u001b[37mPOST /api/test HTTP/1.1\u001b[0m\" 200 -\n"
     ]
    },
    {
     "name": "stdout",
     "output_type": "stream",
     "text": [
      "[{\"label\": \"Mask: 66.07%\", \"x\": \"109\", \"y\": \"123\", \"x2\": \"372\", \"y2\": \"386\", \"mask\": \"0.6606948\", \"withoutMask\": \"0.33930516\"}]\n"
     ]
    },
    {
     "name": "stderr",
     "output_type": "stream",
     "text": [
      "127.0.0.1 - - [31/Oct/2020 13:03:09] \"\u001b[37mPOST /api/test HTTP/1.1\u001b[0m\" 200 -\n"
     ]
    },
    {
     "name": "stdout",
     "output_type": "stream",
     "text": [
      "[{\"label\": \"Mask: 97.72%\", \"x\": \"109\", \"y\": \"125\", \"x2\": \"370\", \"y2\": \"386\", \"mask\": \"0.9771937\", \"withoutMask\": \"0.022806333\"}]\n"
     ]
    },
    {
     "name": "stderr",
     "output_type": "stream",
     "text": [
      "127.0.0.1 - - [31/Oct/2020 13:03:10] \"\u001b[37mPOST /api/test HTTP/1.1\u001b[0m\" 200 -\n"
     ]
    },
    {
     "name": "stdout",
     "output_type": "stream",
     "text": [
      "[{\"label\": \"No Mask: 98.08%\", \"x\": \"249\", \"y\": \"58\", \"x2\": \"278\", \"y2\": \"87\", \"mask\": \"0.019165263\", \"withoutMask\": \"0.9808348\"}, {\"label\": \"Mask: 52.42%\", \"x\": \"111\", \"y\": \"126\", \"x2\": \"370\", \"y2\": \"385\", \"mask\": \"0.52417153\", \"withoutMask\": \"0.47582853\"}]\n"
     ]
    },
    {
     "name": "stderr",
     "output_type": "stream",
     "text": [
      "127.0.0.1 - - [31/Oct/2020 13:03:10] \"\u001b[37mPOST /api/test HTTP/1.1\u001b[0m\" 200 -\n"
     ]
    },
    {
     "name": "stdout",
     "output_type": "stream",
     "text": [
      "[{\"label\": \"Mask: 59.97%\", \"x\": \"116\", \"y\": \"128\", \"x2\": \"367\", \"y2\": \"379\", \"mask\": \"0.5996593\", \"withoutMask\": \"0.40034068\"}]\n"
     ]
    },
    {
     "name": "stderr",
     "output_type": "stream",
     "text": [
      "127.0.0.1 - - [31/Oct/2020 13:03:10] \"\u001b[37mPOST /api/test HTTP/1.1\u001b[0m\" 200 -\n"
     ]
    },
    {
     "name": "stdout",
     "output_type": "stream",
     "text": [
      "[{\"label\": \"Mask: 73.31%\", \"x\": \"116\", \"y\": \"126\", \"x2\": \"369\", \"y2\": \"379\", \"mask\": \"0.7330797\", \"withoutMask\": \"0.26692033\"}]\n"
     ]
    },
    {
     "name": "stderr",
     "output_type": "stream",
     "text": [
      "127.0.0.1 - - [31/Oct/2020 13:03:10] \"\u001b[37mPOST /api/test HTTP/1.1\u001b[0m\" 200 -\n"
     ]
    },
    {
     "name": "stdout",
     "output_type": "stream",
     "text": [
      "[{\"label\": \"Mask: 92.26%\", \"x\": \"107\", \"y\": \"123\", \"x2\": \"370\", \"y2\": \"386\", \"mask\": \"0.9226381\", \"withoutMask\": \"0.07736194\"}]\n"
     ]
    },
    {
     "name": "stderr",
     "output_type": "stream",
     "text": [
      "127.0.0.1 - - [31/Oct/2020 13:03:11] \"\u001b[37mPOST /api/test HTTP/1.1\u001b[0m\" 200 -\n"
     ]
    },
    {
     "name": "stdout",
     "output_type": "stream",
     "text": [
      "[{\"label\": \"Mask: 77.22%\", \"x\": \"110\", \"y\": \"123\", \"x2\": \"371\", \"y2\": \"384\", \"mask\": \"0.77221435\", \"withoutMask\": \"0.2277856\"}]\n"
     ]
    },
    {
     "name": "stderr",
     "output_type": "stream",
     "text": [
      "127.0.0.1 - - [31/Oct/2020 13:03:11] \"\u001b[37mPOST /api/test HTTP/1.1\u001b[0m\" 200 -\n"
     ]
    },
    {
     "name": "stdout",
     "output_type": "stream",
     "text": [
      "[{\"label\": \"Mask: 68.96%\", \"x\": \"108\", \"y\": \"124\", \"x2\": \"368\", \"y2\": \"384\", \"mask\": \"0.68964225\", \"withoutMask\": \"0.3103577\"}]\n"
     ]
    },
    {
     "name": "stderr",
     "output_type": "stream",
     "text": [
      "127.0.0.1 - - [31/Oct/2020 13:03:11] \"\u001b[37mPOST /api/test HTTP/1.1\u001b[0m\" 200 -\n"
     ]
    },
    {
     "name": "stdout",
     "output_type": "stream",
     "text": [
      "[{\"label\": \"Mask: 65.98%\", \"x\": \"106\", \"y\": \"124\", \"x2\": \"365\", \"y2\": \"383\", \"mask\": \"0.6597767\", \"withoutMask\": \"0.3402233\"}]\n"
     ]
    },
    {
     "name": "stderr",
     "output_type": "stream",
     "text": [
      "127.0.0.1 - - [31/Oct/2020 13:03:11] \"\u001b[37mPOST /api/test HTTP/1.1\u001b[0m\" 200 -\n"
     ]
    },
    {
     "name": "stdout",
     "output_type": "stream",
     "text": [
      "[{\"label\": \"No Mask: 52.50%\", \"x\": \"108\", \"y\": \"120\", \"x2\": \"372\", \"y2\": \"384\", \"mask\": \"0.4749515\", \"withoutMask\": \"0.5250485\"}]\n"
     ]
    },
    {
     "name": "stderr",
     "output_type": "stream",
     "text": [
      "127.0.0.1 - - [31/Oct/2020 13:03:11] \"\u001b[37mPOST /api/test HTTP/1.1\u001b[0m\" 200 -\n"
     ]
    },
    {
     "name": "stdout",
     "output_type": "stream",
     "text": [
      "[{\"label\": \"Mask: 88.37%\", \"x\": \"116\", \"y\": \"125\", \"x2\": \"366\", \"y2\": \"375\", \"mask\": \"0.88374394\", \"withoutMask\": \"0.11625608\"}]\n"
     ]
    },
    {
     "name": "stderr",
     "output_type": "stream",
     "text": [
      "127.0.0.1 - - [31/Oct/2020 13:03:12] \"\u001b[37mPOST /api/test HTTP/1.1\u001b[0m\" 200 -\n"
     ]
    },
    {
     "name": "stdout",
     "output_type": "stream",
     "text": [
      "[{\"label\": \"Mask: 77.65%\", \"x\": \"116\", \"y\": \"126\", \"x2\": \"365\", \"y2\": \"375\", \"mask\": \"0.7765006\", \"withoutMask\": \"0.22349945\"}]\n"
     ]
    },
    {
     "name": "stderr",
     "output_type": "stream",
     "text": [
      "127.0.0.1 - - [31/Oct/2020 13:03:12] \"\u001b[37mPOST /api/test HTTP/1.1\u001b[0m\" 200 -\n"
     ]
    },
    {
     "name": "stdout",
     "output_type": "stream",
     "text": [
      "[{\"label\": \"Mask: 79.01%\", \"x\": \"112\", \"y\": \"123\", \"x2\": \"373\", \"y2\": \"384\", \"mask\": \"0.79010135\", \"withoutMask\": \"0.20989865\"}]\n"
     ]
    },
    {
     "name": "stderr",
     "output_type": "stream",
     "text": [
      "127.0.0.1 - - [31/Oct/2020 13:03:12] \"\u001b[37mPOST /api/test HTTP/1.1\u001b[0m\" 200 -\n"
     ]
    },
    {
     "name": "stdout",
     "output_type": "stream",
     "text": [
      "[{\"label\": \"Mask: 84.13%\", \"x\": \"125\", \"y\": \"132\", \"x2\": \"365\", \"y2\": \"372\", \"mask\": \"0.84130377\", \"withoutMask\": \"0.15869626\"}]\n"
     ]
    },
    {
     "name": "stderr",
     "output_type": "stream",
     "text": [
      "127.0.0.1 - - [31/Oct/2020 13:03:12] \"\u001b[37mPOST /api/test HTTP/1.1\u001b[0m\" 200 -\n"
     ]
    },
    {
     "name": "stdout",
     "output_type": "stream",
     "text": [
      "[{\"label\": \"Mask: 70.44%\", \"x\": \"121\", \"y\": \"134\", \"x2\": \"359\", \"y2\": \"372\", \"mask\": \"0.7044412\", \"withoutMask\": \"0.29555884\"}]\n"
     ]
    },
    {
     "name": "stderr",
     "output_type": "stream",
     "text": [
      "127.0.0.1 - - [31/Oct/2020 13:03:13] \"\u001b[37mPOST /api/test HTTP/1.1\u001b[0m\" 200 -\n"
     ]
    },
    {
     "name": "stdout",
     "output_type": "stream",
     "text": [
      "[{\"label\": \"Mask: 84.48%\", \"x\": \"114\", \"y\": \"126\", \"x2\": \"368\", \"y2\": \"380\", \"mask\": \"0.84482306\", \"withoutMask\": \"0.15517697\"}]\n"
     ]
    },
    {
     "name": "stderr",
     "output_type": "stream",
     "text": [
      "127.0.0.1 - - [31/Oct/2020 13:03:13] \"\u001b[37mPOST /api/test HTTP/1.1\u001b[0m\" 200 -\n",
      "127.0.0.1 - - [31/Oct/2020 13:03:13] \"\u001b[37mPOST /api/test HTTP/1.1\u001b[0m\" 200 -\n"
     ]
    },
    {
     "name": "stdout",
     "output_type": "stream",
     "text": [
      "[{\"label\": \"Mask: 59.25%\", \"x\": \"106\", \"y\": \"118\", \"x2\": \"377\", \"y2\": \"389\", \"mask\": \"0.59247136\", \"withoutMask\": \"0.40752858\"}]\n",
      "[]\n"
     ]
    },
    {
     "name": "stderr",
     "output_type": "stream",
     "text": [
      "127.0.0.1 - - [31/Oct/2020 13:03:13] \"\u001b[37mPOST /api/test HTTP/1.1\u001b[0m\" 200 -\n"
     ]
    },
    {
     "name": "stdout",
     "output_type": "stream",
     "text": [
      "[{\"label\": \"Mask: 75.42%\", \"x\": \"114\", \"y\": \"128\", \"x2\": \"357\", \"y2\": \"371\", \"mask\": \"0.7541652\", \"withoutMask\": \"0.24583477\"}]\n"
     ]
    },
    {
     "name": "stderr",
     "output_type": "stream",
     "text": [
      "127.0.0.1 - - [31/Oct/2020 13:03:13] \"\u001b[37mPOST /api/test HTTP/1.1\u001b[0m\" 200 -\n"
     ]
    },
    {
     "name": "stdout",
     "output_type": "stream",
     "text": [
      "[{\"label\": \"Mask: 89.77%\", \"x\": \"102\", \"y\": \"118\", \"x2\": \"370\", \"y2\": \"386\", \"mask\": \"0.89766955\", \"withoutMask\": \"0.10233044\"}]\n"
     ]
    },
    {
     "name": "stderr",
     "output_type": "stream",
     "text": [
      "127.0.0.1 - - [31/Oct/2020 13:03:14] \"\u001b[37mPOST /api/test HTTP/1.1\u001b[0m\" 200 -\n"
     ]
    },
    {
     "name": "stdout",
     "output_type": "stream",
     "text": [
      "[{\"label\": \"Mask: 73.52%\", \"x\": \"103\", \"y\": \"114\", \"x2\": \"363\", \"y2\": \"374\", \"mask\": \"0.7351555\", \"withoutMask\": \"0.26484448\"}]\n"
     ]
    },
    {
     "name": "stderr",
     "output_type": "stream",
     "text": [
      "127.0.0.1 - - [31/Oct/2020 13:03:14] \"\u001b[37mPOST /api/test HTTP/1.1\u001b[0m\" 200 -\n"
     ]
    },
    {
     "name": "stdout",
     "output_type": "stream",
     "text": [
      "[{\"label\": \"Mask: 72.89%\", \"x\": \"95\", \"y\": \"109\", \"x2\": \"382\", \"y2\": \"396\", \"mask\": \"0.72889036\", \"withoutMask\": \"0.27110967\"}]\n"
     ]
    },
    {
     "name": "stderr",
     "output_type": "stream",
     "text": [
      "127.0.0.1 - - [31/Oct/2020 13:03:14] \"\u001b[37mPOST /api/test HTTP/1.1\u001b[0m\" 200 -\n"
     ]
    },
    {
     "name": "stdout",
     "output_type": "stream",
     "text": [
      "[{\"label\": \"Mask: 64.80%\", \"x\": \"106\", \"y\": \"113\", \"x2\": \"376\", \"y2\": \"383\", \"mask\": \"0.6479723\", \"withoutMask\": \"0.35202765\"}]\n"
     ]
    },
    {
     "name": "stderr",
     "output_type": "stream",
     "text": [
      "127.0.0.1 - - [31/Oct/2020 13:03:14] \"\u001b[37mPOST /api/test HTTP/1.1\u001b[0m\" 200 -\n"
     ]
    },
    {
     "name": "stdout",
     "output_type": "stream",
     "text": [
      "[{\"label\": \"Mask: 80.70%\", \"x\": \"98\", \"y\": \"107\", \"x2\": \"384\", \"y2\": \"393\", \"mask\": \"0.80698264\", \"withoutMask\": \"0.19301733\"}]\n"
     ]
    },
    {
     "name": "stderr",
     "output_type": "stream",
     "text": [
      "127.0.0.1 - - [31/Oct/2020 13:03:15] \"\u001b[37mPOST /api/test HTTP/1.1\u001b[0m\" 200 -\n"
     ]
    },
    {
     "name": "stdout",
     "output_type": "stream",
     "text": [
      "[{\"label\": \"Mask: 87.36%\", \"x\": \"100\", \"y\": \"116\", \"x2\": \"366\", \"y2\": \"382\", \"mask\": \"0.873554\", \"withoutMask\": \"0.12644595\"}]\n"
     ]
    },
    {
     "name": "stderr",
     "output_type": "stream",
     "text": [
      "127.0.0.1 - - [31/Oct/2020 13:03:15] \"\u001b[37mPOST /api/test HTTP/1.1\u001b[0m\" 200 -\n"
     ]
    },
    {
     "name": "stdout",
     "output_type": "stream",
     "text": [
      "[{\"label\": \"Mask: 76.25%\", \"x\": \"100\", \"y\": \"114\", \"x2\": \"376\", \"y2\": \"390\", \"mask\": \"0.76249766\", \"withoutMask\": \"0.23750235\"}]\n"
     ]
    },
    {
     "name": "stderr",
     "output_type": "stream",
     "text": [
      "127.0.0.1 - - [31/Oct/2020 13:03:15] \"\u001b[37mPOST /api/test HTTP/1.1\u001b[0m\" 200 -\n",
      "127.0.0.1 - - [31/Oct/2020 13:03:15] \"\u001b[37mPOST /api/test HTTP/1.1\u001b[0m\" 200 -\n"
     ]
    },
    {
     "name": "stdout",
     "output_type": "stream",
     "text": [
      "[{\"label\": \"Mask: 83.42%\", \"x\": \"102\", \"y\": \"113\", \"x2\": \"375\", \"y2\": \"386\", \"mask\": \"0.8342056\", \"withoutMask\": \"0.16579436\"}]\n",
      "[]\n"
     ]
    },
    {
     "name": "stderr",
     "output_type": "stream",
     "text": [
      "127.0.0.1 - - [31/Oct/2020 13:03:15] \"\u001b[37mPOST /api/test HTTP/1.1\u001b[0m\" 200 -\n",
      "127.0.0.1 - - [31/Oct/2020 13:03:16] \"\u001b[37mPOST /api/test HTTP/1.1\u001b[0m\" 200 -\n"
     ]
    },
    {
     "name": "stdout",
     "output_type": "stream",
     "text": [
      "[{\"label\": \"Mask: 80.05%\", \"x\": \"99\", \"y\": \"114\", \"x2\": \"373\", \"y2\": \"388\", \"mask\": \"0.8005019\", \"withoutMask\": \"0.19949816\"}]\n",
      "[]\n"
     ]
    },
    {
     "name": "stderr",
     "output_type": "stream",
     "text": [
      "127.0.0.1 - - [31/Oct/2020 13:03:16] \"\u001b[37mPOST /api/test HTTP/1.1\u001b[0m\" 200 -\n"
     ]
    },
    {
     "name": "stdout",
     "output_type": "stream",
     "text": [
      "[{\"label\": \"Mask: 67.50%\", \"x\": \"99\", \"y\": \"110\", \"x2\": \"372\", \"y2\": \"383\", \"mask\": \"0.6750442\", \"withoutMask\": \"0.32495582\"}]\n"
     ]
    },
    {
     "name": "stderr",
     "output_type": "stream",
     "text": [
      "127.0.0.1 - - [31/Oct/2020 13:03:16] \"\u001b[37mPOST /api/test HTTP/1.1\u001b[0m\" 200 -\n"
     ]
    },
    {
     "name": "stdout",
     "output_type": "stream",
     "text": [
      "[{\"label\": \"No Mask: 83.63%\", \"x\": \"98\", \"y\": \"113\", \"x2\": \"381\", \"y2\": \"396\", \"mask\": \"0.16365246\", \"withoutMask\": \"0.8363476\"}]\n"
     ]
    },
    {
     "name": "stderr",
     "output_type": "stream",
     "text": [
      "127.0.0.1 - - [31/Oct/2020 13:03:16] \"\u001b[37mPOST /api/test HTTP/1.1\u001b[0m\" 200 -\n"
     ]
    },
    {
     "name": "stdout",
     "output_type": "stream",
     "text": [
      "[{\"label\": \"Mask: 78.84%\", \"x\": \"102\", \"y\": \"115\", \"x2\": \"373\", \"y2\": \"386\", \"mask\": \"0.7883552\", \"withoutMask\": \"0.21164484\"}]\n"
     ]
    },
    {
     "name": "stderr",
     "output_type": "stream",
     "text": [
      "127.0.0.1 - - [31/Oct/2020 13:03:16] \"\u001b[37mPOST /api/test HTTP/1.1\u001b[0m\" 200 -\n"
     ]
    },
    {
     "name": "stdout",
     "output_type": "stream",
     "text": [
      "[{\"label\": \"Mask: 50.55%\", \"x\": \"98\", \"y\": \"118\", \"x2\": \"372\", \"y2\": \"392\", \"mask\": \"0.5055146\", \"withoutMask\": \"0.49448535\"}]\n"
     ]
    },
    {
     "name": "stderr",
     "output_type": "stream",
     "text": [
      "127.0.0.1 - - [31/Oct/2020 13:03:17] \"\u001b[37mPOST /api/test HTTP/1.1\u001b[0m\" 200 -\n"
     ]
    },
    {
     "name": "stdout",
     "output_type": "stream",
     "text": [
      "[{\"label\": \"Mask: 91.37%\", \"x\": \"97\", \"y\": \"115\", \"x2\": \"372\", \"y2\": \"390\", \"mask\": \"0.91374433\", \"withoutMask\": \"0.08625569\"}]\n"
     ]
    },
    {
     "name": "stderr",
     "output_type": "stream",
     "text": [
      "127.0.0.1 - - [31/Oct/2020 13:03:17] \"\u001b[37mPOST /api/test HTTP/1.1\u001b[0m\" 200 -\n",
      "127.0.0.1 - - [31/Oct/2020 13:03:17] \"\u001b[37mPOST /api/test HTTP/1.1\u001b[0m\" 200 -\n"
     ]
    },
    {
     "name": "stdout",
     "output_type": "stream",
     "text": [
      "[{\"label\": \"Mask: 51.97%\", \"x\": \"103\", \"y\": \"118\", \"x2\": \"371\", \"y2\": \"386\", \"mask\": \"0.5197098\", \"withoutMask\": \"0.48029017\"}]\n",
      "[]\n"
     ]
    },
    {
     "name": "stderr",
     "output_type": "stream",
     "text": [
      "127.0.0.1 - - [31/Oct/2020 13:03:17] \"\u001b[37mPOST /api/test HTTP/1.1\u001b[0m\" 200 -\n",
      "127.0.0.1 - - [31/Oct/2020 13:03:17] \"\u001b[37mPOST /api/test HTTP/1.1\u001b[0m\" 200 -\n"
     ]
    },
    {
     "name": "stdout",
     "output_type": "stream",
     "text": [
      "[{\"label\": \"No Mask: 83.27%\", \"x\": \"141\", \"y\": \"109\", \"x2\": \"354\", \"y2\": \"322\", \"mask\": \"0.16726643\", \"withoutMask\": \"0.8327336\"}]\n",
      "[]\n"
     ]
    },
    {
     "name": "stderr",
     "output_type": "stream",
     "text": [
      "127.0.0.1 - - [31/Oct/2020 13:03:18] \"\u001b[37mPOST /api/test HTTP/1.1\u001b[0m\" 200 -\n"
     ]
    },
    {
     "name": "stdout",
     "output_type": "stream",
     "text": [
      "[{\"label\": \"Mask: 93.46%\", \"x\": \"158\", \"y\": \"109\", \"x2\": \"354\", \"y2\": \"305\", \"mask\": \"0.934597\", \"withoutMask\": \"0.065403014\"}]\n"
     ]
    },
    {
     "name": "stderr",
     "output_type": "stream",
     "text": [
      "127.0.0.1 - - [31/Oct/2020 13:03:18] \"\u001b[37mPOST /api/test HTTP/1.1\u001b[0m\" 200 -\n"
     ]
    },
    {
     "name": "stdout",
     "output_type": "stream",
     "text": [
      "[{\"label\": \"No Mask: 98.27%\", \"x\": \"136\", \"y\": \"119\", \"x2\": \"352\", \"y2\": \"335\", \"mask\": \"0.017312357\", \"withoutMask\": \"0.98268765\"}]\n"
     ]
    },
    {
     "name": "stderr",
     "output_type": "stream",
     "text": [
      "127.0.0.1 - - [31/Oct/2020 13:03:18] \"\u001b[37mPOST /api/test HTTP/1.1\u001b[0m\" 200 -\n"
     ]
    },
    {
     "name": "stdout",
     "output_type": "stream",
     "text": [
      "[{\"label\": \"No Mask: 99.84%\", \"x\": \"115\", \"y\": \"115\", \"x2\": \"360\", \"y2\": \"360\", \"mask\": \"0.0015704368\", \"withoutMask\": \"0.9984295\"}]\n"
     ]
    },
    {
     "name": "stderr",
     "output_type": "stream",
     "text": [
      "127.0.0.1 - - [31/Oct/2020 13:03:18] \"\u001b[37mPOST /api/test HTTP/1.1\u001b[0m\" 200 -\n"
     ]
    },
    {
     "name": "stdout",
     "output_type": "stream",
     "text": [
      "[{\"label\": \"No Mask: 99.97%\", \"x\": \"143\", \"y\": \"129\", \"x2\": \"358\", \"y2\": \"344\", \"mask\": \"0.00033163602\", \"withoutMask\": \"0.99966836\"}]\n"
     ]
    },
    {
     "name": "stderr",
     "output_type": "stream",
     "text": [
      "127.0.0.1 - - [31/Oct/2020 13:03:19] \"\u001b[37mPOST /api/test HTTP/1.1\u001b[0m\" 200 -\n"
     ]
    },
    {
     "name": "stdout",
     "output_type": "stream",
     "text": [
      "[{\"label\": \"No Mask: 99.78%\", \"x\": \"150\", \"y\": \"136\", \"x2\": \"353\", \"y2\": \"339\", \"mask\": \"0.0022271464\", \"withoutMask\": \"0.9977729\"}]\n"
     ]
    },
    {
     "name": "stderr",
     "output_type": "stream",
     "text": [
      "127.0.0.1 - - [31/Oct/2020 13:03:19] \"\u001b[37mPOST /api/test HTTP/1.1\u001b[0m\" 200 -\n"
     ]
    },
    {
     "name": "stdout",
     "output_type": "stream",
     "text": [
      "[{\"label\": \"No Mask: 99.85%\", \"x\": \"148\", \"y\": \"140\", \"x2\": \"349\", \"y2\": \"341\", \"mask\": \"0.0014807802\", \"withoutMask\": \"0.99851924\"}]\n"
     ]
    },
    {
     "name": "stderr",
     "output_type": "stream",
     "text": [
      "127.0.0.1 - - [31/Oct/2020 13:03:19] \"\u001b[37mPOST /api/test HTTP/1.1\u001b[0m\" 200 -\n"
     ]
    },
    {
     "name": "stdout",
     "output_type": "stream",
     "text": [
      "[{\"label\": \"No Mask: 99.93%\", \"x\": \"152\", \"y\": \"141\", \"x2\": \"355\", \"y2\": \"344\", \"mask\": \"0.00074625865\", \"withoutMask\": \"0.9992537\"}]\n"
     ]
    },
    {
     "name": "stderr",
     "output_type": "stream",
     "text": [
      "127.0.0.1 - - [31/Oct/2020 13:03:19] \"\u001b[37mPOST /api/test HTTP/1.1\u001b[0m\" 200 -\n"
     ]
    },
    {
     "name": "stdout",
     "output_type": "stream",
     "text": [
      "[{\"label\": \"No Mask: 99.93%\", \"x\": \"150\", \"y\": \"138\", \"x2\": \"360\", \"y2\": \"348\", \"mask\": \"0.00074469787\", \"withoutMask\": \"0.99925524\"}]\n"
     ]
    },
    {
     "name": "stderr",
     "output_type": "stream",
     "text": [
      "127.0.0.1 - - [31/Oct/2020 13:03:20] \"\u001b[37mPOST /api/test HTTP/1.1\u001b[0m\" 200 -\n"
     ]
    },
    {
     "name": "stdout",
     "output_type": "stream",
     "text": [
      "[{\"label\": \"No Mask: 99.99%\", \"x\": \"141\", \"y\": \"137\", \"x2\": \"354\", \"y2\": \"350\", \"mask\": \"0.00013517438\", \"withoutMask\": \"0.9998648\"}]\n"
     ]
    },
    {
     "name": "stderr",
     "output_type": "stream",
     "text": [
      "127.0.0.1 - - [31/Oct/2020 13:03:20] \"\u001b[37mPOST /api/test HTTP/1.1\u001b[0m\" 200 -\n"
     ]
    },
    {
     "name": "stdout",
     "output_type": "stream",
     "text": [
      "[{\"label\": \"No Mask: 99.97%\", \"x\": \"141\", \"y\": \"139\", \"x2\": \"357\", \"y2\": \"355\", \"mask\": \"0.00034608\", \"withoutMask\": \"0.99965394\"}]\n"
     ]
    },
    {
     "name": "stderr",
     "output_type": "stream",
     "text": [
      "127.0.0.1 - - [31/Oct/2020 13:03:20] \"\u001b[37mPOST /api/test HTTP/1.1\u001b[0m\" 200 -\n"
     ]
    },
    {
     "name": "stdout",
     "output_type": "stream",
     "text": [
      "[{\"label\": \"No Mask: 99.97%\", \"x\": \"144\", \"y\": \"140\", \"x2\": \"360\", \"y2\": \"356\", \"mask\": \"0.00030518306\", \"withoutMask\": \"0.9996948\"}]\n"
     ]
    },
    {
     "name": "stderr",
     "output_type": "stream",
     "text": [
      "127.0.0.1 - - [31/Oct/2020 13:03:21] \"\u001b[37mPOST /api/test HTTP/1.1\u001b[0m\" 200 -\n"
     ]
    },
    {
     "name": "stdout",
     "output_type": "stream",
     "text": [
      "[{\"label\": \"No Mask: 99.96%\", \"x\": \"151\", \"y\": \"140\", \"x2\": \"366\", \"y2\": \"355\", \"mask\": \"0.00038903047\", \"withoutMask\": \"0.99961096\"}]\n"
     ]
    },
    {
     "name": "stderr",
     "output_type": "stream",
     "text": [
      "127.0.0.1 - - [31/Oct/2020 13:03:21] \"\u001b[37mPOST /api/test HTTP/1.1\u001b[0m\" 200 -\n"
     ]
    },
    {
     "name": "stdout",
     "output_type": "stream",
     "text": [
      "[{\"label\": \"No Mask: 99.99%\", \"x\": \"152\", \"y\": \"141\", \"x2\": \"351\", \"y2\": \"340\", \"mask\": \"0.000106985346\", \"withoutMask\": \"0.99989295\"}]\n"
     ]
    },
    {
     "name": "stderr",
     "output_type": "stream",
     "text": [
      "127.0.0.1 - - [31/Oct/2020 13:03:21] \"\u001b[37mPOST /api/test HTTP/1.1\u001b[0m\" 200 -\n"
     ]
    },
    {
     "name": "stdout",
     "output_type": "stream",
     "text": [
      "[{\"label\": \"No Mask: 68.29%\", \"x\": \"160\", \"y\": \"145\", \"x2\": \"360\", \"y2\": \"345\", \"mask\": \"0.31712505\", \"withoutMask\": \"0.682875\"}]\n"
     ]
    },
    {
     "name": "stderr",
     "output_type": "stream",
     "text": [
      "127.0.0.1 - - [31/Oct/2020 13:03:21] \"\u001b[37mPOST /api/test HTTP/1.1\u001b[0m\" 200 -\n"
     ]
    },
    {
     "name": "stdout",
     "output_type": "stream",
     "text": [
      "[{\"label\": \"Mask: 91.44%\", \"x\": \"138\", \"y\": \"131\", \"x2\": \"374\", \"y2\": \"367\", \"mask\": \"0.9144391\", \"withoutMask\": \"0.08556094\"}]\n"
     ]
    },
    {
     "name": "stderr",
     "output_type": "stream",
     "text": [
      "127.0.0.1 - - [31/Oct/2020 13:03:22] \"\u001b[37mPOST /api/test HTTP/1.1\u001b[0m\" 200 -\n",
      "127.0.0.1 - - [31/Oct/2020 13:03:22] \"\u001b[37mPOST /api/test HTTP/1.1\u001b[0m\" 200 -\n"
     ]
    },
    {
     "name": "stdout",
     "output_type": "stream",
     "text": [
      "[{\"label\": \"No Mask: 99.98%\", \"x\": \"196\", \"y\": \"206\", \"x2\": \"304\", \"y2\": \"314\", \"mask\": \"0.00018801619\", \"withoutMask\": \"0.99981207\"}]\n",
      "[]\n"
     ]
    },
    {
     "name": "stderr",
     "output_type": "stream",
     "text": [
      "127.0.0.1 - - [31/Oct/2020 13:03:22] \"\u001b[37mPOST /api/test HTTP/1.1\u001b[0m\" 200 -\n",
      "127.0.0.1 - - [31/Oct/2020 13:03:22] \"\u001b[37mPOST /api/test HTTP/1.1\u001b[0m\" 200 -\n"
     ]
    },
    {
     "name": "stdout",
     "output_type": "stream",
     "text": [
      "[]\n",
      "[]\n"
     ]
    },
    {
     "name": "stderr",
     "output_type": "stream",
     "text": [
      "127.0.0.1 - - [31/Oct/2020 13:03:22] \"\u001b[37mPOST /api/test HTTP/1.1\u001b[0m\" 200 -\n"
     ]
    },
    {
     "name": "stdout",
     "output_type": "stream",
     "text": [
      "[]\n"
     ]
    },
    {
     "name": "stderr",
     "output_type": "stream",
     "text": [
      "127.0.0.1 - - [31/Oct/2020 13:03:22] \"\u001b[37mPOST /api/test HTTP/1.1\u001b[0m\" 200 -\n",
      "127.0.0.1 - - [31/Oct/2020 13:03:22] \"\u001b[37mPOST /api/test HTTP/1.1\u001b[0m\" 200 -\n"
     ]
    },
    {
     "name": "stdout",
     "output_type": "stream",
     "text": [
      "[{\"label\": \"Mask: 78.19%\", \"x\": \"325\", \"y\": \"242\", \"x2\": \"461\", \"y2\": \"378\", \"mask\": \"0.7818521\", \"withoutMask\": \"0.21814784\"}]\n",
      "[]\n"
     ]
    },
    {
     "name": "stderr",
     "output_type": "stream",
     "text": [
      "127.0.0.1 - - [31/Oct/2020 13:03:23] \"\u001b[37mPOST /api/test HTTP/1.1\u001b[0m\" 200 -\n",
      "127.0.0.1 - - [31/Oct/2020 13:03:23] \"\u001b[37mPOST /api/test HTTP/1.1\u001b[0m\" 200 -\n"
     ]
    },
    {
     "name": "stdout",
     "output_type": "stream",
     "text": [
      "[]\n",
      "[]\n"
     ]
    },
    {
     "name": "stderr",
     "output_type": "stream",
     "text": [
      "127.0.0.1 - - [31/Oct/2020 13:03:23] \"\u001b[37mPOST /api/test HTTP/1.1\u001b[0m\" 200 -\n",
      "127.0.0.1 - - [31/Oct/2020 13:03:23] \"\u001b[37mPOST /api/test HTTP/1.1\u001b[0m\" 200 -\n"
     ]
    },
    {
     "name": "stdout",
     "output_type": "stream",
     "text": [
      "[]\n",
      "[]\n"
     ]
    },
    {
     "name": "stderr",
     "output_type": "stream",
     "text": [
      "127.0.0.1 - - [31/Oct/2020 13:03:23] \"\u001b[37mPOST /api/test HTTP/1.1\u001b[0m\" 200 -\n",
      "127.0.0.1 - - [31/Oct/2020 13:03:23] \"\u001b[37mPOST /api/test HTTP/1.1\u001b[0m\" 200 -\n"
     ]
    },
    {
     "name": "stdout",
     "output_type": "stream",
     "text": [
      "[]\n",
      "[]\n"
     ]
    },
    {
     "name": "stderr",
     "output_type": "stream",
     "text": [
      "127.0.0.1 - - [31/Oct/2020 13:03:23] \"\u001b[37mPOST /api/test HTTP/1.1\u001b[0m\" 200 -\n",
      "127.0.0.1 - - [31/Oct/2020 13:03:23] \"\u001b[37mPOST /api/test HTTP/1.1\u001b[0m\" 200 -\n"
     ]
    },
    {
     "name": "stdout",
     "output_type": "stream",
     "text": [
      "[]\n",
      "[]\n"
     ]
    },
    {
     "name": "stderr",
     "output_type": "stream",
     "text": [
      "127.0.0.1 - - [31/Oct/2020 13:03:24] \"\u001b[37mPOST /api/test HTTP/1.1\u001b[0m\" 200 -\n"
     ]
    },
    {
     "name": "stdout",
     "output_type": "stream",
     "text": [
      "[]\n"
     ]
    },
    {
     "name": "stderr",
     "output_type": "stream",
     "text": [
      "127.0.0.1 - - [31/Oct/2020 13:03:24] \"\u001b[37mPOST /api/test HTTP/1.1\u001b[0m\" 200 -\n"
     ]
    },
    {
     "name": "stdout",
     "output_type": "stream",
     "text": [
      "[{\"label\": \"No Mask: 50.48%\", \"x\": \"138\", \"y\": \"132\", \"x2\": \"386\", \"y2\": \"380\", \"mask\": \"0.4951926\", \"withoutMask\": \"0.5048075\"}]\n"
     ]
    },
    {
     "name": "stderr",
     "output_type": "stream",
     "text": [
      "127.0.0.1 - - [31/Oct/2020 13:03:24] \"\u001b[37mPOST /api/test HTTP/1.1\u001b[0m\" 200 -\n",
      "127.0.0.1 - - [31/Oct/2020 13:03:24] \"\u001b[37mPOST /api/test HTTP/1.1\u001b[0m\" 200 -\n"
     ]
    },
    {
     "name": "stdout",
     "output_type": "stream",
     "text": [
      "[{\"label\": \"Mask: 87.14%\", \"x\": \"96\", \"y\": \"115\", \"x2\": \"384\", \"y2\": \"403\", \"mask\": \"0.87137794\", \"withoutMask\": \"0.1286221\"}]\n",
      "[]\n"
     ]
    },
    {
     "name": "stderr",
     "output_type": "stream",
     "text": [
      "127.0.0.1 - - [31/Oct/2020 13:03:24] \"\u001b[37mPOST /api/test HTTP/1.1\u001b[0m\" 200 -\n",
      "127.0.0.1 - - [31/Oct/2020 13:03:24] \"\u001b[37mPOST /api/test HTTP/1.1\u001b[0m\" 200 -\n"
     ]
    },
    {
     "name": "stdout",
     "output_type": "stream",
     "text": [
      "[]\n",
      "[]\n"
     ]
    },
    {
     "name": "stderr",
     "output_type": "stream",
     "text": [
      "127.0.0.1 - - [31/Oct/2020 13:03:25] \"\u001b[37mPOST /api/test HTTP/1.1\u001b[0m\" 200 -\n",
      "127.0.0.1 - - [31/Oct/2020 13:03:25] \"\u001b[37mPOST /api/test HTTP/1.1\u001b[0m\" 200 -\n"
     ]
    },
    {
     "name": "stdout",
     "output_type": "stream",
     "text": [
      "[]\n",
      "[]\n"
     ]
    },
    {
     "name": "stderr",
     "output_type": "stream",
     "text": [
      "127.0.0.1 - - [31/Oct/2020 13:03:25] \"\u001b[37mPOST /api/test HTTP/1.1\u001b[0m\" 200 -\n",
      "127.0.0.1 - - [31/Oct/2020 13:03:25] \"\u001b[37mPOST /api/test HTTP/1.1\u001b[0m\" 200 -\n"
     ]
    },
    {
     "name": "stdout",
     "output_type": "stream",
     "text": [
      "[]\n",
      "[]\n"
     ]
    },
    {
     "name": "stderr",
     "output_type": "stream",
     "text": [
      "127.0.0.1 - - [31/Oct/2020 13:03:25] \"\u001b[37mPOST /api/test HTTP/1.1\u001b[0m\" 200 -\n",
      "127.0.0.1 - - [31/Oct/2020 13:03:25] \"\u001b[37mPOST /api/test HTTP/1.1\u001b[0m\" 200 -\n"
     ]
    },
    {
     "name": "stdout",
     "output_type": "stream",
     "text": [
      "[]\n",
      "[]\n"
     ]
    },
    {
     "name": "stderr",
     "output_type": "stream",
     "text": [
      "127.0.0.1 - - [31/Oct/2020 13:03:25] \"\u001b[37mPOST /api/test HTTP/1.1\u001b[0m\" 200 -\n",
      "127.0.0.1 - - [31/Oct/2020 13:03:25] \"\u001b[37mPOST /api/test HTTP/1.1\u001b[0m\" 200 -\n"
     ]
    },
    {
     "name": "stdout",
     "output_type": "stream",
     "text": [
      "[]\n",
      "[]\n"
     ]
    },
    {
     "name": "stderr",
     "output_type": "stream",
     "text": [
      "127.0.0.1 - - [31/Oct/2020 13:03:25] \"\u001b[37mPOST /api/test HTTP/1.1\u001b[0m\" 200 -\n"
     ]
    },
    {
     "name": "stdout",
     "output_type": "stream",
     "text": [
      "[]\n"
     ]
    },
    {
     "name": "stderr",
     "output_type": "stream",
     "text": [
      "127.0.0.1 - - [31/Oct/2020 13:03:26] \"\u001b[37mPOST /api/test HTTP/1.1\u001b[0m\" 200 -\n"
     ]
    },
    {
     "name": "stdout",
     "output_type": "stream",
     "text": [
      "[{\"label\": \"No Mask: 57.87%\", \"x\": \"329\", \"y\": \"296\", \"x2\": \"359\", \"y2\": \"326\", \"mask\": \"0.42130318\", \"withoutMask\": \"0.5786968\"}]\n",
      "[{\"label\": \"Mask: 53.54%\", \"x\": \"329\", \"y\": \"296\", \"x2\": \"358\", \"y2\": \"325\", \"mask\": \"0.53544825\", \"withoutMask\": \"0.46455172\"}]"
     ]
    },
    {
     "name": "stderr",
     "output_type": "stream",
     "text": [
      "127.0.0.1 - - [31/Oct/2020 13:03:26] \"\u001b[37mPOST /api/test HTTP/1.1\u001b[0m\" 200 -\n",
      "127.0.0.1 - - [31/Oct/2020 13:03:26] \"\u001b[37mPOST /api/test HTTP/1.1\u001b[0m\" 200 -\n"
     ]
    },
    {
     "name": "stdout",
     "output_type": "stream",
     "text": [
      "\n",
      "[]\n"
     ]
    },
    {
     "name": "stderr",
     "output_type": "stream",
     "text": [
      "127.0.0.1 - - [31/Oct/2020 13:03:26] \"\u001b[37mPOST /api/test HTTP/1.1\u001b[0m\" 200 -\n",
      "127.0.0.1 - - [31/Oct/2020 13:03:26] \"\u001b[37mPOST /api/test HTTP/1.1\u001b[0m\" 200 -\n"
     ]
    },
    {
     "name": "stdout",
     "output_type": "stream",
     "text": [
      "[{\"label\": \"No Mask: 56.09%\", \"x\": \"329\", \"y\": \"295\", \"x2\": \"357\", \"y2\": \"323\", \"mask\": \"0.43911484\", \"withoutMask\": \"0.56088513\"}]\n",
      "[]\n"
     ]
    },
    {
     "name": "stderr",
     "output_type": "stream",
     "text": [
      "127.0.0.1 - - [31/Oct/2020 13:03:26] \"\u001b[37mPOST /api/test HTTP/1.1\u001b[0m\" 200 -\n",
      "127.0.0.1 - - [31/Oct/2020 13:03:27] \"\u001b[37mPOST /api/test HTTP/1.1\u001b[0m\" 200 -\n"
     ]
    },
    {
     "name": "stdout",
     "output_type": "stream",
     "text": [
      "[]\n",
      "[]\n"
     ]
    },
    {
     "name": "stderr",
     "output_type": "stream",
     "text": [
      "127.0.0.1 - - [31/Oct/2020 13:03:27] \"\u001b[37mPOST /api/test HTTP/1.1\u001b[0m\" 200 -\n",
      "127.0.0.1 - - [31/Oct/2020 13:03:27] \"\u001b[37mPOST /api/test HTTP/1.1\u001b[0m\" 200 -\n"
     ]
    },
    {
     "name": "stdout",
     "output_type": "stream",
     "text": [
      "[]\n",
      "[]\n"
     ]
    },
    {
     "name": "stderr",
     "output_type": "stream",
     "text": [
      "127.0.0.1 - - [31/Oct/2020 13:03:27] \"\u001b[37mPOST /api/test HTTP/1.1\u001b[0m\" 200 -\n",
      "127.0.0.1 - - [31/Oct/2020 13:03:27] \"\u001b[37mPOST /api/test HTTP/1.1\u001b[0m\" 200 -\n"
     ]
    },
    {
     "name": "stdout",
     "output_type": "stream",
     "text": [
      "[]\n",
      "[]\n"
     ]
    },
    {
     "name": "stderr",
     "output_type": "stream",
     "text": [
      "127.0.0.1 - - [31/Oct/2020 13:03:27] \"\u001b[37mPOST /api/test HTTP/1.1\u001b[0m\" 200 -\n",
      "127.0.0.1 - - [31/Oct/2020 13:03:27] \"\u001b[37mPOST /api/test HTTP/1.1\u001b[0m\" 200 -\n"
     ]
    },
    {
     "name": "stdout",
     "output_type": "stream",
     "text": [
      "[]\n",
      "[]\n"
     ]
    },
    {
     "name": "stderr",
     "output_type": "stream",
     "text": [
      "127.0.0.1 - - [31/Oct/2020 13:03:27] \"\u001b[37mPOST /api/test HTTP/1.1\u001b[0m\" 200 -\n",
      "127.0.0.1 - - [31/Oct/2020 13:03:28] \"\u001b[37mPOST /api/test HTTP/1.1\u001b[0m\" 200 -\n"
     ]
    },
    {
     "name": "stdout",
     "output_type": "stream",
     "text": [
      "[]\n",
      "[]\n"
     ]
    },
    {
     "name": "stderr",
     "output_type": "stream",
     "text": [
      "127.0.0.1 - - [31/Oct/2020 13:03:28] \"\u001b[37mPOST /api/test HTTP/1.1\u001b[0m\" 200 -\n",
      "127.0.0.1 - - [31/Oct/2020 13:03:28] \"\u001b[37mPOST /api/test HTTP/1.1\u001b[0m\" 200 -\n"
     ]
    },
    {
     "name": "stdout",
     "output_type": "stream",
     "text": [
      "[]\n",
      "[]\n"
     ]
    },
    {
     "name": "stderr",
     "output_type": "stream",
     "text": [
      "127.0.0.1 - - [31/Oct/2020 13:03:28] \"\u001b[37mPOST /api/test HTTP/1.1\u001b[0m\" 200 -\n",
      "127.0.0.1 - - [31/Oct/2020 13:03:28] \"\u001b[37mPOST /api/test HTTP/1.1\u001b[0m\" 200 -\n"
     ]
    },
    {
     "name": "stdout",
     "output_type": "stream",
     "text": [
      "[]\n",
      "[]\n"
     ]
    },
    {
     "name": "stderr",
     "output_type": "stream",
     "text": [
      "127.0.0.1 - - [31/Oct/2020 13:03:28] \"\u001b[37mPOST /api/test HTTP/1.1\u001b[0m\" 200 -\n",
      "127.0.0.1 - - [31/Oct/2020 13:03:28] \"\u001b[37mPOST /api/test HTTP/1.1\u001b[0m\" 200 -\n"
     ]
    },
    {
     "name": "stdout",
     "output_type": "stream",
     "text": [
      "[]\n",
      "[]\n"
     ]
    },
    {
     "name": "stderr",
     "output_type": "stream",
     "text": [
      "127.0.0.1 - - [31/Oct/2020 13:03:28] \"\u001b[37mPOST /api/test HTTP/1.1\u001b[0m\" 200 -\n",
      "127.0.0.1 - - [31/Oct/2020 13:03:28] \"\u001b[37mPOST /api/test HTTP/1.1\u001b[0m\" 200 -\n"
     ]
    },
    {
     "name": "stdout",
     "output_type": "stream",
     "text": [
      "[]\n",
      "[]\n"
     ]
    },
    {
     "name": "stderr",
     "output_type": "stream",
     "text": [
      "127.0.0.1 - - [31/Oct/2020 13:03:29] \"\u001b[37mPOST /api/test HTTP/1.1\u001b[0m\" 200 -\n",
      "127.0.0.1 - - [31/Oct/2020 13:03:29] \"\u001b[37mPOST /api/test HTTP/1.1\u001b[0m\" 200 -\n"
     ]
    },
    {
     "name": "stdout",
     "output_type": "stream",
     "text": [
      "[]\n",
      "[]\n"
     ]
    },
    {
     "name": "stderr",
     "output_type": "stream",
     "text": [
      "127.0.0.1 - - [31/Oct/2020 13:03:29] \"\u001b[37mPOST /api/test HTTP/1.1\u001b[0m\" 200 -\n"
     ]
    },
    {
     "name": "stdout",
     "output_type": "stream",
     "text": [
      "[{\"label\": \"Mask: 57.75%\", \"x\": \"119\", \"y\": \"119\", \"x2\": \"392\", \"y2\": \"392\", \"mask\": \"0.57753855\", \"withoutMask\": \"0.42246148\"}]\n"
     ]
    },
    {
     "name": "stderr",
     "output_type": "stream",
     "text": [
      "127.0.0.1 - - [31/Oct/2020 13:03:29] \"\u001b[37mPOST /api/test HTTP/1.1\u001b[0m\" 200 -\n"
     ]
    },
    {
     "name": "stdout",
     "output_type": "stream",
     "text": [
      "[{\"label\": \"No Mask: 86.12%\", \"x\": \"146\", \"y\": \"152\", \"x2\": \"374\", \"y2\": \"380\", \"mask\": \"0.13880259\", \"withoutMask\": \"0.8611974\"}]\n"
     ]
    },
    {
     "name": "stderr",
     "output_type": "stream",
     "text": [
      "127.0.0.1 - - [31/Oct/2020 13:03:29] \"\u001b[37mPOST /api/test HTTP/1.1\u001b[0m\" 200 -\n"
     ]
    },
    {
     "name": "stdout",
     "output_type": "stream",
     "text": [
      "[{\"label\": \"No Mask: 97.15%\", \"x\": \"123\", \"y\": \"146\", \"x2\": \"374\", \"y2\": \"397\", \"mask\": \"0.028546214\", \"withoutMask\": \"0.9714537\"}]\n"
     ]
    },
    {
     "name": "stderr",
     "output_type": "stream",
     "text": [
      "127.0.0.1 - - [31/Oct/2020 13:03:30] \"\u001b[37mPOST /api/test HTTP/1.1\u001b[0m\" 200 -\n"
     ]
    },
    {
     "name": "stdout",
     "output_type": "stream",
     "text": [
      "[{\"label\": \"No Mask: 94.98%\", \"x\": \"115\", \"y\": \"139\", \"x2\": \"379\", \"y2\": \"403\", \"mask\": \"0.050177738\", \"withoutMask\": \"0.94982225\"}]\n"
     ]
    },
    {
     "name": "stderr",
     "output_type": "stream",
     "text": [
      "127.0.0.1 - - [31/Oct/2020 13:03:30] \"\u001b[37mPOST /api/test HTTP/1.1\u001b[0m\" 200 -\n"
     ]
    },
    {
     "name": "stdout",
     "output_type": "stream",
     "text": [
      "[{\"label\": \"No Mask: 94.20%\", \"x\": \"127\", \"y\": \"146\", \"x2\": \"378\", \"y2\": \"397\", \"mask\": \"0.058044773\", \"withoutMask\": \"0.94195527\"}]\n"
     ]
    },
    {
     "name": "stderr",
     "output_type": "stream",
     "text": [
      "127.0.0.1 - - [31/Oct/2020 13:03:30] \"\u001b[37mPOST /api/test HTTP/1.1\u001b[0m\" 200 -\n"
     ]
    },
    {
     "name": "stdout",
     "output_type": "stream",
     "text": [
      "[{\"label\": \"No Mask: 56.65%\", \"x\": \"121\", \"y\": \"141\", \"x2\": \"377\", \"y2\": \"397\", \"mask\": \"0.43350405\", \"withoutMask\": \"0.5664959\"}]\n"
     ]
    },
    {
     "name": "stderr",
     "output_type": "stream",
     "text": [
      "127.0.0.1 - - [31/Oct/2020 13:03:30] \"\u001b[37mPOST /api/test HTTP/1.1\u001b[0m\" 200 -\n",
      "127.0.0.1 - - [31/Oct/2020 13:03:30] \"\u001b[37mPOST /api/test HTTP/1.1\u001b[0m\" 200 -\n"
     ]
    },
    {
     "name": "stdout",
     "output_type": "stream",
     "text": [
      "[{\"label\": \"No Mask: 83.45%\", \"x\": \"109\", \"y\": \"131\", \"x2\": \"378\", \"y2\": \"400\", \"mask\": \"0.16552126\", \"withoutMask\": \"0.8344787\"}]\n",
      "[]\n"
     ]
    },
    {
     "name": "stderr",
     "output_type": "stream",
     "text": [
      "127.0.0.1 - - [31/Oct/2020 13:03:31] \"\u001b[37mPOST /api/test HTTP/1.1\u001b[0m\" 200 -\n",
      "127.0.0.1 - - [31/Oct/2020 13:03:31] \"\u001b[37mPOST /api/test HTTP/1.1\u001b[0m\" 200 -\n"
     ]
    },
    {
     "name": "stdout",
     "output_type": "stream",
     "text": [
      "[]\n",
      "[]\n"
     ]
    },
    {
     "name": "stderr",
     "output_type": "stream",
     "text": [
      "127.0.0.1 - - [31/Oct/2020 13:03:31] \"\u001b[37mPOST /api/test HTTP/1.1\u001b[0m\" 200 -\n",
      "127.0.0.1 - - [31/Oct/2020 13:03:31] \"\u001b[37mPOST /api/test HTTP/1.1\u001b[0m\" 200 -\n"
     ]
    },
    {
     "name": "stdout",
     "output_type": "stream",
     "text": [
      "[]\n",
      "[]\n"
     ]
    },
    {
     "name": "stderr",
     "output_type": "stream",
     "text": [
      "127.0.0.1 - - [31/Oct/2020 13:03:31] \"\u001b[37mPOST /api/test HTTP/1.1\u001b[0m\" 200 -\n"
     ]
    },
    {
     "name": "stdout",
     "output_type": "stream",
     "text": [
      "[{\"label\": \"No Mask: 69.51%\", \"x\": \"130\", \"y\": \"136\", \"x2\": \"366\", \"y2\": \"372\", \"mask\": \"0.30485645\", \"withoutMask\": \"0.6951436\"}]\n"
     ]
    },
    {
     "name": "stderr",
     "output_type": "stream",
     "text": [
      "127.0.0.1 - - [31/Oct/2020 13:03:31] \"\u001b[37mPOST /api/test HTTP/1.1\u001b[0m\" 200 -\n",
      "127.0.0.1 - - [31/Oct/2020 13:03:32] \"\u001b[37mPOST /api/test HTTP/1.1\u001b[0m\" 200 -\n"
     ]
    },
    {
     "name": "stdout",
     "output_type": "stream",
     "text": [
      "[{\"label\": \"No Mask: 98.98%\", \"x\": \"221\", \"y\": \"278\", \"x2\": \"256\", \"y2\": \"313\", \"mask\": \"0.010240479\", \"withoutMask\": \"0.98975956\"}]\n",
      "[]\n"
     ]
    },
    {
     "name": "stderr",
     "output_type": "stream",
     "text": [
      "127.0.0.1 - - [31/Oct/2020 13:03:32] \"\u001b[37mPOST /api/test HTTP/1.1\u001b[0m\" 200 -\n",
      "127.0.0.1 - - [31/Oct/2020 13:03:32] \"\u001b[37mPOST /api/test HTTP/1.1\u001b[0m\" 200 -\n"
     ]
    },
    {
     "name": "stdout",
     "output_type": "stream",
     "text": [
      "[]\n",
      "[]\n"
     ]
    },
    {
     "name": "stderr",
     "output_type": "stream",
     "text": [
      "127.0.0.1 - - [31/Oct/2020 13:03:32] \"\u001b[37mPOST /api/test HTTP/1.1\u001b[0m\" 200 -\n",
      "127.0.0.1 - - [31/Oct/2020 13:03:32] \"\u001b[37mPOST /api/test HTTP/1.1\u001b[0m\" 200 -\n"
     ]
    },
    {
     "name": "stdout",
     "output_type": "stream",
     "text": [
      "[]\n",
      "[]\n"
     ]
    },
    {
     "name": "stderr",
     "output_type": "stream",
     "text": [
      "127.0.0.1 - - [31/Oct/2020 13:03:32] \"\u001b[37mPOST /api/test HTTP/1.1\u001b[0m\" 200 -\n",
      "127.0.0.1 - - [31/Oct/2020 13:03:32] \"\u001b[37mPOST /api/test HTTP/1.1\u001b[0m\" 200 -\n"
     ]
    },
    {
     "name": "stdout",
     "output_type": "stream",
     "text": [
      "[]\n",
      "[]\n"
     ]
    },
    {
     "name": "stderr",
     "output_type": "stream",
     "text": [
      "127.0.0.1 - - [31/Oct/2020 13:03:33] \"\u001b[37mPOST /api/test HTTP/1.1\u001b[0m\" 200 -\n"
     ]
    },
    {
     "name": "stdout",
     "output_type": "stream",
     "text": [
      "[{\"label\": \"No Mask: 99.92%\", \"x\": \"276\", \"y\": \"234\", \"x2\": \"351\", \"y2\": \"309\", \"mask\": \"0.0008087835\", \"withoutMask\": \"0.9991912\"}]\n"
     ]
    },
    {
     "name": "stderr",
     "output_type": "stream",
     "text": [
      "127.0.0.1 - - [31/Oct/2020 13:03:33] \"\u001b[37mPOST /api/test HTTP/1.1\u001b[0m\" 200 -\n",
      "127.0.0.1 - - [31/Oct/2020 13:03:33] \"\u001b[37mPOST /api/test HTTP/1.1\u001b[0m\" 200 -\n"
     ]
    },
    {
     "name": "stdout",
     "output_type": "stream",
     "text": [
      "[{\"label\": \"No Mask: 99.14%\", \"x\": \"276\", \"y\": \"233\", \"x2\": \"352\", \"y2\": \"309\", \"mask\": \"0.008607521\", \"withoutMask\": \"0.9913925\"}, {\"label\": \"Mask: 68.09%\", \"x\": \"182\", \"y\": \"143\", \"x2\": \"373\", \"y2\": \"334\", \"mask\": \"0.6808502\", \"withoutMask\": \"0.31914973\"}]\n",
      "[]\n"
     ]
    },
    {
     "name": "stderr",
     "output_type": "stream",
     "text": [
      "127.0.0.1 - - [31/Oct/2020 13:03:33] \"\u001b[37mPOST /api/test HTTP/1.1\u001b[0m\" 200 -\n"
     ]
    },
    {
     "name": "stdout",
     "output_type": "stream",
     "text": [
      "[{\"label\": \"No Mask: 95.54%\", \"x\": \"164\", \"y\": \"161\", \"x2\": \"361\", \"y2\": \"358\", \"mask\": \"0.04461\", \"withoutMask\": \"0.95539\"}]\n"
     ]
    },
    {
     "name": "stderr",
     "output_type": "stream",
     "text": [
      "127.0.0.1 - - [31/Oct/2020 13:03:33] \"\u001b[37mPOST /api/test HTTP/1.1\u001b[0m\" 200 -\n"
     ]
    },
    {
     "name": "stdout",
     "output_type": "stream",
     "text": [
      "[{\"label\": \"No Mask: 94.44%\", \"x\": \"136\", \"y\": \"162\", \"x2\": \"379\", \"y2\": \"405\", \"mask\": \"0.055576622\", \"withoutMask\": \"0.9444233\"}]\n"
     ]
    },
    {
     "name": "stderr",
     "output_type": "stream",
     "text": [
      "127.0.0.1 - - [31/Oct/2020 13:03:34] \"\u001b[37mPOST /api/test HTTP/1.1\u001b[0m\" 200 -\n"
     ]
    },
    {
     "name": "stdout",
     "output_type": "stream",
     "text": [
      "[{\"label\": \"No Mask: 89.75%\", \"x\": \"134\", \"y\": \"156\", \"x2\": \"392\", \"y2\": \"414\", \"mask\": \"0.102453284\", \"withoutMask\": \"0.8975467\"}]\n"
     ]
    },
    {
     "name": "stderr",
     "output_type": "stream",
     "text": [
      "127.0.0.1 - - [31/Oct/2020 13:03:34] \"\u001b[37mPOST /api/test HTTP/1.1\u001b[0m\" 200 -\n"
     ]
    },
    {
     "name": "stdout",
     "output_type": "stream",
     "text": [
      "[{\"label\": \"No Mask: 76.82%\", \"x\": \"144\", \"y\": \"145\", \"x2\": \"401\", \"y2\": \"402\", \"mask\": \"0.23179431\", \"withoutMask\": \"0.7682057\"}]\n"
     ]
    },
    {
     "name": "stderr",
     "output_type": "stream",
     "text": [
      "127.0.0.1 - - [31/Oct/2020 13:03:34] \"\u001b[37mPOST /api/test HTTP/1.1\u001b[0m\" 200 -\n"
     ]
    },
    {
     "name": "stdout",
     "output_type": "stream",
     "text": [
      "[{\"label\": \"No Mask: 95.98%\", \"x\": \"159\", \"y\": \"148\", \"x2\": \"390\", \"y2\": \"379\", \"mask\": \"0.040164493\", \"withoutMask\": \"0.95983547\"}]\n"
     ]
    },
    {
     "name": "stderr",
     "output_type": "stream",
     "text": [
      "127.0.0.1 - - [31/Oct/2020 13:03:34] \"\u001b[37mPOST /api/test HTTP/1.1\u001b[0m\" 200 -\n"
     ]
    },
    {
     "name": "stdout",
     "output_type": "stream",
     "text": [
      "[{\"label\": \"No Mask: 99.93%\", \"x\": \"273\", \"y\": \"254\", \"x2\": \"362\", \"y2\": \"343\", \"mask\": \"0.00070338964\", \"withoutMask\": \"0.99929655\"}, {\"label\": \"No Mask: 98.70%\", \"x\": \"158\", \"y\": \"149\", \"x2\": \"382\", \"y2\": \"373\", \"mask\": \"0.012962856\", \"withoutMask\": \"0.9870372\"}]\n"
     ]
    },
    {
     "name": "stderr",
     "output_type": "stream",
     "text": [
      "127.0.0.1 - - [31/Oct/2020 13:03:35] \"\u001b[37mPOST /api/test HTTP/1.1\u001b[0m\" 200 -\n"
     ]
    },
    {
     "name": "stdout",
     "output_type": "stream",
     "text": [
      "[{\"label\": \"No Mask: 99.95%\", \"x\": \"272\", \"y\": \"252\", \"x2\": \"361\", \"y2\": \"341\", \"mask\": \"0.0004741261\", \"withoutMask\": \"0.9995259\"}, {\"label\": \"No Mask: 93.66%\", \"x\": \"144\", \"y\": \"138\", \"x2\": \"393\", \"y2\": \"387\", \"mask\": \"0.063449316\", \"withoutMask\": \"0.93655074\"}]\n"
     ]
    },
    {
     "name": "stderr",
     "output_type": "stream",
     "text": [
      "127.0.0.1 - - [31/Oct/2020 13:03:35] \"\u001b[37mPOST /api/test HTTP/1.1\u001b[0m\" 200 -\n"
     ]
    },
    {
     "name": "stdout",
     "output_type": "stream",
     "text": [
      "[{\"label\": \"No Mask: 94.09%\", \"x\": \"144\", \"y\": \"136\", \"x2\": \"396\", \"y2\": \"388\", \"mask\": \"0.05914365\", \"withoutMask\": \"0.9408563\"}, {\"label\": \"No Mask: 99.95%\", \"x\": \"278\", \"y\": \"254\", \"x2\": \"364\", \"y2\": \"340\", \"mask\": \"0.0005031859\", \"withoutMask\": \"0.9994968\"}]\n"
     ]
    },
    {
     "name": "stderr",
     "output_type": "stream",
     "text": [
      "127.0.0.1 - - [31/Oct/2020 13:03:36] \"\u001b[37mPOST /api/test HTTP/1.1\u001b[0m\" 200 -\n"
     ]
    },
    {
     "name": "stdout",
     "output_type": "stream",
     "text": [
      "[{\"label\": \"No Mask: 96.98%\", \"x\": \"150\", \"y\": \"136\", \"x2\": \"396\", \"y2\": \"382\", \"mask\": \"0.03016812\", \"withoutMask\": \"0.9698318\"}, {\"label\": \"No Mask: 99.99%\", \"x\": \"276\", \"y\": \"253\", \"x2\": \"363\", \"y2\": \"340\", \"mask\": \"7.0555856e-05\", \"withoutMask\": \"0.9999294\"}]\n"
     ]
    },
    {
     "name": "stderr",
     "output_type": "stream",
     "text": [
      "127.0.0.1 - - [31/Oct/2020 13:03:36] \"\u001b[37mPOST /api/test HTTP/1.1\u001b[0m\" 200 -\n"
     ]
    },
    {
     "name": "stdout",
     "output_type": "stream",
     "text": [
      "[{\"label\": \"No Mask: 99.86%\", \"x\": \"283\", \"y\": \"240\", \"x2\": \"366\", \"y2\": \"323\", \"mask\": \"0.0013818099\", \"withoutMask\": \"0.9986181\"}, {\"label\": \"Mask: 79.20%\", \"x\": \"171\", \"y\": \"136\", \"x2\": \"393\", \"y2\": \"358\", \"mask\": \"0.79201776\", \"withoutMask\": \"0.20798224\"}]\n"
     ]
    },
    {
     "name": "stderr",
     "output_type": "stream",
     "text": [
      "127.0.0.1 - - [31/Oct/2020 13:03:36] \"\u001b[37mPOST /api/test HTTP/1.1\u001b[0m\" 200 -\n"
     ]
    },
    {
     "name": "stdout",
     "output_type": "stream",
     "text": [
      "[{\"label\": \"No Mask: 99.99%\", \"x\": \"280\", \"y\": \"248\", \"x2\": \"367\", \"y2\": \"335\", \"mask\": \"0.00010178725\", \"withoutMask\": \"0.9998982\"}, {\"label\": \"No Mask: 99.22%\", \"x\": \"151\", \"y\": \"133\", \"x2\": \"400\", \"y2\": \"382\", \"mask\": \"0.007805379\", \"withoutMask\": \"0.99219465\"}]\n"
     ]
    },
    {
     "name": "stderr",
     "output_type": "stream",
     "text": [
      "127.0.0.1 - - [31/Oct/2020 13:03:36] \"\u001b[37mPOST /api/test HTTP/1.1\u001b[0m\" 200 -\n"
     ]
    },
    {
     "name": "stdout",
     "output_type": "stream",
     "text": [
      "[{\"label\": \"No Mask: 93.00%\", \"x\": \"134\", \"y\": \"144\", \"x2\": \"378\", \"y2\": \"388\", \"mask\": \"0.06998705\", \"withoutMask\": \"0.93001294\"}]\n"
     ]
    },
    {
     "name": "stderr",
     "output_type": "stream",
     "text": [
      "127.0.0.1 - - [31/Oct/2020 13:03:37] \"\u001b[37mPOST /api/test HTTP/1.1\u001b[0m\" 200 -\n"
     ]
    },
    {
     "name": "stdout",
     "output_type": "stream",
     "text": [
      "[{\"label\": \"No Mask: 97.41%\", \"x\": \"128\", \"y\": \"134\", \"x2\": \"377\", \"y2\": \"383\", \"mask\": \"0.025921457\", \"withoutMask\": \"0.9740786\"}]\n",
      "[]"
     ]
    },
    {
     "name": "stderr",
     "output_type": "stream",
     "text": [
      "127.0.0.1 - - [31/Oct/2020 13:03:37] \"\u001b[37mPOST /api/test HTTP/1.1\u001b[0m\" 200 -\n",
      "127.0.0.1 - - [31/Oct/2020 13:03:37] \"\u001b[37mPOST /api/test HTTP/1.1\u001b[0m\" 200 -\n"
     ]
    },
    {
     "name": "stdout",
     "output_type": "stream",
     "text": [
      "\n",
      "[]\n"
     ]
    },
    {
     "name": "stderr",
     "output_type": "stream",
     "text": [
      "127.0.0.1 - - [31/Oct/2020 13:03:37] \"\u001b[37mPOST /api/test HTTP/1.1\u001b[0m\" 200 -\n",
      "127.0.0.1 - - [31/Oct/2020 13:03:37] \"\u001b[37mPOST /api/test HTTP/1.1\u001b[0m\" 200 -\n"
     ]
    },
    {
     "name": "stdout",
     "output_type": "stream",
     "text": [
      "[]\n",
      "[]\n"
     ]
    },
    {
     "name": "stderr",
     "output_type": "stream",
     "text": [
      "127.0.0.1 - - [31/Oct/2020 13:03:37] \"\u001b[37mPOST /api/test HTTP/1.1\u001b[0m\" 200 -\n"
     ]
    },
    {
     "name": "stdout",
     "output_type": "stream",
     "text": [
      "[{\"label\": \"No Mask: 98.05%\", \"x\": \"229\", \"y\": \"213\", \"x2\": \"287\", \"y2\": \"271\", \"mask\": \"0.019537263\", \"withoutMask\": \"0.9804628\"}]\n"
     ]
    },
    {
     "name": "stderr",
     "output_type": "stream",
     "text": [
      "127.0.0.1 - - [31/Oct/2020 13:03:38] \"\u001b[37mPOST /api/test HTTP/1.1\u001b[0m\" 200 -\n"
     ]
    },
    {
     "name": "stdout",
     "output_type": "stream",
     "text": [
      "[{\"label\": \"No Mask: 99.43%\", \"x\": \"276\", \"y\": \"233\", \"x2\": \"339\", \"y2\": \"296\", \"mask\": \"0.0056992345\", \"withoutMask\": \"0.9943007\"}]\n"
     ]
    },
    {
     "name": "stderr",
     "output_type": "stream",
     "text": [
      "127.0.0.1 - - [31/Oct/2020 13:03:38] \"\u001b[37mPOST /api/test HTTP/1.1\u001b[0m\" 200 -\n"
     ]
    },
    {
     "name": "stdout",
     "output_type": "stream",
     "text": [
      "[{\"label\": \"No Mask: 99.58%\", \"x\": \"266\", \"y\": \"237\", \"x2\": \"354\", \"y2\": \"325\", \"mask\": \"0.004205929\", \"withoutMask\": \"0.99579406\"}]\n"
     ]
    },
    {
     "name": "stderr",
     "output_type": "stream",
     "text": [
      "127.0.0.1 - - [31/Oct/2020 13:03:38] \"\u001b[37mPOST /api/test HTTP/1.1\u001b[0m\" 200 -\n"
     ]
    },
    {
     "name": "stdout",
     "output_type": "stream",
     "text": [
      "[{\"label\": \"No Mask: 98.70%\", \"x\": \"251\", \"y\": \"254\", \"x2\": \"348\", \"y2\": \"351\", \"mask\": \"0.013045282\", \"withoutMask\": \"0.98695475\"}, {\"label\": \"No Mask: 93.08%\", \"x\": \"119\", \"y\": \"133\", \"x2\": \"380\", \"y2\": \"394\", \"mask\": \"0.06924325\", \"withoutMask\": \"0.93075675\"}]\n"
     ]
    },
    {
     "name": "stderr",
     "output_type": "stream",
     "text": [
      "127.0.0.1 - - [31/Oct/2020 13:03:38] \"\u001b[37mPOST /api/test HTTP/1.1\u001b[0m\" 200 -\n"
     ]
    },
    {
     "name": "stdout",
     "output_type": "stream",
     "text": [
      "[{\"label\": \"No Mask: 99.51%\", \"x\": \"113\", \"y\": \"143\", \"x2\": \"355\", \"y2\": \"385\", \"mask\": \"0.0048758895\", \"withoutMask\": \"0.99512416\"}]\n",
      "[{\"label\": \"No Mask: 98.62%\", \"x\": \"249\", \"y\": \"252\", \"x2\": \"338\", \"y2\": \"341\", \"mask\": \"0.013758908\", \"withoutMask\": \"0.9862411\"}]"
     ]
    },
    {
     "name": "stderr",
     "output_type": "stream",
     "text": [
      "127.0.0.1 - - [31/Oct/2020 13:03:39] \"\u001b[37mPOST /api/test HTTP/1.1\u001b[0m\" 200 -\n"
     ]
    },
    {
     "name": "stdout",
     "output_type": "stream",
     "text": [
      "\n"
     ]
    },
    {
     "name": "stderr",
     "output_type": "stream",
     "text": [
      "127.0.0.1 - - [31/Oct/2020 13:03:39] \"\u001b[37mPOST /api/test HTTP/1.1\u001b[0m\" 200 -\n"
     ]
    },
    {
     "name": "stdout",
     "output_type": "stream",
     "text": [
      "[{\"label\": \"No Mask: 97.01%\", \"x\": \"116\", \"y\": \"132\", \"x2\": \"367\", \"y2\": \"383\", \"mask\": \"0.029852578\", \"withoutMask\": \"0.97014743\"}, {\"label\": \"No Mask: 98.91%\", \"x\": \"247\", \"y\": \"247\", \"x2\": \"339\", \"y2\": \"339\", \"mask\": \"0.010940455\", \"withoutMask\": \"0.98905957\"}]\n"
     ]
    },
    {
     "name": "stderr",
     "output_type": "stream",
     "text": [
      "127.0.0.1 - - [31/Oct/2020 13:03:39] \"\u001b[37mPOST /api/test HTTP/1.1\u001b[0m\" 200 -\n"
     ]
    },
    {
     "name": "stdout",
     "output_type": "stream",
     "text": [
      "[{\"label\": \"No Mask: 96.91%\", \"x\": \"114\", \"y\": \"131\", \"x2\": \"370\", \"y2\": \"387\", \"mask\": \"0.030948969\", \"withoutMask\": \"0.96905106\"}]\n"
     ]
    },
    {
     "name": "stderr",
     "output_type": "stream",
     "text": [
      "127.0.0.1 - - [31/Oct/2020 13:03:39] \"\u001b[37mPOST /api/test HTTP/1.1\u001b[0m\" 200 -\n"
     ]
    },
    {
     "name": "stdout",
     "output_type": "stream",
     "text": [
      "[{\"label\": \"No Mask: 99.81%\", \"x\": \"248\", \"y\": \"250\", \"x2\": \"341\", \"y2\": \"343\", \"mask\": \"0.0019391774\", \"withoutMask\": \"0.99806076\"}]\n"
     ]
    },
    {
     "name": "stderr",
     "output_type": "stream",
     "text": [
      "127.0.0.1 - - [31/Oct/2020 13:03:40] \"\u001b[37mPOST /api/test HTTP/1.1\u001b[0m\" 200 -\n"
     ]
    },
    {
     "name": "stdout",
     "output_type": "stream",
     "text": [
      "[{\"label\": \"No Mask: 99.71%\", \"x\": \"109\", \"y\": \"123\", \"x2\": \"375\", \"y2\": \"389\", \"mask\": \"0.0029059432\", \"withoutMask\": \"0.99709404\"}, {\"label\": \"No Mask: 99.75%\", \"x\": \"249\", \"y\": \"251\", \"x2\": \"339\", \"y2\": \"341\", \"mask\": \"0.0024915647\", \"withoutMask\": \"0.9975084\"}]\n"
     ]
    },
    {
     "name": "stderr",
     "output_type": "stream",
     "text": [
      "127.0.0.1 - - [31/Oct/2020 13:03:40] \"\u001b[37mPOST /api/test HTTP/1.1\u001b[0m\" 200 -\n"
     ]
    },
    {
     "name": "stdout",
     "output_type": "stream",
     "text": [
      "[{\"label\": \"No Mask: 99.95%\", \"x\": \"248\", \"y\": \"250\", \"x2\": \"339\", \"y2\": \"341\", \"mask\": \"0.00048349798\", \"withoutMask\": \"0.9995165\"}, {\"label\": \"No Mask: 95.25%\", \"x\": \"115\", \"y\": \"134\", \"x2\": \"361\", \"y2\": \"380\", \"mask\": \"0.047548503\", \"withoutMask\": \"0.9524515\"}]\n"
     ]
    },
    {
     "name": "stderr",
     "output_type": "stream",
     "text": [
      "127.0.0.1 - - [31/Oct/2020 13:03:40] \"\u001b[37mPOST /api/test HTTP/1.1\u001b[0m\" 200 -\n"
     ]
    },
    {
     "name": "stdout",
     "output_type": "stream",
     "text": [
      "[{\"label\": \"No Mask: 98.77%\", \"x\": \"236\", \"y\": \"242\", \"x2\": \"331\", \"y2\": \"337\", \"mask\": \"0.012272455\", \"withoutMask\": \"0.9877275\"}]\n"
     ]
    },
    {
     "name": "stderr",
     "output_type": "stream",
     "text": [
      "127.0.0.1 - - [31/Oct/2020 13:03:41] \"\u001b[37mPOST /api/test HTTP/1.1\u001b[0m\" 200 -\n"
     ]
    },
    {
     "name": "stdout",
     "output_type": "stream",
     "text": [
      "[{\"label\": \"No Mask: 99.57%\", \"x\": \"212\", \"y\": \"231\", \"x2\": \"310\", \"y2\": \"329\", \"mask\": \"0.0042943493\", \"withoutMask\": \"0.99570566\"}]\n"
     ]
    },
    {
     "name": "stderr",
     "output_type": "stream",
     "text": [
      "127.0.0.1 - - [31/Oct/2020 13:03:41] \"\u001b[37mPOST /api/test HTTP/1.1\u001b[0m\" 200 -\n"
     ]
    },
    {
     "name": "stdout",
     "output_type": "stream",
     "text": [
      "[{\"label\": \"No Mask: 99.37%\", \"x\": \"214\", \"y\": \"228\", \"x2\": \"315\", \"y2\": \"329\", \"mask\": \"0.00632942\", \"withoutMask\": \"0.9936706\"}]\n"
     ]
    },
    {
     "name": "stderr",
     "output_type": "stream",
     "text": [
      "127.0.0.1 - - [31/Oct/2020 13:03:41] \"\u001b[37mPOST /api/test HTTP/1.1\u001b[0m\" 200 -\n",
      "127.0.0.1 - - [31/Oct/2020 13:03:41] \"\u001b[37mPOST /api/test HTTP/1.1\u001b[0m\" 200 -\n"
     ]
    },
    {
     "name": "stdout",
     "output_type": "stream",
     "text": [
      "[{\"label\": \"No Mask: 99.58%\", \"x\": \"220\", \"y\": \"226\", \"x2\": \"316\", \"y2\": \"322\", \"mask\": \"0.0041550696\", \"withoutMask\": \"0.9958449\"}]\n",
      "[]\n"
     ]
    },
    {
     "name": "stderr",
     "output_type": "stream",
     "text": [
      "127.0.0.1 - - [31/Oct/2020 13:03:41] \"\u001b[37mPOST /api/test HTTP/1.1\u001b[0m\" 200 -\n"
     ]
    },
    {
     "name": "stdout",
     "output_type": "stream",
     "text": [
      "[]\n",
      "[{\"label\": \"No Mask: 99.61%\", \"x\": \"218\", \"y\": \"212\", \"x2\": \"296\", \"y2\": \"290\", \"mask\": \"0.003870799\", \"withoutMask\": \"0.99612916\"}]"
     ]
    },
    {
     "name": "stderr",
     "output_type": "stream",
     "text": [
      "127.0.0.1 - - [31/Oct/2020 13:03:42] \"\u001b[37mPOST /api/test HTTP/1.1\u001b[0m\" 200 -\n",
      "127.0.0.1 - - [31/Oct/2020 13:03:42] \"\u001b[37mPOST /api/test HTTP/1.1\u001b[0m\" 200 -\n"
     ]
    },
    {
     "name": "stdout",
     "output_type": "stream",
     "text": [
      "\n",
      "[]\n"
     ]
    },
    {
     "name": "stderr",
     "output_type": "stream",
     "text": [
      "127.0.0.1 - - [31/Oct/2020 13:03:42] \"\u001b[37mPOST /api/test HTTP/1.1\u001b[0m\" 200 -\n"
     ]
    },
    {
     "name": "stdout",
     "output_type": "stream",
     "text": [
      "[{\"label\": \"No Mask: 99.88%\", \"x\": \"216\", \"y\": \"221\", \"x2\": \"312\", \"y2\": \"317\", \"mask\": \"0.0011709846\", \"withoutMask\": \"0.99882907\"}]\n"
     ]
    },
    {
     "name": "stderr",
     "output_type": "stream",
     "text": [
      "127.0.0.1 - - [31/Oct/2020 13:03:42] \"\u001b[37mPOST /api/test HTTP/1.1\u001b[0m\" 200 -\n"
     ]
    },
    {
     "name": "stdout",
     "output_type": "stream",
     "text": [
      "[{\"label\": \"No Mask: 99.93%\", \"x\": \"219\", \"y\": \"222\", \"x2\": \"313\", \"y2\": \"316\", \"mask\": \"0.00067848794\", \"withoutMask\": \"0.9993216\"}]\n"
     ]
    },
    {
     "name": "stderr",
     "output_type": "stream",
     "text": [
      "127.0.0.1 - - [31/Oct/2020 13:03:42] \"\u001b[37mPOST /api/test HTTP/1.1\u001b[0m\" 200 -\n"
     ]
    },
    {
     "name": "stdout",
     "output_type": "stream",
     "text": [
      "[{\"label\": \"No Mask: 99.95%\", \"x\": \"216\", \"y\": \"231\", \"x2\": \"311\", \"y2\": \"326\", \"mask\": \"0.00053762627\", \"withoutMask\": \"0.9994624\"}]\n"
     ]
    },
    {
     "name": "stderr",
     "output_type": "stream",
     "text": [
      "127.0.0.1 - - [31/Oct/2020 13:03:43] \"\u001b[37mPOST /api/test HTTP/1.1\u001b[0m\" 200 -\n"
     ]
    },
    {
     "name": "stdout",
     "output_type": "stream",
     "text": [
      "[{\"label\": \"No Mask: 97.15%\", \"x\": \"120\", \"y\": \"144\", \"x2\": \"352\", \"y2\": \"376\", \"mask\": \"0.028481957\", \"withoutMask\": \"0.971518\"}]\n"
     ]
    },
    {
     "name": "stderr",
     "output_type": "stream",
     "text": [
      "127.0.0.1 - - [31/Oct/2020 13:03:43] \"\u001b[37mPOST /api/test HTTP/1.1\u001b[0m\" 200 -\n"
     ]
    },
    {
     "name": "stdout",
     "output_type": "stream",
     "text": [
      "[{\"label\": \"No Mask: 99.93%\", \"x\": \"91\", \"y\": \"146\", \"x2\": \"346\", \"y2\": \"401\", \"mask\": \"0.00070398784\", \"withoutMask\": \"0.99929595\"}]\n"
     ]
    },
    {
     "name": "stderr",
     "output_type": "stream",
     "text": [
      "127.0.0.1 - - [31/Oct/2020 13:03:43] \"\u001b[37mPOST /api/test HTTP/1.1\u001b[0m\" 200 -\n"
     ]
    },
    {
     "name": "stdout",
     "output_type": "stream",
     "text": [
      "[{\"label\": \"No Mask: 92.16%\", \"x\": \"97\", \"y\": \"153\", \"x2\": \"348\", \"y2\": \"404\", \"mask\": \"0.0783605\", \"withoutMask\": \"0.9216395\"}]\n"
     ]
    },
    {
     "name": "stderr",
     "output_type": "stream",
     "text": [
      "127.0.0.1 - - [31/Oct/2020 13:03:43] \"\u001b[37mPOST /api/test HTTP/1.1\u001b[0m\" 200 -\n"
     ]
    },
    {
     "name": "stdout",
     "output_type": "stream",
     "text": [
      "[{\"label\": \"No Mask: 98.67%\", \"x\": \"92\", \"y\": \"153\", \"x2\": \"360\", \"y2\": \"421\", \"mask\": \"0.013338125\", \"withoutMask\": \"0.98666185\"}]\n"
     ]
    },
    {
     "name": "stderr",
     "output_type": "stream",
     "text": [
      "127.0.0.1 - - [31/Oct/2020 13:03:43] \"\u001b[37mPOST /api/test HTTP/1.1\u001b[0m\" 200 -\n"
     ]
    },
    {
     "name": "stdout",
     "output_type": "stream",
     "text": [
      "[{\"label\": \"No Mask: 99.48%\", \"x\": \"111\", \"y\": \"162\", \"x2\": \"345\", \"y2\": \"396\", \"mask\": \"0.005183557\", \"withoutMask\": \"0.9948165\"}]\n"
     ]
    },
    {
     "name": "stderr",
     "output_type": "stream",
     "text": [
      "127.0.0.1 - - [31/Oct/2020 13:03:44] \"\u001b[37mPOST /api/test HTTP/1.1\u001b[0m\" 200 -\n"
     ]
    },
    {
     "name": "stdout",
     "output_type": "stream",
     "text": [
      "[{\"label\": \"No Mask: 90.59%\", \"x\": \"107\", \"y\": \"160\", \"x2\": \"342\", \"y2\": \"395\", \"mask\": \"0.09406811\", \"withoutMask\": \"0.90593195\"}]\n"
     ]
    },
    {
     "name": "stderr",
     "output_type": "stream",
     "text": [
      "127.0.0.1 - - [31/Oct/2020 13:03:44] \"\u001b[37mPOST /api/test HTTP/1.1\u001b[0m\" 200 -\n"
     ]
    },
    {
     "name": "stdout",
     "output_type": "stream",
     "text": [
      "[{\"label\": \"No Mask: 75.26%\", \"x\": \"84\", \"y\": \"153\", \"x2\": \"340\", \"y2\": \"409\", \"mask\": \"0.24739534\", \"withoutMask\": \"0.7526046\"}]\n"
     ]
    },
    {
     "name": "stderr",
     "output_type": "stream",
     "text": [
      "127.0.0.1 - - [31/Oct/2020 13:03:44] \"\u001b[37mPOST /api/test HTTP/1.1\u001b[0m\" 200 -\n"
     ]
    },
    {
     "name": "stdout",
     "output_type": "stream",
     "text": [
      "[{\"label\": \"No Mask: 99.23%\", \"x\": \"73\", \"y\": \"149\", \"x2\": \"330\", \"y2\": \"406\", \"mask\": \"0.007722084\", \"withoutMask\": \"0.99227786\"}]\n"
     ]
    },
    {
     "name": "stderr",
     "output_type": "stream",
     "text": [
      "127.0.0.1 - - [31/Oct/2020 13:03:44] \"\u001b[37mPOST /api/test HTTP/1.1\u001b[0m\" 200 -\n",
      "127.0.0.1 - - [31/Oct/2020 13:03:44] \"\u001b[37mPOST /api/test HTTP/1.1\u001b[0m\" 200 -\n"
     ]
    },
    {
     "name": "stdout",
     "output_type": "stream",
     "text": [
      "[{\"label\": \"No Mask: 97.40%\", \"x\": \"46\", \"y\": \"134\", \"x2\": \"346\", \"y2\": \"434\", \"mask\": \"0.025994323\", \"withoutMask\": \"0.97400564\"}]\n",
      "[]\n"
     ]
    },
    {
     "name": "stderr",
     "output_type": "stream",
     "text": [
      "127.0.0.1 - - [31/Oct/2020 13:03:45] \"\u001b[37mPOST /api/test HTTP/1.1\u001b[0m\" 200 -\n",
      "127.0.0.1 - - [31/Oct/2020 13:03:45] \"\u001b[37mPOST /api/test HTTP/1.1\u001b[0m\" 200 -\n"
     ]
    },
    {
     "name": "stdout",
     "output_type": "stream",
     "text": [
      "[{\"label\": \"No Mask: 98.47%\", \"x\": \"56\", \"y\": \"138\", \"x2\": \"348\", \"y2\": \"430\", \"mask\": \"0.015311752\", \"withoutMask\": \"0.9846882\"}]\n",
      "[]\n"
     ]
    },
    {
     "name": "stderr",
     "output_type": "stream",
     "text": [
      "127.0.0.1 - - [31/Oct/2020 13:03:45] \"\u001b[37mPOST /api/test HTTP/1.1\u001b[0m\" 200 -\n"
     ]
    },
    {
     "name": "stdout",
     "output_type": "stream",
     "text": [
      "[{\"label\": \"No Mask: 99.85%\", \"x\": \"57\", \"y\": \"141\", \"x2\": \"339\", \"y2\": \"423\", \"mask\": \"0.0014538013\", \"withoutMask\": \"0.99854624\"}]\n"
     ]
    },
    {
     "name": "stderr",
     "output_type": "stream",
     "text": [
      "127.0.0.1 - - [31/Oct/2020 13:03:45] \"\u001b[37mPOST /api/test HTTP/1.1\u001b[0m\" 200 -\n"
     ]
    },
    {
     "name": "stdout",
     "output_type": "stream",
     "text": [
      "[{\"label\": \"No Mask: 97.77%\", \"x\": \"95\", \"y\": \"152\", \"x2\": \"345\", \"y2\": \"402\", \"mask\": \"0.022327077\", \"withoutMask\": \"0.97767293\"}]\n"
     ]
    },
    {
     "name": "stderr",
     "output_type": "stream",
     "text": [
      "127.0.0.1 - - [31/Oct/2020 13:03:46] \"\u001b[37mPOST /api/test HTTP/1.1\u001b[0m\" 200 -\n"
     ]
    },
    {
     "name": "stdout",
     "output_type": "stream",
     "text": [
      "[{\"label\": \"No Mask: 93.81%\", \"x\": \"120\", \"y\": \"150\", \"x2\": \"373\", \"y2\": \"403\", \"mask\": \"0.061921354\", \"withoutMask\": \"0.93807864\"}]\n"
     ]
    },
    {
     "name": "stderr",
     "output_type": "stream",
     "text": [
      "127.0.0.1 - - [31/Oct/2020 13:03:46] \"\u001b[37mPOST /api/test HTTP/1.1\u001b[0m\" 200 -\n"
     ]
    },
    {
     "name": "stdout",
     "output_type": "stream",
     "text": [
      "[{\"label\": \"No Mask: 92.12%\", \"x\": \"125\", \"y\": \"150\", \"x2\": \"377\", \"y2\": \"402\", \"mask\": \"0.07883981\", \"withoutMask\": \"0.9211602\"}]\n"
     ]
    },
    {
     "name": "stderr",
     "output_type": "stream",
     "text": [
      "127.0.0.1 - - [31/Oct/2020 13:03:46] \"\u001b[37mPOST /api/test HTTP/1.1\u001b[0m\" 200 -\n"
     ]
    },
    {
     "name": "stdout",
     "output_type": "stream",
     "text": [
      "[{\"label\": \"No Mask: 88.55%\", \"x\": \"130\", \"y\": \"152\", \"x2\": \"372\", \"y2\": \"394\", \"mask\": \"0.11448565\", \"withoutMask\": \"0.8855143\"}]\n"
     ]
    },
    {
     "name": "stderr",
     "output_type": "stream",
     "text": [
      "127.0.0.1 - - [31/Oct/2020 13:03:47] \"\u001b[37mPOST /api/test HTTP/1.1\u001b[0m\" 200 -\n"
     ]
    },
    {
     "name": "stdout",
     "output_type": "stream",
     "text": [
      "[{\"label\": \"Mask: 56.85%\", \"x\": \"121\", \"y\": \"148\", \"x2\": \"378\", \"y2\": \"405\", \"mask\": \"0.568548\", \"withoutMask\": \"0.43145192\"}]\n"
     ]
    },
    {
     "name": "stderr",
     "output_type": "stream",
     "text": [
      "127.0.0.1 - - [31/Oct/2020 13:03:47] \"\u001b[37mPOST /api/test HTTP/1.1\u001b[0m\" 200 -\n"
     ]
    },
    {
     "name": "stdout",
     "output_type": "stream",
     "text": [
      "[{\"label\": \"No Mask: 79.15%\", \"x\": \"120\", \"y\": \"147\", \"x2\": \"379\", \"y2\": \"406\", \"mask\": \"0.20851076\", \"withoutMask\": \"0.79148924\"}]\n"
     ]
    },
    {
     "name": "stderr",
     "output_type": "stream",
     "text": [
      "127.0.0.1 - - [31/Oct/2020 13:03:47] \"\u001b[37mPOST /api/test HTTP/1.1\u001b[0m\" 200 -\n"
     ]
    },
    {
     "name": "stdout",
     "output_type": "stream",
     "text": [
      "[{\"label\": \"No Mask: 94.83%\", \"x\": \"124\", \"y\": \"145\", \"x2\": \"376\", \"y2\": \"397\", \"mask\": \"0.051673032\", \"withoutMask\": \"0.94832695\"}]\n"
     ]
    },
    {
     "name": "stderr",
     "output_type": "stream",
     "text": [
      "127.0.0.1 - - [31/Oct/2020 13:03:47] \"\u001b[37mPOST /api/test HTTP/1.1\u001b[0m\" 200 -\n"
     ]
    },
    {
     "name": "stdout",
     "output_type": "stream",
     "text": [
      "[{\"label\": \"No Mask: 98.53%\", \"x\": \"130\", \"y\": \"124\", \"x2\": \"361\", \"y2\": \"355\", \"mask\": \"0.014703006\", \"withoutMask\": \"0.985297\"}]\n"
     ]
    },
    {
     "name": "stderr",
     "output_type": "stream",
     "text": [
      "127.0.0.1 - - [31/Oct/2020 13:03:48] \"\u001b[37mPOST /api/test HTTP/1.1\u001b[0m\" 200 -\n"
     ]
    },
    {
     "name": "stdout",
     "output_type": "stream",
     "text": [
      "[{\"label\": \"No Mask: 99.91%\", \"x\": \"244\", \"y\": \"235\", \"x2\": \"335\", \"y2\": \"326\", \"mask\": \"0.00086654315\", \"withoutMask\": \"0.9991335\"}, {\"label\": \"No Mask: 99.54%\", \"x\": \"159\", \"y\": \"204\", \"x2\": \"296\", \"y2\": \"341\", \"mask\": \"0.0045657125\", \"withoutMask\": \"0.9954342\"}, {\"label\": \"No Mask: 74.98%\", \"x\": \"151\", \"y\": \"129\", \"x2\": \"352\", \"y2\": \"330\", \"mask\": \"0.25017172\", \"withoutMask\": \"0.7498283\"}]\n"
     ]
    },
    {
     "name": "stderr",
     "output_type": "stream",
     "text": [
      "127.0.0.1 - - [31/Oct/2020 13:03:48] \"\u001b[37mPOST /api/test HTTP/1.1\u001b[0m\" 200 -\n"
     ]
    },
    {
     "name": "stdout",
     "output_type": "stream",
     "text": [
      "[{\"label\": \"No Mask: 99.60%\", \"x\": \"254\", \"y\": \"238\", \"x2\": \"346\", \"y2\": \"330\", \"mask\": \"0.004038423\", \"withoutMask\": \"0.9959616\"}, {\"label\": \"No Mask: 99.37%\", \"x\": \"176\", \"y\": \"213\", \"x2\": \"295\", \"y2\": \"332\", \"mask\": \"0.006251726\", \"withoutMask\": \"0.9937483\"}]\n"
     ]
    },
    {
     "name": "stderr",
     "output_type": "stream",
     "text": [
      "127.0.0.1 - - [31/Oct/2020 13:03:48] \"\u001b[37mPOST /api/test HTTP/1.1\u001b[0m\" 200 -\n"
     ]
    },
    {
     "name": "stdout",
     "output_type": "stream",
     "text": [
      "[{\"label\": \"No Mask: 99.49%\", \"x\": \"259\", \"y\": \"252\", \"x2\": \"344\", \"y2\": \"337\", \"mask\": \"0.005086857\", \"withoutMask\": \"0.9949131\"}, {\"label\": \"No Mask: 61.35%\", \"x\": \"165\", \"y\": \"216\", \"x2\": \"308\", \"y2\": \"359\", \"mask\": \"0.38648188\", \"withoutMask\": \"0.6135181\"}]\n"
     ]
    },
    {
     "name": "stderr",
     "output_type": "stream",
     "text": [
      "127.0.0.1 - - [31/Oct/2020 13:03:49] \"\u001b[37mPOST /api/test HTTP/1.1\u001b[0m\" 200 -\n"
     ]
    },
    {
     "name": "stdout",
     "output_type": "stream",
     "text": [
      "[{\"label\": \"No Mask: 94.07%\", \"x\": \"140\", \"y\": \"138\", \"x2\": \"360\", \"y2\": \"358\", \"mask\": \"0.059322596\", \"withoutMask\": \"0.94067734\"}]\n"
     ]
    },
    {
     "name": "stderr",
     "output_type": "stream",
     "text": [
      "127.0.0.1 - - [31/Oct/2020 13:03:49] \"\u001b[37mPOST /api/test HTTP/1.1\u001b[0m\" 200 -\n"
     ]
    },
    {
     "name": "stdout",
     "output_type": "stream",
     "text": [
      "[{\"label\": \"No Mask: 99.02%\", \"x\": \"127\", \"y\": \"134\", \"x2\": \"364\", \"y2\": \"371\", \"mask\": \"0.00975289\", \"withoutMask\": \"0.99024713\"}, {\"label\": \"No Mask: 95.49%\", \"x\": \"158\", \"y\": \"235\", \"x2\": \"300\", \"y2\": \"377\", \"mask\": \"0.045057666\", \"withoutMask\": \"0.95494235\"}]\n"
     ]
    },
    {
     "name": "stderr",
     "output_type": "stream",
     "text": [
      "127.0.0.1 - - [31/Oct/2020 13:03:49] \"\u001b[37mPOST /api/test HTTP/1.1\u001b[0m\" 200 -\n"
     ]
    },
    {
     "name": "stdout",
     "output_type": "stream",
     "text": [
      "[{\"label\": \"No Mask: 99.75%\", \"x\": \"106\", \"y\": \"139\", \"x2\": \"367\", \"y2\": \"400\", \"mask\": \"0.0024875978\", \"withoutMask\": \"0.99751234\"}]\n"
     ]
    },
    {
     "name": "stderr",
     "output_type": "stream",
     "text": [
      "127.0.0.1 - - [31/Oct/2020 13:03:49] \"\u001b[37mPOST /api/test HTTP/1.1\u001b[0m\" 200 -\n"
     ]
    },
    {
     "name": "stdout",
     "output_type": "stream",
     "text": [
      "[{\"label\": \"No Mask: 87.81%\", \"x\": \"118\", \"y\": \"153\", \"x2\": \"353\", \"y2\": \"388\", \"mask\": \"0.12186249\", \"withoutMask\": \"0.8781375\"}]\n"
     ]
    },
    {
     "name": "stderr",
     "output_type": "stream",
     "text": [
      "127.0.0.1 - - [31/Oct/2020 13:03:50] \"\u001b[37mPOST /api/test HTTP/1.1\u001b[0m\" 200 -\n"
     ]
    },
    {
     "name": "stdout",
     "output_type": "stream",
     "text": [
      "[{\"label\": \"No Mask: 81.56%\", \"x\": \"104\", \"y\": \"144\", \"x2\": \"357\", \"y2\": \"397\", \"mask\": \"0.18438156\", \"withoutMask\": \"0.81561846\"}]\n"
     ]
    },
    {
     "name": "stderr",
     "output_type": "stream",
     "text": [
      "127.0.0.1 - - [31/Oct/2020 13:03:50] \"\u001b[37mPOST /api/test HTTP/1.1\u001b[0m\" 200 -\n"
     ]
    },
    {
     "name": "stdout",
     "output_type": "stream",
     "text": [
      "[{\"label\": \"No Mask: 93.96%\", \"x\": \"112\", \"y\": \"145\", \"x2\": \"356\", \"y2\": \"389\", \"mask\": \"0.06036171\", \"withoutMask\": \"0.9396383\"}]\n"
     ]
    },
    {
     "name": "stderr",
     "output_type": "stream",
     "text": [
      "127.0.0.1 - - [31/Oct/2020 13:03:50] \"\u001b[37mPOST /api/test HTTP/1.1\u001b[0m\" 200 -\n"
     ]
    },
    {
     "name": "stdout",
     "output_type": "stream",
     "text": [
      "[{\"label\": \"No Mask: 97.69%\", \"x\": \"100\", \"y\": \"135\", \"x2\": \"361\", \"y2\": \"396\", \"mask\": \"0.02306982\", \"withoutMask\": \"0.97693014\"}]\n"
     ]
    },
    {
     "name": "stderr",
     "output_type": "stream",
     "text": [
      "127.0.0.1 - - [31/Oct/2020 13:03:50] \"\u001b[37mPOST /api/test HTTP/1.1\u001b[0m\" 200 -\n"
     ]
    },
    {
     "name": "stdout",
     "output_type": "stream",
     "text": [
      "[{\"label\": \"No Mask: 99.27%\", \"x\": \"99\", \"y\": \"138\", \"x2\": \"359\", \"y2\": \"398\", \"mask\": \"0.0072616255\", \"withoutMask\": \"0.9927383\"}]\n"
     ]
    },
    {
     "name": "stderr",
     "output_type": "stream",
     "text": [
      "127.0.0.1 - - [31/Oct/2020 13:03:51] \"\u001b[37mPOST /api/test HTTP/1.1\u001b[0m\" 200 -\n"
     ]
    },
    {
     "name": "stdout",
     "output_type": "stream",
     "text": [
      "[{\"label\": \"No Mask: 99.86%\", \"x\": \"95\", \"y\": \"134\", \"x2\": \"359\", \"y2\": \"398\", \"mask\": \"0.0014373754\", \"withoutMask\": \"0.99856263\"}]\n"
     ]
    },
    {
     "name": "stderr",
     "output_type": "stream",
     "text": [
      "127.0.0.1 - - [31/Oct/2020 13:03:51] \"\u001b[37mPOST /api/test HTTP/1.1\u001b[0m\" 200 -\n"
     ]
    },
    {
     "name": "stdout",
     "output_type": "stream",
     "text": [
      "[{\"label\": \"No Mask: 99.54%\", \"x\": \"99\", \"y\": \"134\", \"x2\": \"359\", \"y2\": \"394\", \"mask\": \"0.0045640315\", \"withoutMask\": \"0.995436\"}]\n"
     ]
    },
    {
     "name": "stderr",
     "output_type": "stream",
     "text": [
      "127.0.0.1 - - [31/Oct/2020 13:03:51] \"\u001b[37mPOST /api/test HTTP/1.1\u001b[0m\" 200 -\n"
     ]
    },
    {
     "name": "stdout",
     "output_type": "stream",
     "text": [
      "[{\"label\": \"No Mask: 99.47%\", \"x\": \"100\", \"y\": \"136\", \"x2\": \"356\", \"y2\": \"392\", \"mask\": \"0.0053123743\", \"withoutMask\": \"0.9946877\"}]\n"
     ]
    },
    {
     "name": "stderr",
     "output_type": "stream",
     "text": [
      "127.0.0.1 - - [31/Oct/2020 13:03:51] \"\u001b[37mPOST /api/test HTTP/1.1\u001b[0m\" 200 -\n"
     ]
    },
    {
     "name": "stdout",
     "output_type": "stream",
     "text": [
      "[{\"label\": \"No Mask: 99.83%\", \"x\": \"99\", \"y\": \"133\", \"x2\": \"358\", \"y2\": \"392\", \"mask\": \"0.0017476352\", \"withoutMask\": \"0.99825233\"}]\n"
     ]
    },
    {
     "name": "stderr",
     "output_type": "stream",
     "text": [
      "127.0.0.1 - - [31/Oct/2020 13:03:51] \"\u001b[37mPOST /api/test HTTP/1.1\u001b[0m\" 200 -\n",
      "127.0.0.1 - - [31/Oct/2020 13:03:52] \"\u001b[37mPOST /api/test HTTP/1.1\u001b[0m\" 200 -\n"
     ]
    },
    {
     "name": "stdout",
     "output_type": "stream",
     "text": [
      "[{\"label\": \"No Mask: 99.92%\", \"x\": \"102\", \"y\": \"118\", \"x2\": \"360\", \"y2\": \"376\", \"mask\": \"0.0008292857\", \"withoutMask\": \"0.9991708\"}]\n",
      "[]\n"
     ]
    },
    {
     "name": "stderr",
     "output_type": "stream",
     "text": [
      "127.0.0.1 - - [31/Oct/2020 13:03:52] \"\u001b[37mPOST /api/test HTTP/1.1\u001b[0m\" 200 -\n"
     ]
    },
    {
     "name": "stdout",
     "output_type": "stream",
     "text": [
      "[{\"label\": \"No Mask: 94.49%\", \"x\": \"238\", \"y\": \"235\", \"x2\": \"335\", \"y2\": \"332\", \"mask\": \"0.05506515\", \"withoutMask\": \"0.94493484\"}, {\"label\": \"No Mask: 88.30%\", \"x\": \"153\", \"y\": \"206\", \"x2\": \"290\", \"y2\": \"343\", \"mask\": \"0.11701345\", \"withoutMask\": \"0.88298655\"}]\n"
     ]
    },
    {
     "name": "stderr",
     "output_type": "stream",
     "text": [
      "127.0.0.1 - - [31/Oct/2020 13:03:52] \"\u001b[37mPOST /api/test HTTP/1.1\u001b[0m\" 200 -\n"
     ]
    },
    {
     "name": "stdout",
     "output_type": "stream",
     "text": [
      "[{\"label\": \"No Mask: 92.96%\", \"x\": \"239\", \"y\": \"235\", \"x2\": \"337\", \"y2\": \"333\", \"mask\": \"0.07044848\", \"withoutMask\": \"0.92955154\"}, {\"label\": \"No Mask: 96.95%\", \"x\": \"155\", \"y\": \"211\", \"x2\": \"291\", \"y2\": \"347\", \"mask\": \"0.030454902\", \"withoutMask\": \"0.9695451\"}]\n"
     ]
    },
    {
     "name": "stderr",
     "output_type": "stream",
     "text": [
      "127.0.0.1 - - [31/Oct/2020 13:03:52] \"\u001b[37mPOST /api/test HTTP/1.1\u001b[0m\" 200 -\n"
     ]
    },
    {
     "name": "stdout",
     "output_type": "stream",
     "text": [
      "[{\"label\": \"No Mask: 99.73%\", \"x\": \"240\", \"y\": \"238\", \"x2\": \"336\", \"y2\": \"334\", \"mask\": \"0.0027379938\", \"withoutMask\": \"0.997262\"}]\n"
     ]
    },
    {
     "name": "stderr",
     "output_type": "stream",
     "text": [
      "127.0.0.1 - - [31/Oct/2020 13:03:53] \"\u001b[37mPOST /api/test HTTP/1.1\u001b[0m\" 200 -\n"
     ]
    },
    {
     "name": "stdout",
     "output_type": "stream",
     "text": [
      "[{\"label\": \"No Mask: 98.38%\", \"x\": \"240\", \"y\": \"239\", \"x2\": \"335\", \"y2\": \"334\", \"mask\": \"0.016249128\", \"withoutMask\": \"0.9837509\"}]\n"
     ]
    },
    {
     "name": "stderr",
     "output_type": "stream",
     "text": [
      "127.0.0.1 - - [31/Oct/2020 13:03:53] \"\u001b[37mPOST /api/test HTTP/1.1\u001b[0m\" 200 -\n"
     ]
    },
    {
     "name": "stdout",
     "output_type": "stream",
     "text": [
      "[{\"label\": \"No Mask: 98.44%\", \"x\": \"119\", \"y\": \"107\", \"x2\": \"362\", \"y2\": \"350\", \"mask\": \"0.015589815\", \"withoutMask\": \"0.98441017\"}, {\"label\": \"No Mask: 98.60%\", \"x\": \"239\", \"y\": \"237\", \"x2\": \"335\", \"y2\": \"333\", \"mask\": \"0.01399653\", \"withoutMask\": \"0.98600346\"}, {\"label\": \"No Mask: 98.81%\", \"x\": \"154\", \"y\": \"211\", \"x2\": \"291\", \"y2\": \"348\", \"mask\": \"0.011888386\", \"withoutMask\": \"0.9881116\"}]\n"
     ]
    },
    {
     "name": "stderr",
     "output_type": "stream",
     "text": [
      "127.0.0.1 - - [31/Oct/2020 13:03:54] \"\u001b[37mPOST /api/test HTTP/1.1\u001b[0m\" 200 -\n"
     ]
    },
    {
     "name": "stdout",
     "output_type": "stream",
     "text": [
      "[{\"label\": \"No Mask: 94.83%\", \"x\": \"116\", \"y\": \"107\", \"x2\": \"359\", \"y2\": \"350\", \"mask\": \"0.05170304\", \"withoutMask\": \"0.9482969\"}, {\"label\": \"No Mask: 98.10%\", \"x\": \"238\", \"y\": \"239\", \"x2\": \"336\", \"y2\": \"337\", \"mask\": \"0.018969866\", \"withoutMask\": \"0.9810301\"}]\n"
     ]
    },
    {
     "name": "stderr",
     "output_type": "stream",
     "text": [
      "127.0.0.1 - - [31/Oct/2020 13:03:54] \"\u001b[37mPOST /api/test HTTP/1.1\u001b[0m\" 200 -\n"
     ]
    },
    {
     "name": "stdout",
     "output_type": "stream",
     "text": [
      "[{\"label\": \"No Mask: 90.89%\", \"x\": \"234\", \"y\": \"240\", \"x2\": \"336\", \"y2\": \"342\", \"mask\": \"0.091085985\", \"withoutMask\": \"0.90891397\"}, {\"label\": \"No Mask: 96.62%\", \"x\": \"147\", \"y\": \"211\", \"x2\": \"287\", \"y2\": \"351\", \"mask\": \"0.033840157\", \"withoutMask\": \"0.9661598\"}]\n"
     ]
    },
    {
     "name": "stderr",
     "output_type": "stream",
     "text": [
      "127.0.0.1 - - [31/Oct/2020 13:03:54] \"\u001b[37mPOST /api/test HTTP/1.1\u001b[0m\" 200 -\n"
     ]
    },
    {
     "name": "stdout",
     "output_type": "stream",
     "text": [
      "[{\"label\": \"No Mask: 91.78%\", \"x\": \"116\", \"y\": \"110\", \"x2\": \"358\", \"y2\": \"352\", \"mask\": \"0.08215524\", \"withoutMask\": \"0.9178447\"}, {\"label\": \"No Mask: 99.35%\", \"x\": \"234\", \"y\": \"237\", \"x2\": \"337\", \"y2\": \"340\", \"mask\": \"0.006484404\", \"withoutMask\": \"0.9935156\"}, {\"label\": \"No Mask: 93.52%\", \"x\": \"145\", \"y\": \"210\", \"x2\": \"287\", \"y2\": \"352\", \"mask\": \"0.064828865\", \"withoutMask\": \"0.93517107\"}]\n"
     ]
    },
    {
     "name": "stderr",
     "output_type": "stream",
     "text": [
      "127.0.0.1 - - [31/Oct/2020 13:03:55] \"\u001b[37mPOST /api/test HTTP/1.1\u001b[0m\" 200 -\n"
     ]
    },
    {
     "name": "stdout",
     "output_type": "stream",
     "text": [
      "[{\"label\": \"No Mask: 86.17%\", \"x\": \"108\", \"y\": \"102\", \"x2\": \"372\", \"y2\": \"366\", \"mask\": \"0.13828018\", \"withoutMask\": \"0.8617198\"}]\n"
     ]
    },
    {
     "name": "stderr",
     "output_type": "stream",
     "text": [
      "127.0.0.1 - - [31/Oct/2020 13:03:55] \"\u001b[37mPOST /api/test HTTP/1.1\u001b[0m\" 200 -\n"
     ]
    },
    {
     "name": "stdout",
     "output_type": "stream",
     "text": [
      "[{\"label\": \"No Mask: 99.98%\", \"x\": \"274\", \"y\": \"247\", \"x2\": \"357\", \"y2\": \"330\", \"mask\": \"0.00024022405\", \"withoutMask\": \"0.99975973\"}, {\"label\": \"No Mask: 99.32%\", \"x\": \"188\", \"y\": \"219\", \"x2\": \"317\", \"y2\": \"348\", \"mask\": \"0.006759941\", \"withoutMask\": \"0.9932401\"}, {\"label\": \"No Mask: 54.56%\", \"x\": \"130\", \"y\": \"107\", \"x2\": \"388\", \"y2\": \"365\", \"mask\": \"0.45438802\", \"withoutMask\": \"0.545612\"}]\n"
     ]
    },
    {
     "name": "stderr",
     "output_type": "stream",
     "text": [
      "127.0.0.1 - - [31/Oct/2020 13:03:55] \"\u001b[37mPOST /api/test HTTP/1.1\u001b[0m\" 200 -\n",
      "127.0.0.1 - - [31/Oct/2020 13:03:55] \"\u001b[37mPOST /api/test HTTP/1.1\u001b[0m\" 200 -\n"
     ]
    },
    {
     "name": "stdout",
     "output_type": "stream",
     "text": [
      "[{\"label\": \"No Mask: 99.22%\", \"x\": \"133\", \"y\": \"224\", \"x2\": \"271\", \"y2\": \"362\", \"mask\": \"0.007766432\", \"withoutMask\": \"0.99223363\"}]\n",
      "[]\n"
     ]
    },
    {
     "name": "stderr",
     "output_type": "stream",
     "text": [
      "127.0.0.1 - - [31/Oct/2020 13:03:56] \"\u001b[37mPOST /api/test HTTP/1.1\u001b[0m\" 200 -\n"
     ]
    },
    {
     "name": "stdout",
     "output_type": "stream",
     "text": [
      "[{\"label\": \"No Mask: 89.04%\", \"x\": \"89\", \"y\": \"128\", \"x2\": \"333\", \"y2\": \"372\", \"mask\": \"0.10956962\", \"withoutMask\": \"0.89043033\"}]\n"
     ]
    },
    {
     "name": "stderr",
     "output_type": "stream",
     "text": [
      "127.0.0.1 - - [31/Oct/2020 13:03:56] \"\u001b[37mPOST /api/test HTTP/1.1\u001b[0m\" 200 -\n"
     ]
    },
    {
     "name": "stdout",
     "output_type": "stream",
     "text": [
      "[{\"label\": \"No Mask: 69.42%\", \"x\": \"83\", \"y\": \"128\", \"x2\": \"329\", \"y2\": \"374\", \"mask\": \"0.30584896\", \"withoutMask\": \"0.694151\"}]\n"
     ]
    },
    {
     "name": "stderr",
     "output_type": "stream",
     "text": [
      "127.0.0.1 - - [31/Oct/2020 13:03:56] \"\u001b[37mPOST /api/test HTTP/1.1\u001b[0m\" 200 -\n"
     ]
    },
    {
     "name": "stdout",
     "output_type": "stream",
     "text": [
      "[{\"label\": \"No Mask: 98.16%\", \"x\": \"86\", \"y\": \"133\", \"x2\": \"326\", \"y2\": \"373\", \"mask\": \"0.018443972\", \"withoutMask\": \"0.981556\"}]\n"
     ]
    },
    {
     "name": "stderr",
     "output_type": "stream",
     "text": [
      "127.0.0.1 - - [31/Oct/2020 13:03:56] \"\u001b[37mPOST /api/test HTTP/1.1\u001b[0m\" 200 -\n"
     ]
    },
    {
     "name": "stdout",
     "output_type": "stream",
     "text": [
      "[{\"label\": \"No Mask: 99.71%\", \"x\": \"79\", \"y\": \"119\", \"x2\": \"347\", \"y2\": \"387\", \"mask\": \"0.002911802\", \"withoutMask\": \"0.99708825\"}]\n"
     ]
    },
    {
     "name": "stderr",
     "output_type": "stream",
     "text": [
      "127.0.0.1 - - [31/Oct/2020 13:03:57] \"\u001b[37mPOST /api/test HTTP/1.1\u001b[0m\" 200 -\n"
     ]
    },
    {
     "name": "stdout",
     "output_type": "stream",
     "text": [
      "[{\"label\": \"No Mask: 91.16%\", \"x\": \"125\", \"y\": \"126\", \"x2\": \"388\", \"y2\": \"389\", \"mask\": \"0.088378936\", \"withoutMask\": \"0.9116211\"}]\n"
     ]
    },
    {
     "name": "stderr",
     "output_type": "stream",
     "text": [
      "127.0.0.1 - - [31/Oct/2020 13:03:57] \"\u001b[37mPOST /api/test HTTP/1.1\u001b[0m\" 200 -\n"
     ]
    },
    {
     "name": "stdout",
     "output_type": "stream",
     "text": [
      "[{\"label\": \"No Mask: 97.68%\", \"x\": \"151\", \"y\": \"133\", \"x2\": \"406\", \"y2\": \"388\", \"mask\": \"0.023172373\", \"withoutMask\": \"0.9768276\"}]\n"
     ]
    },
    {
     "name": "stderr",
     "output_type": "stream",
     "text": [
      "127.0.0.1 - - [31/Oct/2020 13:03:57] \"\u001b[37mPOST /api/test HTTP/1.1\u001b[0m\" 200 -\n"
     ]
    },
    {
     "name": "stdout",
     "output_type": "stream",
     "text": [
      "[{\"label\": \"No Mask: 81.42%\", \"x\": \"157\", \"y\": \"138\", \"x2\": \"403\", \"y2\": \"384\", \"mask\": \"0.18575637\", \"withoutMask\": \"0.8142436\"}]\n"
     ]
    },
    {
     "name": "stderr",
     "output_type": "stream",
     "text": [
      "127.0.0.1 - - [31/Oct/2020 13:03:57] \"\u001b[37mPOST /api/test HTTP/1.1\u001b[0m\" 200 -\n"
     ]
    },
    {
     "name": "stdout",
     "output_type": "stream",
     "text": [
      "[{\"label\": \"Mask: 72.65%\", \"x\": \"154\", \"y\": \"137\", \"x2\": \"403\", \"y2\": \"386\", \"mask\": \"0.7265153\", \"withoutMask\": \"0.2734847\"}]\n"
     ]
    },
    {
     "name": "stderr",
     "output_type": "stream",
     "text": [
      "127.0.0.1 - - [31/Oct/2020 13:03:57] \"\u001b[37mPOST /api/test HTTP/1.1\u001b[0m\" 200 -\n"
     ]
    },
    {
     "name": "stdout",
     "output_type": "stream",
     "text": [
      "[{\"label\": \"No Mask: 87.60%\", \"x\": \"164\", \"y\": \"144\", \"x2\": \"395\", \"y2\": \"375\", \"mask\": \"0.12404187\", \"withoutMask\": \"0.87595814\"}]\n"
     ]
    },
    {
     "name": "stderr",
     "output_type": "stream",
     "text": [
      "127.0.0.1 - - [31/Oct/2020 13:03:58] \"\u001b[37mPOST /api/test HTTP/1.1\u001b[0m\" 200 -\n"
     ]
    },
    {
     "name": "stdout",
     "output_type": "stream",
     "text": [
      "[{\"label\": \"No Mask: 89.53%\", \"x\": \"151\", \"y\": \"137\", \"x2\": \"399\", \"y2\": \"385\", \"mask\": \"0.10471927\", \"withoutMask\": \"0.8952808\"}]\n"
     ]
    },
    {
     "name": "stderr",
     "output_type": "stream",
     "text": [
      "127.0.0.1 - - [31/Oct/2020 13:03:58] \"\u001b[37mPOST /api/test HTTP/1.1\u001b[0m\" 200 -\n"
     ]
    },
    {
     "name": "stdout",
     "output_type": "stream",
     "text": [
      "[{\"label\": \"No Mask: 87.20%\", \"x\": \"157\", \"y\": \"141\", \"x2\": \"397\", \"y2\": \"381\", \"mask\": \"0.12800702\", \"withoutMask\": \"0.87199295\"}]\n"
     ]
    },
    {
     "name": "stderr",
     "output_type": "stream",
     "text": [
      "127.0.0.1 - - [31/Oct/2020 13:03:58] \"\u001b[37mPOST /api/test HTTP/1.1\u001b[0m\" 200 -\n"
     ]
    },
    {
     "name": "stdout",
     "output_type": "stream",
     "text": [
      "[{\"label\": \"No Mask: 92.41%\", \"x\": \"133\", \"y\": \"129\", \"x2\": \"403\", \"y2\": \"399\", \"mask\": \"0.075883776\", \"withoutMask\": \"0.92411625\"}]\n"
     ]
    },
    {
     "name": "stderr",
     "output_type": "stream",
     "text": [
      "127.0.0.1 - - [31/Oct/2020 13:03:58] \"\u001b[37mPOST /api/test HTTP/1.1\u001b[0m\" 200 -\n"
     ]
    },
    {
     "name": "stdout",
     "output_type": "stream",
     "text": [
      "[{\"label\": \"No Mask: 83.10%\", \"x\": \"135\", \"y\": \"131\", \"x2\": \"401\", \"y2\": \"397\", \"mask\": \"0.16900852\", \"withoutMask\": \"0.8309915\"}]\n"
     ]
    },
    {
     "name": "stderr",
     "output_type": "stream",
     "text": [
      "127.0.0.1 - - [31/Oct/2020 13:03:59] \"\u001b[37mPOST /api/test HTTP/1.1\u001b[0m\" 200 -\n"
     ]
    },
    {
     "name": "stdout",
     "output_type": "stream",
     "text": [
      "[{\"label\": \"No Mask: 87.33%\", \"x\": \"127\", \"y\": \"126\", \"x2\": \"403\", \"y2\": \"402\", \"mask\": \"0.12670381\", \"withoutMask\": \"0.8732962\"}]\n"
     ]
    },
    {
     "name": "stderr",
     "output_type": "stream",
     "text": [
      "127.0.0.1 - - [31/Oct/2020 13:03:59] \"\u001b[37mPOST /api/test HTTP/1.1\u001b[0m\" 200 -\n"
     ]
    },
    {
     "name": "stdout",
     "output_type": "stream",
     "text": [
      "[{\"label\": \"No Mask: 95.88%\", \"x\": \"137\", \"y\": \"135\", \"x2\": \"393\", \"y2\": \"391\", \"mask\": \"0.041239887\", \"withoutMask\": \"0.9587601\"}]\n"
     ]
    },
    {
     "name": "stderr",
     "output_type": "stream",
     "text": [
      "127.0.0.1 - - [31/Oct/2020 13:03:59] \"\u001b[37mPOST /api/test HTTP/1.1\u001b[0m\" 200 -\n"
     ]
    },
    {
     "name": "stdout",
     "output_type": "stream",
     "text": [
      "[{\"label\": \"No Mask: 96.52%\", \"x\": \"141\", \"y\": \"139\", \"x2\": \"390\", \"y2\": \"388\", \"mask\": \"0.034750856\", \"withoutMask\": \"0.9652492\"}]\n"
     ]
    },
    {
     "name": "stderr",
     "output_type": "stream",
     "text": [
      "127.0.0.1 - - [31/Oct/2020 13:03:59] \"\u001b[37mPOST /api/test HTTP/1.1\u001b[0m\" 200 -\n"
     ]
    },
    {
     "name": "stdout",
     "output_type": "stream",
     "text": [
      "[{\"label\": \"No Mask: 97.91%\", \"x\": \"143\", \"y\": \"137\", \"x2\": \"394\", \"y2\": \"388\", \"mask\": \"0.020934658\", \"withoutMask\": \"0.9790653\"}]\n"
     ]
    },
    {
     "name": "stderr",
     "output_type": "stream",
     "text": [
      "127.0.0.1 - - [31/Oct/2020 13:04:00] \"\u001b[37mPOST /api/test HTTP/1.1\u001b[0m\" 200 -\n"
     ]
    },
    {
     "name": "stdout",
     "output_type": "stream",
     "text": [
      "[{\"label\": \"No Mask: 87.36%\", \"x\": \"136\", \"y\": \"135\", \"x2\": \"395\", \"y2\": \"394\", \"mask\": \"0.12635908\", \"withoutMask\": \"0.87364095\"}]\n"
     ]
    },
    {
     "name": "stderr",
     "output_type": "stream",
     "text": [
      "127.0.0.1 - - [31/Oct/2020 13:04:00] \"\u001b[37mPOST /api/test HTTP/1.1\u001b[0m\" 200 -\n"
     ]
    },
    {
     "name": "stdout",
     "output_type": "stream",
     "text": [
      "[{\"label\": \"No Mask: 71.96%\", \"x\": \"138\", \"y\": \"135\", \"x2\": \"393\", \"y2\": \"390\", \"mask\": \"0.28040177\", \"withoutMask\": \"0.7195982\"}]\n"
     ]
    },
    {
     "name": "stderr",
     "output_type": "stream",
     "text": [
      "127.0.0.1 - - [31/Oct/2020 13:04:00] \"\u001b[37mPOST /api/test HTTP/1.1\u001b[0m\" 200 -\n"
     ]
    },
    {
     "name": "stdout",
     "output_type": "stream",
     "text": [
      "[{\"label\": \"No Mask: 96.47%\", \"x\": \"129\", \"y\": \"136\", \"x2\": \"381\", \"y2\": \"388\", \"mask\": \"0.035254437\", \"withoutMask\": \"0.9647455\"}]\n"
     ]
    },
    {
     "name": "stderr",
     "output_type": "stream",
     "text": [
      "127.0.0.1 - - [31/Oct/2020 13:04:00] \"\u001b[37mPOST /api/test HTTP/1.1\u001b[0m\" 200 -\n"
     ]
    },
    {
     "name": "stdout",
     "output_type": "stream",
     "text": [
      "[{\"label\": \"No Mask: 87.38%\", \"x\": \"121\", \"y\": \"136\", \"x2\": \"378\", \"y2\": \"393\", \"mask\": \"0.12621582\", \"withoutMask\": \"0.8737842\"}]\n"
     ]
    },
    {
     "name": "stderr",
     "output_type": "stream",
     "text": [
      "127.0.0.1 - - [31/Oct/2020 13:04:00] \"\u001b[37mPOST /api/test HTTP/1.1\u001b[0m\" 200 -\n"
     ]
    },
    {
     "name": "stdout",
     "output_type": "stream",
     "text": [
      "[{\"label\": \"No Mask: 85.11%\", \"x\": \"125\", \"y\": \"137\", \"x2\": \"381\", \"y2\": \"393\", \"mask\": \"0.14889576\", \"withoutMask\": \"0.85110426\"}]\n"
     ]
    },
    {
     "name": "stderr",
     "output_type": "stream",
     "text": [
      "127.0.0.1 - - [31/Oct/2020 13:04:01] \"\u001b[37mPOST /api/test HTTP/1.1\u001b[0m\" 200 -\n"
     ]
    },
    {
     "name": "stdout",
     "output_type": "stream",
     "text": [
      "[{\"label\": \"No Mask: 94.13%\", \"x\": \"130\", \"y\": \"139\", \"x2\": \"385\", \"y2\": \"394\", \"mask\": \"0.058728315\", \"withoutMask\": \"0.9412717\"}]\n"
     ]
    },
    {
     "name": "stderr",
     "output_type": "stream",
     "text": [
      "127.0.0.1 - - [31/Oct/2020 13:04:01] \"\u001b[37mPOST /api/test HTTP/1.1\u001b[0m\" 200 -\n"
     ]
    },
    {
     "name": "stdout",
     "output_type": "stream",
     "text": [
      "[{\"label\": \"No Mask: 85.93%\", \"x\": \"132\", \"y\": \"139\", \"x2\": \"387\", \"y2\": \"394\", \"mask\": \"0.14070624\", \"withoutMask\": \"0.85929376\"}]\n"
     ]
    },
    {
     "name": "stderr",
     "output_type": "stream",
     "text": [
      "127.0.0.1 - - [31/Oct/2020 13:04:01] \"\u001b[37mPOST /api/test HTTP/1.1\u001b[0m\" 200 -\n"
     ]
    },
    {
     "name": "stdout",
     "output_type": "stream",
     "text": [
      "[{\"label\": \"No Mask: 71.17%\", \"x\": \"130\", \"y\": \"142\", \"x2\": \"386\", \"y2\": \"398\", \"mask\": \"0.2882767\", \"withoutMask\": \"0.7117233\"}]\n"
     ]
    },
    {
     "name": "stderr",
     "output_type": "stream",
     "text": [
      "127.0.0.1 - - [31/Oct/2020 13:04:01] \"\u001b[37mPOST /api/test HTTP/1.1\u001b[0m\" 200 -\n"
     ]
    },
    {
     "name": "stdout",
     "output_type": "stream",
     "text": [
      "[{\"label\": \"No Mask: 50.97%\", \"x\": \"129\", \"y\": \"141\", \"x2\": \"386\", \"y2\": \"398\", \"mask\": \"0.49032256\", \"withoutMask\": \"0.50967747\"}]\n"
     ]
    },
    {
     "name": "stderr",
     "output_type": "stream",
     "text": [
      "127.0.0.1 - - [31/Oct/2020 13:04:02] \"\u001b[37mPOST /api/test HTTP/1.1\u001b[0m\" 200 -\n"
     ]
    },
    {
     "name": "stdout",
     "output_type": "stream",
     "text": [
      "[{\"label\": \"No Mask: 91.45%\", \"x\": \"129\", \"y\": \"141\", \"x2\": \"388\", \"y2\": \"400\", \"mask\": \"0.08546812\", \"withoutMask\": \"0.9145319\"}]\n"
     ]
    },
    {
     "name": "stderr",
     "output_type": "stream",
     "text": [
      "127.0.0.1 - - [31/Oct/2020 13:04:02] \"\u001b[37mPOST /api/test HTTP/1.1\u001b[0m\" 200 -\n"
     ]
    },
    {
     "name": "stdout",
     "output_type": "stream",
     "text": [
      "[{\"label\": \"No Mask: 94.01%\", \"x\": \"121\", \"y\": \"143\", \"x2\": \"389\", \"y2\": \"411\", \"mask\": \"0.05994174\", \"withoutMask\": \"0.94005823\"}]\n"
     ]
    },
    {
     "name": "stderr",
     "output_type": "stream",
     "text": [
      "127.0.0.1 - - [31/Oct/2020 13:04:02] \"\u001b[37mPOST /api/test HTTP/1.1\u001b[0m\" 200 -\n"
     ]
    },
    {
     "name": "stdout",
     "output_type": "stream",
     "text": [
      "[{\"label\": \"No Mask: 56.16%\", \"x\": \"97\", \"y\": \"155\", \"x2\": \"382\", \"y2\": \"440\", \"mask\": \"0.43835568\", \"withoutMask\": \"0.5616443\"}]\n"
     ]
    },
    {
     "name": "stderr",
     "output_type": "stream",
     "text": [
      "127.0.0.1 - - [31/Oct/2020 13:04:02] \"\u001b[37mPOST /api/test HTTP/1.1\u001b[0m\" 200 -\n"
     ]
    },
    {
     "name": "stdout",
     "output_type": "stream",
     "text": [
      "[{\"label\": \"No Mask: 78.81%\", \"x\": \"97\", \"y\": \"160\", \"x2\": \"380\", \"y2\": \"443\", \"mask\": \"0.21193919\", \"withoutMask\": \"0.78806084\"}]\n"
     ]
    },
    {
     "name": "stderr",
     "output_type": "stream",
     "text": [
      "127.0.0.1 - - [31/Oct/2020 13:04:03] \"\u001b[37mPOST /api/test HTTP/1.1\u001b[0m\" 200 -\n"
     ]
    },
    {
     "name": "stdout",
     "output_type": "stream",
     "text": [
      "[{\"label\": \"No Mask: 90.67%\", \"x\": \"95\", \"y\": \"163\", \"x2\": \"374\", \"y2\": \"442\", \"mask\": \"0.09331886\", \"withoutMask\": \"0.9066812\"}]\n"
     ]
    },
    {
     "name": "stderr",
     "output_type": "stream",
     "text": [
      "127.0.0.1 - - [31/Oct/2020 13:04:03] \"\u001b[37mPOST /api/test HTTP/1.1\u001b[0m\" 200 -\n"
     ]
    },
    {
     "name": "stdout",
     "output_type": "stream",
     "text": [
      "[{\"label\": \"Mask: 50.27%\", \"x\": \"92\", \"y\": \"163\", \"x2\": \"374\", \"y2\": \"445\", \"mask\": \"0.5027447\", \"withoutMask\": \"0.4972553\"}]\n"
     ]
    },
    {
     "name": "stderr",
     "output_type": "stream",
     "text": [
      "127.0.0.1 - - [31/Oct/2020 13:04:03] \"\u001b[37mPOST /api/test HTTP/1.1\u001b[0m\" 200 -\n"
     ]
    },
    {
     "name": "stdout",
     "output_type": "stream",
     "text": [
      "[{\"label\": \"No Mask: 79.32%\", \"x\": \"91\", \"y\": \"163\", \"x2\": \"374\", \"y2\": \"446\", \"mask\": \"0.20676975\", \"withoutMask\": \"0.79323024\"}]\n"
     ]
    },
    {
     "name": "stderr",
     "output_type": "stream",
     "text": [
      "127.0.0.1 - - [31/Oct/2020 13:04:03] \"\u001b[37mPOST /api/test HTTP/1.1\u001b[0m\" 200 -\n"
     ]
    },
    {
     "name": "stdout",
     "output_type": "stream",
     "text": [
      "[{\"label\": \"No Mask: 69.42%\", \"x\": \"93\", \"y\": \"165\", \"x2\": \"373\", \"y2\": \"445\", \"mask\": \"0.30584183\", \"withoutMask\": \"0.69415814\"}]\n"
     ]
    },
    {
     "name": "stderr",
     "output_type": "stream",
     "text": [
      "127.0.0.1 - - [31/Oct/2020 13:04:03] \"\u001b[37mPOST /api/test HTTP/1.1\u001b[0m\" 200 -\n"
     ]
    },
    {
     "name": "stdout",
     "output_type": "stream",
     "text": [
      "[{\"label\": \"Mask: 56.06%\", \"x\": \"90\", \"y\": \"162\", \"x2\": \"377\", \"y2\": \"449\", \"mask\": \"0.5605923\", \"withoutMask\": \"0.43940768\"}]\n"
     ]
    },
    {
     "name": "stderr",
     "output_type": "stream",
     "text": [
      "127.0.0.1 - - [31/Oct/2020 13:04:04] \"\u001b[37mPOST /api/test HTTP/1.1\u001b[0m\" 200 -\n"
     ]
    },
    {
     "name": "stdout",
     "output_type": "stream",
     "text": [
      "[{\"label\": \"Mask: 59.02%\", \"x\": \"76\", \"y\": \"136\", \"x2\": \"379\", \"y2\": \"439\", \"mask\": \"0.5902254\", \"withoutMask\": \"0.40977457\"}]\n"
     ]
    },
    {
     "name": "stderr",
     "output_type": "stream",
     "text": [
      "127.0.0.1 - - [31/Oct/2020 13:04:04] \"\u001b[37mPOST /api/test HTTP/1.1\u001b[0m\" 200 -\n"
     ]
    },
    {
     "name": "stdout",
     "output_type": "stream",
     "text": [
      "[{\"label\": \"No Mask: 55.23%\", \"x\": \"43\", \"y\": \"60\", \"x2\": \"397\", \"y2\": \"414\", \"mask\": \"0.44766453\", \"withoutMask\": \"0.55233544\"}]\n"
     ]
    },
    {
     "name": "stderr",
     "output_type": "stream",
     "text": [
      "127.0.0.1 - - [31/Oct/2020 13:04:05] \"\u001b[37mPOST /api/test HTTP/1.1\u001b[0m\" 200 -\n"
     ]
    },
    {
     "name": "stdout",
     "output_type": "stream",
     "text": [
      "[{\"label\": \"No Mask: 90.72%\", \"x\": \"40\", \"y\": \"53\", \"x2\": \"402\", \"y2\": \"415\", \"mask\": \"0.0928011\", \"withoutMask\": \"0.9071989\"}]\n"
     ]
    },
    {
     "name": "stderr",
     "output_type": "stream",
     "text": [
      "127.0.0.1 - - [31/Oct/2020 13:04:05] \"\u001b[37mPOST /api/test HTTP/1.1\u001b[0m\" 200 -\n"
     ]
    },
    {
     "name": "stdout",
     "output_type": "stream",
     "text": [
      "[{\"label\": \"No Mask: 77.99%\", \"x\": \"42\", \"y\": \"55\", \"x2\": \"400\", \"y2\": \"413\", \"mask\": \"0.22007692\", \"withoutMask\": \"0.7799231\"}]\n"
     ]
    },
    {
     "name": "stderr",
     "output_type": "stream",
     "text": [
      "127.0.0.1 - - [31/Oct/2020 13:04:05] \"\u001b[37mPOST /api/test HTTP/1.1\u001b[0m\" 200 -\n"
     ]
    },
    {
     "name": "stdout",
     "output_type": "stream",
     "text": [
      "[{\"label\": \"No Mask: 66.51%\", \"x\": \"46\", \"y\": \"58\", \"x2\": \"398\", \"y2\": \"410\", \"mask\": \"0.33485052\", \"withoutMask\": \"0.66514957\"}]\n"
     ]
    },
    {
     "name": "stderr",
     "output_type": "stream",
     "text": [
      "127.0.0.1 - - [31/Oct/2020 13:04:05] \"\u001b[37mPOST /api/test HTTP/1.1\u001b[0m\" 200 -\n"
     ]
    },
    {
     "name": "stdout",
     "output_type": "stream",
     "text": [
      "[{\"label\": \"No Mask: 93.96%\", \"x\": \"46\", \"y\": \"63\", \"x2\": \"394\", \"y2\": \"411\", \"mask\": \"0.060444683\", \"withoutMask\": \"0.9395553\"}]\n"
     ]
    },
    {
     "name": "stderr",
     "output_type": "stream",
     "text": [
      "127.0.0.1 - - [31/Oct/2020 13:04:06] \"\u001b[37mPOST /api/test HTTP/1.1\u001b[0m\" 200 -\n"
     ]
    },
    {
     "name": "stdout",
     "output_type": "stream",
     "text": [
      "[{\"label\": \"No Mask: 88.89%\", \"x\": \"46\", \"y\": \"66\", \"x2\": \"393\", \"y2\": \"413\", \"mask\": \"0.111115016\", \"withoutMask\": \"0.88888496\"}]\n"
     ]
    },
    {
     "name": "stderr",
     "output_type": "stream",
     "text": [
      "127.0.0.1 - - [31/Oct/2020 13:04:06] \"\u001b[37mPOST /api/test HTTP/1.1\u001b[0m\" 200 -\n"
     ]
    },
    {
     "name": "stdout",
     "output_type": "stream",
     "text": [
      "[{\"label\": \"No Mask: 79.26%\", \"x\": \"66\", \"y\": \"76\", \"x2\": \"387\", \"y2\": \"397\", \"mask\": \"0.20743598\", \"withoutMask\": \"0.79256403\"}]\n"
     ]
    },
    {
     "name": "stderr",
     "output_type": "stream",
     "text": [
      "127.0.0.1 - - [31/Oct/2020 13:04:06] \"\u001b[37mPOST /api/test HTTP/1.1\u001b[0m\" 200 -\n"
     ]
    },
    {
     "name": "stdout",
     "output_type": "stream",
     "text": [
      "[{\"label\": \"No Mask: 70.97%\", \"x\": \"69\", \"y\": \"88\", \"x2\": \"391\", \"y2\": \"410\", \"mask\": \"0.29034021\", \"withoutMask\": \"0.7096599\"}]\n"
     ]
    },
    {
     "name": "stderr",
     "output_type": "stream",
     "text": [
      "127.0.0.1 - - [31/Oct/2020 13:04:06] \"\u001b[37mPOST /api/test HTTP/1.1\u001b[0m\" 200 -\n"
     ]
    },
    {
     "name": "stdout",
     "output_type": "stream",
     "text": [
      "[{\"label\": \"No Mask: 97.67%\", \"x\": \"74\", \"y\": \"88\", \"x2\": \"396\", \"y2\": \"410\", \"mask\": \"0.023301298\", \"withoutMask\": \"0.9766987\"}]\n"
     ]
    },
    {
     "name": "stderr",
     "output_type": "stream",
     "text": [
      "127.0.0.1 - - [31/Oct/2020 13:04:07] \"\u001b[37mPOST /api/test HTTP/1.1\u001b[0m\" 200 -\n"
     ]
    },
    {
     "name": "stdout",
     "output_type": "stream",
     "text": [
      "[{\"label\": \"No Mask: 90.24%\", \"x\": \"61\", \"y\": \"90\", \"x2\": \"383\", \"y2\": \"412\", \"mask\": \"0.09758048\", \"withoutMask\": \"0.90241945\"}]\n"
     ]
    },
    {
     "name": "stderr",
     "output_type": "stream",
     "text": [
      "127.0.0.1 - - [31/Oct/2020 13:04:07] \"\u001b[37mPOST /api/test HTTP/1.1\u001b[0m\" 200 -\n"
     ]
    },
    {
     "name": "stdout",
     "output_type": "stream",
     "text": [
      "[{\"label\": \"No Mask: 95.93%\", \"x\": \"63\", \"y\": \"89\", \"x2\": \"388\", \"y2\": \"414\", \"mask\": \"0.04065314\", \"withoutMask\": \"0.9593469\"}]\n"
     ]
    },
    {
     "name": "stderr",
     "output_type": "stream",
     "text": [
      "127.0.0.1 - - [31/Oct/2020 13:04:07] \"\u001b[37mPOST /api/test HTTP/1.1\u001b[0m\" 200 -\n"
     ]
    },
    {
     "name": "stdout",
     "output_type": "stream",
     "text": [
      "[{\"label\": \"No Mask: 63.26%\", \"x\": \"59\", \"y\": \"83\", \"x2\": \"392\", \"y2\": \"416\", \"mask\": \"0.36744934\", \"withoutMask\": \"0.6325506\"}]\n"
     ]
    },
    {
     "name": "stderr",
     "output_type": "stream",
     "text": [
      "127.0.0.1 - - [31/Oct/2020 13:04:07] \"\u001b[37mPOST /api/test HTTP/1.1\u001b[0m\" 200 -\n"
     ]
    },
    {
     "name": "stdout",
     "output_type": "stream",
     "text": [
      "[{\"label\": \"No Mask: 97.08%\", \"x\": \"65\", \"y\": \"89\", \"x2\": \"389\", \"y2\": \"413\", \"mask\": \"0.029201688\", \"withoutMask\": \"0.9707983\"}]\n"
     ]
    },
    {
     "name": "stderr",
     "output_type": "stream",
     "text": [
      "127.0.0.1 - - [31/Oct/2020 13:04:08] \"\u001b[37mPOST /api/test HTTP/1.1\u001b[0m\" 200 -\n"
     ]
    },
    {
     "name": "stdout",
     "output_type": "stream",
     "text": [
      "[{\"label\": \"No Mask: 84.80%\", \"x\": \"68\", \"y\": \"92\", \"x2\": \"390\", \"y2\": \"414\", \"mask\": \"0.15195993\", \"withoutMask\": \"0.84804004\"}]\n"
     ]
    },
    {
     "name": "stderr",
     "output_type": "stream",
     "text": [
      "127.0.0.1 - - [31/Oct/2020 13:04:08] \"\u001b[37mPOST /api/test HTTP/1.1\u001b[0m\" 200 -\n"
     ]
    },
    {
     "name": "stdout",
     "output_type": "stream",
     "text": [
      "[{\"label\": \"No Mask: 83.08%\", \"x\": \"62\", \"y\": \"90\", \"x2\": \"390\", \"y2\": \"418\", \"mask\": \"0.16924451\", \"withoutMask\": \"0.8307555\"}]\n"
     ]
    },
    {
     "name": "stderr",
     "output_type": "stream",
     "text": [
      "127.0.0.1 - - [31/Oct/2020 13:04:08] \"\u001b[37mPOST /api/test HTTP/1.1\u001b[0m\" 200 -\n"
     ]
    },
    {
     "name": "stdout",
     "output_type": "stream",
     "text": [
      "[{\"label\": \"No Mask: 87.00%\", \"x\": \"72\", \"y\": \"92\", \"x2\": \"392\", \"y2\": \"412\", \"mask\": \"0.1299569\", \"withoutMask\": \"0.87004304\"}]\n"
     ]
    },
    {
     "name": "stderr",
     "output_type": "stream",
     "text": [
      "127.0.0.1 - - [31/Oct/2020 13:04:08] \"\u001b[37mPOST /api/test HTTP/1.1\u001b[0m\" 200 -\n"
     ]
    },
    {
     "name": "stdout",
     "output_type": "stream",
     "text": [
      "[{\"label\": \"No Mask: 97.50%\", \"x\": \"68\", \"y\": \"94\", \"x2\": \"390\", \"y2\": \"416\", \"mask\": \"0.024986435\", \"withoutMask\": \"0.97501355\"}]\n"
     ]
    },
    {
     "name": "stderr",
     "output_type": "stream",
     "text": [
      "127.0.0.1 - - [31/Oct/2020 13:04:09] \"\u001b[37mPOST /api/test HTTP/1.1\u001b[0m\" 200 -\n"
     ]
    },
    {
     "name": "stdout",
     "output_type": "stream",
     "text": [
      "[{\"label\": \"No Mask: 77.47%\", \"x\": \"73\", \"y\": \"98\", \"x2\": \"388\", \"y2\": \"413\", \"mask\": \"0.22534\", \"withoutMask\": \"0.77466\"}]\n"
     ]
    },
    {
     "name": "stderr",
     "output_type": "stream",
     "text": [
      "127.0.0.1 - - [31/Oct/2020 13:04:09] \"\u001b[37mPOST /api/test HTTP/1.1\u001b[0m\" 200 -\n"
     ]
    },
    {
     "name": "stdout",
     "output_type": "stream",
     "text": [
      "[{\"label\": \"No Mask: 80.36%\", \"x\": \"70\", \"y\": \"92\", \"x2\": \"394\", \"y2\": \"416\", \"mask\": \"0.19642857\", \"withoutMask\": \"0.8035714\"}]\n"
     ]
    },
    {
     "name": "stderr",
     "output_type": "stream",
     "text": [
      "127.0.0.1 - - [31/Oct/2020 13:04:09] \"\u001b[37mPOST /api/test HTTP/1.1\u001b[0m\" 200 -\n"
     ]
    },
    {
     "name": "stdout",
     "output_type": "stream",
     "text": [
      "[{\"label\": \"No Mask: 54.71%\", \"x\": \"73\", \"y\": \"96\", \"x2\": \"394\", \"y2\": \"417\", \"mask\": \"0.45289475\", \"withoutMask\": \"0.5471053\"}]\n"
     ]
    },
    {
     "name": "stderr",
     "output_type": "stream",
     "text": [
      "127.0.0.1 - - [31/Oct/2020 13:04:09] \"\u001b[37mPOST /api/test HTTP/1.1\u001b[0m\" 200 -\n"
     ]
    },
    {
     "name": "stdout",
     "output_type": "stream",
     "text": [
      "[{\"label\": \"Mask: 59.15%\", \"x\": \"70\", \"y\": \"90\", \"x2\": \"400\", \"y2\": \"420\", \"mask\": \"0.5915327\", \"withoutMask\": \"0.40846732\"}]\n"
     ]
    },
    {
     "name": "stderr",
     "output_type": "stream",
     "text": [
      "127.0.0.1 - - [31/Oct/2020 13:04:10] \"\u001b[37mPOST /api/test HTTP/1.1\u001b[0m\" 200 -\n"
     ]
    },
    {
     "name": "stdout",
     "output_type": "stream",
     "text": [
      "[{\"label\": \"No Mask: 97.18%\", \"x\": \"74\", \"y\": \"93\", \"x2\": \"395\", \"y2\": \"414\", \"mask\": \"0.028217528\", \"withoutMask\": \"0.97178245\"}]\n"
     ]
    },
    {
     "name": "stderr",
     "output_type": "stream",
     "text": [
      "127.0.0.1 - - [31/Oct/2020 13:04:10] \"\u001b[37mPOST /api/test HTTP/1.1\u001b[0m\" 200 -\n"
     ]
    },
    {
     "name": "stdout",
     "output_type": "stream",
     "text": [
      "[{\"label\": \"No Mask: 70.84%\", \"x\": \"71\", \"y\": \"93\", \"x2\": \"395\", \"y2\": \"417\", \"mask\": \"0.29161057\", \"withoutMask\": \"0.7083894\"}]\n"
     ]
    },
    {
     "name": "stderr",
     "output_type": "stream",
     "text": [
      "127.0.0.1 - - [31/Oct/2020 13:04:10] \"\u001b[37mPOST /api/test HTTP/1.1\u001b[0m\" 200 -\n"
     ]
    },
    {
     "name": "stdout",
     "output_type": "stream",
     "text": [
      "[{\"label\": \"No Mask: 93.11%\", \"x\": \"72\", \"y\": \"95\", \"x2\": \"393\", \"y2\": \"416\", \"mask\": \"0.06888681\", \"withoutMask\": \"0.9311132\"}]\n"
     ]
    },
    {
     "name": "stderr",
     "output_type": "stream",
     "text": [
      "127.0.0.1 - - [31/Oct/2020 13:04:10] \"\u001b[37mPOST /api/test HTTP/1.1\u001b[0m\" 200 -\n"
     ]
    },
    {
     "name": "stdout",
     "output_type": "stream",
     "text": [
      "[{\"label\": \"No Mask: 87.37%\", \"x\": \"74\", \"y\": \"94\", \"x2\": \"393\", \"y2\": \"413\", \"mask\": \"0.126327\", \"withoutMask\": \"0.873673\"}]\n"
     ]
    },
    {
     "name": "stderr",
     "output_type": "stream",
     "text": [
      "127.0.0.1 - - [31/Oct/2020 13:04:11] \"\u001b[37mPOST /api/test HTTP/1.1\u001b[0m\" 200 -\n"
     ]
    },
    {
     "name": "stdout",
     "output_type": "stream",
     "text": [
      "[{\"label\": \"No Mask: 92.32%\", \"x\": \"69\", \"y\": \"95\", \"x2\": \"398\", \"y2\": \"424\", \"mask\": \"0.076751515\", \"withoutMask\": \"0.92324847\"}]\n"
     ]
    },
    {
     "name": "stderr",
     "output_type": "stream",
     "text": [
      "127.0.0.1 - - [31/Oct/2020 13:04:11] \"\u001b[37mPOST /api/test HTTP/1.1\u001b[0m\" 200 -\n"
     ]
    },
    {
     "name": "stdout",
     "output_type": "stream",
     "text": [
      "[{\"label\": \"Mask: 62.40%\", \"x\": \"61\", \"y\": \"90\", \"x2\": \"404\", \"y2\": \"433\", \"mask\": \"0.623974\", \"withoutMask\": \"0.376026\"}]\n"
     ]
    },
    {
     "name": "stderr",
     "output_type": "stream",
     "text": [
      "127.0.0.1 - - [31/Oct/2020 13:04:11] \"\u001b[37mPOST /api/test HTTP/1.1\u001b[0m\" 200 -\n"
     ]
    },
    {
     "name": "stdout",
     "output_type": "stream",
     "text": [
      "[{\"label\": \"No Mask: 79.99%\", \"x\": \"69\", \"y\": \"95\", \"x2\": \"393\", \"y2\": \"419\", \"mask\": \"0.20008908\", \"withoutMask\": \"0.7999109\"}]\n"
     ]
    },
    {
     "name": "stderr",
     "output_type": "stream",
     "text": [
      "127.0.0.1 - - [31/Oct/2020 13:04:11] \"\u001b[37mPOST /api/test HTTP/1.1\u001b[0m\" 200 -\n"
     ]
    },
    {
     "name": "stdout",
     "output_type": "stream",
     "text": [
      "[{\"label\": \"No Mask: 93.15%\", \"x\": \"65\", \"y\": \"91\", \"x2\": \"396\", \"y2\": \"422\", \"mask\": \"0.06853329\", \"withoutMask\": \"0.93146664\"}]\n"
     ]
    },
    {
     "name": "stderr",
     "output_type": "stream",
     "text": [
      "127.0.0.1 - - [31/Oct/2020 13:04:11] \"\u001b[37mPOST /api/test HTTP/1.1\u001b[0m\" 200 -\n"
     ]
    },
    {
     "name": "stdout",
     "output_type": "stream",
     "text": [
      "[{\"label\": \"No Mask: 94.48%\", \"x\": \"68\", \"y\": \"93\", \"x2\": \"393\", \"y2\": \"418\", \"mask\": \"0.05524505\", \"withoutMask\": \"0.94475496\"}]\n"
     ]
    },
    {
     "name": "stderr",
     "output_type": "stream",
     "text": [
      "127.0.0.1 - - [31/Oct/2020 13:04:12] \"\u001b[37mPOST /api/test HTTP/1.1\u001b[0m\" 200 -\n"
     ]
    },
    {
     "name": "stdout",
     "output_type": "stream",
     "text": [
      "[{\"label\": \"No Mask: 90.31%\", \"x\": \"60\", \"y\": \"89\", \"x2\": \"401\", \"y2\": \"430\", \"mask\": \"0.09692031\", \"withoutMask\": \"0.9030797\"}]\n"
     ]
    },
    {
     "name": "stderr",
     "output_type": "stream",
     "text": [
      "127.0.0.1 - - [31/Oct/2020 13:04:12] \"\u001b[37mPOST /api/test HTTP/1.1\u001b[0m\" 200 -\n"
     ]
    },
    {
     "name": "stdout",
     "output_type": "stream",
     "text": [
      "[{\"label\": \"No Mask: 83.67%\", \"x\": \"65\", \"y\": \"93\", \"x2\": \"399\", \"y2\": \"427\", \"mask\": \"0.16331233\", \"withoutMask\": \"0.8366877\"}]\n"
     ]
    },
    {
     "name": "stderr",
     "output_type": "stream",
     "text": [
      "127.0.0.1 - - [31/Oct/2020 13:04:12] \"\u001b[37mPOST /api/test HTTP/1.1\u001b[0m\" 200 -\n"
     ]
    },
    {
     "name": "stdout",
     "output_type": "stream",
     "text": [
      "[{\"label\": \"No Mask: 85.91%\", \"x\": \"73\", \"y\": \"96\", \"x2\": \"399\", \"y2\": \"422\", \"mask\": \"0.14091624\", \"withoutMask\": \"0.85908383\"}]\n"
     ]
    },
    {
     "name": "stderr",
     "output_type": "stream",
     "text": [
      "127.0.0.1 - - [31/Oct/2020 13:04:12] \"\u001b[37mPOST /api/test HTTP/1.1\u001b[0m\" 200 -\n"
     ]
    },
    {
     "name": "stdout",
     "output_type": "stream",
     "text": [
      "[{\"label\": \"No Mask: 76.87%\", \"x\": \"71\", \"y\": \"93\", \"x2\": \"399\", \"y2\": \"421\", \"mask\": \"0.23134689\", \"withoutMask\": \"0.7686531\"}]\n"
     ]
    },
    {
     "name": "stderr",
     "output_type": "stream",
     "text": [
      "127.0.0.1 - - [31/Oct/2020 13:04:13] \"\u001b[37mPOST /api/test HTTP/1.1\u001b[0m\" 200 -\n"
     ]
    },
    {
     "name": "stdout",
     "output_type": "stream",
     "text": [
      "[{\"label\": \"No Mask: 96.91%\", \"x\": \"71\", \"y\": \"93\", \"x2\": \"397\", \"y2\": \"419\", \"mask\": \"0.030894551\", \"withoutMask\": \"0.9691055\"}]\n"
     ]
    },
    {
     "name": "stderr",
     "output_type": "stream",
     "text": [
      "127.0.0.1 - - [31/Oct/2020 13:04:13] \"\u001b[37mPOST /api/test HTTP/1.1\u001b[0m\" 200 -\n"
     ]
    },
    {
     "name": "stdout",
     "output_type": "stream",
     "text": [
      "[{\"label\": \"No Mask: 73.01%\", \"x\": \"75\", \"y\": \"100\", \"x2\": \"396\", \"y2\": \"421\", \"mask\": \"0.26989117\", \"withoutMask\": \"0.73010874\"}]\n"
     ]
    },
    {
     "name": "stderr",
     "output_type": "stream",
     "text": [
      "127.0.0.1 - - [31/Oct/2020 13:04:13] \"\u001b[37mPOST /api/test HTTP/1.1\u001b[0m\" 200 -\n"
     ]
    },
    {
     "name": "stdout",
     "output_type": "stream",
     "text": [
      "[{\"label\": \"No Mask: 93.08%\", \"x\": \"74\", \"y\": \"99\", \"x2\": \"396\", \"y2\": \"421\", \"mask\": \"0.06922257\", \"withoutMask\": \"0.9307774\"}]\n"
     ]
    },
    {
     "name": "stderr",
     "output_type": "stream",
     "text": [
      "127.0.0.1 - - [31/Oct/2020 13:04:13] \"\u001b[37mPOST /api/test HTTP/1.1\u001b[0m\" 200 -\n"
     ]
    },
    {
     "name": "stdout",
     "output_type": "stream",
     "text": [
      "[{\"label\": \"No Mask: 72.57%\", \"x\": \"85\", \"y\": \"104\", \"x2\": \"394\", \"y2\": \"413\", \"mask\": \"0.2742921\", \"withoutMask\": \"0.7257079\"}]\n"
     ]
    },
    {
     "name": "stderr",
     "output_type": "stream",
     "text": [
      "127.0.0.1 - - [31/Oct/2020 13:04:14] \"\u001b[37mPOST /api/test HTTP/1.1\u001b[0m\" 200 -\n"
     ]
    },
    {
     "name": "stdout",
     "output_type": "stream",
     "text": [
      "[{\"label\": \"No Mask: 78.24%\", \"x\": \"76\", \"y\": \"101\", \"x2\": \"395\", \"y2\": \"420\", \"mask\": \"0.21759717\", \"withoutMask\": \"0.78240275\"}]\n"
     ]
    },
    {
     "name": "stderr",
     "output_type": "stream",
     "text": [
      "127.0.0.1 - - [31/Oct/2020 13:04:14] \"\u001b[37mPOST /api/test HTTP/1.1\u001b[0m\" 200 -\n"
     ]
    },
    {
     "name": "stdout",
     "output_type": "stream",
     "text": [
      "[{\"label\": \"No Mask: 98.46%\", \"x\": \"72\", \"y\": \"103\", \"x2\": \"390\", \"y2\": \"421\", \"mask\": \"0.015371792\", \"withoutMask\": \"0.9846282\"}]\n"
     ]
    },
    {
     "name": "stderr",
     "output_type": "stream",
     "text": [
      "127.0.0.1 - - [31/Oct/2020 13:04:14] \"\u001b[37mPOST /api/test HTTP/1.1\u001b[0m\" 200 -\n"
     ]
    },
    {
     "name": "stdout",
     "output_type": "stream",
     "text": [
      "[{\"label\": \"No Mask: 95.58%\", \"x\": \"66\", \"y\": \"100\", \"x2\": \"394\", \"y2\": \"428\", \"mask\": \"0.04421073\", \"withoutMask\": \"0.95578927\"}]\n"
     ]
    },
    {
     "name": "stderr",
     "output_type": "stream",
     "text": [
      "127.0.0.1 - - [31/Oct/2020 13:04:14] \"\u001b[37mPOST /api/test HTTP/1.1\u001b[0m\" 200 -\n"
     ]
    },
    {
     "name": "stdout",
     "output_type": "stream",
     "text": [
      "[{\"label\": \"No Mask: 94.43%\", \"x\": \"63\", \"y\": \"96\", \"x2\": \"398\", \"y2\": \"431\", \"mask\": \"0.055694815\", \"withoutMask\": \"0.94430524\"}]\n"
     ]
    },
    {
     "name": "stderr",
     "output_type": "stream",
     "text": [
      "127.0.0.1 - - [31/Oct/2020 13:04:15] \"\u001b[37mPOST /api/test HTTP/1.1\u001b[0m\" 200 -\n"
     ]
    },
    {
     "name": "stdout",
     "output_type": "stream",
     "text": [
      "[{\"label\": \"No Mask: 97.49%\", \"x\": \"64\", \"y\": \"92\", \"x2\": \"398\", \"y2\": \"426\", \"mask\": \"0.025065482\", \"withoutMask\": \"0.9749346\"}]\n"
     ]
    },
    {
     "name": "stderr",
     "output_type": "stream",
     "text": [
      "127.0.0.1 - - [31/Oct/2020 13:04:15] \"\u001b[37mPOST /api/test HTTP/1.1\u001b[0m\" 200 -\n"
     ]
    },
    {
     "name": "stdout",
     "output_type": "stream",
     "text": [
      "[{\"label\": \"No Mask: 83.18%\", \"x\": \"65\", \"y\": \"95\", \"x2\": \"399\", \"y2\": \"429\", \"mask\": \"0.16818729\", \"withoutMask\": \"0.8318127\"}]\n"
     ]
    },
    {
     "name": "stderr",
     "output_type": "stream",
     "text": [
      "127.0.0.1 - - [31/Oct/2020 13:04:15] \"\u001b[37mPOST /api/test HTTP/1.1\u001b[0m\" 200 -\n"
     ]
    },
    {
     "name": "stdout",
     "output_type": "stream",
     "text": [
      "[{\"label\": \"No Mask: 90.13%\", \"x\": \"65\", \"y\": \"95\", \"x2\": \"397\", \"y2\": \"427\", \"mask\": \"0.098701425\", \"withoutMask\": \"0.9012985\"}]\n"
     ]
    },
    {
     "name": "stderr",
     "output_type": "stream",
     "text": [
      "127.0.0.1 - - [31/Oct/2020 13:04:15] \"\u001b[37mPOST /api/test HTTP/1.1\u001b[0m\" 200 -\n"
     ]
    },
    {
     "name": "stdout",
     "output_type": "stream",
     "text": [
      "[{\"label\": \"No Mask: 76.48%\", \"x\": \"71\", \"y\": \"105\", \"x2\": \"391\", \"y2\": \"425\", \"mask\": \"0.23521091\", \"withoutMask\": \"0.76478904\"}]\n"
     ]
    },
    {
     "name": "stderr",
     "output_type": "stream",
     "text": [
      "127.0.0.1 - - [31/Oct/2020 13:04:16] \"\u001b[37mPOST /api/test HTTP/1.1\u001b[0m\" 200 -\n"
     ]
    },
    {
     "name": "stdout",
     "output_type": "stream",
     "text": [
      "[{\"label\": \"No Mask: 94.35%\", \"x\": \"73\", \"y\": \"103\", \"x2\": \"396\", \"y2\": \"426\", \"mask\": \"0.056455437\", \"withoutMask\": \"0.9435445\"}]\n"
     ]
    },
    {
     "name": "stderr",
     "output_type": "stream",
     "text": [
      "127.0.0.1 - - [31/Oct/2020 13:04:16] \"\u001b[37mPOST /api/test HTTP/1.1\u001b[0m\" 200 -\n"
     ]
    },
    {
     "name": "stdout",
     "output_type": "stream",
     "text": [
      "[{\"label\": \"No Mask: 98.43%\", \"x\": \"78\", \"y\": \"66\", \"x2\": \"378\", \"y2\": \"366\", \"mask\": \"0.015663251\", \"withoutMask\": \"0.98433673\"}, {\"label\": \"No Mask: 88.99%\", \"x\": \"236\", \"y\": \"216\", \"x2\": \"360\", \"y2\": \"340\", \"mask\": \"0.110057265\", \"withoutMask\": \"0.8899427\"}, {\"label\": \"No Mask: 97.86%\", \"x\": \"128\", \"y\": \"183\", \"x2\": \"311\", \"y2\": \"366\", \"mask\": \"0.021351062\", \"withoutMask\": \"0.97864896\"}]\n"
     ]
    },
    {
     "name": "stderr",
     "output_type": "stream",
     "text": [
      "127.0.0.1 - - [31/Oct/2020 13:04:16] \"\u001b[37mPOST /api/test HTTP/1.1\u001b[0m\" 200 -\n"
     ]
    },
    {
     "name": "stdout",
     "output_type": "stream",
     "text": [
      "[{\"label\": \"No Mask: 97.46%\", \"x\": \"248\", \"y\": \"204\", \"x2\": \"362\", \"y2\": \"318\", \"mask\": \"0.025402453\", \"withoutMask\": \"0.9745976\"}, {\"label\": \"No Mask: 99.70%\", \"x\": \"152\", \"y\": \"176\", \"x2\": \"297\", \"y2\": \"321\", \"mask\": \"0.0029935618\", \"withoutMask\": \"0.9970065\"}]\n"
     ]
    },
    {
     "name": "stderr",
     "output_type": "stream",
     "text": [
      "127.0.0.1 - - [31/Oct/2020 13:04:17] \"\u001b[37mPOST /api/test HTTP/1.1\u001b[0m\" 200 -\n"
     ]
    },
    {
     "name": "stdout",
     "output_type": "stream",
     "text": [
      "[{\"label\": \"No Mask: 95.15%\", \"x\": \"143\", \"y\": \"154\", \"x2\": \"302\", \"y2\": \"313\", \"mask\": \"0.04851382\", \"withoutMask\": \"0.95148623\"}, {\"label\": \"No Mask: 95.89%\", \"x\": \"246\", \"y\": \"191\", \"x2\": \"361\", \"y2\": \"306\", \"mask\": \"0.041065037\", \"withoutMask\": \"0.958935\"}]\n"
     ]
    },
    {
     "name": "stderr",
     "output_type": "stream",
     "text": [
      "127.0.0.1 - - [31/Oct/2020 13:04:17] \"\u001b[37mPOST /api/test HTTP/1.1\u001b[0m\" 200 -\n"
     ]
    },
    {
     "name": "stdout",
     "output_type": "stream",
     "text": [
      "[{\"label\": \"No Mask: 83.09%\", \"x\": \"143\", \"y\": \"154\", \"x2\": \"305\", \"y2\": \"316\", \"mask\": \"0.16905911\", \"withoutMask\": \"0.83094096\"}, {\"label\": \"No Mask: 97.99%\", \"x\": \"247\", \"y\": \"195\", \"x2\": \"362\", \"y2\": \"310\", \"mask\": \"0.020137941\", \"withoutMask\": \"0.9798621\"}]\n"
     ]
    },
    {
     "name": "stderr",
     "output_type": "stream",
     "text": [
      "127.0.0.1 - - [31/Oct/2020 13:04:18] \"\u001b[37mPOST /api/test HTTP/1.1\u001b[0m\" 200 -\n"
     ]
    },
    {
     "name": "stdout",
     "output_type": "stream",
     "text": [
      "[{\"label\": \"No Mask: 99.32%\", \"x\": \"240\", \"y\": \"196\", \"x2\": \"359\", \"y2\": \"315\", \"mask\": \"0.0067528496\", \"withoutMask\": \"0.99324715\"}, {\"label\": \"No Mask: 84.03%\", \"x\": \"146\", \"y\": \"160\", \"x2\": \"307\", \"y2\": \"321\", \"mask\": \"0.15970264\", \"withoutMask\": \"0.8402974\"}]\n"
     ]
    },
    {
     "name": "stderr",
     "output_type": "stream",
     "text": [
      "127.0.0.1 - - [31/Oct/2020 13:04:18] \"\u001b[37mPOST /api/test HTTP/1.1\u001b[0m\" 200 -\n"
     ]
    },
    {
     "name": "stdout",
     "output_type": "stream",
     "text": [
      "[{\"label\": \"No Mask: 72.80%\", \"x\": \"243\", \"y\": \"201\", \"x2\": \"356\", \"y2\": \"314\", \"mask\": \"0.27204537\", \"withoutMask\": \"0.72795457\"}, {\"label\": \"No Mask: 97.08%\", \"x\": \"145\", \"y\": \"170\", \"x2\": \"294\", \"y2\": \"319\", \"mask\": \"0.02918422\", \"withoutMask\": \"0.9708157\"}]\n"
     ]
    },
    {
     "name": "stderr",
     "output_type": "stream",
     "text": [
      "127.0.0.1 - - [31/Oct/2020 13:04:18] \"\u001b[37mPOST /api/test HTTP/1.1\u001b[0m\" 200 -\n"
     ]
    },
    {
     "name": "stdout",
     "output_type": "stream",
     "text": [
      "[{\"label\": \"No Mask: 98.19%\", \"x\": \"240\", \"y\": \"201\", \"x2\": \"356\", \"y2\": \"317\", \"mask\": \"0.018128544\", \"withoutMask\": \"0.9818715\"}, {\"label\": \"No Mask: 97.69%\", \"x\": \"140\", \"y\": \"162\", \"x2\": \"298\", \"y2\": \"320\", \"mask\": \"0.023147408\", \"withoutMask\": \"0.97685254\"}]\n"
     ]
    },
    {
     "name": "stderr",
     "output_type": "stream",
     "text": [
      "127.0.0.1 - - [31/Oct/2020 13:04:19] \"\u001b[37mPOST /api/test HTTP/1.1\u001b[0m\" 200 -\n"
     ]
    },
    {
     "name": "stdout",
     "output_type": "stream",
     "text": [
      "[{\"label\": \"No Mask: 95.85%\", \"x\": \"242\", \"y\": \"201\", \"x2\": \"359\", \"y2\": \"318\", \"mask\": \"0.04153688\", \"withoutMask\": \"0.9584631\"}, {\"label\": \"No Mask: 99.59%\", \"x\": \"138\", \"y\": \"167\", \"x2\": \"300\", \"y2\": \"329\", \"mask\": \"0.0041273967\", \"withoutMask\": \"0.99587256\"}]\n"
     ]
    },
    {
     "name": "stderr",
     "output_type": "stream",
     "text": [
      "127.0.0.1 - - [31/Oct/2020 13:04:19] \"\u001b[37mPOST /api/test HTTP/1.1\u001b[0m\" 200 -\n"
     ]
    },
    {
     "name": "stdout",
     "output_type": "stream",
     "text": [
      "[{\"label\": \"No Mask: 96.61%\", \"x\": \"205\", \"y\": \"252\", \"x2\": \"260\", \"y2\": \"307\", \"mask\": \"0.033938464\", \"withoutMask\": \"0.96606153\"}]\n"
     ]
    },
    {
     "name": "stderr",
     "output_type": "stream",
     "text": [
      "127.0.0.1 - - [31/Oct/2020 13:04:19] \"\u001b[37mPOST /api/test HTTP/1.1\u001b[0m\" 200 -\n"
     ]
    },
    {
     "name": "stdout",
     "output_type": "stream",
     "text": [
      "[{\"label\": \"No Mask: 99.72%\", \"x\": \"197\", \"y\": \"254\", \"x2\": \"251\", \"y2\": \"308\", \"mask\": \"0.0028105623\", \"withoutMask\": \"0.99718946\"}]\n"
     ]
    },
    {
     "name": "stderr",
     "output_type": "stream",
     "text": [
      "127.0.0.1 - - [31/Oct/2020 13:04:19] \"\u001b[37mPOST /api/test HTTP/1.1\u001b[0m\" 200 -\n"
     ]
    },
    {
     "name": "stdout",
     "output_type": "stream",
     "text": [
      "[{\"label\": \"No Mask: 99.85%\", \"x\": \"195\", \"y\": \"253\", \"x2\": \"254\", \"y2\": \"312\", \"mask\": \"0.0015449869\", \"withoutMask\": \"0.99845505\"}]\n"
     ]
    },
    {
     "name": "stderr",
     "output_type": "stream",
     "text": [
      "127.0.0.1 - - [31/Oct/2020 13:04:20] \"\u001b[37mPOST /api/test HTTP/1.1\u001b[0m\" 200 -\n"
     ]
    },
    {
     "name": "stdout",
     "output_type": "stream",
     "text": [
      "[{\"label\": \"No Mask: 99.40%\", \"x\": \"192\", \"y\": \"252\", \"x2\": \"254\", \"y2\": \"314\", \"mask\": \"0.0060143564\", \"withoutMask\": \"0.9939857\"}]\n"
     ]
    },
    {
     "name": "stderr",
     "output_type": "stream",
     "text": [
      "127.0.0.1 - - [31/Oct/2020 13:04:20] \"\u001b[37mPOST /api/test HTTP/1.1\u001b[0m\" 200 -\n"
     ]
    },
    {
     "name": "stdout",
     "output_type": "stream",
     "text": [
      "[{\"label\": \"No Mask: 96.68%\", \"x\": \"198\", \"y\": \"257\", \"x2\": \"253\", \"y2\": \"312\", \"mask\": \"0.03324268\", \"withoutMask\": \"0.9667573\"}]\n"
     ]
    },
    {
     "name": "stderr",
     "output_type": "stream",
     "text": [
      "127.0.0.1 - - [31/Oct/2020 13:04:20] \"\u001b[37mPOST /api/test HTTP/1.1\u001b[0m\" 200 -\n"
     ]
    },
    {
     "name": "stdout",
     "output_type": "stream",
     "text": [
      "[{\"label\": \"No Mask: 99.51%\", \"x\": \"200\", \"y\": \"258\", \"x2\": \"256\", \"y2\": \"314\", \"mask\": \"0.0049317363\", \"withoutMask\": \"0.9950683\"}]\n"
     ]
    },
    {
     "name": "stderr",
     "output_type": "stream",
     "text": [
      "127.0.0.1 - - [31/Oct/2020 13:04:20] \"\u001b[37mPOST /api/test HTTP/1.1\u001b[0m\" 200 -\n"
     ]
    },
    {
     "name": "stdout",
     "output_type": "stream",
     "text": [
      "[{\"label\": \"No Mask: 99.78%\", \"x\": \"215\", \"y\": \"262\", \"x2\": \"269\", \"y2\": \"316\", \"mask\": \"0.002180604\", \"withoutMask\": \"0.9978194\"}]\n"
     ]
    },
    {
     "name": "stderr",
     "output_type": "stream",
     "text": [
      "127.0.0.1 - - [31/Oct/2020 13:04:21] \"\u001b[37mPOST /api/test HTTP/1.1\u001b[0m\" 200 -\n",
      "127.0.0.1 - - [31/Oct/2020 13:04:21] \"\u001b[37mPOST /api/test HTTP/1.1\u001b[0m\" 200 -\n"
     ]
    },
    {
     "name": "stdout",
     "output_type": "stream",
     "text": [
      "[{\"label\": \"No Mask: 75.76%\", \"x\": \"255\", \"y\": \"220\", \"x2\": \"363\", \"y2\": \"328\", \"mask\": \"0.24243246\", \"withoutMask\": \"0.7575675\"}, {\"label\": \"No Mask: 98.88%\", \"x\": \"149\", \"y\": \"182\", \"x2\": \"318\", \"y2\": \"351\", \"mask\": \"0.011210006\", \"withoutMask\": \"0.98879004\"}]\n",
      "[]\n"
     ]
    },
    {
     "name": "stderr",
     "output_type": "stream",
     "text": [
      "127.0.0.1 - - [31/Oct/2020 13:04:21] \"\u001b[37mPOST /api/test HTTP/1.1\u001b[0m\" 200 -\n",
      "127.0.0.1 - - [31/Oct/2020 13:04:21] \"\u001b[37mPOST /api/test HTTP/1.1\u001b[0m\" 200 -\n"
     ]
    },
    {
     "name": "stdout",
     "output_type": "stream",
     "text": [
      "[{\"label\": \"Mask: 82.87%\", \"x\": \"158\", \"y\": \"77\", \"x2\": \"441\", \"y2\": \"360\", \"mask\": \"0.8287436\", \"withoutMask\": \"0.17125638\"}]\n",
      "[]\n"
     ]
    },
    {
     "name": "stderr",
     "output_type": "stream",
     "text": [
      "127.0.0.1 - - [31/Oct/2020 13:04:21] \"\u001b[37mPOST /api/test HTTP/1.1\u001b[0m\" 200 -\n",
      "127.0.0.1 - - [31/Oct/2020 13:04:22] \"\u001b[37mPOST /api/test HTTP/1.1\u001b[0m\" 200 -\n"
     ]
    },
    {
     "name": "stdout",
     "output_type": "stream",
     "text": [
      "[]\n",
      "[]\n"
     ]
    },
    {
     "name": "stderr",
     "output_type": "stream",
     "text": [
      "127.0.0.1 - - [31/Oct/2020 13:04:22] \"\u001b[37mPOST /api/test HTTP/1.1\u001b[0m\" 200 -\n",
      "127.0.0.1 - - [31/Oct/2020 13:04:22] \"\u001b[37mPOST /api/test HTTP/1.1\u001b[0m\" 200 -\n"
     ]
    },
    {
     "name": "stdout",
     "output_type": "stream",
     "text": [
      "[]\n",
      "[]\n"
     ]
    },
    {
     "name": "stderr",
     "output_type": "stream",
     "text": [
      "127.0.0.1 - - [31/Oct/2020 13:04:22] \"\u001b[37mPOST /api/test HTTP/1.1\u001b[0m\" 200 -\n"
     ]
    },
    {
     "name": "stdout",
     "output_type": "stream",
     "text": [
      "[{\"label\": \"No Mask: 89.50%\", \"x\": \"149\", \"y\": \"81\", \"x2\": \"442\", \"y2\": \"374\", \"mask\": \"0.1049537\", \"withoutMask\": \"0.89504623\"}]\n"
     ]
    },
    {
     "name": "stderr",
     "output_type": "stream",
     "text": [
      "127.0.0.1 - - [31/Oct/2020 13:04:22] \"\u001b[37mPOST /api/test HTTP/1.1\u001b[0m\" 200 -\n"
     ]
    },
    {
     "name": "stdout",
     "output_type": "stream",
     "text": [
      "[{\"label\": \"No Mask: 99.07%\", \"x\": \"209\", \"y\": \"206\", \"x2\": \"363\", \"y2\": \"360\", \"mask\": \"0.009294483\", \"withoutMask\": \"0.99070555\"}]\n"
     ]
    },
    {
     "name": "stderr",
     "output_type": "stream",
     "text": [
      "127.0.0.1 - - [31/Oct/2020 13:04:23] \"\u001b[37mPOST /api/test HTTP/1.1\u001b[0m\" 200 -\n"
     ]
    },
    {
     "name": "stdout",
     "output_type": "stream",
     "text": [
      "[{\"label\": \"No Mask: 93.70%\", \"x\": \"123\", \"y\": \"80\", \"x2\": \"418\", \"y2\": \"375\", \"mask\": \"0.06301971\", \"withoutMask\": \"0.93698025\"}]\n"
     ]
    },
    {
     "name": "stderr",
     "output_type": "stream",
     "text": [
      "127.0.0.1 - - [31/Oct/2020 13:04:23] \"\u001b[37mPOST /api/test HTTP/1.1\u001b[0m\" 200 -\n"
     ]
    },
    {
     "name": "stdout",
     "output_type": "stream",
     "text": [
      "[{\"label\": \"No Mask: 99.72%\", \"x\": \"203\", \"y\": \"209\", \"x2\": \"353\", \"y2\": \"359\", \"mask\": \"0.0028454291\", \"withoutMask\": \"0.9971546\"}]\n"
     ]
    },
    {
     "name": "stderr",
     "output_type": "stream",
     "text": [
      "127.0.0.1 - - [31/Oct/2020 13:04:23] \"\u001b[37mPOST /api/test HTTP/1.1\u001b[0m\" 200 -\n"
     ]
    },
    {
     "name": "stdout",
     "output_type": "stream",
     "text": [
      "[{\"label\": \"No Mask: 98.05%\", \"x\": \"136\", \"y\": \"84\", \"x2\": \"424\", \"y2\": \"372\", \"mask\": \"0.019450717\", \"withoutMask\": \"0.9805493\"}, {\"label\": \"No Mask: 96.38%\", \"x\": \"201\", \"y\": \"209\", \"x2\": \"352\", \"y2\": \"360\", \"mask\": \"0.03617075\", \"withoutMask\": \"0.9638293\"}]\n"
     ]
    },
    {
     "name": "stderr",
     "output_type": "stream",
     "text": [
      "127.0.0.1 - - [31/Oct/2020 13:04:23] \"\u001b[37mPOST /api/test HTTP/1.1\u001b[0m\" 200 -\n"
     ]
    },
    {
     "name": "stdout",
     "output_type": "stream",
     "text": [
      "[{\"label\": \"No Mask: 90.63%\", \"x\": \"137\", \"y\": \"78\", \"x2\": \"425\", \"y2\": \"366\", \"mask\": \"0.09367974\", \"withoutMask\": \"0.9063202\"}, {\"label\": \"No Mask: 98.39%\", \"x\": \"204\", \"y\": \"209\", \"x2\": \"354\", \"y2\": \"359\", \"mask\": \"0.016050799\", \"withoutMask\": \"0.98394924\"}]\n"
     ]
    },
    {
     "name": "stderr",
     "output_type": "stream",
     "text": [
      "127.0.0.1 - - [31/Oct/2020 13:04:24] \"\u001b[37mPOST /api/test HTTP/1.1\u001b[0m\" 200 -\n"
     ]
    },
    {
     "name": "stdout",
     "output_type": "stream",
     "text": [
      "[{\"label\": \"No Mask: 82.07%\", \"x\": \"146\", \"y\": \"88\", \"x2\": \"419\", \"y2\": \"361\", \"mask\": \"0.17926742\", \"withoutMask\": \"0.8207326\"}, {\"label\": \"Mask: 51.75%\", \"x\": \"90\", \"y\": \"272\", \"x2\": \"154\", \"y2\": \"336\", \"mask\": \"0.51745933\", \"withoutMask\": \"0.48254067\"}]\n"
     ]
    },
    {
     "name": "stderr",
     "output_type": "stream",
     "text": [
      "127.0.0.1 - - [31/Oct/2020 13:04:25] \"\u001b[37mPOST /api/test HTTP/1.1\u001b[0m\" 200 -\n"
     ]
    },
    {
     "name": "stdout",
     "output_type": "stream",
     "text": [
      "[{\"label\": \"No Mask: 59.76%\", \"x\": \"145\", \"y\": \"84\", \"x2\": \"422\", \"y2\": \"361\", \"mask\": \"0.40242782\", \"withoutMask\": \"0.59757227\"}]\n"
     ]
    },
    {
     "name": "stderr",
     "output_type": "stream",
     "text": [
      "127.0.0.1 - - [31/Oct/2020 13:04:25] \"\u001b[37mPOST /api/test HTTP/1.1\u001b[0m\" 200 -\n"
     ]
    },
    {
     "name": "stdout",
     "output_type": "stream",
     "text": [
      "[{\"label\": \"No Mask: 94.02%\", \"x\": \"134\", \"y\": \"80\", \"x2\": \"422\", \"y2\": \"368\", \"mask\": \"0.05978856\", \"withoutMask\": \"0.9402115\"}]\n"
     ]
    },
    {
     "name": "stderr",
     "output_type": "stream",
     "text": [
      "127.0.0.1 - - [31/Oct/2020 13:04:25] \"\u001b[37mPOST /api/test HTTP/1.1\u001b[0m\" 200 -\n"
     ]
    },
    {
     "name": "stdout",
     "output_type": "stream",
     "text": [
      "[{\"label\": \"No Mask: 93.47%\", \"x\": \"137\", \"y\": \"83\", \"x2\": \"424\", \"y2\": \"370\", \"mask\": \"0.06527135\", \"withoutMask\": \"0.9347286\"}]\n"
     ]
    },
    {
     "name": "stderr",
     "output_type": "stream",
     "text": [
      "127.0.0.1 - - [31/Oct/2020 13:04:25] \"\u001b[37mPOST /api/test HTTP/1.1\u001b[0m\" 200 -\n"
     ]
    },
    {
     "name": "stdout",
     "output_type": "stream",
     "text": [
      "[{\"label\": \"No Mask: 84.39%\", \"x\": \"143\", \"y\": \"82\", \"x2\": \"422\", \"y2\": \"361\", \"mask\": \"0.15609106\", \"withoutMask\": \"0.8439089\"}]\n"
     ]
    },
    {
     "name": "stderr",
     "output_type": "stream",
     "text": [
      "127.0.0.1 - - [31/Oct/2020 13:04:26] \"\u001b[37mPOST /api/test HTTP/1.1\u001b[0m\" 200 -\n"
     ]
    },
    {
     "name": "stdout",
     "output_type": "stream",
     "text": [
      "[{\"label\": \"No Mask: 98.89%\", \"x\": \"138\", \"y\": \"83\", \"x2\": \"426\", \"y2\": \"371\", \"mask\": \"0.011142426\", \"withoutMask\": \"0.9888575\"}]\n"
     ]
    },
    {
     "name": "stderr",
     "output_type": "stream",
     "text": [
      "127.0.0.1 - - [31/Oct/2020 13:04:26] \"\u001b[37mPOST /api/test HTTP/1.1\u001b[0m\" 200 -\n"
     ]
    },
    {
     "name": "stdout",
     "output_type": "stream",
     "text": [
      "[{\"label\": \"No Mask: 57.59%\", \"x\": \"149\", \"y\": \"87\", \"x2\": \"423\", \"y2\": \"361\", \"mask\": \"0.42406183\", \"withoutMask\": \"0.5759381\"}, {\"label\": \"No Mask: 98.52%\", \"x\": \"193\", \"y\": \"208\", \"x2\": \"353\", \"y2\": \"368\", \"mask\": \"0.0147799635\", \"withoutMask\": \"0.9852201\"}]\n"
     ]
    },
    {
     "name": "stderr",
     "output_type": "stream",
     "text": [
      "127.0.0.1 - - [31/Oct/2020 13:04:26] \"\u001b[37mPOST /api/test HTTP/1.1\u001b[0m\" 200 -\n"
     ]
    },
    {
     "name": "stdout",
     "output_type": "stream",
     "text": [
      "[{\"label\": \"No Mask: 97.30%\", \"x\": \"128\", \"y\": \"79\", \"x2\": \"416\", \"y2\": \"367\", \"mask\": \"0.026970752\", \"withoutMask\": \"0.97302926\"}, {\"label\": \"No Mask: 98.75%\", \"x\": \"199\", \"y\": \"211\", \"x2\": \"351\", \"y2\": \"363\", \"mask\": \"0.012498195\", \"withoutMask\": \"0.98750186\"}]\n"
     ]
    },
    {
     "name": "stderr",
     "output_type": "stream",
     "text": [
      "127.0.0.1 - - [31/Oct/2020 13:04:27] \"\u001b[37mPOST /api/test HTTP/1.1\u001b[0m\" 200 -\n"
     ]
    },
    {
     "name": "stdout",
     "output_type": "stream",
     "text": [
      "[{\"label\": \"No Mask: 94.74%\", \"x\": \"127\", \"y\": \"78\", \"x2\": \"427\", \"y2\": \"378\", \"mask\": \"0.052631374\", \"withoutMask\": \"0.9473686\"}, {\"label\": \"No Mask: 94.93%\", \"x\": \"198\", \"y\": \"210\", \"x2\": \"355\", \"y2\": \"367\", \"mask\": \"0.050659344\", \"withoutMask\": \"0.9493407\"}]\n"
     ]
    },
    {
     "name": "stderr",
     "output_type": "stream",
     "text": [
      "127.0.0.1 - - [31/Oct/2020 13:04:27] \"\u001b[37mPOST /api/test HTTP/1.1\u001b[0m\" 200 -\n"
     ]
    },
    {
     "name": "stdout",
     "output_type": "stream",
     "text": [
      "[{\"label\": \"No Mask: 96.34%\", \"x\": \"198\", \"y\": \"208\", \"x2\": \"360\", \"y2\": \"370\", \"mask\": \"0.03663526\", \"withoutMask\": \"0.9633647\"}]\n"
     ]
    },
    {
     "name": "stderr",
     "output_type": "stream",
     "text": [
      "127.0.0.1 - - [31/Oct/2020 13:04:27] \"\u001b[37mPOST /api/test HTTP/1.1\u001b[0m\" 200 -\n"
     ]
    },
    {
     "name": "stdout",
     "output_type": "stream",
     "text": [
      "[{\"label\": \"No Mask: 99.11%\", \"x\": \"202\", \"y\": \"209\", \"x2\": \"361\", \"y2\": \"368\", \"mask\": \"0.008930912\", \"withoutMask\": \"0.9910691\"}]\n"
     ]
    },
    {
     "name": "stderr",
     "output_type": "stream",
     "text": [
      "127.0.0.1 - - [31/Oct/2020 13:04:27] \"\u001b[37mPOST /api/test HTTP/1.1\u001b[0m\" 200 -\n"
     ]
    },
    {
     "name": "stdout",
     "output_type": "stream",
     "text": [
      "[{\"label\": \"Mask: 88.93%\", \"x\": \"142\", \"y\": \"82\", \"x2\": \"418\", \"y2\": \"358\", \"mask\": \"0.88928545\", \"withoutMask\": \"0.11071458\"}]\n"
     ]
    },
    {
     "name": "stderr",
     "output_type": "stream",
     "text": [
      "127.0.0.1 - - [31/Oct/2020 13:04:28] \"\u001b[37mPOST /api/test HTTP/1.1\u001b[0m\" 200 -\n"
     ]
    },
    {
     "name": "stdout",
     "output_type": "stream",
     "text": [
      "[{\"label\": \"Mask: 77.14%\", \"x\": \"118\", \"y\": \"73\", \"x2\": \"391\", \"y2\": \"346\", \"mask\": \"0.77139795\", \"withoutMask\": \"0.228602\"}, {\"label\": \"No Mask: 95.49%\", \"x\": \"264\", \"y\": \"223\", \"x2\": \"367\", \"y2\": \"326\", \"mask\": \"0.04507837\", \"withoutMask\": \"0.9549216\"}]\n"
     ]
    },
    {
     "name": "stderr",
     "output_type": "stream",
     "text": [
      "127.0.0.1 - - [31/Oct/2020 13:04:28] \"\u001b[37mPOST /api/test HTTP/1.1\u001b[0m\" 200 -\n"
     ]
    },
    {
     "name": "stdout",
     "output_type": "stream",
     "text": [
      "[{\"label\": \"No Mask: 96.52%\", \"x\": \"279\", \"y\": \"213\", \"x2\": \"372\", \"y2\": \"306\", \"mask\": \"0.034780305\", \"withoutMask\": \"0.96521974\"}, {\"label\": \"No Mask: 99.78%\", \"x\": \"199\", \"y\": \"173\", \"x2\": \"331\", \"y2\": \"305\", \"mask\": \"0.0022429877\", \"withoutMask\": \"0.997757\"}]\n"
     ]
    },
    {
     "name": "stderr",
     "output_type": "stream",
     "text": [
      "127.0.0.1 - - [31/Oct/2020 13:04:28] \"\u001b[37mPOST /api/test HTTP/1.1\u001b[0m\" 200 -\n"
     ]
    },
    {
     "name": "stdout",
     "output_type": "stream",
     "text": [
      "[{\"label\": \"No Mask: 99.92%\", \"x\": \"264\", \"y\": \"237\", \"x2\": \"355\", \"y2\": \"328\", \"mask\": \"0.0008155338\", \"withoutMask\": \"0.9991844\"}, {\"label\": \"No Mask: 89.16%\", \"x\": \"156\", \"y\": \"121\", \"x2\": \"380\", \"y2\": \"345\", \"mask\": \"0.10836416\", \"withoutMask\": \"0.89163584\"}]\n"
     ]
    },
    {
     "name": "stderr",
     "output_type": "stream",
     "text": [
      "127.0.0.1 - - [31/Oct/2020 13:04:29] \"\u001b[37mPOST /api/test HTTP/1.1\u001b[0m\" 200 -\n"
     ]
    },
    {
     "name": "stdout",
     "output_type": "stream",
     "text": [
      "[{\"label\": \"No Mask: 52.29%\", \"x\": \"125\", \"y\": \"122\", \"x2\": \"345\", \"y2\": \"342\", \"mask\": \"0.4770764\", \"withoutMask\": \"0.5229236\"}, {\"label\": \"No Mask: 99.89%\", \"x\": \"230\", \"y\": \"234\", \"x2\": \"322\", \"y2\": \"326\", \"mask\": \"0.0011470765\", \"withoutMask\": \"0.99885297\"}]\n"
     ]
    },
    {
     "name": "stderr",
     "output_type": "stream",
     "text": [
      "127.0.0.1 - - [31/Oct/2020 13:10:25] \"\u001b[37mPOST /api/test HTTP/1.1\u001b[0m\" 200 -\n"
     ]
    },
    {
     "name": "stdout",
     "output_type": "stream",
     "text": [
      "[{\"label\": \"No Mask: 97.24%\", \"x\": \"144\", \"y\": \"230\", \"x2\": \"340\", \"y2\": \"426\", \"mask\": \"0.027643586\", \"withoutMask\": \"0.9723564\"}]\n"
     ]
    },
    {
     "name": "stderr",
     "output_type": "stream",
     "text": [
      "127.0.0.1 - - [31/Oct/2020 13:10:26] \"\u001b[37mPOST /api/test HTTP/1.1\u001b[0m\" 200 -\n"
     ]
    },
    {
     "name": "stdout",
     "output_type": "stream",
     "text": [
      "[{\"label\": \"No Mask: 91.28%\", \"x\": \"141\", \"y\": \"228\", \"x2\": \"348\", \"y2\": \"435\", \"mask\": \"0.08718044\", \"withoutMask\": \"0.91281956\"}]\n"
     ]
    },
    {
     "name": "stderr",
     "output_type": "stream",
     "text": [
      "127.0.0.1 - - [31/Oct/2020 13:10:26] \"\u001b[37mPOST /api/test HTTP/1.1\u001b[0m\" 200 -\n"
     ]
    },
    {
     "name": "stdout",
     "output_type": "stream",
     "text": [
      "[{\"label\": \"No Mask: 97.58%\", \"x\": \"146\", \"y\": \"229\", \"x2\": \"352\", \"y2\": \"435\", \"mask\": \"0.024153061\", \"withoutMask\": \"0.975847\"}]\n",
      "[{\"label\": \"No Mask: 98.73%\", \"x\": \"150\", \"y\": \"230\", \"x2\": \"352\", \"y2\": \"432\", \"mask\": \"0.012748615\", \"withoutMask\": \"0.9872514\"}]"
     ]
    },
    {
     "name": "stderr",
     "output_type": "stream",
     "text": [
      "127.0.0.1 - - [31/Oct/2020 13:10:26] \"\u001b[37mPOST /api/test HTTP/1.1\u001b[0m\" 200 -\n"
     ]
    },
    {
     "name": "stdout",
     "output_type": "stream",
     "text": [
      "\n"
     ]
    },
    {
     "name": "stderr",
     "output_type": "stream",
     "text": [
      "127.0.0.1 - - [31/Oct/2020 13:10:26] \"\u001b[37mPOST /api/test HTTP/1.1\u001b[0m\" 200 -\n"
     ]
    },
    {
     "name": "stdout",
     "output_type": "stream",
     "text": [
      "[{\"label\": \"No Mask: 99.35%\", \"x\": \"150\", \"y\": \"228\", \"x2\": \"357\", \"y2\": \"435\", \"mask\": \"0.00647841\", \"withoutMask\": \"0.99352163\"}]\n"
     ]
    },
    {
     "name": "stderr",
     "output_type": "stream",
     "text": [
      "127.0.0.1 - - [31/Oct/2020 13:10:27] \"\u001b[37mPOST /api/test HTTP/1.1\u001b[0m\" 200 -\n",
      "127.0.0.1 - - [31/Oct/2020 13:10:27] \"\u001b[37mPOST /api/test HTTP/1.1\u001b[0m\" 200 -\n"
     ]
    },
    {
     "name": "stdout",
     "output_type": "stream",
     "text": [
      "[{\"label\": \"No Mask: 99.86%\", \"x\": \"161\", \"y\": \"228\", \"x2\": \"362\", \"y2\": \"429\", \"mask\": \"0.0014011454\", \"withoutMask\": \"0.9985989\"}]\n",
      "[]\n"
     ]
    },
    {
     "name": "stderr",
     "output_type": "stream",
     "text": [
      "127.0.0.1 - - [31/Oct/2020 13:10:27] \"\u001b[37mPOST /api/test HTTP/1.1\u001b[0m\" 200 -\n"
     ]
    },
    {
     "name": "stdout",
     "output_type": "stream",
     "text": [
      "[{\"label\": \"Mask: 93.49%\", \"x\": \"170\", \"y\": \"218\", \"x2\": \"375\", \"y2\": \"423\", \"mask\": \"0.93485844\", \"withoutMask\": \"0.0651416\"}]\n"
     ]
    },
    {
     "name": "stderr",
     "output_type": "stream",
     "text": [
      "127.0.0.1 - - [31/Oct/2020 13:10:27] \"\u001b[37mPOST /api/test HTTP/1.1\u001b[0m\" 200 -\n"
     ]
    },
    {
     "name": "stdout",
     "output_type": "stream",
     "text": [
      "[{\"label\": \"Mask: 88.57%\", \"x\": \"166\", \"y\": \"214\", \"x2\": \"377\", \"y2\": \"425\", \"mask\": \"0.88574636\", \"withoutMask\": \"0.114253685\"}]\n"
     ]
    },
    {
     "name": "stderr",
     "output_type": "stream",
     "text": [
      "127.0.0.1 - - [31/Oct/2020 13:10:27] \"\u001b[37mPOST /api/test HTTP/1.1\u001b[0m\" 200 -\n"
     ]
    },
    {
     "name": "stdout",
     "output_type": "stream",
     "text": [
      "[{\"label\": \"Mask: 64.97%\", \"x\": \"163\", \"y\": \"213\", \"x2\": \"376\", \"y2\": \"426\", \"mask\": \"0.64967114\", \"withoutMask\": \"0.35032886\"}]\n"
     ]
    },
    {
     "name": "stderr",
     "output_type": "stream",
     "text": [
      "127.0.0.1 - - [31/Oct/2020 13:10:28] \"\u001b[37mPOST /api/test HTTP/1.1\u001b[0m\" 200 -\n"
     ]
    },
    {
     "name": "stdout",
     "output_type": "stream",
     "text": [
      "[{\"label\": \"Mask: 82.87%\", \"x\": \"161\", \"y\": \"216\", \"x2\": \"369\", \"y2\": \"424\", \"mask\": \"0.82866025\", \"withoutMask\": \"0.17133978\"}]\n"
     ]
    },
    {
     "name": "stderr",
     "output_type": "stream",
     "text": [
      "127.0.0.1 - - [31/Oct/2020 13:10:28] \"\u001b[37mPOST /api/test HTTP/1.1\u001b[0m\" 200 -\n"
     ]
    },
    {
     "name": "stdout",
     "output_type": "stream",
     "text": [
      "[{\"label\": \"Mask: 85.80%\", \"x\": \"157\", \"y\": \"216\", \"x2\": \"364\", \"y2\": \"423\", \"mask\": \"0.8580311\", \"withoutMask\": \"0.14196895\"}]\n"
     ]
    },
    {
     "name": "stderr",
     "output_type": "stream",
     "text": [
      "127.0.0.1 - - [31/Oct/2020 13:10:28] \"\u001b[37mPOST /api/test HTTP/1.1\u001b[0m\" 200 -\n"
     ]
    },
    {
     "name": "stdout",
     "output_type": "stream",
     "text": [
      "[{\"label\": \"Mask: 62.07%\", \"x\": \"157\", \"y\": \"216\", \"x2\": \"366\", \"y2\": \"425\", \"mask\": \"0.6207207\", \"withoutMask\": \"0.37927932\"}]\n"
     ]
    },
    {
     "name": "stderr",
     "output_type": "stream",
     "text": [
      "127.0.0.1 - - [31/Oct/2020 13:10:28] \"\u001b[37mPOST /api/test HTTP/1.1\u001b[0m\" 200 -\n",
      "127.0.0.1 - - [31/Oct/2020 13:10:28] \"\u001b[37mPOST /api/test HTTP/1.1\u001b[0m\" 200 -\n"
     ]
    },
    {
     "name": "stdout",
     "output_type": "stream",
     "text": [
      "[{\"label\": \"Mask: 96.61%\", \"x\": \"163\", \"y\": \"222\", \"x2\": \"345\", \"y2\": \"404\", \"mask\": \"0.96610284\", \"withoutMask\": \"0.03389713\"}]\n",
      "[]\n"
     ]
    },
    {
     "name": "stderr",
     "output_type": "stream",
     "text": [
      "127.0.0.1 - - [31/Oct/2020 13:10:29] \"\u001b[37mPOST /api/test HTTP/1.1\u001b[0m\" 200 -\n"
     ]
    },
    {
     "name": "stdout",
     "output_type": "stream",
     "text": [
      "[{\"label\": \"Mask: 98.89%\", \"x\": \"147\", \"y\": \"224\", \"x2\": \"334\", \"y2\": \"411\", \"mask\": \"0.98893356\", \"withoutMask\": \"0.011066445\"}]\n"
     ]
    },
    {
     "name": "stderr",
     "output_type": "stream",
     "text": [
      "127.0.0.1 - - [31/Oct/2020 13:10:29] \"\u001b[37mPOST /api/test HTTP/1.1\u001b[0m\" 200 -\n"
     ]
    },
    {
     "name": "stdout",
     "output_type": "stream",
     "text": [
      "[{\"label\": \"Mask: 96.21%\", \"x\": \"149\", \"y\": \"227\", \"x2\": \"322\", \"y2\": \"400\", \"mask\": \"0.9621026\", \"withoutMask\": \"0.037897397\"}]\n"
     ]
    },
    {
     "name": "stderr",
     "output_type": "stream",
     "text": [
      "127.0.0.1 - - [31/Oct/2020 13:10:29] \"\u001b[37mPOST /api/test HTTP/1.1\u001b[0m\" 200 -\n"
     ]
    },
    {
     "name": "stdout",
     "output_type": "stream",
     "text": [
      "[{\"label\": \"Mask: 98.43%\", \"x\": \"142\", \"y\": \"228\", \"x2\": \"323\", \"y2\": \"409\", \"mask\": \"0.98433465\", \"withoutMask\": \"0.01566537\"}]\n"
     ]
    },
    {
     "name": "stderr",
     "output_type": "stream",
     "text": [
      "127.0.0.1 - - [31/Oct/2020 13:10:29] \"\u001b[37mPOST /api/test HTTP/1.1\u001b[0m\" 200 -\n",
      "127.0.0.1 - - [31/Oct/2020 13:10:30] \"\u001b[37mPOST /api/test HTTP/1.1\u001b[0m\" 200 -\n"
     ]
    },
    {
     "name": "stdout",
     "output_type": "stream",
     "text": [
      "[{\"label\": \"Mask: 98.46%\", \"x\": \"145\", \"y\": \"228\", \"x2\": \"325\", \"y2\": \"408\", \"mask\": \"0.9845962\", \"withoutMask\": \"0.015403819\"}]\n",
      "[]\n"
     ]
    },
    {
     "name": "stderr",
     "output_type": "stream",
     "text": [
      "127.0.0.1 - - [31/Oct/2020 13:10:30] \"\u001b[37mPOST /api/test HTTP/1.1\u001b[0m\" 200 -\n"
     ]
    },
    {
     "name": "stdout",
     "output_type": "stream",
     "text": [
      "[{\"label\": \"Mask: 95.56%\", \"x\": \"138\", \"y\": \"224\", \"x2\": \"326\", \"y2\": \"412\", \"mask\": \"0.95560527\", \"withoutMask\": \"0.044394754\"}]\n"
     ]
    },
    {
     "name": "stderr",
     "output_type": "stream",
     "text": [
      "127.0.0.1 - - [31/Oct/2020 13:10:30] \"\u001b[37mPOST /api/test HTTP/1.1\u001b[0m\" 200 -\n"
     ]
    },
    {
     "name": "stdout",
     "output_type": "stream",
     "text": [
      "[{\"label\": \"Mask: 93.02%\", \"x\": \"137\", \"y\": \"227\", \"x2\": \"319\", \"y2\": \"409\", \"mask\": \"0.9302344\", \"withoutMask\": \"0.069765575\"}]\n"
     ]
    },
    {
     "name": "stderr",
     "output_type": "stream",
     "text": [
      "127.0.0.1 - - [31/Oct/2020 13:10:30] \"\u001b[37mPOST /api/test HTTP/1.1\u001b[0m\" 200 -\n"
     ]
    },
    {
     "name": "stdout",
     "output_type": "stream",
     "text": [
      "[{\"label\": \"Mask: 91.93%\", \"x\": \"154\", \"y\": \"234\", \"x2\": \"301\", \"y2\": \"381\", \"mask\": \"0.91932803\", \"withoutMask\": \"0.08067199\"}]\n"
     ]
    },
    {
     "name": "stderr",
     "output_type": "stream",
     "text": [
      "127.0.0.1 - - [31/Oct/2020 13:10:30] \"\u001b[37mPOST /api/test HTTP/1.1\u001b[0m\" 200 -\n"
     ]
    },
    {
     "name": "stdout",
     "output_type": "stream",
     "text": [
      "[{\"label\": \"Mask: 89.59%\", \"x\": \"143\", \"y\": \"232\", \"x2\": \"309\", \"y2\": \"398\", \"mask\": \"0.8958704\", \"withoutMask\": \"0.104129605\"}]\n"
     ]
    },
    {
     "name": "stderr",
     "output_type": "stream",
     "text": [
      "127.0.0.1 - - [31/Oct/2020 13:10:31] \"\u001b[37mPOST /api/test HTTP/1.1\u001b[0m\" 200 -\n"
     ]
    },
    {
     "name": "stdout",
     "output_type": "stream",
     "text": [
      "[{\"label\": \"Mask: 77.61%\", \"x\": \"142\", \"y\": \"232\", \"x2\": \"302\", \"y2\": \"392\", \"mask\": \"0.77612436\", \"withoutMask\": \"0.22387564\"}]\n"
     ]
    },
    {
     "name": "stderr",
     "output_type": "stream",
     "text": [
      "127.0.0.1 - - [31/Oct/2020 13:10:31] \"\u001b[37mPOST /api/test HTTP/1.1\u001b[0m\" 200 -\n"
     ]
    },
    {
     "name": "stdout",
     "output_type": "stream",
     "text": [
      "[{\"label\": \"Mask: 94.54%\", \"x\": \"140\", \"y\": \"230\", \"x2\": \"316\", \"y2\": \"406\", \"mask\": \"0.9454437\", \"withoutMask\": \"0.05455629\"}]\n"
     ]
    },
    {
     "name": "stderr",
     "output_type": "stream",
     "text": [
      "127.0.0.1 - - [31/Oct/2020 13:10:31] \"\u001b[37mPOST /api/test HTTP/1.1\u001b[0m\" 200 -\n"
     ]
    },
    {
     "name": "stdout",
     "output_type": "stream",
     "text": [
      "[{\"label\": \"Mask: 98.21%\", \"x\": \"140\", \"y\": \"228\", \"x2\": \"321\", \"y2\": \"409\", \"mask\": \"0.9820893\", \"withoutMask\": \"0.01791065\"}]\n",
      "[{\"label\": \"Mask: 96.61%\", \"x\": \"145\", \"y\": \"233\", \"x2\": \"312\", \"y2\": \"400\", \"mask\": \"0.96610385\", \"withoutMask\": \"0.0338962\"}]"
     ]
    },
    {
     "name": "stderr",
     "output_type": "stream",
     "text": [
      "127.0.0.1 - - [31/Oct/2020 13:10:31] \"\u001b[37mPOST /api/test HTTP/1.1\u001b[0m\" 200 -\n"
     ]
    },
    {
     "name": "stdout",
     "output_type": "stream",
     "text": [
      "\n"
     ]
    },
    {
     "name": "stderr",
     "output_type": "stream",
     "text": [
      "127.0.0.1 - - [31/Oct/2020 13:10:32] \"\u001b[37mPOST /api/test HTTP/1.1\u001b[0m\" 200 -\n"
     ]
    },
    {
     "name": "stdout",
     "output_type": "stream",
     "text": [
      "[{\"label\": \"Mask: 87.84%\", \"x\": \"134\", \"y\": \"228\", \"x2\": \"320\", \"y2\": \"414\", \"mask\": \"0.8783705\", \"withoutMask\": \"0.12162951\"}]\n"
     ]
    },
    {
     "name": "stderr",
     "output_type": "stream",
     "text": [
      "127.0.0.1 - - [31/Oct/2020 13:10:32] \"\u001b[37mPOST /api/test HTTP/1.1\u001b[0m\" 200 -\n"
     ]
    },
    {
     "name": "stdout",
     "output_type": "stream",
     "text": [
      "[{\"label\": \"Mask: 75.24%\", \"x\": \"134\", \"y\": \"232\", \"x2\": \"314\", \"y2\": \"412\", \"mask\": \"0.75244164\", \"withoutMask\": \"0.24755828\"}]\n"
     ]
    },
    {
     "name": "stderr",
     "output_type": "stream",
     "text": [
      "127.0.0.1 - - [31/Oct/2020 13:10:32] \"\u001b[37mPOST /api/test HTTP/1.1\u001b[0m\" 200 -\n"
     ]
    },
    {
     "name": "stdout",
     "output_type": "stream",
     "text": [
      "[{\"label\": \"Mask: 99.06%\", \"x\": \"145\", \"y\": \"234\", \"x2\": \"304\", \"y2\": \"393\", \"mask\": \"0.99064785\", \"withoutMask\": \"0.009352165\"}]\n"
     ]
    },
    {
     "name": "stderr",
     "output_type": "stream",
     "text": [
      "127.0.0.1 - - [31/Oct/2020 13:10:32] \"\u001b[37mPOST /api/test HTTP/1.1\u001b[0m\" 200 -\n",
      "127.0.0.1 - - [31/Oct/2020 13:10:32] \"\u001b[37mPOST /api/test HTTP/1.1\u001b[0m\" 200 -\n"
     ]
    },
    {
     "name": "stdout",
     "output_type": "stream",
     "text": [
      "[{\"label\": \"Mask: 95.07%\", \"x\": \"142\", \"y\": \"232\", \"x2\": \"310\", \"y2\": \"400\", \"mask\": \"0.95074075\", \"withoutMask\": \"0.04925932\"}]\n",
      "[]\n"
     ]
    },
    {
     "name": "stderr",
     "output_type": "stream",
     "text": [
      "127.0.0.1 - - [31/Oct/2020 13:10:33] \"\u001b[37mPOST /api/test HTTP/1.1\u001b[0m\" 200 -\n"
     ]
    },
    {
     "name": "stdout",
     "output_type": "stream",
     "text": [
      "[{\"label\": \"Mask: 64.53%\", \"x\": \"139\", \"y\": \"229\", \"x2\": \"305\", \"y2\": \"395\", \"mask\": \"0.6452946\", \"withoutMask\": \"0.35470533\"}]\n"
     ]
    },
    {
     "name": "stderr",
     "output_type": "stream",
     "text": [
      "127.0.0.1 - - [31/Oct/2020 13:10:33] \"\u001b[37mPOST /api/test HTTP/1.1\u001b[0m\" 200 -\n"
     ]
    },
    {
     "name": "stdout",
     "output_type": "stream",
     "text": [
      "[{\"label\": \"Mask: 95.57%\", \"x\": \"129\", \"y\": \"223\", \"x2\": \"321\", \"y2\": \"415\", \"mask\": \"0.9557205\", \"withoutMask\": \"0.04427957\"}]\n"
     ]
    },
    {
     "name": "stderr",
     "output_type": "stream",
     "text": [
      "127.0.0.1 - - [31/Oct/2020 13:10:33] \"\u001b[37mPOST /api/test HTTP/1.1\u001b[0m\" 200 -\n",
      "127.0.0.1 - - [31/Oct/2020 13:10:33] \"\u001b[37mPOST /api/test HTTP/1.1\u001b[0m\" 200 -\n"
     ]
    },
    {
     "name": "stdout",
     "output_type": "stream",
     "text": [
      "[{\"label\": \"No Mask: 72.02%\", \"x\": \"124\", \"y\": \"208\", \"x2\": \"356\", \"y2\": \"440\", \"mask\": \"0.27976748\", \"withoutMask\": \"0.72023255\"}]\n",
      "[]\n"
     ]
    },
    {
     "name": "stderr",
     "output_type": "stream",
     "text": [
      "127.0.0.1 - - [31/Oct/2020 13:10:33] \"\u001b[37mPOST /api/test HTTP/1.1\u001b[0m\" 200 -\n",
      "127.0.0.1 - - [31/Oct/2020 13:10:33] \"\u001b[37mPOST /api/test HTTP/1.1\u001b[0m\" 200 -\n"
     ]
    },
    {
     "name": "stdout",
     "output_type": "stream",
     "text": [
      "[]\n",
      "[]\n"
     ]
    },
    {
     "name": "stderr",
     "output_type": "stream",
     "text": [
      "127.0.0.1 - - [31/Oct/2020 13:10:33] \"\u001b[37mPOST /api/test HTTP/1.1\u001b[0m\" 200 -\n"
     ]
    },
    {
     "name": "stdout",
     "output_type": "stream",
     "text": [
      "[]\n"
     ]
    },
    {
     "name": "stderr",
     "output_type": "stream",
     "text": [
      "127.0.0.1 - - [31/Oct/2020 13:10:34] \"\u001b[37mPOST /api/test HTTP/1.1\u001b[0m\" 200 -\n",
      "127.0.0.1 - - [31/Oct/2020 13:10:34] \"\u001b[37mPOST /api/test HTTP/1.1\u001b[0m\" 200 -\n"
     ]
    },
    {
     "name": "stdout",
     "output_type": "stream",
     "text": [
      "[{\"label\": \"Mask: 96.06%\", \"x\": \"137\", \"y\": \"207\", \"x2\": \"318\", \"y2\": \"388\", \"mask\": \"0.9606185\", \"withoutMask\": \"0.039381523\"}]\n",
      "[]\n"
     ]
    },
    {
     "name": "stderr",
     "output_type": "stream",
     "text": [
      "127.0.0.1 - - [31/Oct/2020 13:10:34] \"\u001b[37mPOST /api/test HTTP/1.1\u001b[0m\" 200 -\n",
      "127.0.0.1 - - [31/Oct/2020 13:10:34] \"\u001b[37mPOST /api/test HTTP/1.1\u001b[0m\" 200 -\n"
     ]
    },
    {
     "name": "stdout",
     "output_type": "stream",
     "text": [
      "[]\n",
      "[]\n"
     ]
    },
    {
     "name": "stderr",
     "output_type": "stream",
     "text": [
      "127.0.0.1 - - [31/Oct/2020 13:10:34] \"\u001b[37mPOST /api/test HTTP/1.1\u001b[0m\" 200 -\n"
     ]
    },
    {
     "name": "stdout",
     "output_type": "stream",
     "text": [
      "[]\n"
     ]
    },
    {
     "name": "stderr",
     "output_type": "stream",
     "text": [
      "127.0.0.1 - - [31/Oct/2020 13:10:34] \"\u001b[37mPOST /api/test HTTP/1.1\u001b[0m\" 200 -\n"
     ]
    },
    {
     "name": "stdout",
     "output_type": "stream",
     "text": [
      "[{\"label\": \"No Mask: 75.61%\", \"x\": \"144\", \"y\": \"214\", \"x2\": \"302\", \"y2\": \"372\", \"mask\": \"0.24385849\", \"withoutMask\": \"0.7561415\"}]\n"
     ]
    },
    {
     "name": "stderr",
     "output_type": "stream",
     "text": [
      "127.0.0.1 - - [31/Oct/2020 13:10:35] \"\u001b[37mPOST /api/test HTTP/1.1\u001b[0m\" 200 -\n"
     ]
    },
    {
     "name": "stdout",
     "output_type": "stream",
     "text": [
      "[{\"label\": \"Mask: 57.78%\", \"x\": \"118\", \"y\": \"214\", \"x2\": \"310\", \"y2\": \"406\", \"mask\": \"0.57777447\", \"withoutMask\": \"0.42222553\"}]\n"
     ]
    },
    {
     "name": "stderr",
     "output_type": "stream",
     "text": [
      "127.0.0.1 - - [31/Oct/2020 13:10:35] \"\u001b[37mPOST /api/test HTTP/1.1\u001b[0m\" 200 -\n"
     ]
    },
    {
     "name": "stdout",
     "output_type": "stream",
     "text": [
      "[{\"label\": \"Mask: 76.91%\", \"x\": \"128\", \"y\": \"219\", \"x2\": \"304\", \"y2\": \"395\", \"mask\": \"0.76908195\", \"withoutMask\": \"0.23091806\"}]\n"
     ]
    },
    {
     "name": "stderr",
     "output_type": "stream",
     "text": [
      "127.0.0.1 - - [31/Oct/2020 13:10:35] \"\u001b[37mPOST /api/test HTTP/1.1\u001b[0m\" 200 -\n"
     ]
    },
    {
     "name": "stdout",
     "output_type": "stream",
     "text": [
      "[{\"label\": \"Mask: 89.17%\", \"x\": \"125\", \"y\": \"220\", \"x2\": \"305\", \"y2\": \"400\", \"mask\": \"0.8916944\", \"withoutMask\": \"0.10830554\"}]\n"
     ]
    },
    {
     "name": "stderr",
     "output_type": "stream",
     "text": [
      "127.0.0.1 - - [31/Oct/2020 13:10:35] \"\u001b[37mPOST /api/test HTTP/1.1\u001b[0m\" 200 -\n"
     ]
    },
    {
     "name": "stdout",
     "output_type": "stream",
     "text": [
      "[{\"label\": \"Mask: 71.38%\", \"x\": \"135\", \"y\": \"214\", \"x2\": \"297\", \"y2\": \"376\", \"mask\": \"0.7138223\", \"withoutMask\": \"0.2861777\"}]\n"
     ]
    },
    {
     "name": "stderr",
     "output_type": "stream",
     "text": [
      "127.0.0.1 - - [31/Oct/2020 13:10:36] \"\u001b[37mPOST /api/test HTTP/1.1\u001b[0m\" 200 -\n"
     ]
    },
    {
     "name": "stdout",
     "output_type": "stream",
     "text": [
      "[{\"label\": \"No Mask: 71.04%\", \"x\": \"128\", \"y\": \"216\", \"x2\": \"310\", \"y2\": \"398\", \"mask\": \"0.28960592\", \"withoutMask\": \"0.71039414\"}]\n"
     ]
    },
    {
     "name": "stderr",
     "output_type": "stream",
     "text": [
      "127.0.0.1 - - [31/Oct/2020 13:10:36] \"\u001b[37mPOST /api/test HTTP/1.1\u001b[0m\" 200 -\n"
     ]
    },
    {
     "name": "stdout",
     "output_type": "stream",
     "text": [
      "[{\"label\": \"Mask: 88.75%\", \"x\": \"117\", \"y\": \"213\", \"x2\": \"315\", \"y2\": \"411\", \"mask\": \"0.8875209\", \"withoutMask\": \"0.11247909\"}]\n"
     ]
    },
    {
     "name": "stderr",
     "output_type": "stream",
     "text": [
      "127.0.0.1 - - [31/Oct/2020 13:10:36] \"\u001b[37mPOST /api/test HTTP/1.1\u001b[0m\" 200 -\n"
     ]
    },
    {
     "name": "stdout",
     "output_type": "stream",
     "text": [
      "[{\"label\": \"Mask: 97.52%\", \"x\": \"122\", \"y\": \"213\", \"x2\": \"317\", \"y2\": \"408\", \"mask\": \"0.97522575\", \"withoutMask\": \"0.024774285\"}, {\"label\": \"No Mask: 99.64%\", \"x\": \"148\", \"y\": \"408\", \"x2\": \"190\", \"y2\": \"450\", \"mask\": \"0.003590602\", \"withoutMask\": \"0.99640936\"}]\n"
     ]
    },
    {
     "name": "stderr",
     "output_type": "stream",
     "text": [
      "127.0.0.1 - - [31/Oct/2020 13:10:36] \"\u001b[37mPOST /api/test HTTP/1.1\u001b[0m\" 200 -\n"
     ]
    },
    {
     "name": "stdout",
     "output_type": "stream",
     "text": [
      "[{\"label\": \"Mask: 97.40%\", \"x\": \"117\", \"y\": \"210\", \"x2\": \"321\", \"y2\": \"414\", \"mask\": \"0.9739536\", \"withoutMask\": \"0.026046397\"}]\n"
     ]
    },
    {
     "name": "stderr",
     "output_type": "stream",
     "text": [
      "127.0.0.1 - - [31/Oct/2020 13:10:37] \"\u001b[37mPOST /api/test HTTP/1.1\u001b[0m\" 200 -\n"
     ]
    },
    {
     "name": "stdout",
     "output_type": "stream",
     "text": [
      "[{\"label\": \"Mask: 97.27%\", \"x\": \"122\", \"y\": \"216\", \"x2\": \"311\", \"y2\": \"405\", \"mask\": \"0.9727365\", \"withoutMask\": \"0.027263518\"}]\n"
     ]
    },
    {
     "name": "stderr",
     "output_type": "stream",
     "text": [
      "127.0.0.1 - - [31/Oct/2020 13:10:37] \"\u001b[37mPOST /api/test HTTP/1.1\u001b[0m\" 200 -\n"
     ]
    },
    {
     "name": "stdout",
     "output_type": "stream",
     "text": [
      "[{\"label\": \"Mask: 97.45%\", \"x\": \"120\", \"y\": \"216\", \"x2\": \"312\", \"y2\": \"408\", \"mask\": \"0.97445154\", \"withoutMask\": \"0.025548501\"}]\n"
     ]
    },
    {
     "name": "stderr",
     "output_type": "stream",
     "text": [
      "127.0.0.1 - - [31/Oct/2020 13:10:37] \"\u001b[37mPOST /api/test HTTP/1.1\u001b[0m\" 200 -\n"
     ]
    },
    {
     "name": "stdout",
     "output_type": "stream",
     "text": [
      "[{\"label\": \"Mask: 84.75%\", \"x\": \"129\", \"y\": \"218\", \"x2\": \"308\", \"y2\": \"397\", \"mask\": \"0.847542\", \"withoutMask\": \"0.15245794\"}]\n"
     ]
    },
    {
     "name": "stderr",
     "output_type": "stream",
     "text": [
      "127.0.0.1 - - [31/Oct/2020 13:10:37] \"\u001b[37mPOST /api/test HTTP/1.1\u001b[0m\" 200 -\n"
     ]
    },
    {
     "name": "stdout",
     "output_type": "stream",
     "text": [
      "[{\"label\": \"Mask: 96.00%\", \"x\": \"126\", \"y\": \"217\", \"x2\": \"308\", \"y2\": \"399\", \"mask\": \"0.95995873\", \"withoutMask\": \"0.040041234\"}]\n"
     ]
    },
    {
     "name": "stderr",
     "output_type": "stream",
     "text": [
      "127.0.0.1 - - [31/Oct/2020 13:10:38] \"\u001b[37mPOST /api/test HTTP/1.1\u001b[0m\" 200 -\n"
     ]
    },
    {
     "name": "stdout",
     "output_type": "stream",
     "text": [
      "[{\"label\": \"Mask: 95.00%\", \"x\": \"125\", \"y\": \"217\", \"x2\": \"311\", \"y2\": \"403\", \"mask\": \"0.9499722\", \"withoutMask\": \"0.050027836\"}]\n"
     ]
    },
    {
     "name": "stderr",
     "output_type": "stream",
     "text": [
      "127.0.0.1 - - [31/Oct/2020 13:10:38] \"\u001b[37mPOST /api/test HTTP/1.1\u001b[0m\" 200 -\n"
     ]
    },
    {
     "name": "stdout",
     "output_type": "stream",
     "text": [
      "[{\"label\": \"Mask: 78.21%\", \"x\": \"125\", \"y\": \"218\", \"x2\": \"309\", \"y2\": \"402\", \"mask\": \"0.78212756\", \"withoutMask\": \"0.21787249\"}]\n"
     ]
    },
    {
     "name": "stderr",
     "output_type": "stream",
     "text": [
      "127.0.0.1 - - [31/Oct/2020 13:10:38] \"\u001b[37mPOST /api/test HTTP/1.1\u001b[0m\" 200 -\n"
     ]
    },
    {
     "name": "stdout",
     "output_type": "stream",
     "text": [
      "[{\"label\": \"Mask: 68.42%\", \"x\": \"128\", \"y\": \"219\", \"x2\": \"307\", \"y2\": \"398\", \"mask\": \"0.68420786\", \"withoutMask\": \"0.3157921\"}]\n"
     ]
    },
    {
     "name": "stderr",
     "output_type": "stream",
     "text": [
      "127.0.0.1 - - [31/Oct/2020 13:10:38] \"\u001b[37mPOST /api/test HTTP/1.1\u001b[0m\" 200 -\n"
     ]
    },
    {
     "name": "stdout",
     "output_type": "stream",
     "text": [
      "[{\"label\": \"Mask: 87.19%\", \"x\": \"126\", \"y\": \"219\", \"x2\": \"308\", \"y2\": \"401\", \"mask\": \"0.87187475\", \"withoutMask\": \"0.12812527\"}]\n",
      "[{\"label\": \"Mask: 70.16%\", \"x\": \"124\", \"y\": \"217\", \"x2\": \"312\", \"y2\": \"405\", \"mask\": \"0.7016049\", \"withoutMask\": \"0.29839507\"}]"
     ]
    },
    {
     "name": "stderr",
     "output_type": "stream",
     "text": [
      "127.0.0.1 - - [31/Oct/2020 13:10:39] \"\u001b[37mPOST /api/test HTTP/1.1\u001b[0m\" 200 -\n"
     ]
    },
    {
     "name": "stdout",
     "output_type": "stream",
     "text": [
      "\n"
     ]
    },
    {
     "name": "stderr",
     "output_type": "stream",
     "text": [
      "127.0.0.1 - - [31/Oct/2020 13:10:39] \"\u001b[37mPOST /api/test HTTP/1.1\u001b[0m\" 200 -\n"
     ]
    },
    {
     "name": "stdout",
     "output_type": "stream",
     "text": [
      "[{\"label\": \"Mask: 91.00%\", \"x\": \"125\", \"y\": \"218\", \"x2\": \"311\", \"y2\": \"404\", \"mask\": \"0.9099535\", \"withoutMask\": \"0.09004657\"}, {\"label\": \"No Mask: 99.91%\", \"x\": \"151\", \"y\": \"413\", \"x2\": \"191\", \"y2\": \"453\", \"mask\": \"0.0008790231\", \"withoutMask\": \"0.999121\"}]\n"
     ]
    },
    {
     "name": "stderr",
     "output_type": "stream",
     "text": [
      "127.0.0.1 - - [31/Oct/2020 13:10:39] \"\u001b[37mPOST /api/test HTTP/1.1\u001b[0m\" 200 -\n"
     ]
    },
    {
     "name": "stdout",
     "output_type": "stream",
     "text": [
      "[{\"label\": \"Mask: 79.15%\", \"x\": \"124\", \"y\": \"218\", \"x2\": \"312\", \"y2\": \"406\", \"mask\": \"0.7914692\", \"withoutMask\": \"0.20853075\"}]\n"
     ]
    },
    {
     "name": "stderr",
     "output_type": "stream",
     "text": [
      "127.0.0.1 - - [31/Oct/2020 13:10:39] \"\u001b[37mPOST /api/test HTTP/1.1\u001b[0m\" 200 -\n"
     ]
    },
    {
     "name": "stdout",
     "output_type": "stream",
     "text": [
      "[{\"label\": \"Mask: 94.11%\", \"x\": \"123\", \"y\": \"216\", \"x2\": \"313\", \"y2\": \"406\", \"mask\": \"0.9410596\", \"withoutMask\": \"0.058940448\"}]\n"
     ]
    },
    {
     "name": "stderr",
     "output_type": "stream",
     "text": [
      "127.0.0.1 - - [31/Oct/2020 13:10:40] \"\u001b[37mPOST /api/test HTTP/1.1\u001b[0m\" 200 -\n"
     ]
    },
    {
     "name": "stdout",
     "output_type": "stream",
     "text": [
      "[{\"label\": \"Mask: 79.77%\", \"x\": \"125\", \"y\": \"215\", \"x2\": \"322\", \"y2\": \"412\", \"mask\": \"0.79769987\", \"withoutMask\": \"0.20230009\"}]\n"
     ]
    },
    {
     "name": "stderr",
     "output_type": "stream",
     "text": [
      "127.0.0.1 - - [31/Oct/2020 13:10:40] \"\u001b[37mPOST /api/test HTTP/1.1\u001b[0m\" 200 -\n"
     ]
    },
    {
     "name": "stdout",
     "output_type": "stream",
     "text": [
      "[{\"label\": \"No Mask: 61.66%\", \"x\": \"135\", \"y\": \"216\", \"x2\": \"324\", \"y2\": \"405\", \"mask\": \"0.38337877\", \"withoutMask\": \"0.61662114\"}]\n"
     ]
    },
    {
     "name": "stderr",
     "output_type": "stream",
     "text": [
      "127.0.0.1 - - [31/Oct/2020 13:10:40] \"\u001b[37mPOST /api/test HTTP/1.1\u001b[0m\" 200 -\n"
     ]
    },
    {
     "name": "stdout",
     "output_type": "stream",
     "text": [
      "[{\"label\": \"Mask: 90.73%\", \"x\": \"130\", \"y\": \"216\", \"x2\": \"329\", \"y2\": \"415\", \"mask\": \"0.9073302\", \"withoutMask\": \"0.092669815\"}]\n"
     ]
    },
    {
     "name": "stderr",
     "output_type": "stream",
     "text": [
      "127.0.0.1 - - [31/Oct/2020 13:10:41] \"\u001b[37mPOST /api/test HTTP/1.1\u001b[0m\" 200 -\n",
      "127.0.0.1 - - [31/Oct/2020 13:10:41] \"\u001b[37mPOST /api/test HTTP/1.1\u001b[0m\" 200 -\n"
     ]
    },
    {
     "name": "stdout",
     "output_type": "stream",
     "text": [
      "[{\"label\": \"Mask: 87.33%\", \"x\": \"127\", \"y\": \"209\", \"x2\": \"326\", \"y2\": \"408\", \"mask\": \"0.8732803\", \"withoutMask\": \"0.12671971\"}]\n",
      "[]\n"
     ]
    },
    {
     "name": "stderr",
     "output_type": "stream",
     "text": [
      "127.0.0.1 - - [31/Oct/2020 13:10:41] \"\u001b[37mPOST /api/test HTTP/1.1\u001b[0m\" 200 -\n"
     ]
    },
    {
     "name": "stdout",
     "output_type": "stream",
     "text": [
      "[{\"label\": \"Mask: 75.44%\", \"x\": \"128\", \"y\": \"213\", \"x2\": \"324\", \"y2\": \"409\", \"mask\": \"0.7543727\", \"withoutMask\": \"0.24562731\"}]\n"
     ]
    },
    {
     "name": "stderr",
     "output_type": "stream",
     "text": [
      "127.0.0.1 - - [31/Oct/2020 13:10:41] \"\u001b[37mPOST /api/test HTTP/1.1\u001b[0m\" 200 -\n"
     ]
    },
    {
     "name": "stdout",
     "output_type": "stream",
     "text": [
      "[{\"label\": \"Mask: 87.77%\", \"x\": \"121\", \"y\": \"212\", \"x2\": \"330\", \"y2\": \"421\", \"mask\": \"0.87768877\", \"withoutMask\": \"0.122311234\"}]\n"
     ]
    },
    {
     "name": "stderr",
     "output_type": "stream",
     "text": [
      "127.0.0.1 - - [31/Oct/2020 13:10:42] \"\u001b[37mPOST /api/test HTTP/1.1\u001b[0m\" 200 -\n"
     ]
    },
    {
     "name": "stdout",
     "output_type": "stream",
     "text": [
      "[{\"label\": \"No Mask: 98.94%\", \"x\": \"157\", \"y\": \"382\", \"x2\": \"200\", \"y2\": \"425\", \"mask\": \"0.010603375\", \"withoutMask\": \"0.98939663\"}, {\"label\": \"Mask: 97.70%\", \"x\": \"122\", \"y\": \"213\", \"x2\": \"330\", \"y2\": \"421\", \"mask\": \"0.97696596\", \"withoutMask\": \"0.023033967\"}]\n"
     ]
    },
    {
     "name": "stderr",
     "output_type": "stream",
     "text": [
      "127.0.0.1 - - [31/Oct/2020 13:10:42] \"\u001b[37mPOST /api/test HTTP/1.1\u001b[0m\" 200 -\n"
     ]
    },
    {
     "name": "stdout",
     "output_type": "stream",
     "text": [
      "[{\"label\": \"Mask: 71.58%\", \"x\": \"130\", \"y\": \"215\", \"x2\": \"330\", \"y2\": \"415\", \"mask\": \"0.7158497\", \"withoutMask\": \"0.2841503\"}]\n"
     ]
    },
    {
     "name": "stderr",
     "output_type": "stream",
     "text": [
      "127.0.0.1 - - [31/Oct/2020 13:10:42] \"\u001b[37mPOST /api/test HTTP/1.1\u001b[0m\" 200 -\n"
     ]
    },
    {
     "name": "stdout",
     "output_type": "stream",
     "text": [
      "[{\"label\": \"Mask: 95.38%\", \"x\": \"130\", \"y\": \"216\", \"x2\": \"331\", \"y2\": \"417\", \"mask\": \"0.9537604\", \"withoutMask\": \"0.046239614\"}]\n"
     ]
    },
    {
     "name": "stderr",
     "output_type": "stream",
     "text": [
      "127.0.0.1 - - [31/Oct/2020 13:10:42] \"\u001b[37mPOST /api/test HTTP/1.1\u001b[0m\" 200 -\n"
     ]
    },
    {
     "name": "stdout",
     "output_type": "stream",
     "text": [
      "[{\"label\": \"Mask: 98.58%\", \"x\": \"131\", \"y\": \"219\", \"x2\": \"331\", \"y2\": \"419\", \"mask\": \"0.9858154\", \"withoutMask\": \"0.014184556\"}]\n"
     ]
    },
    {
     "name": "stderr",
     "output_type": "stream",
     "text": [
      "127.0.0.1 - - [31/Oct/2020 13:10:43] \"\u001b[37mPOST /api/test HTTP/1.1\u001b[0m\" 200 -\n"
     ]
    },
    {
     "name": "stdout",
     "output_type": "stream",
     "text": [
      "[{\"label\": \"Mask: 96.90%\", \"x\": \"124\", \"y\": \"212\", \"x2\": \"335\", \"y2\": \"423\", \"mask\": \"0.968959\", \"withoutMask\": \"0.031041063\"}]\n"
     ]
    },
    {
     "name": "stderr",
     "output_type": "stream",
     "text": [
      "127.0.0.1 - - [31/Oct/2020 13:10:43] \"\u001b[37mPOST /api/test HTTP/1.1\u001b[0m\" 200 -\n"
     ]
    },
    {
     "name": "stdout",
     "output_type": "stream",
     "text": [
      "[{\"label\": \"Mask: 98.40%\", \"x\": \"126\", \"y\": \"213\", \"x2\": \"332\", \"y2\": \"419\", \"mask\": \"0.9839733\", \"withoutMask\": \"0.016026689\"}]\n"
     ]
    },
    {
     "name": "stderr",
     "output_type": "stream",
     "text": [
      "127.0.0.1 - - [31/Oct/2020 13:10:43] \"\u001b[37mPOST /api/test HTTP/1.1\u001b[0m\" 200 -\n"
     ]
    },
    {
     "name": "stdout",
     "output_type": "stream",
     "text": [
      "[{\"label\": \"Mask: 97.65%\", \"x\": \"121\", \"y\": \"212\", \"x2\": \"334\", \"y2\": \"425\", \"mask\": \"0.97653437\", \"withoutMask\": \"0.023465624\"}]\n"
     ]
    },
    {
     "name": "stderr",
     "output_type": "stream",
     "text": [
      "127.0.0.1 - - [31/Oct/2020 13:10:43] \"\u001b[37mPOST /api/test HTTP/1.1\u001b[0m\" 200 -\n"
     ]
    },
    {
     "name": "stdout",
     "output_type": "stream",
     "text": [
      "[{\"label\": \"Mask: 98.52%\", \"x\": \"125\", \"y\": \"213\", \"x2\": \"333\", \"y2\": \"421\", \"mask\": \"0.9851795\", \"withoutMask\": \"0.014820511\"}]\n"
     ]
    },
    {
     "name": "stderr",
     "output_type": "stream",
     "text": [
      "127.0.0.1 - - [31/Oct/2020 13:10:43] \"\u001b[37mPOST /api/test HTTP/1.1\u001b[0m\" 200 -\n"
     ]
    },
    {
     "name": "stdout",
     "output_type": "stream",
     "text": [
      "[{\"label\": \"Mask: 97.63%\", \"x\": \"122\", \"y\": \"212\", \"x2\": \"336\", \"y2\": \"426\", \"mask\": \"0.9762744\", \"withoutMask\": \"0.02372565\"}]\n"
     ]
    },
    {
     "name": "stderr",
     "output_type": "stream",
     "text": [
      "127.0.0.1 - - [31/Oct/2020 13:10:44] \"\u001b[37mPOST /api/test HTTP/1.1\u001b[0m\" 200 -\n"
     ]
    },
    {
     "name": "stdout",
     "output_type": "stream",
     "text": [
      "[{\"label\": \"Mask: 98.76%\", \"x\": \"123\", \"y\": \"214\", \"x2\": \"330\", \"y2\": \"421\", \"mask\": \"0.9875925\", \"withoutMask\": \"0.012407449\"}]\n"
     ]
    },
    {
     "name": "stderr",
     "output_type": "stream",
     "text": [
      "127.0.0.1 - - [31/Oct/2020 13:10:44] \"\u001b[37mPOST /api/test HTTP/1.1\u001b[0m\" 200 -\n"
     ]
    },
    {
     "name": "stdout",
     "output_type": "stream",
     "text": [
      "[{\"label\": \"Mask: 92.23%\", \"x\": \"125\", \"y\": \"214\", \"x2\": \"328\", \"y2\": \"417\", \"mask\": \"0.9223312\", \"withoutMask\": \"0.07766881\"}]\n"
     ]
    },
    {
     "name": "stderr",
     "output_type": "stream",
     "text": [
      "127.0.0.1 - - [31/Oct/2020 13:10:44] \"\u001b[37mPOST /api/test HTTP/1.1\u001b[0m\" 200 -\n"
     ]
    },
    {
     "name": "stdout",
     "output_type": "stream",
     "text": [
      "[{\"label\": \"Mask: 92.88%\", \"x\": \"138\", \"y\": \"220\", \"x2\": \"326\", \"y2\": \"408\", \"mask\": \"0.9287571\", \"withoutMask\": \"0.071242966\"}]\n"
     ]
    },
    {
     "name": "stderr",
     "output_type": "stream",
     "text": [
      "127.0.0.1 - - [31/Oct/2020 13:10:44] \"\u001b[37mPOST /api/test HTTP/1.1\u001b[0m\" 200 -\n"
     ]
    },
    {
     "name": "stdout",
     "output_type": "stream",
     "text": [
      "[{\"label\": \"Mask: 98.54%\", \"x\": \"134\", \"y\": \"219\", \"x2\": \"322\", \"y2\": \"407\", \"mask\": \"0.98543847\", \"withoutMask\": \"0.014561551\"}]\n"
     ]
    },
    {
     "name": "stderr",
     "output_type": "stream",
     "text": [
      "127.0.0.1 - - [31/Oct/2020 13:10:45] \"\u001b[37mPOST /api/test HTTP/1.1\u001b[0m\" 200 -\n"
     ]
    },
    {
     "name": "stdout",
     "output_type": "stream",
     "text": [
      "[{\"label\": \"Mask: 86.60%\", \"x\": \"123\", \"y\": \"219\", \"x2\": \"335\", \"y2\": \"431\", \"mask\": \"0.86602527\", \"withoutMask\": \"0.13397476\"}]\n"
     ]
    },
    {
     "name": "stderr",
     "output_type": "stream",
     "text": [
      "127.0.0.1 - - [31/Oct/2020 13:10:45] \"\u001b[37mPOST /api/test HTTP/1.1\u001b[0m\" 200 -\n"
     ]
    },
    {
     "name": "stdout",
     "output_type": "stream",
     "text": [
      "[{\"label\": \"Mask: 56.92%\", \"x\": \"126\", \"y\": \"220\", \"x2\": \"329\", \"y2\": \"423\", \"mask\": \"0.5692137\", \"withoutMask\": \"0.43078628\"}]\n"
     ]
    },
    {
     "name": "stderr",
     "output_type": "stream",
     "text": [
      "127.0.0.1 - - [31/Oct/2020 13:10:45] \"\u001b[37mPOST /api/test HTTP/1.1\u001b[0m\" 200 -\n"
     ]
    },
    {
     "name": "stdout",
     "output_type": "stream",
     "text": [
      "[{\"label\": \"Mask: 95.22%\", \"x\": \"132\", \"y\": \"219\", \"x2\": \"325\", \"y2\": \"412\", \"mask\": \"0.9521986\", \"withoutMask\": \"0.04780133\"}]\n"
     ]
    },
    {
     "name": "stderr",
     "output_type": "stream",
     "text": [
      "127.0.0.1 - - [31/Oct/2020 13:10:45] \"\u001b[37mPOST /api/test HTTP/1.1\u001b[0m\" 200 -\n"
     ]
    },
    {
     "name": "stdout",
     "output_type": "stream",
     "text": [
      "[{\"label\": \"Mask: 96.55%\", \"x\": \"148\", \"y\": \"225\", \"x2\": \"307\", \"y2\": \"384\", \"mask\": \"0.96551\", \"withoutMask\": \"0.034490004\"}]\n"
     ]
    },
    {
     "name": "stderr",
     "output_type": "stream",
     "text": [
      "127.0.0.1 - - [31/Oct/2020 13:10:45] \"\u001b[37mPOST /api/test HTTP/1.1\u001b[0m\" 200 -\n"
     ]
    },
    {
     "name": "stdout",
     "output_type": "stream",
     "text": [
      "[{\"label\": \"Mask: 95.90%\", \"x\": \"127\", \"y\": \"219\", \"x2\": \"321\", \"y2\": \"413\", \"mask\": \"0.9589889\", \"withoutMask\": \"0.041011058\"}]\n"
     ]
    },
    {
     "name": "stderr",
     "output_type": "stream",
     "text": [
      "127.0.0.1 - - [31/Oct/2020 13:10:46] \"\u001b[37mPOST /api/test HTTP/1.1\u001b[0m\" 200 -\n"
     ]
    },
    {
     "name": "stdout",
     "output_type": "stream",
     "text": [
      "[{\"label\": \"Mask: 99.42%\", \"x\": \"131\", \"y\": \"221\", \"x2\": \"319\", \"y2\": \"409\", \"mask\": \"0.9941703\", \"withoutMask\": \"0.005829724\"}]\n"
     ]
    },
    {
     "name": "stderr",
     "output_type": "stream",
     "text": [
      "127.0.0.1 - - [31/Oct/2020 13:10:46] \"\u001b[37mPOST /api/test HTTP/1.1\u001b[0m\" 200 -\n"
     ]
    },
    {
     "name": "stdout",
     "output_type": "stream",
     "text": [
      "[{\"label\": \"Mask: 94.48%\", \"x\": \"120\", \"y\": \"218\", \"x2\": \"328\", \"y2\": \"426\", \"mask\": \"0.94476223\", \"withoutMask\": \"0.055237796\"}]\n"
     ]
    },
    {
     "name": "stderr",
     "output_type": "stream",
     "text": [
      "127.0.0.1 - - [31/Oct/2020 13:10:46] \"\u001b[37mPOST /api/test HTTP/1.1\u001b[0m\" 200 -\n"
     ]
    },
    {
     "name": "stdout",
     "output_type": "stream",
     "text": [
      "[{\"label\": \"Mask: 99.14%\", \"x\": \"126\", \"y\": \"219\", \"x2\": \"321\", \"y2\": \"414\", \"mask\": \"0.9914157\", \"withoutMask\": \"0.008584349\"}]\n"
     ]
    },
    {
     "name": "stderr",
     "output_type": "stream",
     "text": [
      "127.0.0.1 - - [31/Oct/2020 13:10:46] \"\u001b[37mPOST /api/test HTTP/1.1\u001b[0m\" 200 -\n"
     ]
    },
    {
     "name": "stdout",
     "output_type": "stream",
     "text": [
      "[{\"label\": \"Mask: 99.14%\", \"x\": \"139\", \"y\": \"225\", \"x2\": \"314\", \"y2\": \"400\", \"mask\": \"0.99139035\", \"withoutMask\": \"0.008609637\"}]\n"
     ]
    },
    {
     "name": "stderr",
     "output_type": "stream",
     "text": [
      "127.0.0.1 - - [31/Oct/2020 13:10:47] \"\u001b[37mPOST /api/test HTTP/1.1\u001b[0m\" 200 -\n"
     ]
    },
    {
     "name": "stdout",
     "output_type": "stream",
     "text": [
      "[{\"label\": \"Mask: 77.88%\", \"x\": \"125\", \"y\": \"220\", \"x2\": \"330\", \"y2\": \"425\", \"mask\": \"0.7787638\", \"withoutMask\": \"0.22123624\"}]\n"
     ]
    },
    {
     "name": "stderr",
     "output_type": "stream",
     "text": [
      "127.0.0.1 - - [31/Oct/2020 13:10:47] \"\u001b[37mPOST /api/test HTTP/1.1\u001b[0m\" 200 -\n"
     ]
    },
    {
     "name": "stdout",
     "output_type": "stream",
     "text": [
      "[{\"label\": \"Mask: 87.65%\", \"x\": \"128\", \"y\": \"220\", \"x2\": \"328\", \"y2\": \"420\", \"mask\": \"0.87654704\", \"withoutMask\": \"0.12345295\"}]\n"
     ]
    },
    {
     "name": "stderr",
     "output_type": "stream",
     "text": [
      "127.0.0.1 - - [31/Oct/2020 13:10:47] \"\u001b[37mPOST /api/test HTTP/1.1\u001b[0m\" 200 -\n"
     ]
    },
    {
     "name": "stdout",
     "output_type": "stream",
     "text": [
      "[{\"label\": \"Mask: 79.53%\", \"x\": \"122\", \"y\": \"222\", \"x2\": \"335\", \"y2\": \"435\", \"mask\": \"0.7953009\", \"withoutMask\": \"0.20469905\"}]\n"
     ]
    },
    {
     "name": "stderr",
     "output_type": "stream",
     "text": [
      "127.0.0.1 - - [31/Oct/2020 13:10:47] \"\u001b[37mPOST /api/test HTTP/1.1\u001b[0m\" 200 -\n"
     ]
    },
    {
     "name": "stdout",
     "output_type": "stream",
     "text": [
      "[{\"label\": \"Mask: 83.36%\", \"x\": \"132\", \"y\": \"226\", \"x2\": \"328\", \"y2\": \"422\", \"mask\": \"0.83361685\", \"withoutMask\": \"0.16638313\"}]\n"
     ]
    },
    {
     "name": "stderr",
     "output_type": "stream",
     "text": [
      "127.0.0.1 - - [31/Oct/2020 13:10:47] \"\u001b[37mPOST /api/test HTTP/1.1\u001b[0m\" 200 -\n"
     ]
    },
    {
     "name": "stdout",
     "output_type": "stream",
     "text": [
      "[{\"label\": \"Mask: 78.50%\", \"x\": \"131\", \"y\": \"224\", \"x2\": \"328\", \"y2\": \"421\", \"mask\": \"0.78496456\", \"withoutMask\": \"0.2150354\"}]\n"
     ]
    },
    {
     "name": "stderr",
     "output_type": "stream",
     "text": [
      "127.0.0.1 - - [31/Oct/2020 13:10:48] \"\u001b[37mPOST /api/test HTTP/1.1\u001b[0m\" 200 -\n",
      "127.0.0.1 - - [31/Oct/2020 13:10:48] \"\u001b[37mPOST /api/test HTTP/1.1\u001b[0m\" 200 -\n"
     ]
    },
    {
     "name": "stdout",
     "output_type": "stream",
     "text": [
      "[{\"label\": \"Mask: 64.77%\", \"x\": \"133\", \"y\": \"222\", \"x2\": \"333\", \"y2\": \"422\", \"mask\": \"0.64771783\", \"withoutMask\": \"0.3522821\"}]\n",
      "[]\n",
      "[]"
     ]
    },
    {
     "name": "stderr",
     "output_type": "stream",
     "text": [
      "127.0.0.1 - - [31/Oct/2020 13:10:48] \"\u001b[37mPOST /api/test HTTP/1.1\u001b[0m\" 200 -\n",
      "127.0.0.1 - - [31/Oct/2020 13:10:48] \"\u001b[37mPOST /api/test HTTP/1.1\u001b[0m\" 200 -\n",
      "127.0.0.1 - - [31/Oct/2020 13:10:48] \"\u001b[37mPOST /api/test HTTP/1.1\u001b[0m\" 200 -\n"
     ]
    },
    {
     "name": "stdout",
     "output_type": "stream",
     "text": [
      "\n",
      "[]\n",
      "[]\n"
     ]
    },
    {
     "name": "stderr",
     "output_type": "stream",
     "text": [
      "127.0.0.1 - - [31/Oct/2020 13:10:48] \"\u001b[37mPOST /api/test HTTP/1.1\u001b[0m\" 200 -\n",
      "127.0.0.1 - - [31/Oct/2020 13:10:48] \"\u001b[37mPOST /api/test HTTP/1.1\u001b[0m\" 200 -\n",
      "127.0.0.1 - - [31/Oct/2020 13:10:48] \"\u001b[37mPOST /api/test HTTP/1.1\u001b[0m\" 200 -\n"
     ]
    },
    {
     "name": "stdout",
     "output_type": "stream",
     "text": [
      "[]\n",
      "[]\n",
      "[]\n"
     ]
    },
    {
     "name": "stderr",
     "output_type": "stream",
     "text": [
      "127.0.0.1 - - [31/Oct/2020 13:10:48] \"\u001b[37mPOST /api/test HTTP/1.1\u001b[0m\" 200 -\n"
     ]
    },
    {
     "name": "stdout",
     "output_type": "stream",
     "text": [
      "[]\n"
     ]
    },
    {
     "name": "stderr",
     "output_type": "stream",
     "text": [
      "127.0.0.1 - - [31/Oct/2020 13:10:49] \"\u001b[37mPOST /api/test HTTP/1.1\u001b[0m\" 200 -\n"
     ]
    },
    {
     "name": "stdout",
     "output_type": "stream",
     "text": [
      "[{\"label\": \"No Mask: 95.20%\", \"x\": \"80\", \"y\": \"250\", \"x2\": \"246\", \"y2\": \"416\", \"mask\": \"0.048015982\", \"withoutMask\": \"0.951984\"}, {\"label\": \"No Mask: 59.48%\", \"x\": \"207\", \"y\": \"310\", \"x2\": \"255\", \"y2\": \"358\", \"mask\": \"0.40520987\", \"withoutMask\": \"0.59479016\"}]\n"
     ]
    },
    {
     "name": "stderr",
     "output_type": "stream",
     "text": [
      "127.0.0.1 - - [31/Oct/2020 13:10:49] \"\u001b[37mPOST /api/test HTTP/1.1\u001b[0m\" 200 -\n"
     ]
    },
    {
     "name": "stdout",
     "output_type": "stream",
     "text": [
      "[{\"label\": \"No Mask: 93.09%\", \"x\": \"114\", \"y\": \"242\", \"x2\": \"292\", \"y2\": \"420\", \"mask\": \"0.06914524\", \"withoutMask\": \"0.93085474\"}]\n"
     ]
    },
    {
     "name": "stderr",
     "output_type": "stream",
     "text": [
      "127.0.0.1 - - [31/Oct/2020 13:10:49] \"\u001b[37mPOST /api/test HTTP/1.1\u001b[0m\" 200 -\n",
      "127.0.0.1 - - [31/Oct/2020 13:10:49] \"\u001b[37mPOST /api/test HTTP/1.1\u001b[0m\" 200 -\n"
     ]
    },
    {
     "name": "stdout",
     "output_type": "stream",
     "text": [
      "[{\"label\": \"No Mask: 54.18%\", \"x\": \"126\", \"y\": \"242\", \"x2\": \"311\", \"y2\": \"427\", \"mask\": \"0.45817292\", \"withoutMask\": \"0.54182714\"}]\n",
      "[]\n",
      "[]"
     ]
    },
    {
     "name": "stderr",
     "output_type": "stream",
     "text": [
      "127.0.0.1 - - [31/Oct/2020 13:10:49] \"\u001b[37mPOST /api/test HTTP/1.1\u001b[0m\" 200 -\n",
      "127.0.0.1 - - [31/Oct/2020 13:10:49] \"\u001b[37mPOST /api/test HTTP/1.1\u001b[0m\" 200 -\n"
     ]
    },
    {
     "name": "stdout",
     "output_type": "stream",
     "text": [
      "\n",
      "[]\n"
     ]
    },
    {
     "name": "stderr",
     "output_type": "stream",
     "text": [
      "127.0.0.1 - - [31/Oct/2020 13:10:50] \"\u001b[37mPOST /api/test HTTP/1.1\u001b[0m\" 200 -\n"
     ]
    },
    {
     "name": "stdout",
     "output_type": "stream",
     "text": [
      "[{\"label\": \"No Mask: 94.38%\", \"x\": \"159\", \"y\": \"246\", \"x2\": \"357\", \"y2\": \"444\", \"mask\": \"0.056184333\", \"withoutMask\": \"0.94381565\"}]\n"
     ]
    },
    {
     "name": "stderr",
     "output_type": "stream",
     "text": [
      "127.0.0.1 - - [31/Oct/2020 13:10:50] \"\u001b[37mPOST /api/test HTTP/1.1\u001b[0m\" 200 -\n",
      "127.0.0.1 - - [31/Oct/2020 13:10:50] \"\u001b[37mPOST /api/test HTTP/1.1\u001b[0m\" 200 -\n"
     ]
    },
    {
     "name": "stdout",
     "output_type": "stream",
     "text": [
      "[{\"label\": \"No Mask: 97.12%\", \"x\": \"156\", \"y\": \"238\", \"x2\": \"361\", \"y2\": \"443\", \"mask\": \"0.028802086\", \"withoutMask\": \"0.97119784\"}]\n",
      "[]\n",
      "[]"
     ]
    },
    {
     "name": "stderr",
     "output_type": "stream",
     "text": [
      "127.0.0.1 - - [31/Oct/2020 13:10:50] \"\u001b[37mPOST /api/test HTTP/1.1\u001b[0m\" 200 -\n",
      "127.0.0.1 - - [31/Oct/2020 13:10:50] \"\u001b[37mPOST /api/test HTTP/1.1\u001b[0m\" 200 -\n",
      "127.0.0.1 - - [31/Oct/2020 13:10:50] \"\u001b[37mPOST /api/test HTTP/1.1\u001b[0m\" 200 -\n"
     ]
    },
    {
     "name": "stdout",
     "output_type": "stream",
     "text": [
      "\n",
      "[]\n",
      "[]\n"
     ]
    },
    {
     "name": "stderr",
     "output_type": "stream",
     "text": [
      "127.0.0.1 - - [31/Oct/2020 13:10:50] \"\u001b[37mPOST /api/test HTTP/1.1\u001b[0m\" 200 -\n",
      "127.0.0.1 - - [31/Oct/2020 13:10:50] \"\u001b[37mPOST /api/test HTTP/1.1\u001b[0m\" 200 -\n",
      "127.0.0.1 - - [31/Oct/2020 13:10:51] \"\u001b[37mPOST /api/test HTTP/1.1\u001b[0m\" 200 -\n"
     ]
    },
    {
     "name": "stdout",
     "output_type": "stream",
     "text": [
      "[]\n",
      "[]\n",
      "[]\n"
     ]
    },
    {
     "name": "stderr",
     "output_type": "stream",
     "text": [
      "127.0.0.1 - - [31/Oct/2020 13:10:51] \"\u001b[37mPOST /api/test HTTP/1.1\u001b[0m\" 200 -\n",
      "127.0.0.1 - - [31/Oct/2020 13:10:51] \"\u001b[37mPOST /api/test HTTP/1.1\u001b[0m\" 200 -\n",
      "127.0.0.1 - - [31/Oct/2020 13:10:51] \"\u001b[37mPOST /api/test HTTP/1.1\u001b[0m\" 200 -\n"
     ]
    },
    {
     "name": "stdout",
     "output_type": "stream",
     "text": [
      "[]\n",
      "[]\n",
      "[]\n"
     ]
    },
    {
     "name": "stderr",
     "output_type": "stream",
     "text": [
      "127.0.0.1 - - [31/Oct/2020 13:10:51] \"\u001b[37mPOST /api/test HTTP/1.1\u001b[0m\" 200 -\n",
      "127.0.0.1 - - [31/Oct/2020 13:10:51] \"\u001b[37mPOST /api/test HTTP/1.1\u001b[0m\" 200 -\n",
      "127.0.0.1 - - [31/Oct/2020 13:10:51] \"\u001b[37mPOST /api/test HTTP/1.1\u001b[0m\" 200 -\n"
     ]
    },
    {
     "name": "stdout",
     "output_type": "stream",
     "text": [
      "[]\n",
      "[]\n",
      "[]\n"
     ]
    },
    {
     "name": "stderr",
     "output_type": "stream",
     "text": [
      "127.0.0.1 - - [31/Oct/2020 13:10:51] \"\u001b[37mPOST /api/test HTTP/1.1\u001b[0m\" 200 -\n",
      "127.0.0.1 - - [31/Oct/2020 13:10:51] \"\u001b[37mPOST /api/test HTTP/1.1\u001b[0m\" 200 -\n",
      "127.0.0.1 - - [31/Oct/2020 13:10:51] \"\u001b[37mPOST /api/test HTTP/1.1\u001b[0m\" 200 -\n"
     ]
    },
    {
     "name": "stdout",
     "output_type": "stream",
     "text": [
      "[]\n",
      "[]\n",
      "[]\n"
     ]
    },
    {
     "name": "stderr",
     "output_type": "stream",
     "text": [
      "127.0.0.1 - - [31/Oct/2020 13:10:51] \"\u001b[37mPOST /api/test HTTP/1.1\u001b[0m\" 200 -\n",
      "127.0.0.1 - - [31/Oct/2020 13:10:51] \"\u001b[37mPOST /api/test HTTP/1.1\u001b[0m\" 200 -\n"
     ]
    },
    {
     "name": "stdout",
     "output_type": "stream",
     "text": [
      "[]\n",
      "[]\n"
     ]
    },
    {
     "name": "stderr",
     "output_type": "stream",
     "text": [
      "127.0.0.1 - - [31/Oct/2020 13:10:52] \"\u001b[37mPOST /api/test HTTP/1.1\u001b[0m\" 200 -\n",
      "127.0.0.1 - - [31/Oct/2020 13:10:52] \"\u001b[37mPOST /api/test HTTP/1.1\u001b[0m\" 200 -\n",
      "127.0.0.1 - - [31/Oct/2020 13:10:52] \"\u001b[37mPOST /api/test HTTP/1.1\u001b[0m\" 200 -\n"
     ]
    },
    {
     "name": "stdout",
     "output_type": "stream",
     "text": [
      "[{\"label\": \"Mask: 53.62%\", \"x\": \"79\", \"y\": \"243\", \"x2\": \"285\", \"y2\": \"449\", \"mask\": \"0.5361987\", \"withoutMask\": \"0.46380132\"}]\n",
      "[]\n",
      "[]\n"
     ]
    },
    {
     "name": "stderr",
     "output_type": "stream",
     "text": [
      "127.0.0.1 - - [31/Oct/2020 13:10:52] \"\u001b[37mPOST /api/test HTTP/1.1\u001b[0m\" 200 -\n",
      "127.0.0.1 - - [31/Oct/2020 13:10:52] \"\u001b[37mPOST /api/test HTTP/1.1\u001b[0m\" 200 -\n",
      "127.0.0.1 - - [31/Oct/2020 13:10:52] \"\u001b[37mPOST /api/test HTTP/1.1\u001b[0m\" 200 -\n"
     ]
    },
    {
     "name": "stdout",
     "output_type": "stream",
     "text": [
      "[]\n",
      "[]\n",
      "[]\n"
     ]
    },
    {
     "name": "stderr",
     "output_type": "stream",
     "text": [
      "127.0.0.1 - - [31/Oct/2020 13:10:52] \"\u001b[37mPOST /api/test HTTP/1.1\u001b[0m\" 200 -\n",
      "127.0.0.1 - - [31/Oct/2020 13:10:52] \"\u001b[37mPOST /api/test HTTP/1.1\u001b[0m\" 200 -\n",
      "127.0.0.1 - - [31/Oct/2020 13:10:52] \"\u001b[37mPOST /api/test HTTP/1.1\u001b[0m\" 200 -\n"
     ]
    },
    {
     "name": "stdout",
     "output_type": "stream",
     "text": [
      "[]\n",
      "[]\n",
      "[]\n"
     ]
    },
    {
     "name": "stderr",
     "output_type": "stream",
     "text": [
      "127.0.0.1 - - [31/Oct/2020 13:10:52] \"\u001b[37mPOST /api/test HTTP/1.1\u001b[0m\" 200 -\n",
      "127.0.0.1 - - [31/Oct/2020 13:10:52] \"\u001b[37mPOST /api/test HTTP/1.1\u001b[0m\" 200 -\n",
      "127.0.0.1 - - [31/Oct/2020 13:10:53] \"\u001b[37mPOST /api/test HTTP/1.1\u001b[0m\" 200 -\n"
     ]
    },
    {
     "name": "stdout",
     "output_type": "stream",
     "text": [
      "[]\n",
      "[]\n",
      "[]\n"
     ]
    },
    {
     "name": "stderr",
     "output_type": "stream",
     "text": [
      "127.0.0.1 - - [31/Oct/2020 13:10:53] \"\u001b[37mPOST /api/test HTTP/1.1\u001b[0m\" 200 -\n",
      "127.0.0.1 - - [31/Oct/2020 13:10:53] \"\u001b[37mPOST /api/test HTTP/1.1\u001b[0m\" 200 -\n",
      "127.0.0.1 - - [31/Oct/2020 13:10:53] \"\u001b[37mPOST /api/test HTTP/1.1\u001b[0m\" 200 -\n"
     ]
    },
    {
     "name": "stdout",
     "output_type": "stream",
     "text": [
      "[]\n",
      "[]\n",
      "[]\n"
     ]
    },
    {
     "name": "stderr",
     "output_type": "stream",
     "text": [
      "127.0.0.1 - - [31/Oct/2020 13:10:53] \"\u001b[37mPOST /api/test HTTP/1.1\u001b[0m\" 200 -\n",
      "127.0.0.1 - - [31/Oct/2020 13:10:53] \"\u001b[37mPOST /api/test HTTP/1.1\u001b[0m\" 200 -\n",
      "127.0.0.1 - - [31/Oct/2020 13:10:53] \"\u001b[37mPOST /api/test HTTP/1.1\u001b[0m\" 200 -\n"
     ]
    },
    {
     "name": "stdout",
     "output_type": "stream",
     "text": [
      "[]\n",
      "[]\n",
      "[]\n"
     ]
    },
    {
     "name": "stderr",
     "output_type": "stream",
     "text": [
      "127.0.0.1 - - [31/Oct/2020 13:10:53] \"\u001b[37mPOST /api/test HTTP/1.1\u001b[0m\" 200 -\n",
      "127.0.0.1 - - [31/Oct/2020 13:10:53] \"\u001b[37mPOST /api/test HTTP/1.1\u001b[0m\" 200 -\n",
      "127.0.0.1 - - [31/Oct/2020 13:10:53] \"\u001b[37mPOST /api/test HTTP/1.1\u001b[0m\" 200 -\n"
     ]
    },
    {
     "name": "stdout",
     "output_type": "stream",
     "text": [
      "[]\n",
      "[]\n",
      "[]\n"
     ]
    },
    {
     "name": "stderr",
     "output_type": "stream",
     "text": [
      "127.0.0.1 - - [31/Oct/2020 13:10:53] \"\u001b[37mPOST /api/test HTTP/1.1\u001b[0m\" 200 -\n",
      "127.0.0.1 - - [31/Oct/2020 13:10:53] \"\u001b[37mPOST /api/test HTTP/1.1\u001b[0m\" 200 -\n",
      "127.0.0.1 - - [31/Oct/2020 13:10:54] \"\u001b[37mPOST /api/test HTTP/1.1\u001b[0m\" 200 -\n"
     ]
    },
    {
     "name": "stdout",
     "output_type": "stream",
     "text": [
      "[]\n",
      "[]\n",
      "[]\n"
     ]
    },
    {
     "name": "stderr",
     "output_type": "stream",
     "text": [
      "127.0.0.1 - - [31/Oct/2020 13:10:54] \"\u001b[37mPOST /api/test HTTP/1.1\u001b[0m\" 200 -\n",
      "127.0.0.1 - - [31/Oct/2020 13:10:54] \"\u001b[37mPOST /api/test HTTP/1.1\u001b[0m\" 200 -\n",
      "127.0.0.1 - - [31/Oct/2020 13:10:54] \"\u001b[37mPOST /api/test HTTP/1.1\u001b[0m\" 200 -\n"
     ]
    },
    {
     "name": "stdout",
     "output_type": "stream",
     "text": [
      "[]\n",
      "[]\n",
      "[]\n"
     ]
    },
    {
     "name": "stderr",
     "output_type": "stream",
     "text": [
      "127.0.0.1 - - [31/Oct/2020 13:10:54] \"\u001b[37mPOST /api/test HTTP/1.1\u001b[0m\" 200 -\n",
      "127.0.0.1 - - [31/Oct/2020 13:10:54] \"\u001b[37mPOST /api/test HTTP/1.1\u001b[0m\" 200 -\n"
     ]
    },
    {
     "name": "stdout",
     "output_type": "stream",
     "text": [
      "[]\n",
      "[]\n"
     ]
    },
    {
     "name": "stderr",
     "output_type": "stream",
     "text": [
      "127.0.0.1 - - [31/Oct/2020 13:10:54] \"\u001b[37mPOST /api/test HTTP/1.1\u001b[0m\" 200 -\n"
     ]
    },
    {
     "name": "stdout",
     "output_type": "stream",
     "text": [
      "[{\"label\": \"Mask: 67.06%\", \"x\": \"80\", \"y\": \"290\", \"x2\": \"108\", \"y2\": \"318\", \"mask\": \"0.6706139\", \"withoutMask\": \"0.3293861\"}]\n",
      "[{\"label\": \"Mask: 62.55%\", \"x\": \"108\", \"y\": \"240\", \"x2\": \"279\", \"y2\": \"411\", \"mask\": \"0.62554896\", \"withoutMask\": \"0.374451\"}]"
     ]
    },
    {
     "name": "stderr",
     "output_type": "stream",
     "text": [
      "127.0.0.1 - - [31/Oct/2020 13:10:54] \"\u001b[37mPOST /api/test HTTP/1.1\u001b[0m\" 200 -\n"
     ]
    },
    {
     "name": "stdout",
     "output_type": "stream",
     "text": [
      "\n",
      "[{\"label\": \"No Mask: 95.81%\", \"x\": \"131\", \"y\": \"230\", \"x2\": \"320\", \"y2\": \"419\", \"mask\": \"0.041878976\", \"withoutMask\": \"0.958121\"}]"
     ]
    },
    {
     "name": "stderr",
     "output_type": "stream",
     "text": [
      "127.0.0.1 - - [31/Oct/2020 13:10:55] \"\u001b[37mPOST /api/test HTTP/1.1\u001b[0m\" 200 -\n"
     ]
    },
    {
     "name": "stdout",
     "output_type": "stream",
     "text": [
      "\n",
      "[{\"label\": \"No Mask: 93.03%\", \"x\": \"142\", \"y\": \"230\", \"x2\": \"334\", \"y2\": \"422\", \"mask\": \"0.0697173\", \"withoutMask\": \"0.93028265\"}]"
     ]
    },
    {
     "name": "stderr",
     "output_type": "stream",
     "text": [
      "127.0.0.1 - - [31/Oct/2020 13:10:55] \"\u001b[37mPOST /api/test HTTP/1.1\u001b[0m\" 200 -\n"
     ]
    },
    {
     "name": "stdout",
     "output_type": "stream",
     "text": [
      "\n"
     ]
    },
    {
     "name": "stderr",
     "output_type": "stream",
     "text": [
      "127.0.0.1 - - [31/Oct/2020 13:10:55] \"\u001b[37mPOST /api/test HTTP/1.1\u001b[0m\" 200 -\n",
      "127.0.0.1 - - [31/Oct/2020 13:10:55] \"\u001b[37mPOST /api/test HTTP/1.1\u001b[0m\" 200 -\n",
      "127.0.0.1 - - [31/Oct/2020 13:10:55] \"\u001b[37mPOST /api/test HTTP/1.1\u001b[0m\" 200 -\n"
     ]
    },
    {
     "name": "stdout",
     "output_type": "stream",
     "text": [
      "[{\"label\": \"Mask: 88.10%\", \"x\": \"141\", \"y\": \"228\", \"x2\": \"318\", \"y2\": \"405\", \"mask\": \"0.8809838\", \"withoutMask\": \"0.119016185\"}]\n",
      "[]\n",
      "[]\n"
     ]
    },
    {
     "name": "stderr",
     "output_type": "stream",
     "text": [
      "127.0.0.1 - - [31/Oct/2020 13:10:55] \"\u001b[37mPOST /api/test HTTP/1.1\u001b[0m\" 200 -\n",
      "127.0.0.1 - - [31/Oct/2020 13:10:55] \"\u001b[37mPOST /api/test HTTP/1.1\u001b[0m\" 200 -\n",
      "127.0.0.1 - - [31/Oct/2020 13:10:55] \"\u001b[37mPOST /api/test HTTP/1.1\u001b[0m\" 200 -\n"
     ]
    },
    {
     "name": "stdout",
     "output_type": "stream",
     "text": [
      "[]\n",
      "[]\n",
      "[]\n"
     ]
    },
    {
     "name": "stderr",
     "output_type": "stream",
     "text": [
      "127.0.0.1 - - [31/Oct/2020 13:10:56] \"\u001b[37mPOST /api/test HTTP/1.1\u001b[0m\" 200 -\n"
     ]
    },
    {
     "name": "stdout",
     "output_type": "stream",
     "text": [
      "[{\"label\": \"No Mask: 84.10%\", \"x\": \"101\", \"y\": \"248\", \"x2\": \"269\", \"y2\": \"416\", \"mask\": \"0.15899493\", \"withoutMask\": \"0.841005\"}]\n"
     ]
    },
    {
     "name": "stderr",
     "output_type": "stream",
     "text": [
      "127.0.0.1 - - [31/Oct/2020 13:10:56] \"\u001b[37mPOST /api/test HTTP/1.1\u001b[0m\" 200 -\n"
     ]
    },
    {
     "name": "stdout",
     "output_type": "stream",
     "text": [
      "[{\"label\": \"No Mask: 68.36%\", \"x\": \"149\", \"y\": \"232\", \"x2\": \"345\", \"y2\": \"428\", \"mask\": \"0.31644103\", \"withoutMask\": \"0.68355894\"}, {\"label\": \"No Mask: 98.22%\", \"x\": \"366\", \"y\": \"332\", \"x2\": \"431\", \"y2\": \"397\", \"mask\": \"0.01783526\", \"withoutMask\": \"0.98216474\"}]\n"
     ]
    },
    {
     "name": "stderr",
     "output_type": "stream",
     "text": [
      "127.0.0.1 - - [31/Oct/2020 13:10:56] \"\u001b[37mPOST /api/test HTTP/1.1\u001b[0m\" 200 -\n"
     ]
    },
    {
     "name": "stdout",
     "output_type": "stream",
     "text": [
      "[{\"label\": \"No Mask: 99.19%\", \"x\": \"143\", \"y\": \"225\", \"x2\": \"352\", \"y2\": \"434\", \"mask\": \"0.00812291\", \"withoutMask\": \"0.9918771\"}]\n"
     ]
    },
    {
     "name": "stderr",
     "output_type": "stream",
     "text": [
      "127.0.0.1 - - [31/Oct/2020 13:10:56] \"\u001b[37mPOST /api/test HTTP/1.1\u001b[0m\" 200 -\n"
     ]
    },
    {
     "name": "stdout",
     "output_type": "stream",
     "text": [
      "[{\"label\": \"Mask: 63.24%\", \"x\": \"146\", \"y\": \"225\", \"x2\": \"357\", \"y2\": \"436\", \"mask\": \"0.6324005\", \"withoutMask\": \"0.36759952\"}]\n",
      "[{\"label\": \"Mask: 92.15%\", \"x\": \"155\", \"y\": \"236\", \"x2\": \"325\", \"y2\": \"406\", \"mask\": \"0.92153025\", \"withoutMask\": \"0.07846969\"}]"
     ]
    },
    {
     "name": "stderr",
     "output_type": "stream",
     "text": [
      "127.0.0.1 - - [31/Oct/2020 13:10:57] \"\u001b[37mPOST /api/test HTTP/1.1\u001b[0m\" 200 -\n"
     ]
    },
    {
     "name": "stdout",
     "output_type": "stream",
     "text": [
      "\n"
     ]
    },
    {
     "name": "stderr",
     "output_type": "stream",
     "text": [
      "127.0.0.1 - - [31/Oct/2020 13:10:57] \"\u001b[37mPOST /api/test HTTP/1.1\u001b[0m\" 200 -\n"
     ]
    },
    {
     "name": "stdout",
     "output_type": "stream",
     "text": [
      "[{\"label\": \"Mask: 72.77%\", \"x\": \"144\", \"y\": \"235\", \"x2\": \"334\", \"y2\": \"425\", \"mask\": \"0.7277217\", \"withoutMask\": \"0.27227837\"}]\n"
     ]
    },
    {
     "name": "stderr",
     "output_type": "stream",
     "text": [
      "127.0.0.1 - - [31/Oct/2020 13:10:57] \"\u001b[37mPOST /api/test HTTP/1.1\u001b[0m\" 200 -\n",
      "127.0.0.1 - - [31/Oct/2020 13:10:57] \"\u001b[37mPOST /api/test HTTP/1.1\u001b[0m\" 200 -\n"
     ]
    },
    {
     "name": "stdout",
     "output_type": "stream",
     "text": [
      "[{\"label\": \"No Mask: 99.55%\", \"x\": \"142\", \"y\": \"240\", \"x2\": \"325\", \"y2\": \"423\", \"mask\": \"0.004523025\", \"withoutMask\": \"0.995477\"}]\n",
      "[{\"label\": \"No Mask: 99.78%\", \"x\": \"73\", \"y\": \"334\", \"x2\": \"128\", \"y2\": \"389\", \"mask\": \"0.0021704691\", \"withoutMask\": \"0.9978295\"}]\n"
     ]
    },
    {
     "name": "stderr",
     "output_type": "stream",
     "text": [
      "127.0.0.1 - - [31/Oct/2020 13:10:57] \"\u001b[37mPOST /api/test HTTP/1.1\u001b[0m\" 200 -\n",
      "127.0.0.1 - - [31/Oct/2020 13:10:57] \"\u001b[37mPOST /api/test HTTP/1.1\u001b[0m\" 200 -\n",
      "127.0.0.1 - - [31/Oct/2020 13:10:58] \"\u001b[37mPOST /api/test HTTP/1.1\u001b[0m\" 200 -\n"
     ]
    },
    {
     "name": "stdout",
     "output_type": "stream",
     "text": [
      "[]\n",
      "[]\n",
      "[]\n"
     ]
    },
    {
     "name": "stderr",
     "output_type": "stream",
     "text": [
      "127.0.0.1 - - [31/Oct/2020 13:10:58] \"\u001b[37mPOST /api/test HTTP/1.1\u001b[0m\" 200 -\n",
      "127.0.0.1 - - [31/Oct/2020 13:10:58] \"\u001b[37mPOST /api/test HTTP/1.1\u001b[0m\" 200 -\n",
      "127.0.0.1 - - [31/Oct/2020 13:10:58] \"\u001b[37mPOST /api/test HTTP/1.1\u001b[0m\" 200 -\n"
     ]
    },
    {
     "name": "stdout",
     "output_type": "stream",
     "text": [
      "[]\n",
      "[]\n",
      "[]\n"
     ]
    },
    {
     "name": "stderr",
     "output_type": "stream",
     "text": [
      "127.0.0.1 - - [31/Oct/2020 13:10:58] \"\u001b[37mPOST /api/test HTTP/1.1\u001b[0m\" 200 -\n",
      "127.0.0.1 - - [31/Oct/2020 13:10:58] \"\u001b[37mPOST /api/test HTTP/1.1\u001b[0m\" 200 -\n"
     ]
    },
    {
     "name": "stdout",
     "output_type": "stream",
     "text": [
      "[]\n",
      "[]\n",
      "[]"
     ]
    },
    {
     "name": "stderr",
     "output_type": "stream",
     "text": [
      "127.0.0.1 - - [31/Oct/2020 13:10:58] \"\u001b[37mPOST /api/test HTTP/1.1\u001b[0m\" 200 -\n",
      "127.0.0.1 - - [31/Oct/2020 13:10:58] \"\u001b[37mPOST /api/test HTTP/1.1\u001b[0m\" 200 -\n",
      "127.0.0.1 - - [31/Oct/2020 13:10:58] \"\u001b[37mPOST /api/test HTTP/1.1\u001b[0m\" 200 -"
     ]
    },
    {
     "name": "stdout",
     "output_type": "stream",
     "text": [
      "\n",
      "[]\n",
      "[]\n"
     ]
    },
    {
     "name": "stderr",
     "output_type": "stream",
     "text": [
      "\n",
      "127.0.0.1 - - [31/Oct/2020 13:10:58] \"\u001b[37mPOST /api/test HTTP/1.1\u001b[0m\" 200 -\n",
      "127.0.0.1 - - [31/Oct/2020 13:10:59] \"\u001b[37mPOST /api/test HTTP/1.1\u001b[0m\" 200 -\n",
      "127.0.0.1 - - [31/Oct/2020 13:10:59] \"\u001b[37mPOST /api/test HTTP/1.1\u001b[0m\" 200 -\n"
     ]
    },
    {
     "name": "stdout",
     "output_type": "stream",
     "text": [
      "[]\n",
      "[]\n",
      "[]\n"
     ]
    },
    {
     "name": "stderr",
     "output_type": "stream",
     "text": [
      "127.0.0.1 - - [31/Oct/2020 13:10:59] \"\u001b[37mPOST /api/test HTTP/1.1\u001b[0m\" 200 -\n",
      "127.0.0.1 - - [31/Oct/2020 13:10:59] \"\u001b[37mPOST /api/test HTTP/1.1\u001b[0m\" 200 -\n"
     ]
    },
    {
     "name": "stdout",
     "output_type": "stream",
     "text": [
      "[]\n",
      "[]\n",
      "[]"
     ]
    },
    {
     "name": "stderr",
     "output_type": "stream",
     "text": [
      "127.0.0.1 - - [31/Oct/2020 13:10:59] \"\u001b[37mPOST /api/test HTTP/1.1\u001b[0m\" 200 -\n",
      "127.0.0.1 - - [31/Oct/2020 13:10:59] \"\u001b[37mPOST /api/test HTTP/1.1\u001b[0m\" 200 -\n"
     ]
    },
    {
     "name": "stdout",
     "output_type": "stream",
     "text": [
      "\n",
      "[]\n",
      "[]\n"
     ]
    },
    {
     "name": "stderr",
     "output_type": "stream",
     "text": [
      "127.0.0.1 - - [31/Oct/2020 13:10:59] \"\u001b[37mPOST /api/test HTTP/1.1\u001b[0m\" 200 -\n",
      "127.0.0.1 - - [31/Oct/2020 13:10:59] \"\u001b[37mPOST /api/test HTTP/1.1\u001b[0m\" 200 -\n",
      "127.0.0.1 - - [31/Oct/2020 13:10:59] \"\u001b[37mPOST /api/test HTTP/1.1\u001b[0m\" 200 -\n"
     ]
    },
    {
     "name": "stdout",
     "output_type": "stream",
     "text": [
      "[]\n",
      "[]\n",
      "[]\n"
     ]
    },
    {
     "name": "stderr",
     "output_type": "stream",
     "text": [
      "127.0.0.1 - - [31/Oct/2020 13:10:59] \"\u001b[37mPOST /api/test HTTP/1.1\u001b[0m\" 200 -\n",
      "127.0.0.1 - - [31/Oct/2020 13:10:59] \"\u001b[37mPOST /api/test HTTP/1.1\u001b[0m\" 200 -\n",
      "127.0.0.1 - - [31/Oct/2020 13:11:00] \"\u001b[37mPOST /api/test HTTP/1.1\u001b[0m\" 200 -\n"
     ]
    },
    {
     "name": "stdout",
     "output_type": "stream",
     "text": [
      "[]\n",
      "[]\n",
      "[]"
     ]
    },
    {
     "name": "stderr",
     "output_type": "stream",
     "text": [
      "127.0.0.1 - - [31/Oct/2020 13:11:00] \"\u001b[37mPOST /api/test HTTP/1.1\u001b[0m\" 200 -\n",
      "127.0.0.1 - - [31/Oct/2020 13:11:00] \"\u001b[37mPOST /api/test HTTP/1.1\u001b[0m\" 200 -\n"
     ]
    },
    {
     "name": "stdout",
     "output_type": "stream",
     "text": [
      "\n",
      "[]\n",
      "[]"
     ]
    },
    {
     "name": "stderr",
     "output_type": "stream",
     "text": [
      "127.0.0.1 - - [31/Oct/2020 13:11:00] \"\u001b[37mPOST /api/test HTTP/1.1\u001b[0m\" 200 -\n",
      "127.0.0.1 - - [31/Oct/2020 13:11:00] \"\u001b[37mPOST /api/test HTTP/1.1\u001b[0m\" 200 -\n"
     ]
    },
    {
     "name": "stdout",
     "output_type": "stream",
     "text": [
      "\n",
      "[]\n",
      "[]"
     ]
    },
    {
     "name": "stderr",
     "output_type": "stream",
     "text": [
      "127.0.0.1 - - [31/Oct/2020 13:11:00] \"\u001b[37mPOST /api/test HTTP/1.1\u001b[0m\" 200 -\n",
      "127.0.0.1 - - [31/Oct/2020 13:11:00] \"\u001b[37mPOST /api/test HTTP/1.1\u001b[0m\" 200 -\n"
     ]
    },
    {
     "name": "stdout",
     "output_type": "stream",
     "text": [
      "\n",
      "[]\n",
      "[]"
     ]
    },
    {
     "name": "stderr",
     "output_type": "stream",
     "text": [
      "127.0.0.1 - - [31/Oct/2020 13:11:00] \"\u001b[37mPOST /api/test HTTP/1.1\u001b[0m\" 200 -\n",
      "127.0.0.1 - - [31/Oct/2020 13:11:00] \"\u001b[37mPOST /api/test HTTP/1.1\u001b[0m\" 200 -\n"
     ]
    },
    {
     "name": "stdout",
     "output_type": "stream",
     "text": [
      "\n",
      "[]\n",
      "[]"
     ]
    },
    {
     "name": "stderr",
     "output_type": "stream",
     "text": [
      "127.0.0.1 - - [31/Oct/2020 13:11:00] \"\u001b[37mPOST /api/test HTTP/1.1\u001b[0m\" 200 -\n",
      "127.0.0.1 - - [31/Oct/2020 13:11:01] \"\u001b[37mPOST /api/test HTTP/1.1\u001b[0m\" 200 -\n"
     ]
    },
    {
     "name": "stdout",
     "output_type": "stream",
     "text": [
      "\n",
      "[]\n",
      "[]"
     ]
    },
    {
     "name": "stderr",
     "output_type": "stream",
     "text": [
      "127.0.0.1 - - [31/Oct/2020 13:11:01] \"\u001b[37mPOST /api/test HTTP/1.1\u001b[0m\" 200 -\n",
      "127.0.0.1 - - [31/Oct/2020 13:11:01] \"\u001b[37mPOST /api/test HTTP/1.1\u001b[0m\" 200 -\n"
     ]
    },
    {
     "name": "stdout",
     "output_type": "stream",
     "text": [
      "\n",
      "[]\n",
      "[]"
     ]
    },
    {
     "name": "stderr",
     "output_type": "stream",
     "text": [
      "127.0.0.1 - - [31/Oct/2020 13:11:01] \"\u001b[37mPOST /api/test HTTP/1.1\u001b[0m\" 200 -\n",
      "127.0.0.1 - - [31/Oct/2020 13:11:01] \"\u001b[37mPOST /api/test HTTP/1.1\u001b[0m\" 200 -\n"
     ]
    },
    {
     "name": "stdout",
     "output_type": "stream",
     "text": [
      "\n",
      "[]\n",
      "[]"
     ]
    },
    {
     "name": "stderr",
     "output_type": "stream",
     "text": [
      "127.0.0.1 - - [31/Oct/2020 13:11:01] \"\u001b[37mPOST /api/test HTTP/1.1\u001b[0m\" 200 -\n",
      "127.0.0.1 - - [31/Oct/2020 13:11:01] \"\u001b[37mPOST /api/test HTTP/1.1\u001b[0m\" 200 -\n"
     ]
    },
    {
     "name": "stdout",
     "output_type": "stream",
     "text": [
      "\n",
      "[]\n",
      "[]"
     ]
    },
    {
     "name": "stderr",
     "output_type": "stream",
     "text": [
      "127.0.0.1 - - [31/Oct/2020 13:11:01] \"\u001b[37mPOST /api/test HTTP/1.1\u001b[0m\" 200 -\n",
      "127.0.0.1 - - [31/Oct/2020 13:11:01] \"\u001b[37mPOST /api/test HTTP/1.1\u001b[0m\" 200 -\n",
      "127.0.0.1 - - [31/Oct/2020 13:11:01] \"\u001b[37mPOST /api/test HTTP/1.1\u001b[0m\" 200 -\n"
     ]
    },
    {
     "name": "stdout",
     "output_type": "stream",
     "text": [
      "\n",
      "[]\n",
      "[]\n"
     ]
    },
    {
     "name": "stderr",
     "output_type": "stream",
     "text": [
      "127.0.0.1 - - [31/Oct/2020 13:11:02] \"\u001b[37mPOST /api/test HTTP/1.1\u001b[0m\" 200 -\n",
      "127.0.0.1 - - [31/Oct/2020 13:11:02] \"\u001b[37mPOST /api/test HTTP/1.1\u001b[0m\" 200 -\n"
     ]
    },
    {
     "name": "stdout",
     "output_type": "stream",
     "text": [
      "[]\n",
      "[]\n"
     ]
    },
    {
     "name": "stderr",
     "output_type": "stream",
     "text": [
      "127.0.0.1 - - [31/Oct/2020 13:11:02] \"\u001b[37mPOST /api/test HTTP/1.1\u001b[0m\" 200 -\n",
      "127.0.0.1 - - [31/Oct/2020 13:11:02] \"\u001b[37mPOST /api/test HTTP/1.1\u001b[0m\" 200 -\n"
     ]
    },
    {
     "name": "stdout",
     "output_type": "stream",
     "text": [
      "[]\n",
      "[]\n"
     ]
    },
    {
     "name": "stderr",
     "output_type": "stream",
     "text": [
      "127.0.0.1 - - [31/Oct/2020 13:11:02] \"\u001b[37mPOST /api/test HTTP/1.1\u001b[0m\" 200 -\n"
     ]
    },
    {
     "name": "stdout",
     "output_type": "stream",
     "text": [
      "[{\"label\": \"No Mask: 96.67%\", \"x\": \"79\", \"y\": \"385\", \"x2\": \"129\", \"y2\": \"435\", \"mask\": \"0.03333397\", \"withoutMask\": \"0.96666604\"}]\n",
      "[{\"label\": \"No Mask: 89.83%\", \"x\": \"84\", \"y\": \"362\", \"x2\": \"136\", \"y2\": \"414\", \"mask\": \"0.10171015\", \"withoutMask\": \"0.89828986\"}]"
     ]
    },
    {
     "name": "stderr",
     "output_type": "stream",
     "text": [
      "127.0.0.1 - - [31/Oct/2020 13:11:02] \"\u001b[37mPOST /api/test HTTP/1.1\u001b[0m\" 200 -\n"
     ]
    },
    {
     "name": "stdout",
     "output_type": "stream",
     "text": [
      "\n",
      "[{\"label\": \"No Mask: 90.58%\", \"x\": \"222\", \"y\": \"405\", \"x2\": \"279\", \"y2\": \"462\", \"mask\": \"0.09415061\", \"withoutMask\": \"0.90584934\"}]"
     ]
    },
    {
     "name": "stderr",
     "output_type": "stream",
     "text": [
      "127.0.0.1 - - [31/Oct/2020 13:11:02] \"\u001b[37mPOST /api/test HTTP/1.1\u001b[0m\" 200 -\n",
      "127.0.0.1 - - [31/Oct/2020 13:11:03] \"\u001b[37mPOST /api/test HTTP/1.1\u001b[0m\" 200 -\n",
      "127.0.0.1 - - [31/Oct/2020 13:11:03] \"\u001b[37mPOST /api/test HTTP/1.1\u001b[0m\" 200 -\n"
     ]
    },
    {
     "name": "stdout",
     "output_type": "stream",
     "text": [
      "\n",
      "[]\n",
      "[]\n"
     ]
    },
    {
     "name": "stderr",
     "output_type": "stream",
     "text": [
      "127.0.0.1 - - [31/Oct/2020 13:11:03] \"\u001b[37mPOST /api/test HTTP/1.1\u001b[0m\" 200 -\n",
      "127.0.0.1 - - [31/Oct/2020 13:11:03] \"\u001b[37mPOST /api/test HTTP/1.1\u001b[0m\" 200 -\n",
      "127.0.0.1 - - [31/Oct/2020 13:11:03] \"\u001b[37mPOST /api/test HTTP/1.1\u001b[0m\" 200 -\n"
     ]
    },
    {
     "name": "stdout",
     "output_type": "stream",
     "text": [
      "[]\n",
      "[]\n",
      "[]\n"
     ]
    },
    {
     "name": "stderr",
     "output_type": "stream",
     "text": [
      "127.0.0.1 - - [31/Oct/2020 13:11:03] \"\u001b[37mPOST /api/test HTTP/1.1\u001b[0m\" 200 -\n"
     ]
    },
    {
     "name": "stdout",
     "output_type": "stream",
     "text": [
      "[{\"label\": \"Mask: 66.91%\", \"x\": \"141\", \"y\": \"163\", \"x2\": \"238\", \"y2\": \"260\", \"mask\": \"0.6691224\", \"withoutMask\": \"0.33087763\"}]\n",
      "[{\"label\": \"No Mask: 51.71%\", \"x\": \"173\", \"y\": \"241\", \"x2\": \"346\", \"y2\": \"414\", \"mask\": \"0.48288867\", \"withoutMask\": \"0.51711124\"}]"
     ]
    },
    {
     "name": "stderr",
     "output_type": "stream",
     "text": [
      "127.0.0.1 - - [31/Oct/2020 13:11:03] \"\u001b[37mPOST /api/test HTTP/1.1\u001b[0m\" 200 -\n"
     ]
    },
    {
     "name": "stdout",
     "output_type": "stream",
     "text": [
      "\n"
     ]
    },
    {
     "name": "stderr",
     "output_type": "stream",
     "text": [
      "127.0.0.1 - - [31/Oct/2020 13:11:03] \"\u001b[37mPOST /api/test HTTP/1.1\u001b[0m\" 200 -\n"
     ]
    },
    {
     "name": "stdout",
     "output_type": "stream",
     "text": [
      "[{\"label\": \"No Mask: 99.98%\", \"x\": \"146\", \"y\": \"240\", \"x2\": \"334\", \"y2\": \"428\", \"mask\": \"0.00023409253\", \"withoutMask\": \"0.99976593\"}]\n"
     ]
    },
    {
     "name": "stderr",
     "output_type": "stream",
     "text": [
      "127.0.0.1 - - [31/Oct/2020 13:11:04] \"\u001b[37mPOST /api/test HTTP/1.1\u001b[0m\" 200 -\n",
      "127.0.0.1 - - [31/Oct/2020 13:11:04] \"\u001b[37mPOST /api/test HTTP/1.1\u001b[0m\" 200 -\n"
     ]
    },
    {
     "name": "stdout",
     "output_type": "stream",
     "text": [
      "[{\"label\": \"No Mask: 99.76%\", \"x\": \"136\", \"y\": \"238\", \"x2\": \"317\", \"y2\": \"419\", \"mask\": \"0.0024232229\", \"withoutMask\": \"0.9975768\"}]\n",
      "[]\n",
      "[]"
     ]
    },
    {
     "name": "stderr",
     "output_type": "stream",
     "text": [
      "127.0.0.1 - - [31/Oct/2020 13:11:04] \"\u001b[37mPOST /api/test HTTP/1.1\u001b[0m\" 200 -\n",
      "127.0.0.1 - - [31/Oct/2020 13:11:04] \"\u001b[37mPOST /api/test HTTP/1.1\u001b[0m\" 200 -\n",
      "127.0.0.1 - - [31/Oct/2020 13:11:04] \"\u001b[37mPOST /api/test HTTP/1.1\u001b[0m\" 200 -\n"
     ]
    },
    {
     "name": "stdout",
     "output_type": "stream",
     "text": [
      "\n",
      "[]\n",
      "[]\n"
     ]
    },
    {
     "name": "stderr",
     "output_type": "stream",
     "text": [
      "127.0.0.1 - - [31/Oct/2020 13:11:04] \"\u001b[37mPOST /api/test HTTP/1.1\u001b[0m\" 200 -\n",
      "127.0.0.1 - - [31/Oct/2020 13:11:04] \"\u001b[37mPOST /api/test HTTP/1.1\u001b[0m\" 200 -\n",
      "127.0.0.1 - - [31/Oct/2020 13:11:04] \"\u001b[37mPOST /api/test HTTP/1.1\u001b[0m\" 200 -\n"
     ]
    },
    {
     "name": "stdout",
     "output_type": "stream",
     "text": [
      "[]\n",
      "[]\n",
      "[]\n"
     ]
    },
    {
     "name": "stderr",
     "output_type": "stream",
     "text": [
      "127.0.0.1 - - [31/Oct/2020 13:11:04] \"\u001b[37mPOST /api/test HTTP/1.1\u001b[0m\" 200 -\n",
      "127.0.0.1 - - [31/Oct/2020 13:11:05] \"\u001b[37mPOST /api/test HTTP/1.1\u001b[0m\" 200 -\n"
     ]
    },
    {
     "name": "stdout",
     "output_type": "stream",
     "text": [
      "[]\n",
      "[]\n",
      "[]"
     ]
    },
    {
     "name": "stderr",
     "output_type": "stream",
     "text": [
      "127.0.0.1 - - [31/Oct/2020 13:11:05] \"\u001b[37mPOST /api/test HTTP/1.1\u001b[0m\" 200 -\n",
      "127.0.0.1 - - [31/Oct/2020 13:11:05] \"\u001b[37mPOST /api/test HTTP/1.1\u001b[0m\" 200 -\n",
      "127.0.0.1 - - [31/Oct/2020 13:11:05] \"\u001b[37mPOST /api/test HTTP/1.1\u001b[0m\" 200 -\n"
     ]
    },
    {
     "name": "stdout",
     "output_type": "stream",
     "text": [
      "\n",
      "[]\n",
      "[]\n"
     ]
    },
    {
     "name": "stderr",
     "output_type": "stream",
     "text": [
      "127.0.0.1 - - [31/Oct/2020 13:11:05] \"\u001b[37mPOST /api/test HTTP/1.1\u001b[0m\" 200 -\n",
      "127.0.0.1 - - [31/Oct/2020 13:11:05] \"\u001b[37mPOST /api/test HTTP/1.1\u001b[0m\" 200 -\n",
      "127.0.0.1 - - [31/Oct/2020 13:11:05] \"\u001b[37mPOST /api/test HTTP/1.1\u001b[0m\" 200 -\n"
     ]
    },
    {
     "name": "stdout",
     "output_type": "stream",
     "text": [
      "[]\n",
      "[]\n",
      "[]\n"
     ]
    },
    {
     "name": "stderr",
     "output_type": "stream",
     "text": [
      "127.0.0.1 - - [31/Oct/2020 13:11:05] \"\u001b[37mPOST /api/test HTTP/1.1\u001b[0m\" 200 -\n",
      "127.0.0.1 - - [31/Oct/2020 13:11:05] \"\u001b[37mPOST /api/test HTTP/1.1\u001b[0m\" 200 -\n"
     ]
    },
    {
     "name": "stdout",
     "output_type": "stream",
     "text": [
      "[]\n",
      "[]\n",
      "[]"
     ]
    },
    {
     "name": "stderr",
     "output_type": "stream",
     "text": [
      "127.0.0.1 - - [31/Oct/2020 13:11:05] \"\u001b[37mPOST /api/test HTTP/1.1\u001b[0m\" 200 -\n",
      "127.0.0.1 - - [31/Oct/2020 13:11:05] \"\u001b[37mPOST /api/test HTTP/1.1\u001b[0m\" 200 -\n"
     ]
    },
    {
     "name": "stdout",
     "output_type": "stream",
     "text": [
      "\n",
      "[]\n"
     ]
    },
    {
     "name": "stderr",
     "output_type": "stream",
     "text": [
      "127.0.0.1 - - [31/Oct/2020 13:11:06] \"\u001b[37mPOST /api/test HTTP/1.1\u001b[0m\" 200 -\n",
      "127.0.0.1 - - [31/Oct/2020 13:11:06] \"\u001b[37mPOST /api/test HTTP/1.1\u001b[0m\" 200 -\n"
     ]
    },
    {
     "name": "stdout",
     "output_type": "stream",
     "text": [
      "[]\n",
      "[]\n"
     ]
    },
    {
     "name": "stderr",
     "output_type": "stream",
     "text": [
      "127.0.0.1 - - [31/Oct/2020 13:11:06] \"\u001b[37mPOST /api/test HTTP/1.1\u001b[0m\" 200 -\n",
      "127.0.0.1 - - [31/Oct/2020 13:11:06] \"\u001b[37mPOST /api/test HTTP/1.1\u001b[0m\" 200 -\n"
     ]
    },
    {
     "name": "stdout",
     "output_type": "stream",
     "text": [
      "[]\n",
      "[]\n"
     ]
    },
    {
     "name": "stderr",
     "output_type": "stream",
     "text": [
      "127.0.0.1 - - [31/Oct/2020 13:11:06] \"\u001b[37mPOST /api/test HTTP/1.1\u001b[0m\" 200 -\n",
      "127.0.0.1 - - [31/Oct/2020 13:11:06] \"\u001b[37mPOST /api/test HTTP/1.1\u001b[0m\" 200 -\n"
     ]
    },
    {
     "name": "stdout",
     "output_type": "stream",
     "text": [
      "[]\n",
      "[]\n"
     ]
    },
    {
     "name": "stderr",
     "output_type": "stream",
     "text": [
      "127.0.0.1 - - [31/Oct/2020 13:11:06] \"\u001b[37mPOST /api/test HTTP/1.1\u001b[0m\" 200 -\n",
      "127.0.0.1 - - [31/Oct/2020 13:11:06] \"\u001b[37mPOST /api/test HTTP/1.1\u001b[0m\" 200 -\n"
     ]
    },
    {
     "name": "stdout",
     "output_type": "stream",
     "text": [
      "[]\n",
      "[]\n"
     ]
    },
    {
     "name": "stderr",
     "output_type": "stream",
     "text": [
      "127.0.0.1 - - [31/Oct/2020 13:11:06] \"\u001b[37mPOST /api/test HTTP/1.1\u001b[0m\" 200 -\n",
      "127.0.0.1 - - [31/Oct/2020 13:11:07] \"\u001b[37mPOST /api/test HTTP/1.1\u001b[0m\" 200 -\n"
     ]
    },
    {
     "name": "stdout",
     "output_type": "stream",
     "text": [
      "[]\n",
      "[]\n"
     ]
    },
    {
     "name": "stderr",
     "output_type": "stream",
     "text": [
      "127.0.0.1 - - [31/Oct/2020 13:11:07] \"\u001b[37mPOST /api/test HTTP/1.1\u001b[0m\" 200 -\n",
      "127.0.0.1 - - [31/Oct/2020 13:11:07] \"\u001b[37mPOST /api/test HTTP/1.1\u001b[0m\" 200 -\n"
     ]
    },
    {
     "name": "stdout",
     "output_type": "stream",
     "text": [
      "[]\n",
      "[]\n",
      "[]"
     ]
    },
    {
     "name": "stderr",
     "output_type": "stream",
     "text": [
      "127.0.0.1 - - [31/Oct/2020 13:11:07] \"\u001b[37mPOST /api/test HTTP/1.1\u001b[0m\" 200 -\n",
      "127.0.0.1 - - [31/Oct/2020 13:11:07] \"\u001b[37mPOST /api/test HTTP/1.1\u001b[0m\" 200 -\n"
     ]
    },
    {
     "name": "stdout",
     "output_type": "stream",
     "text": [
      "\n",
      "[]\n",
      "[]"
     ]
    },
    {
     "name": "stderr",
     "output_type": "stream",
     "text": [
      "127.0.0.1 - - [31/Oct/2020 13:11:07] \"\u001b[37mPOST /api/test HTTP/1.1\u001b[0m\" 200 -\n",
      "127.0.0.1 - - [31/Oct/2020 13:11:07] \"\u001b[37mPOST /api/test HTTP/1.1\u001b[0m\" 200 -\n"
     ]
    },
    {
     "name": "stdout",
     "output_type": "stream",
     "text": [
      "\n",
      "[]\n"
     ]
    },
    {
     "name": "stderr",
     "output_type": "stream",
     "text": [
      "127.0.0.1 - - [31/Oct/2020 13:11:07] \"\u001b[37mPOST /api/test HTTP/1.1\u001b[0m\" 200 -\n",
      "127.0.0.1 - - [31/Oct/2020 13:11:07] \"\u001b[37mPOST /api/test HTTP/1.1\u001b[0m\" 200 -\n"
     ]
    },
    {
     "name": "stdout",
     "output_type": "stream",
     "text": [
      "[{\"label\": \"No Mask: 91.47%\", \"x\": \"247\", \"y\": \"358\", \"x2\": \"319\", \"y2\": \"430\", \"mask\": \"0.08531991\", \"withoutMask\": \"0.9146801\"}]\n",
      "[]\n",
      "[]"
     ]
    },
    {
     "name": "stderr",
     "output_type": "stream",
     "text": [
      "127.0.0.1 - - [31/Oct/2020 13:11:08] \"\u001b[37mPOST /api/test HTTP/1.1\u001b[0m\" 200 -\n",
      "127.0.0.1 - - [31/Oct/2020 13:11:08] \"\u001b[37mPOST /api/test HTTP/1.1\u001b[0m\" 200 -\n"
     ]
    },
    {
     "name": "stdout",
     "output_type": "stream",
     "text": [
      "\n",
      "[]\n",
      "[]"
     ]
    },
    {
     "name": "stderr",
     "output_type": "stream",
     "text": [
      "127.0.0.1 - - [31/Oct/2020 13:11:08] \"\u001b[37mPOST /api/test HTTP/1.1\u001b[0m\" 200 -\n",
      "127.0.0.1 - - [31/Oct/2020 13:11:08] \"\u001b[37mPOST /api/test HTTP/1.1\u001b[0m\" 200 -\n",
      "127.0.0.1 - - [31/Oct/2020 13:11:08] \"\u001b[37mPOST /api/test HTTP/1.1\u001b[0m\" 200 -\n"
     ]
    },
    {
     "name": "stdout",
     "output_type": "stream",
     "text": [
      "\n",
      "[]\n",
      "[]\n"
     ]
    },
    {
     "name": "stderr",
     "output_type": "stream",
     "text": [
      "127.0.0.1 - - [31/Oct/2020 13:11:08] \"\u001b[37mPOST /api/test HTTP/1.1\u001b[0m\" 200 -\n",
      "127.0.0.1 - - [31/Oct/2020 13:11:08] \"\u001b[37mPOST /api/test HTTP/1.1\u001b[0m\" 200 -\n",
      "127.0.0.1 - - [31/Oct/2020 13:11:08] \"\u001b[37mPOST /api/test HTTP/1.1\u001b[0m\" 200 -\n"
     ]
    },
    {
     "name": "stdout",
     "output_type": "stream",
     "text": [
      "[]\n",
      "[]\n",
      "[]\n"
     ]
    },
    {
     "name": "stderr",
     "output_type": "stream",
     "text": [
      "127.0.0.1 - - [31/Oct/2020 13:11:08] \"\u001b[37mPOST /api/test HTTP/1.1\u001b[0m\" 200 -\n",
      "127.0.0.1 - - [31/Oct/2020 13:11:08] \"\u001b[37mPOST /api/test HTTP/1.1\u001b[0m\" 200 -\n",
      "127.0.0.1 - - [31/Oct/2020 13:11:08] \"\u001b[37mPOST /api/test HTTP/1.1\u001b[0m\" 200 -\n"
     ]
    },
    {
     "name": "stdout",
     "output_type": "stream",
     "text": [
      "[]\n",
      "[]\n",
      "[]\n"
     ]
    },
    {
     "name": "stderr",
     "output_type": "stream",
     "text": [
      "127.0.0.1 - - [31/Oct/2020 13:11:09] \"\u001b[37mPOST /api/test HTTP/1.1\u001b[0m\" 200 -\n",
      "127.0.0.1 - - [31/Oct/2020 13:11:09] \"\u001b[37mPOST /api/test HTTP/1.1\u001b[0m\" 200 -\n",
      "127.0.0.1 - - [31/Oct/2020 13:11:09] \"\u001b[37mPOST /api/test HTTP/1.1\u001b[0m\" 200 -\n"
     ]
    },
    {
     "name": "stdout",
     "output_type": "stream",
     "text": [
      "[]\n",
      "[]\n",
      "[]\n"
     ]
    },
    {
     "name": "stderr",
     "output_type": "stream",
     "text": [
      "127.0.0.1 - - [31/Oct/2020 13:11:09] \"\u001b[37mPOST /api/test HTTP/1.1\u001b[0m\" 200 -\n",
      "127.0.0.1 - - [31/Oct/2020 13:11:09] \"\u001b[37mPOST /api/test HTTP/1.1\u001b[0m\" 200 -\n",
      "127.0.0.1 - - [31/Oct/2020 13:11:09] \"\u001b[37mPOST /api/test HTTP/1.1\u001b[0m\" 200 -\n"
     ]
    },
    {
     "name": "stdout",
     "output_type": "stream",
     "text": [
      "[]\n",
      "[]\n",
      "[]\n"
     ]
    },
    {
     "name": "stderr",
     "output_type": "stream",
     "text": [
      "127.0.0.1 - - [31/Oct/2020 13:11:09] \"\u001b[37mPOST /api/test HTTP/1.1\u001b[0m\" 200 -\n",
      "127.0.0.1 - - [31/Oct/2020 13:11:09] \"\u001b[37mPOST /api/test HTTP/1.1\u001b[0m\" 200 -\n",
      "127.0.0.1 - - [31/Oct/2020 13:11:09] \"\u001b[37mPOST /api/test HTTP/1.1\u001b[0m\" 200 -\n"
     ]
    },
    {
     "name": "stdout",
     "output_type": "stream",
     "text": [
      "[]\n",
      "[]\n",
      "[]\n"
     ]
    },
    {
     "name": "stderr",
     "output_type": "stream",
     "text": [
      "127.0.0.1 - - [31/Oct/2020 13:11:09] \"\u001b[37mPOST /api/test HTTP/1.1\u001b[0m\" 200 -\n",
      "127.0.0.1 - - [31/Oct/2020 13:11:09] \"\u001b[37mPOST /api/test HTTP/1.1\u001b[0m\" 200 -\n",
      "127.0.0.1 - - [31/Oct/2020 13:11:09] \"\u001b[37mPOST /api/test HTTP/1.1\u001b[0m\" 200 -\n"
     ]
    },
    {
     "name": "stdout",
     "output_type": "stream",
     "text": [
      "[]\n",
      "[]\n",
      "[]\n"
     ]
    },
    {
     "name": "stderr",
     "output_type": "stream",
     "text": [
      "127.0.0.1 - - [31/Oct/2020 13:11:09] \"\u001b[37mPOST /api/test HTTP/1.1\u001b[0m\" 200 -\n",
      "127.0.0.1 - - [31/Oct/2020 13:11:10] \"\u001b[37mPOST /api/test HTTP/1.1\u001b[0m\" 200 -\n",
      "127.0.0.1 - - [31/Oct/2020 13:11:10] \"\u001b[37mPOST /api/test HTTP/1.1\u001b[0m\" 200 -\n"
     ]
    },
    {
     "name": "stdout",
     "output_type": "stream",
     "text": [
      "[]\n",
      "[]\n",
      "[]\n"
     ]
    },
    {
     "name": "stderr",
     "output_type": "stream",
     "text": [
      "127.0.0.1 - - [31/Oct/2020 13:11:10] \"\u001b[37mPOST /api/test HTTP/1.1\u001b[0m\" 200 -\n",
      "127.0.0.1 - - [31/Oct/2020 13:11:10] \"\u001b[37mPOST /api/test HTTP/1.1\u001b[0m\" 200 -\n",
      "127.0.0.1 - - [31/Oct/2020 13:11:10] \"\u001b[37mPOST /api/test HTTP/1.1\u001b[0m\" 200 -\n"
     ]
    },
    {
     "name": "stdout",
     "output_type": "stream",
     "text": [
      "[]\n",
      "[]\n",
      "[]\n"
     ]
    },
    {
     "name": "stderr",
     "output_type": "stream",
     "text": [
      "127.0.0.1 - - [31/Oct/2020 13:11:10] \"\u001b[37mPOST /api/test HTTP/1.1\u001b[0m\" 200 -\n",
      "127.0.0.1 - - [31/Oct/2020 13:11:10] \"\u001b[37mPOST /api/test HTTP/1.1\u001b[0m\" 200 -\n",
      "127.0.0.1 - - [31/Oct/2020 13:11:10] \"\u001b[37mPOST /api/test HTTP/1.1\u001b[0m\" 200 -\n"
     ]
    },
    {
     "name": "stdout",
     "output_type": "stream",
     "text": [
      "[]\n",
      "[]\n",
      "[]\n"
     ]
    },
    {
     "name": "stderr",
     "output_type": "stream",
     "text": [
      "127.0.0.1 - - [31/Oct/2020 13:11:10] \"\u001b[37mPOST /api/test HTTP/1.1\u001b[0m\" 200 -\n"
     ]
    },
    {
     "name": "stdout",
     "output_type": "stream",
     "text": [
      "[]\n",
      "[{\"label\": \"No Mask: 99.45%\", \"x\": \"108\", \"y\": \"231\", \"x2\": \"306\", \"y2\": \"429\", \"mask\": \"0.0054996163\", \"withoutMask\": \"0.9945004\"}]"
     ]
    },
    {
     "name": "stderr",
     "output_type": "stream",
     "text": [
      "127.0.0.1 - - [31/Oct/2020 13:11:10] \"\u001b[37mPOST /api/test HTTP/1.1\u001b[0m\" 200 -\n"
     ]
    },
    {
     "name": "stdout",
     "output_type": "stream",
     "text": [
      "\n"
     ]
    },
    {
     "name": "stderr",
     "output_type": "stream",
     "text": [
      "127.0.0.1 - - [31/Oct/2020 13:11:11] \"\u001b[37mPOST /api/test HTTP/1.1\u001b[0m\" 200 -\n"
     ]
    },
    {
     "name": "stdout",
     "output_type": "stream",
     "text": [
      "[{\"label\": \"No Mask: 99.94%\", \"x\": \"142\", \"y\": \"236\", \"x2\": \"333\", \"y2\": \"427\", \"mask\": \"0.0006404507\", \"withoutMask\": \"0.99935955\"}]\n"
     ]
    },
    {
     "name": "stderr",
     "output_type": "stream",
     "text": [
      "127.0.0.1 - - [31/Oct/2020 13:11:11] \"\u001b[37mPOST /api/test HTTP/1.1\u001b[0m\" 200 -\n",
      "127.0.0.1 - - [31/Oct/2020 13:11:11] \"\u001b[37mPOST /api/test HTTP/1.1\u001b[0m\" 200 -\n"
     ]
    },
    {
     "name": "stdout",
     "output_type": "stream",
     "text": [
      "[{\"label\": \"No Mask: 99.63%\", \"x\": \"121\", \"y\": \"252\", \"x2\": \"336\", \"y2\": \"467\", \"mask\": \"0.0037393633\", \"withoutMask\": \"0.9962606\"}]\n",
      "[]\n"
     ]
    },
    {
     "name": "stderr",
     "output_type": "stream",
     "text": [
      "127.0.0.1 - - [31/Oct/2020 13:11:11] \"\u001b[37mPOST /api/test HTTP/1.1\u001b[0m\" 200 -\n"
     ]
    },
    {
     "name": "stdout",
     "output_type": "stream",
     "text": [
      "[{\"label\": \"No Mask: 99.86%\", \"x\": \"115\", \"y\": \"268\", \"x2\": \"327\", \"y2\": \"480\", \"mask\": \"0.0014069235\", \"withoutMask\": \"0.99859303\"}]\n"
     ]
    },
    {
     "name": "stderr",
     "output_type": "stream",
     "text": [
      "127.0.0.1 - - [31/Oct/2020 13:11:11] \"\u001b[37mPOST /api/test HTTP/1.1\u001b[0m\" 200 -\n"
     ]
    },
    {
     "name": "stdout",
     "output_type": "stream",
     "text": [
      "[{\"label\": \"No Mask: 97.04%\", \"x\": \"108\", \"y\": \"271\", \"x2\": \"312\", \"y2\": \"475\", \"mask\": \"0.029603433\", \"withoutMask\": \"0.9703966\"}]\n",
      "[{\"label\": \"No Mask: 99.14%\", \"x\": \"114\", \"y\": \"268\", \"x2\": \"321\", \"y2\": \"475\", \"mask\": \"0.008605218\", \"withoutMask\": \"0.9913948\"}]"
     ]
    },
    {
     "name": "stderr",
     "output_type": "stream",
     "text": [
      "127.0.0.1 - - [31/Oct/2020 13:11:12] \"\u001b[37mPOST /api/test HTTP/1.1\u001b[0m\" 200 -\n"
     ]
    },
    {
     "name": "stdout",
     "output_type": "stream",
     "text": [
      "\n",
      "[{\"label\": \"No Mask: 95.91%\", \"x\": \"117\", \"y\": \"267\", \"x2\": \"326\", \"y2\": \"476\", \"mask\": \"0.040905535\", \"withoutMask\": \"0.9590944\"}]"
     ]
    },
    {
     "name": "stderr",
     "output_type": "stream",
     "text": [
      "127.0.0.1 - - [31/Oct/2020 13:11:12] \"\u001b[37mPOST /api/test HTTP/1.1\u001b[0m\" 200 -\n"
     ]
    },
    {
     "name": "stdout",
     "output_type": "stream",
     "text": [
      "\n"
     ]
    },
    {
     "name": "stderr",
     "output_type": "stream",
     "text": [
      "127.0.0.1 - - [31/Oct/2020 13:11:12] \"\u001b[37mPOST /api/test HTTP/1.1\u001b[0m\" 200 -\n"
     ]
    },
    {
     "name": "stdout",
     "output_type": "stream",
     "text": [
      "[{\"label\": \"No Mask: 93.44%\", \"x\": \"120\", \"y\": \"271\", \"x2\": \"325\", \"y2\": \"476\", \"mask\": \"0.065557316\", \"withoutMask\": \"0.9344427\"}]\n"
     ]
    },
    {
     "name": "stderr",
     "output_type": "stream",
     "text": [
      "127.0.0.1 - - [31/Oct/2020 13:11:12] \"\u001b[37mPOST /api/test HTTP/1.1\u001b[0m\" 200 -\n"
     ]
    },
    {
     "name": "stdout",
     "output_type": "stream",
     "text": [
      "[{\"label\": \"No Mask: 92.91%\", \"x\": \"126\", \"y\": \"273\", \"x2\": \"326\", \"y2\": \"473\", \"mask\": \"0.07088531\", \"withoutMask\": \"0.9291147\"}]\n",
      "[{\"label\": \"No Mask: 99.97%\", \"x\": \"132\", \"y\": \"275\", \"x2\": \"331\", \"y2\": \"474\", \"mask\": \"0.0002527777\", \"withoutMask\": \"0.9997472\"}]"
     ]
    },
    {
     "name": "stderr",
     "output_type": "stream",
     "text": [
      "127.0.0.1 - - [31/Oct/2020 13:11:12] \"\u001b[37mPOST /api/test HTTP/1.1\u001b[0m\" 200 -\n"
     ]
    },
    {
     "name": "stdout",
     "output_type": "stream",
     "text": [
      "\n",
      "[{\"label\": \"No Mask: 99.90%\", \"x\": \"138\", \"y\": \"279\", \"x2\": \"334\", \"y2\": \"475\", \"mask\": \"0.0010003052\", \"withoutMask\": \"0.99899966\"}]"
     ]
    },
    {
     "name": "stderr",
     "output_type": "stream",
     "text": [
      "127.0.0.1 - - [31/Oct/2020 13:11:13] \"\u001b[37mPOST /api/test HTTP/1.1\u001b[0m\" 200 -\n"
     ]
    },
    {
     "name": "stdout",
     "output_type": "stream",
     "text": [
      "\n"
     ]
    },
    {
     "name": "stderr",
     "output_type": "stream",
     "text": [
      "127.0.0.1 - - [31/Oct/2020 13:11:13] \"\u001b[37mPOST /api/test HTTP/1.1\u001b[0m\" 200 -\n"
     ]
    },
    {
     "name": "stdout",
     "output_type": "stream",
     "text": [
      "[{\"label\": \"No Mask: 98.81%\", \"x\": \"138\", \"y\": \"277\", \"x2\": \"338\", \"y2\": \"477\", \"mask\": \"0.011897508\", \"withoutMask\": \"0.9881025\"}]\n"
     ]
    },
    {
     "name": "stderr",
     "output_type": "stream",
     "text": [
      "127.0.0.1 - - [31/Oct/2020 13:11:13] \"\u001b[37mPOST /api/test HTTP/1.1\u001b[0m\" 200 -\n"
     ]
    },
    {
     "name": "stdout",
     "output_type": "stream",
     "text": [
      "[{\"label\": \"No Mask: 94.77%\", \"x\": \"138\", \"y\": \"277\", \"x2\": \"337\", \"y2\": \"476\", \"mask\": \"0.052323595\", \"withoutMask\": \"0.9476764\"}]\n"
     ]
    },
    {
     "name": "stderr",
     "output_type": "stream",
     "text": [
      "127.0.0.1 - - [31/Oct/2020 13:11:13] \"\u001b[37mPOST /api/test HTTP/1.1\u001b[0m\" 200 -\n"
     ]
    },
    {
     "name": "stdout",
     "output_type": "stream",
     "text": [
      "[{\"label\": \"Mask: 89.02%\", \"x\": \"86\", \"y\": \"188\", \"x2\": \"125\", \"y2\": \"227\", \"mask\": \"0.8902266\", \"withoutMask\": \"0.10977339\"}, {\"label\": \"No Mask: 95.45%\", \"x\": \"142\", \"y\": \"282\", \"x2\": \"336\", \"y2\": \"476\", \"mask\": \"0.045507837\", \"withoutMask\": \"0.9544922\"}]\n"
     ]
    },
    {
     "name": "stderr",
     "output_type": "stream",
     "text": [
      "127.0.0.1 - - [31/Oct/2020 13:11:14] \"\u001b[37mPOST /api/test HTTP/1.1\u001b[0m\" 200 -\n"
     ]
    },
    {
     "name": "stdout",
     "output_type": "stream",
     "text": [
      "[{\"label\": \"No Mask: 99.77%\", \"x\": \"148\", \"y\": \"282\", \"x2\": \"342\", \"y2\": \"476\", \"mask\": \"0.0022669942\", \"withoutMask\": \"0.997733\"}]\n",
      "[{\"label\": \"No Mask: 80.68%\", \"x\": \"150\", \"y\": \"286\", \"x2\": \"339\", \"y2\": \"475\", \"mask\": \"0.19321397\", \"withoutMask\": \"0.80678606\"}]"
     ]
    },
    {
     "name": "stderr",
     "output_type": "stream",
     "text": [
      "127.0.0.1 - - [31/Oct/2020 13:11:14] \"\u001b[37mPOST /api/test HTTP/1.1\u001b[0m\" 200 -\n"
     ]
    },
    {
     "name": "stdout",
     "output_type": "stream",
     "text": [
      "\n"
     ]
    },
    {
     "name": "stderr",
     "output_type": "stream",
     "text": [
      "127.0.0.1 - - [31/Oct/2020 13:11:14] \"\u001b[37mPOST /api/test HTTP/1.1\u001b[0m\" 200 -\n"
     ]
    },
    {
     "name": "stdout",
     "output_type": "stream",
     "text": [
      "[{\"label\": \"No Mask: 99.53%\", \"x\": \"138\", \"y\": \"271\", \"x2\": \"340\", \"y2\": \"473\", \"mask\": \"0.004683418\", \"withoutMask\": \"0.9953166\"}, {\"label\": \"Mask: 95.15%\", \"x\": \"99\", \"y\": \"191\", \"x2\": \"131\", \"y2\": \"223\", \"mask\": \"0.95151687\", \"withoutMask\": \"0.048483096\"}]\n"
     ]
    },
    {
     "name": "stderr",
     "output_type": "stream",
     "text": [
      "127.0.0.1 - - [31/Oct/2020 13:11:15] \"\u001b[37mPOST /api/test HTTP/1.1\u001b[0m\" 200 -\n",
      "127.0.0.1 - - [31/Oct/2020 13:11:15] \"\u001b[37mPOST /api/test HTTP/1.1\u001b[0m\" 200 -\n",
      "127.0.0.1 - - [31/Oct/2020 13:11:15] \"\u001b[37mPOST /api/test HTTP/1.1\u001b[0m\" 200 -\n"
     ]
    },
    {
     "name": "stdout",
     "output_type": "stream",
     "text": [
      "[{\"label\": \"No Mask: 98.89%\", \"x\": \"116\", \"y\": \"400\", \"x2\": \"181\", \"y2\": \"465\", \"mask\": \"0.0110795675\", \"withoutMask\": \"0.9889205\"}]\n",
      "[]\n",
      "[]\n"
     ]
    },
    {
     "name": "stderr",
     "output_type": "stream",
     "text": [
      "127.0.0.1 - - [31/Oct/2020 13:11:15] \"\u001b[37mPOST /api/test HTTP/1.1\u001b[0m\" 200 -\n",
      "127.0.0.1 - - [31/Oct/2020 13:11:15] \"\u001b[37mPOST /api/test HTTP/1.1\u001b[0m\" 200 -\n",
      "127.0.0.1 - - [31/Oct/2020 13:11:15] \"\u001b[37mPOST /api/test HTTP/1.1\u001b[0m\" 200 -\n"
     ]
    },
    {
     "name": "stdout",
     "output_type": "stream",
     "text": [
      "[]\n",
      "[]\n",
      "[]\n"
     ]
    },
    {
     "name": "stderr",
     "output_type": "stream",
     "text": [
      "127.0.0.1 - - [31/Oct/2020 13:11:15] \"\u001b[37mPOST /api/test HTTP/1.1\u001b[0m\" 200 -\n",
      "127.0.0.1 - - [31/Oct/2020 13:11:15] \"\u001b[37mPOST /api/test HTTP/1.1\u001b[0m\" 200 -\n",
      "127.0.0.1 - - [31/Oct/2020 13:11:15] \"\u001b[37mPOST /api/test HTTP/1.1\u001b[0m\" 200 -\n"
     ]
    },
    {
     "name": "stdout",
     "output_type": "stream",
     "text": [
      "[]\n",
      "[]\n",
      "[]\n"
     ]
    },
    {
     "name": "stderr",
     "output_type": "stream",
     "text": [
      "127.0.0.1 - - [31/Oct/2020 13:11:15] \"\u001b[37mPOST /api/test HTTP/1.1\u001b[0m\" 200 -\n",
      "127.0.0.1 - - [31/Oct/2020 13:11:15] \"\u001b[37mPOST /api/test HTTP/1.1\u001b[0m\" 200 -\n",
      "127.0.0.1 - - [31/Oct/2020 13:11:16] \"\u001b[37mPOST /api/test HTTP/1.1\u001b[0m\" 200 -\n"
     ]
    },
    {
     "name": "stdout",
     "output_type": "stream",
     "text": [
      "[]\n",
      "[]\n",
      "[]\n"
     ]
    },
    {
     "name": "stderr",
     "output_type": "stream",
     "text": [
      "127.0.0.1 - - [31/Oct/2020 13:11:16] \"\u001b[37mPOST /api/test HTTP/1.1\u001b[0m\" 200 -\n",
      "127.0.0.1 - - [31/Oct/2020 13:11:16] \"\u001b[37mPOST /api/test HTTP/1.1\u001b[0m\" 200 -\n",
      "127.0.0.1 - - [31/Oct/2020 13:11:16] \"\u001b[37mPOST /api/test HTTP/1.1\u001b[0m\" 200 -\n"
     ]
    },
    {
     "name": "stdout",
     "output_type": "stream",
     "text": [
      "[]\n",
      "[]\n",
      "[]\n"
     ]
    },
    {
     "name": "stderr",
     "output_type": "stream",
     "text": [
      "127.0.0.1 - - [31/Oct/2020 13:11:16] \"\u001b[37mPOST /api/test HTTP/1.1\u001b[0m\" 200 -\n",
      "127.0.0.1 - - [31/Oct/2020 13:11:16] \"\u001b[37mPOST /api/test HTTP/1.1\u001b[0m\" 200 -\n",
      "127.0.0.1 - - [31/Oct/2020 13:11:16] \"\u001b[37mPOST /api/test HTTP/1.1\u001b[0m\" 200 -\n"
     ]
    },
    {
     "name": "stdout",
     "output_type": "stream",
     "text": [
      "[]\n",
      "[]\n",
      "[]\n"
     ]
    },
    {
     "name": "stderr",
     "output_type": "stream",
     "text": [
      "127.0.0.1 - - [31/Oct/2020 13:11:16] \"\u001b[37mPOST /api/test HTTP/1.1\u001b[0m\" 200 -\n"
     ]
    },
    {
     "name": "stdout",
     "output_type": "stream",
     "text": [
      "[]\n",
      "[{\"label\": \"Mask: 96.15%\", \"x\": \"108\", \"y\": \"266\", \"x2\": \"185\", \"y2\": \"343\", \"mask\": \"0.9615385\", \"withoutMask\": \"0.03846153\"}]"
     ]
    },
    {
     "name": "stderr",
     "output_type": "stream",
     "text": [
      "127.0.0.1 - - [31/Oct/2020 13:11:16] \"\u001b[37mPOST /api/test HTTP/1.1\u001b[0m\" 200 -\n",
      "127.0.0.1 - - [31/Oct/2020 13:11:16] \"\u001b[37mPOST /api/test HTTP/1.1\u001b[0m\" 200 -\n"
     ]
    },
    {
     "name": "stdout",
     "output_type": "stream",
     "text": [
      "\n",
      "[]\n",
      "[]"
     ]
    },
    {
     "name": "stderr",
     "output_type": "stream",
     "text": [
      "127.0.0.1 - - [31/Oct/2020 13:11:17] \"\u001b[37mPOST /api/test HTTP/1.1\u001b[0m\" 200 -\n",
      "127.0.0.1 - - [31/Oct/2020 13:11:17] \"\u001b[37mPOST /api/test HTTP/1.1\u001b[0m\" 200 -\n"
     ]
    },
    {
     "name": "stdout",
     "output_type": "stream",
     "text": [
      "\n",
      "[]\n",
      "[]"
     ]
    },
    {
     "name": "stderr",
     "output_type": "stream",
     "text": [
      "127.0.0.1 - - [31/Oct/2020 13:11:17] \"\u001b[37mPOST /api/test HTTP/1.1\u001b[0m\" 200 -\n"
     ]
    },
    {
     "name": "stdout",
     "output_type": "stream",
     "text": [
      "\n",
      "[{\"label\": \"No Mask: 71.23%\", \"x\": \"71\", \"y\": \"333\", \"x2\": \"183\", \"y2\": \"445\", \"mask\": \"0.28772902\", \"withoutMask\": \"0.712271\"}]"
     ]
    },
    {
     "name": "stderr",
     "output_type": "stream",
     "text": [
      "127.0.0.1 - - [31/Oct/2020 13:11:17] \"\u001b[37mPOST /api/test HTTP/1.1\u001b[0m\" 200 -\n",
      "127.0.0.1 - - [31/Oct/2020 13:11:17] \"\u001b[37mPOST /api/test HTTP/1.1\u001b[0m\" 200 -\n",
      "127.0.0.1 - - [31/Oct/2020 13:11:17] \"\u001b[37mPOST /api/test HTTP/1.1\u001b[0m\" 200 -\n"
     ]
    },
    {
     "name": "stdout",
     "output_type": "stream",
     "text": [
      "\n",
      "[]\n",
      "[]\n"
     ]
    },
    {
     "name": "stderr",
     "output_type": "stream",
     "text": [
      "127.0.0.1 - - [31/Oct/2020 13:11:17] \"\u001b[37mPOST /api/test HTTP/1.1\u001b[0m\" 200 -\n",
      "127.0.0.1 - - [31/Oct/2020 13:11:17] \"\u001b[37mPOST /api/test HTTP/1.1\u001b[0m\" 200 -\n",
      "127.0.0.1 - - [31/Oct/2020 13:11:17] \"\u001b[37mPOST /api/test HTTP/1.1\u001b[0m\" 200 -\n"
     ]
    },
    {
     "name": "stdout",
     "output_type": "stream",
     "text": [
      "[]\n",
      "[]\n",
      "[]\n"
     ]
    },
    {
     "name": "stderr",
     "output_type": "stream",
     "text": [
      "127.0.0.1 - - [31/Oct/2020 13:11:17] \"\u001b[37mPOST /api/test HTTP/1.1\u001b[0m\" 200 -\n",
      "127.0.0.1 - - [31/Oct/2020 13:11:18] \"\u001b[37mPOST /api/test HTTP/1.1\u001b[0m\" 200 -\n",
      "127.0.0.1 - - [31/Oct/2020 13:11:18] \"\u001b[37mPOST /api/test HTTP/1.1\u001b[0m\" 200 -\n"
     ]
    },
    {
     "name": "stdout",
     "output_type": "stream",
     "text": [
      "[]\n",
      "[]\n",
      "[]\n"
     ]
    },
    {
     "name": "stderr",
     "output_type": "stream",
     "text": [
      "127.0.0.1 - - [31/Oct/2020 13:11:18] \"\u001b[37mPOST /api/test HTTP/1.1\u001b[0m\" 200 -\n"
     ]
    },
    {
     "name": "stdout",
     "output_type": "stream",
     "text": [
      "[]\n"
     ]
    },
    {
     "name": "stderr",
     "output_type": "stream",
     "text": [
      "127.0.0.1 - - [31/Oct/2020 13:11:18] \"\u001b[37mPOST /api/test HTTP/1.1\u001b[0m\" 200 -\n"
     ]
    },
    {
     "name": "stdout",
     "output_type": "stream",
     "text": [
      "[{\"label\": \"No Mask: 96.63%\", \"x\": \"117\", \"y\": \"252\", \"x2\": \"282\", \"y2\": \"417\", \"mask\": \"0.033718158\", \"withoutMask\": \"0.9662819\"}]\n"
     ]
    },
    {
     "name": "stderr",
     "output_type": "stream",
     "text": [
      "127.0.0.1 - - [31/Oct/2020 13:11:18] \"\u001b[37mPOST /api/test HTTP/1.1\u001b[0m\" 200 -\n"
     ]
    },
    {
     "name": "stdout",
     "output_type": "stream",
     "text": [
      "[{\"label\": \"No Mask: 97.95%\", \"x\": \"119\", \"y\": \"233\", \"x2\": \"297\", \"y2\": \"411\", \"mask\": \"0.02050852\", \"withoutMask\": \"0.9794915\"}]\n"
     ]
    },
    {
     "name": "stderr",
     "output_type": "stream",
     "text": [
      "127.0.0.1 - - [31/Oct/2020 13:11:18] \"\u001b[37mPOST /api/test HTTP/1.1\u001b[0m\" 200 -\n"
     ]
    },
    {
     "name": "stdout",
     "output_type": "stream",
     "text": [
      "[{\"label\": \"No Mask: 53.82%\", \"x\": \"126\", \"y\": \"235\", \"x2\": \"293\", \"y2\": \"402\", \"mask\": \"0.46183282\", \"withoutMask\": \"0.5381672\"}]\n"
     ]
    },
    {
     "name": "stderr",
     "output_type": "stream",
     "text": [
      "127.0.0.1 - - [31/Oct/2020 13:11:19] \"\u001b[37mPOST /api/test HTTP/1.1\u001b[0m\" 200 -\n"
     ]
    },
    {
     "name": "stdout",
     "output_type": "stream",
     "text": [
      "[{\"label\": \"Mask: 54.67%\", \"x\": \"111\", \"y\": \"230\", \"x2\": \"295\", \"y2\": \"414\", \"mask\": \"0.54670495\", \"withoutMask\": \"0.45329505\"}]\n"
     ]
    },
    {
     "name": "stderr",
     "output_type": "stream",
     "text": [
      "127.0.0.1 - - [31/Oct/2020 13:11:19] \"\u001b[37mPOST /api/test HTTP/1.1\u001b[0m\" 200 -\n"
     ]
    },
    {
     "name": "stdout",
     "output_type": "stream",
     "text": [
      "[{\"label\": \"No Mask: 98.51%\", \"x\": \"118\", \"y\": \"228\", \"x2\": \"302\", \"y2\": \"412\", \"mask\": \"0.014910895\", \"withoutMask\": \"0.9850891\"}]\n"
     ]
    },
    {
     "name": "stderr",
     "output_type": "stream",
     "text": [
      "127.0.0.1 - - [31/Oct/2020 13:11:19] \"\u001b[37mPOST /api/test HTTP/1.1\u001b[0m\" 200 -\n"
     ]
    },
    {
     "name": "stdout",
     "output_type": "stream",
     "text": [
      "[{\"label\": \"No Mask: 92.00%\", \"x\": \"129\", \"y\": \"225\", \"x2\": \"310\", \"y2\": \"406\", \"mask\": \"0.079982646\", \"withoutMask\": \"0.92001736\"}]\n"
     ]
    },
    {
     "name": "stderr",
     "output_type": "stream",
     "text": [
      "127.0.0.1 - - [31/Oct/2020 13:11:20] \"\u001b[37mPOST /api/test HTTP/1.1\u001b[0m\" 200 -\n"
     ]
    },
    {
     "name": "stdout",
     "output_type": "stream",
     "text": [
      "[{\"label\": \"No Mask: 95.70%\", \"x\": \"137\", \"y\": \"229\", \"x2\": \"322\", \"y2\": \"414\", \"mask\": \"0.043006152\", \"withoutMask\": \"0.9569938\"}]\n"
     ]
    },
    {
     "name": "stderr",
     "output_type": "stream",
     "text": [
      "127.0.0.1 - - [31/Oct/2020 13:11:20] \"\u001b[37mPOST /api/test HTTP/1.1\u001b[0m\" 200 -\n"
     ]
    },
    {
     "name": "stdout",
     "output_type": "stream",
     "text": [
      "[{\"label\": \"No Mask: 98.98%\", \"x\": \"133\", \"y\": \"228\", \"x2\": \"330\", \"y2\": \"425\", \"mask\": \"0.010187231\", \"withoutMask\": \"0.9898128\"}]\n"
     ]
    },
    {
     "name": "stderr",
     "output_type": "stream",
     "text": [
      "127.0.0.1 - - [31/Oct/2020 13:11:20] \"\u001b[37mPOST /api/test HTTP/1.1\u001b[0m\" 200 -\n"
     ]
    },
    {
     "name": "stdout",
     "output_type": "stream",
     "text": [
      "[{\"label\": \"Mask: 54.95%\", \"x\": \"130\", \"y\": \"229\", \"x2\": \"331\", \"y2\": \"430\", \"mask\": \"0.5495044\", \"withoutMask\": \"0.4504956\"}]\n"
     ]
    },
    {
     "name": "stderr",
     "output_type": "stream",
     "text": [
      "127.0.0.1 - - [31/Oct/2020 13:11:20] \"\u001b[37mPOST /api/test HTTP/1.1\u001b[0m\" 200 -\n"
     ]
    },
    {
     "name": "stdout",
     "output_type": "stream",
     "text": [
      "[{\"label\": \"No Mask: 80.05%\", \"x\": \"131\", \"y\": \"228\", \"x2\": \"337\", \"y2\": \"434\", \"mask\": \"0.1994794\", \"withoutMask\": \"0.8005206\"}]\n"
     ]
    },
    {
     "name": "stderr",
     "output_type": "stream",
     "text": [
      "127.0.0.1 - - [31/Oct/2020 13:11:21] \"\u001b[37mPOST /api/test HTTP/1.1\u001b[0m\" 200 -\n"
     ]
    },
    {
     "name": "stdout",
     "output_type": "stream",
     "text": [
      "[{\"label\": \"No Mask: 56.59%\", \"x\": \"134\", \"y\": \"229\", \"x2\": \"335\", \"y2\": \"430\", \"mask\": \"0.43413436\", \"withoutMask\": \"0.5658657\"}]\n"
     ]
    },
    {
     "name": "stderr",
     "output_type": "stream",
     "text": [
      "127.0.0.1 - - [31/Oct/2020 13:11:21] \"\u001b[37mPOST /api/test HTTP/1.1\u001b[0m\" 200 -\n"
     ]
    },
    {
     "name": "stdout",
     "output_type": "stream",
     "text": [
      "[{\"label\": \"No Mask: 68.69%\", \"x\": \"137\", \"y\": \"225\", \"x2\": \"346\", \"y2\": \"434\", \"mask\": \"0.3130687\", \"withoutMask\": \"0.6869313\"}]\n"
     ]
    },
    {
     "name": "stderr",
     "output_type": "stream",
     "text": [
      "127.0.0.1 - - [31/Oct/2020 13:11:21] \"\u001b[37mPOST /api/test HTTP/1.1\u001b[0m\" 200 -\n"
     ]
    },
    {
     "name": "stdout",
     "output_type": "stream",
     "text": [
      "[{\"label\": \"No Mask: 88.94%\", \"x\": \"141\", \"y\": \"224\", \"x2\": \"342\", \"y2\": \"425\", \"mask\": \"0.11062355\", \"withoutMask\": \"0.8893764\"}]\n"
     ]
    },
    {
     "name": "stderr",
     "output_type": "stream",
     "text": [
      "127.0.0.1 - - [31/Oct/2020 13:11:21] \"\u001b[37mPOST /api/test HTTP/1.1\u001b[0m\" 200 -\n"
     ]
    },
    {
     "name": "stdout",
     "output_type": "stream",
     "text": [
      "[{\"label\": \"No Mask: 98.30%\", \"x\": \"140\", \"y\": \"220\", \"x2\": \"336\", \"y2\": \"416\", \"mask\": \"0.016970228\", \"withoutMask\": \"0.9830298\"}]\n"
     ]
>>>>>>> def631af6f1520e7fb7a460627305d17c5aae5b6
    }
   ],
   "source": [
    "app = Flask(__name__)\n",
    " \n",
    "classifier = CascadeClassifier('haarcascade_frontalface_default.xml')\n",
    "m = models.load_model(\"face_mask_model.h5\")  \n",
    "    \n",
    "@app.route('/api/test', methods=['POST'])\n",
    "def draw_image_with_boxes():\n",
    "    # load the image\n",
    "    r = request\n",
    "    #print(len(r.data))\n",
    "    # convert string of image data to uint8\n",
    "    nparr = np.frombuffer(r.data, np.uint8)\n",
    "    # decode image\n",
    "    frame = cv2.imdecode(nparr, cv2.IMREAD_COLOR)\n",
    "    # perform face detection\n",
    "    bboxes = classifier.detectMultiScale(frame)\n",
    "    reslist = []\n",
    "    for box in bboxes:\n",
    "        x, y, width, height = box\n",
    "        x2, y2 = x + width, y + height\n",
    "        # draw a rectangle over the pixels\n",
    "        face = frame[y:y2, x:x2]\n",
    "        face = cv2.resize(face, (224, 224))\n",
    "        face = img_to_array(face)\n",
    "        face = preprocess_input(face)\n",
    "        face = np.expand_dims(face, axis=0)\n",
    "        #print(keras_model.predict(face)[0])\n",
    "        (mask, withoutMask) = m.predict(face)[0]\n",
    "        label = \"Mask\" if mask > withoutMask else \"No Mask\"\n",
    "        color = (0, 255, 0) if label == \"Mask\" else (0, 0, 255)\n",
    "        # include the probability in the label\n",
    "        label = \"{}: {:.2f}%\".format(label, max(mask, withoutMask) * 100)\n",
    "        # display the label and bounding box rectangle on the output\n",
    "        # frame\n",
    "        #cv2.putText(frame, label, (x, y - 10),\n",
    "        #    cv2.FONT_HERSHEY_SIMPLEX, 0.45, color, 2)\n",
    "        res = {'label':str(label),'x':str(x),'y':str(y),'x2':str(x2),'y2':str(y2),'mask':str(mask),'withoutMask':str(withoutMask)}\n",
    "        reslist.append(res)\n",
    "    \n",
    "    jsonres = json.dumps(reslist)\n",
    "    print(jsonres)\n",
    "    return Response(response=jsonres, status=200, mimetype=\"application/json\")\n",
    " \n",
    "if __name__ == \"__main__\":\n",
    "    app.run(host='0.0.0.0')"
   ]
  },
  {
   "cell_type": "code",
   "execution_count": null,
   "metadata": {},
   "outputs": [
    {
     "name": "stdout",
     "output_type": "stream",
     "text": [
      " * Serving Flask app \"__main__\" (lazy loading)\n",
      " * Environment: production\n",
      "   WARNING: Do not use the development server in a production environment.\n",
      "   Use a production WSGI server instead.\n",
      " * Debug mode: off\n"
     ]
    }
   ],
   "source": [
    "import cv2\n",
    "import numpy as np\n",
    "import tensorflow.keras.models as models\n",
    "from flask import Flask, request, Response\n",
    "from cv2 import CascadeClassifier\n",
    "from tensorflow.keras.preprocessing.image import img_to_array\n",
    "from tensorflow.keras.applications.mobilenet_v2 import preprocess_input\n",
    "import json\n",
    "\n",
    "server = Flask(__name__)\n",
    " \n",
    "classifier = CascadeClassifier('haarcascade_frontalface_default.xml')\n",
    "m = models.load_model(\"face_mask_model.h5\")  \n",
    "    \n",
    "@server.route('/api/test', methods=['POST'])\n",
    "def draw_image_with_boxes():\n",
    "    # load the image\n",
    "    r = request\n",
    "    #print(len(r.data))\n",
    "    # convert string of image data to uint8\n",
    "    nparr = np.frombuffer(r.data, np.uint8)\n",
    "    # decode image\n",
    "    frame = cv2.imdecode(nparr, cv2.IMREAD_COLOR)\n",
    "    # perform face detection\n",
    "    bboxes = classifier.detectMultiScale(frame)\n",
    "    reslist = []\n",
    "    for box in bboxes:\n",
    "        x, y, width, height = box\n",
    "        x2, y2 = x + width, y + height\n",
    "        # draw a rectangle over the pixels\n",
    "        face = frame[y:y2, x:x2]\n",
    "        face = cv2.resize(face, (224, 224))\n",
    "        face = img_to_array(face)\n",
    "        face = preprocess_input(face)\n",
    "        face = np.expand_dims(face, axis=0)\n",
    "        (mask, withoutMask) = m.predict(face)[0]\n",
    "        label = \"Mask\" if mask > withoutMask else \"No Mask\"\n",
    "        color = (0, 255, 0) if label == \"Mask\" else (0, 0, 255)\n",
    "        # include the probability in the label\n",
    "        label = \"{}: {:.2f}%\".format(label, max(mask, withoutMask) * 100)\n",
    "        # display the label and bounding box rectangle on the output\n",
    "        # frame\n",
    "        #cv2.putText(frame, label, (x, y - 10),\n",
    "        #    cv2.FONT_HERSHEY_SIMPLEX, 0.45, color, 2)\n",
    "        res = {'label':str(label),'x':str(x),'y':str(y),'x2':str(x2),'y2':str(y2),'mask':str(mask),'withoutMask':str(withoutMask)}\n",
    "        reslist.append(res)\n",
    "    \n",
    "    jsonres = json.dumps(reslist)\n",
    "    print(jsonres)\n",
    "    return Response(response=jsonres, status=200, mimetype=\"application/json\")\n",
    " \n",
    "@server.route(\"/hello\")\n",
    "def hello():\n",
    "    return \"Hello World!\"\n",
    "\n",
    "if __name__ == \"__main__\":\n",
    "    server.run(host='0.0.0.0')\n"
   ]
  }
 ],
 "metadata": {
  "kernelspec": {
   "display_name": "Python 3",
   "language": "python",
   "name": "python3"
  },
  "language_info": {
   "codemirror_mode": {
    "name": "ipython",
    "version": 3
   },
   "file_extension": ".py",
   "mimetype": "text/x-python",
   "name": "python",
   "nbconvert_exporter": "python",
   "pygments_lexer": "ipython3",
   "version": "3.7.1"
  }
 },
 "nbformat": 4,
 "nbformat_minor": 2
}
