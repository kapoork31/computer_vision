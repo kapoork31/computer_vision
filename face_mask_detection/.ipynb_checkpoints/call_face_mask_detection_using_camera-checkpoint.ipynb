{
 "cells": [
  {
   "cell_type": "code",
   "execution_count": 3,
   "metadata": {},
   "outputs": [],
   "source": [
    "from flask import request\n",
    "import cv2\n",
    "import json\n",
    "import requests\n",
    "from cv2 import imshow\n",
    "from cv2 import waitKey\n",
    "from cv2 import destroyAllWindows\n",
    "from cv2 import rectangle"
   ]
  },
  {
   "cell_type": "code",
   "execution_count": 6,
   "metadata": {},
   "outputs": [],
   "source": [
    "cap = cv2.VideoCapture(0)\n",
    "content_type = 'image/jpeg'\n",
    "headers = {'content-type': content_type}\n",
    "\n",
    "while(True):\n",
    "    # Capture frame-by-frame\n",
    "    ret, frame = cap.read()\n",
    "    \n",
    "    # encode image as jpeg\n",
    "    _, img_encoded = cv2.imencode('.jpg', frame)\n",
    "    # send http request with image and receive response\n",
    "    response = requests.post('http://127.0.0.1:5000/api/test', data=img_encoded.tostring(), headers=headers)\n",
    "    # decode response\n",
    "    #print(response)\n",
    "    #print(json.loads(response.text))\n",
    "    jsdata = json.loads(response.text)\n",
    "    if(len(jsdata)>0):\n",
    "        for j in jsdata:\n",
    "            label = j['label']\n",
    "            x = int(j['x'])\n",
    "            y = int(j['y'])\n",
    "            x2 = int(j['x2'])\n",
    "            y2 = int(j['y2'])\n",
    "            mask = float(j['mask'])\n",
    "            withoutMask = float(j['withoutMask'])\n",
    "            color = (0, 255, 0) if label == \"Mask\" else (0, 0, 255)\n",
    "            label = \"{}: {:.2f}%\".format(label, max(mask, withoutMask) * 100)\n",
    "            # display the label and bounding box rectangle on the output\n",
    "            # frame\n",
    "            cv2.putText(frame, label, (x, y - 10),\n",
    "                cv2.FONT_HERSHEY_SIMPLEX, 0.45, color, 2)\n",
    "            #cv2.rectangle(image, (startX, startY), (endX, endY), color, 2)\n",
    "            rectangle(frame, (x, y), (x2, y2), (0,0,255), 1)\n",
    "\n",
    "    cv2.imshow('frame',frame)\n",
    "    \n",
    "    if cv2.waitKey(1) & 0xFF == ord('q'):\n",
    "        break\n",
    "# When everything done, release the capture\n",
    "cap.release()\n",
    "cv2.destroyAllWindows()"
   ]
  }
 ],
 "metadata": {
  "kernelspec": {
   "display_name": "Python 3",
   "language": "python",
   "name": "python3"
  },
  "language_info": {
   "codemirror_mode": {
    "name": "ipython",
    "version": 3
   },
   "file_extension": ".py",
   "mimetype": "text/x-python",
   "name": "python",
   "nbconvert_exporter": "python",
   "pygments_lexer": "ipython3",
   "version": "3.7.1"
  }
 },
 "nbformat": 4,
 "nbformat_minor": 2
}
