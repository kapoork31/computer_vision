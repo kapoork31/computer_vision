{
 "cells": [
  {
   "cell_type": "code",
   "execution_count": 1,
   "metadata": {},
   "outputs": [
    {
     "name": "stderr",
     "output_type": "stream",
     "text": [
      "Using TensorFlow backend.\n"
     ]
    }
   ],
   "source": [
    "from keras.optimizers import RMSprop\n",
    "from keras.preprocessing.image import ImageDataGenerator\n",
    "import cv2\n",
    "from keras.models import Sequential\n",
    "from keras.layers import Conv2D, Input, ZeroPadding2D, BatchNormalization, Activation, MaxPooling2D, Flatten, Dense,Dropout\n",
    "from keras.models import Model, load_model\n",
    "#from keras.callbacks import TensorBoard, ModelCheckpoint\n",
    "from sklearn.model_selection import train_test_split\n",
    "from sklearn.metrics import f1_score\n",
    "from sklearn.utils import shuffle\n",
    "import imutils\n",
    "import numpy as np\n",
    "import tensorflow.keras.models as models"
   ]
  },
  {
   "cell_type": "code",
   "execution_count": 2,
   "metadata": {},
   "outputs": [
    {
     "name": "stdout",
     "output_type": "stream",
     "text": [
      " * Serving Flask app \"__main__\" (lazy loading)\n",
      " * Environment: production\n",
      "   WARNING: Do not use the development server in a production environment.\n",
      "   Use a production WSGI server instead.\n",
      " * Debug mode: off\n"
     ]
    },
    {
     "name": "stderr",
     "output_type": "stream",
     "text": [
      " * Running on http://127.0.0.1:5000/ (Press CTRL+C to quit)\n",
      "127.0.0.1 - - [26/Sep/2020 22:36:56] \"\u001b[37mPOST /api/test HTTP/1.1\u001b[0m\" 200 -\n"
     ]
    },
    {
     "name": "stdout",
     "output_type": "stream",
     "text": [
      "[{\"label\": \"Mask: 54.61%\", \"x\": \"112\", \"y\": \"86\", \"x2\": \"324\", \"y2\": \"298\", \"mask\": \"0.54611766\", \"withoutMask\": \"0.45388225\"}, {\"label\": \"No Mask: 65.40%\", \"x\": \"226\", \"y\": \"333\", \"x2\": \"262\", \"y2\": \"369\", \"mask\": \"0.34600484\", \"withoutMask\": \"0.6539952\"}]\n"
     ]
    },
    {
     "name": "stderr",
     "output_type": "stream",
     "text": [
      "127.0.0.1 - - [26/Sep/2020 22:36:56] \"\u001b[37mPOST /api/test HTTP/1.1\u001b[0m\" 200 -\n"
     ]
    },
    {
     "name": "stdout",
     "output_type": "stream",
     "text": [
      "[{\"label\": \"Mask: 58.94%\", \"x\": \"106\", \"y\": \"83\", \"x2\": \"323\", \"y2\": \"300\", \"mask\": \"0.5894023\", \"withoutMask\": \"0.4105977\"}]\n"
     ]
    },
    {
     "name": "stderr",
     "output_type": "stream",
     "text": [
      "127.0.0.1 - - [26/Sep/2020 22:36:57] \"\u001b[37mPOST /api/test HTTP/1.1\u001b[0m\" 200 -\n"
     ]
    },
    {
     "name": "stdout",
     "output_type": "stream",
     "text": [
      "[{\"label\": \"No Mask: 82.23%\", \"x\": \"582\", \"y\": \"365\", \"x2\": \"612\", \"y2\": \"395\", \"mask\": \"0.17765766\", \"withoutMask\": \"0.82234234\"}, {\"label\": \"Mask: 77.10%\", \"x\": \"106\", \"y\": \"82\", \"x2\": \"323\", \"y2\": \"299\", \"mask\": \"0.77102315\", \"withoutMask\": \"0.22897682\"}]\n"
     ]
    },
    {
     "name": "stderr",
     "output_type": "stream",
     "text": [
      "127.0.0.1 - - [26/Sep/2020 22:36:58] \"\u001b[37mPOST /api/test HTTP/1.1\u001b[0m\" 200 -\n"
     ]
    },
    {
     "name": "stdout",
     "output_type": "stream",
     "text": [
      "[{\"label\": \"Mask: 54.04%\", \"x\": \"105\", \"y\": \"85\", \"x2\": \"321\", \"y2\": \"301\", \"mask\": \"0.54038835\", \"withoutMask\": \"0.45961165\"}, {\"label\": \"Mask: 51.84%\", \"x\": \"599\", \"y\": \"453\", \"x2\": \"623\", \"y2\": \"477\", \"mask\": \"0.5184269\", \"withoutMask\": \"0.48157308\"}]\n"
     ]
    },
    {
     "name": "stderr",
     "output_type": "stream",
     "text": [
      "127.0.0.1 - - [26/Sep/2020 22:36:58] \"\u001b[37mPOST /api/test HTTP/1.1\u001b[0m\" 200 -\n"
     ]
    },
    {
     "name": "stdout",
     "output_type": "stream",
     "text": [
      "[{\"label\": \"Mask: 66.73%\", \"x\": \"104\", \"y\": \"80\", \"x2\": \"327\", \"y2\": \"303\", \"mask\": \"0.66731185\", \"withoutMask\": \"0.3326881\"}]\n"
     ]
    },
    {
     "name": "stderr",
     "output_type": "stream",
     "text": [
      "127.0.0.1 - - [26/Sep/2020 22:36:58] \"\u001b[37mPOST /api/test HTTP/1.1\u001b[0m\" 200 -\n"
     ]
    },
    {
     "name": "stdout",
     "output_type": "stream",
     "text": [
      "[{\"label\": \"Mask: 68.57%\", \"x\": \"582\", \"y\": \"379\", \"x2\": \"611\", \"y2\": \"408\", \"mask\": \"0.6857106\", \"withoutMask\": \"0.31428936\"}, {\"label\": \"No Mask: 76.66%\", \"x\": \"102\", \"y\": \"83\", \"x2\": \"322\", \"y2\": \"303\", \"mask\": \"0.23343982\", \"withoutMask\": \"0.76656014\"}]\n"
     ]
    },
    {
     "name": "stderr",
     "output_type": "stream",
     "text": [
      "127.0.0.1 - - [26/Sep/2020 22:36:59] \"\u001b[37mPOST /api/test HTTP/1.1\u001b[0m\" 200 -\n"
     ]
    },
    {
     "name": "stdout",
     "output_type": "stream",
     "text": [
      "[{\"label\": \"Mask: 86.15%\", \"x\": \"103\", \"y\": \"78\", \"x2\": \"327\", \"y2\": \"302\", \"mask\": \"0.86149246\", \"withoutMask\": \"0.13850757\"}]\n"
     ]
    },
    {
     "name": "stderr",
     "output_type": "stream",
     "text": [
      "127.0.0.1 - - [26/Sep/2020 22:36:59] \"\u001b[37mPOST /api/test HTTP/1.1\u001b[0m\" 200 -\n"
     ]
    },
    {
     "name": "stdout",
     "output_type": "stream",
     "text": [
      "[{\"label\": \"No Mask: 69.70%\", \"x\": \"107\", \"y\": \"82\", \"x2\": \"321\", \"y2\": \"296\", \"mask\": \"0.30295098\", \"withoutMask\": \"0.697049\"}]\n"
     ]
    },
    {
     "name": "stderr",
     "output_type": "stream",
     "text": [
      "127.0.0.1 - - [26/Sep/2020 22:36:59] \"\u001b[37mPOST /api/test HTTP/1.1\u001b[0m\" 200 -\n"
     ]
    },
    {
     "name": "stdout",
     "output_type": "stream",
     "text": [
      "[{\"label\": \"No Mask: 96.49%\", \"x\": \"93\", \"y\": \"88\", \"x2\": \"320\", \"y2\": \"315\", \"mask\": \"0.03511065\", \"withoutMask\": \"0.96488935\"}]\n"
     ]
    },
    {
     "name": "stderr",
     "output_type": "stream",
     "text": [
      "127.0.0.1 - - [26/Sep/2020 22:37:00] \"\u001b[37mPOST /api/test HTTP/1.1\u001b[0m\" 200 -\n"
     ]
    },
    {
     "name": "stdout",
     "output_type": "stream",
     "text": [
      "[{\"label\": \"No Mask: 98.08%\", \"x\": \"92\", \"y\": \"90\", \"x2\": \"306\", \"y2\": \"304\", \"mask\": \"0.019222105\", \"withoutMask\": \"0.98077786\"}]\n"
     ]
    },
    {
     "name": "stderr",
     "output_type": "stream",
     "text": [
      "127.0.0.1 - - [26/Sep/2020 22:37:00] \"\u001b[37mPOST /api/test HTTP/1.1\u001b[0m\" 200 -\n"
     ]
    },
    {
     "name": "stdout",
     "output_type": "stream",
     "text": [
      "[{\"label\": \"No Mask: 97.63%\", \"x\": \"92\", \"y\": \"92\", \"x2\": \"299\", \"y2\": \"299\", \"mask\": \"0.023668272\", \"withoutMask\": \"0.9763317\"}]\n"
     ]
    },
    {
     "name": "stderr",
     "output_type": "stream",
     "text": [
      "127.0.0.1 - - [26/Sep/2020 22:37:00] \"\u001b[37mPOST /api/test HTTP/1.1\u001b[0m\" 200 -\n"
     ]
    },
    {
     "name": "stdout",
     "output_type": "stream",
     "text": [
      "[{\"label\": \"No Mask: 99.48%\", \"x\": \"95\", \"y\": \"100\", \"x2\": \"300\", \"y2\": \"305\", \"mask\": \"0.0051726457\", \"withoutMask\": \"0.99482733\"}]\n"
     ]
    },
    {
     "name": "stderr",
     "output_type": "stream",
     "text": [
      "127.0.0.1 - - [26/Sep/2020 22:37:00] \"\u001b[37mPOST /api/test HTTP/1.1\u001b[0m\" 200 -\n"
     ]
    },
    {
     "name": "stdout",
     "output_type": "stream",
     "text": [
      "[{\"label\": \"No Mask: 99.51%\", \"x\": \"100\", \"y\": \"100\", \"x2\": \"304\", \"y2\": \"304\", \"mask\": \"0.0049199327\", \"withoutMask\": \"0.9950801\"}]\n"
     ]
    },
    {
     "name": "stderr",
     "output_type": "stream",
     "text": [
      "127.0.0.1 - - [26/Sep/2020 22:37:01] \"\u001b[37mPOST /api/test HTTP/1.1\u001b[0m\" 200 -\n"
     ]
    },
    {
     "name": "stdout",
     "output_type": "stream",
     "text": [
      "[{\"label\": \"No Mask: 98.49%\", \"x\": \"101\", \"y\": \"103\", \"x2\": \"304\", \"y2\": \"306\", \"mask\": \"0.015142699\", \"withoutMask\": \"0.9848573\"}]\n"
     ]
    },
    {
     "name": "stderr",
     "output_type": "stream",
     "text": [
      "127.0.0.1 - - [26/Sep/2020 22:37:01] \"\u001b[37mPOST /api/test HTTP/1.1\u001b[0m\" 200 -\n"
     ]
    },
    {
     "name": "stdout",
     "output_type": "stream",
     "text": [
      "[{\"label\": \"No Mask: 80.13%\", \"x\": \"100\", \"y\": \"102\", \"x2\": \"304\", \"y2\": \"306\", \"mask\": \"0.19872944\", \"withoutMask\": \"0.80127054\"}]\n"
     ]
    },
    {
     "name": "stderr",
     "output_type": "stream",
     "text": [
      "127.0.0.1 - - [26/Sep/2020 22:37:01] \"\u001b[37mPOST /api/test HTTP/1.1\u001b[0m\" 200 -\n"
     ]
    },
    {
     "name": "stdout",
     "output_type": "stream",
     "text": [
      "[{\"label\": \"No Mask: 98.99%\", \"x\": \"98\", \"y\": \"101\", \"x2\": \"304\", \"y2\": \"307\", \"mask\": \"0.010132358\", \"withoutMask\": \"0.9898677\"}]\n"
     ]
    },
    {
     "name": "stderr",
     "output_type": "stream",
     "text": [
      "127.0.0.1 - - [26/Sep/2020 22:37:02] \"\u001b[37mPOST /api/test HTTP/1.1\u001b[0m\" 200 -\n",
      "127.0.0.1 - - [26/Sep/2020 22:37:02] \"\u001b[37mPOST /api/test HTTP/1.1\u001b[0m\" 200 -\n"
     ]
    },
    {
     "name": "stdout",
     "output_type": "stream",
     "text": [
      "[{\"label\": \"No Mask: 96.36%\", \"x\": \"68\", \"y\": \"86\", \"x2\": \"275\", \"y2\": \"293\", \"mask\": \"0.036420356\", \"withoutMask\": \"0.9635796\"}]\n",
      "[]\n"
     ]
    },
    {
     "name": "stderr",
     "output_type": "stream",
     "text": [
      "127.0.0.1 - - [26/Sep/2020 22:37:02] \"\u001b[37mPOST /api/test HTTP/1.1\u001b[0m\" 200 -\n",
      "127.0.0.1 - - [26/Sep/2020 22:37:02] \"\u001b[37mPOST /api/test HTTP/1.1\u001b[0m\" 200 -\n"
     ]
    },
    {
     "name": "stdout",
     "output_type": "stream",
     "text": [
      "[{\"label\": \"Mask: 52.79%\", \"x\": \"568\", \"y\": \"372\", \"x2\": \"595\", \"y2\": \"399\", \"mask\": \"0.5278705\", \"withoutMask\": \"0.47212958\"}]\n",
      "[]\n"
     ]
    },
    {
     "name": "stderr",
     "output_type": "stream",
     "text": [
      "127.0.0.1 - - [26/Sep/2020 22:37:02] \"\u001b[37mPOST /api/test HTTP/1.1\u001b[0m\" 200 -\n",
      "127.0.0.1 - - [26/Sep/2020 22:37:02] \"\u001b[37mPOST /api/test HTTP/1.1\u001b[0m\" 200 -\n"
     ]
    },
    {
     "name": "stdout",
     "output_type": "stream",
     "text": [
      "[]\n",
      "[]\n"
     ]
    },
    {
     "name": "stderr",
     "output_type": "stream",
     "text": [
      "127.0.0.1 - - [26/Sep/2020 22:37:02] \"\u001b[37mPOST /api/test HTTP/1.1\u001b[0m\" 200 -\n",
      "127.0.0.1 - - [26/Sep/2020 22:37:03] \"\u001b[37mPOST /api/test HTTP/1.1\u001b[0m\" 200 -\n"
     ]
    },
    {
     "name": "stdout",
     "output_type": "stream",
     "text": [
      "[]\n",
      "[]\n"
     ]
    },
    {
     "name": "stderr",
     "output_type": "stream",
     "text": [
      "127.0.0.1 - - [26/Sep/2020 22:37:03] \"\u001b[37mPOST /api/test HTTP/1.1\u001b[0m\" 200 -\n",
      "127.0.0.1 - - [26/Sep/2020 22:37:03] \"\u001b[37mPOST /api/test HTTP/1.1\u001b[0m\" 200 -\n"
     ]
    },
    {
     "name": "stdout",
     "output_type": "stream",
     "text": [
      "[]\n",
      "[]\n"
     ]
    },
    {
     "name": "stderr",
     "output_type": "stream",
     "text": [
      "127.0.0.1 - - [26/Sep/2020 22:37:03] \"\u001b[37mPOST /api/test HTTP/1.1\u001b[0m\" 200 -\n",
      "127.0.0.1 - - [26/Sep/2020 22:37:03] \"\u001b[37mPOST /api/test HTTP/1.1\u001b[0m\" 200 -\n"
     ]
    },
    {
     "name": "stdout",
     "output_type": "stream",
     "text": [
      "[]\n",
      "[]\n"
     ]
    },
    {
     "name": "stderr",
     "output_type": "stream",
     "text": [
      "127.0.0.1 - - [26/Sep/2020 22:37:03] \"\u001b[37mPOST /api/test HTTP/1.1\u001b[0m\" 200 -\n"
     ]
    },
    {
     "name": "stdout",
     "output_type": "stream",
     "text": [
      "[{\"label\": \"No Mask: 98.42%\", \"x\": \"19\", \"y\": \"75\", \"x2\": \"256\", \"y2\": \"312\", \"mask\": \"0.01581747\", \"withoutMask\": \"0.98418254\"}]\n"
     ]
    },
    {
     "name": "stderr",
     "output_type": "stream",
     "text": [
      "127.0.0.1 - - [26/Sep/2020 22:37:04] \"\u001b[37mPOST /api/test HTTP/1.1\u001b[0m\" 200 -\n"
     ]
    },
    {
     "name": "stdout",
     "output_type": "stream",
     "text": [
      "[{\"label\": \"No Mask: 81.13%\", \"x\": \"123\", \"y\": \"98\", \"x2\": \"332\", \"y2\": \"307\", \"mask\": \"0.18869837\", \"withoutMask\": \"0.8113017\"}]\n"
     ]
    },
    {
     "name": "stderr",
     "output_type": "stream",
     "text": [
      "127.0.0.1 - - [26/Sep/2020 22:37:04] \"\u001b[37mPOST /api/test HTTP/1.1\u001b[0m\" 200 -\n"
     ]
    },
    {
     "name": "stdout",
     "output_type": "stream",
     "text": [
      "[{\"label\": \"No Mask: 99.89%\", \"x\": \"168\", \"y\": \"106\", \"x2\": \"373\", \"y2\": \"311\", \"mask\": \"0.0010979886\", \"withoutMask\": \"0.99890196\"}]\n"
     ]
    },
    {
     "name": "stderr",
     "output_type": "stream",
     "text": [
      "127.0.0.1 - - [26/Sep/2020 22:37:04] \"\u001b[37mPOST /api/test HTTP/1.1\u001b[0m\" 200 -\n"
     ]
    },
    {
     "name": "stdout",
     "output_type": "stream",
     "text": [
      "[{\"label\": \"No Mask: 99.94%\", \"x\": \"168\", \"y\": \"109\", \"x2\": \"369\", \"y2\": \"310\", \"mask\": \"0.00059887505\", \"withoutMask\": \"0.9994011\"}]\n"
     ]
    },
    {
     "name": "stderr",
     "output_type": "stream",
     "text": [
      "127.0.0.1 - - [26/Sep/2020 22:37:04] \"\u001b[37mPOST /api/test HTTP/1.1\u001b[0m\" 200 -\n"
     ]
    },
    {
     "name": "stdout",
     "output_type": "stream",
     "text": [
      "[{\"label\": \"No Mask: 99.98%\", \"x\": \"145\", \"y\": \"101\", \"x2\": \"357\", \"y2\": \"313\", \"mask\": \"0.00015046752\", \"withoutMask\": \"0.99984956\"}]\n"
     ]
    },
    {
     "name": "stderr",
     "output_type": "stream",
     "text": [
      "127.0.0.1 - - [26/Sep/2020 22:37:05] \"\u001b[37mPOST /api/test HTTP/1.1\u001b[0m\" 200 -\n"
     ]
    },
    {
     "name": "stdout",
     "output_type": "stream",
     "text": [
      "[{\"label\": \"No Mask: 99.85%\", \"x\": \"134\", \"y\": \"100\", \"x2\": \"347\", \"y2\": \"313\", \"mask\": \"0.001519614\", \"withoutMask\": \"0.9984804\"}]\n"
     ]
    },
    {
     "name": "stderr",
     "output_type": "stream",
     "text": [
      "127.0.0.1 - - [26/Sep/2020 22:37:05] \"\u001b[37mPOST /api/test HTTP/1.1\u001b[0m\" 200 -\n"
     ]
    },
    {
     "name": "stdout",
     "output_type": "stream",
     "text": [
      "[{\"label\": \"No Mask: 99.05%\", \"x\": \"130\", \"y\": \"101\", \"x2\": \"342\", \"y2\": \"313\", \"mask\": \"0.0095269615\", \"withoutMask\": \"0.990473\"}]\n"
     ]
    },
    {
     "name": "stderr",
     "output_type": "stream",
     "text": [
      "127.0.0.1 - - [26/Sep/2020 22:37:05] \"\u001b[37mPOST /api/test HTTP/1.1\u001b[0m\" 200 -\n"
     ]
    },
    {
     "name": "stdout",
     "output_type": "stream",
     "text": [
      "[{\"label\": \"No Mask: 99.70%\", \"x\": \"133\", \"y\": \"99\", \"x2\": \"348\", \"y2\": \"314\", \"mask\": \"0.002952982\", \"withoutMask\": \"0.997047\"}]\n"
     ]
    },
    {
     "name": "stderr",
     "output_type": "stream",
     "text": [
      "127.0.0.1 - - [26/Sep/2020 22:37:05] \"\u001b[37mPOST /api/test HTTP/1.1\u001b[0m\" 200 -\n"
     ]
    },
    {
     "name": "stdout",
     "output_type": "stream",
     "text": [
      "[{\"label\": \"No Mask: 84.68%\", \"x\": \"139\", \"y\": \"103\", \"x2\": \"342\", \"y2\": \"306\", \"mask\": \"0.15316927\", \"withoutMask\": \"0.8468307\"}]\n"
     ]
    },
    {
     "name": "stderr",
     "output_type": "stream",
     "text": [
      "127.0.0.1 - - [26/Sep/2020 22:37:06] \"\u001b[37mPOST /api/test HTTP/1.1\u001b[0m\" 200 -\n"
     ]
    },
    {
     "name": "stdout",
     "output_type": "stream",
     "text": [
      "[{\"label\": \"No Mask: 99.71%\", \"x\": \"136\", \"y\": \"103\", \"x2\": \"342\", \"y2\": \"309\", \"mask\": \"0.0029239322\", \"withoutMask\": \"0.99707603\"}]\n"
     ]
    },
    {
     "name": "stderr",
     "output_type": "stream",
     "text": [
      "127.0.0.1 - - [26/Sep/2020 22:37:06] \"\u001b[37mPOST /api/test HTTP/1.1\u001b[0m\" 200 -\n"
     ]
    },
    {
     "name": "stdout",
     "output_type": "stream",
     "text": [
      "[{\"label\": \"No Mask: 70.29%\", \"x\": \"136\", \"y\": \"102\", \"x2\": \"345\", \"y2\": \"311\", \"mask\": \"0.29712072\", \"withoutMask\": \"0.70287925\"}]\n"
     ]
    },
    {
     "name": "stderr",
     "output_type": "stream",
     "text": [
      "127.0.0.1 - - [26/Sep/2020 22:37:06] \"\u001b[37mPOST /api/test HTTP/1.1\u001b[0m\" 200 -\n"
     ]
    },
    {
     "name": "stdout",
     "output_type": "stream",
     "text": [
      "[{\"label\": \"No Mask: 99.55%\", \"x\": \"133\", \"y\": \"102\", \"x2\": \"344\", \"y2\": \"313\", \"mask\": \"0.0044822744\", \"withoutMask\": \"0.9955178\"}]\n"
     ]
    },
    {
     "name": "stderr",
     "output_type": "stream",
     "text": [
      "127.0.0.1 - - [26/Sep/2020 22:37:07] \"\u001b[37mPOST /api/test HTTP/1.1\u001b[0m\" 200 -\n",
      "127.0.0.1 - - [26/Sep/2020 22:37:07] \"\u001b[37mPOST /api/test HTTP/1.1\u001b[0m\" 200 -\n"
     ]
    },
    {
     "name": "stdout",
     "output_type": "stream",
     "text": [
      "[{\"label\": \"No Mask: 99.19%\", \"x\": \"134\", \"y\": \"102\", \"x2\": \"344\", \"y2\": \"312\", \"mask\": \"0.008107343\", \"withoutMask\": \"0.9918927\"}]\n",
      "[]\n"
     ]
    },
    {
     "name": "stderr",
     "output_type": "stream",
     "text": [
      "127.0.0.1 - - [26/Sep/2020 22:37:07] \"\u001b[37mPOST /api/test HTTP/1.1\u001b[0m\" 200 -\n",
      "127.0.0.1 - - [26/Sep/2020 22:37:07] \"\u001b[37mPOST /api/test HTTP/1.1\u001b[0m\" 200 -\n"
     ]
    },
    {
     "name": "stdout",
     "output_type": "stream",
     "text": [
      "[{\"label\": \"Mask: 77.44%\", \"x\": \"570\", \"y\": \"361\", \"x2\": \"596\", \"y2\": \"387\", \"mask\": \"0.7744222\", \"withoutMask\": \"0.22557785\"}]\n",
      "[]\n"
     ]
    },
    {
     "name": "stderr",
     "output_type": "stream",
     "text": [
      "127.0.0.1 - - [26/Sep/2020 22:37:07] \"\u001b[37mPOST /api/test HTTP/1.1\u001b[0m\" 200 -\n",
      "127.0.0.1 - - [26/Sep/2020 22:37:07] \"\u001b[37mPOST /api/test HTTP/1.1\u001b[0m\" 200 -\n"
     ]
    },
    {
     "name": "stdout",
     "output_type": "stream",
     "text": [
      "[]\n",
      "[]\n"
     ]
    },
    {
     "name": "stderr",
     "output_type": "stream",
     "text": [
      "127.0.0.1 - - [26/Sep/2020 22:37:07] \"\u001b[37mPOST /api/test HTTP/1.1\u001b[0m\" 200 -\n",
      "127.0.0.1 - - [26/Sep/2020 22:37:08] \"\u001b[37mPOST /api/test HTTP/1.1\u001b[0m\" 200 -\n"
     ]
    },
    {
     "name": "stdout",
     "output_type": "stream",
     "text": [
      "[]\n",
      "[]\n"
     ]
    },
    {
     "name": "stderr",
     "output_type": "stream",
     "text": [
      "127.0.0.1 - - [26/Sep/2020 22:37:08] \"\u001b[37mPOST /api/test HTTP/1.1\u001b[0m\" 200 -\n",
      "127.0.0.1 - - [26/Sep/2020 22:37:08] \"\u001b[37mPOST /api/test HTTP/1.1\u001b[0m\" 200 -\n"
     ]
    },
    {
     "name": "stdout",
     "output_type": "stream",
     "text": [
      "[]\n",
      "[]\n"
     ]
    },
    {
     "name": "stderr",
     "output_type": "stream",
     "text": [
      "127.0.0.1 - - [26/Sep/2020 22:37:08] \"\u001b[37mPOST /api/test HTTP/1.1\u001b[0m\" 200 -\n"
     ]
    },
    {
     "name": "stdout",
     "output_type": "stream",
     "text": [
      "[]\n"
     ]
    },
    {
     "name": "stderr",
     "output_type": "stream",
     "text": [
      "127.0.0.1 - - [26/Sep/2020 22:37:08] \"\u001b[37mPOST /api/test HTTP/1.1\u001b[0m\" 200 -\n",
      "127.0.0.1 - - [26/Sep/2020 22:37:08] \"\u001b[37mPOST /api/test HTTP/1.1\u001b[0m\" 200 -\n"
     ]
    },
    {
     "name": "stdout",
     "output_type": "stream",
     "text": [
      "[{\"label\": \"Mask: 66.07%\", \"x\": \"220\", \"y\": \"382\", \"x2\": \"273\", \"y2\": \"435\", \"mask\": \"0.6606616\", \"withoutMask\": \"0.33933845\"}]\n",
      "[]\n"
     ]
    },
    {
     "name": "stderr",
     "output_type": "stream",
     "text": [
      "127.0.0.1 - - [26/Sep/2020 22:37:09] \"\u001b[37mPOST /api/test HTTP/1.1\u001b[0m\" 200 -\n"
     ]
    },
    {
     "name": "stdout",
     "output_type": "stream",
     "text": [
      "[{\"label\": \"No Mask: 88.82%\", \"x\": \"128\", \"y\": \"94\", \"x2\": \"324\", \"y2\": \"290\", \"mask\": \"0.11179914\", \"withoutMask\": \"0.8882009\"}]\n"
     ]
    },
    {
     "name": "stderr",
     "output_type": "stream",
     "text": [
      "127.0.0.1 - - [26/Sep/2020 22:37:09] \"\u001b[37mPOST /api/test HTTP/1.1\u001b[0m\" 200 -\n"
     ]
    },
    {
     "name": "stdout",
     "output_type": "stream",
     "text": [
      "[{\"label\": \"No Mask: 99.48%\", \"x\": \"117\", \"y\": \"91\", \"x2\": \"331\", \"y2\": \"305\", \"mask\": \"0.005205524\", \"withoutMask\": \"0.9947944\"}]\n"
     ]
    },
    {
     "name": "stderr",
     "output_type": "stream",
     "text": [
      "127.0.0.1 - - [26/Sep/2020 22:37:09] \"\u001b[37mPOST /api/test HTTP/1.1\u001b[0m\" 200 -\n"
     ]
    },
    {
     "name": "stdout",
     "output_type": "stream",
     "text": [
      "[{\"label\": \"No Mask: 99.79%\", \"x\": \"114\", \"y\": \"100\", \"x2\": \"322\", \"y2\": \"308\", \"mask\": \"0.002102087\", \"withoutMask\": \"0.99789786\"}]\n"
     ]
    },
    {
     "name": "stderr",
     "output_type": "stream",
     "text": [
      "127.0.0.1 - - [26/Sep/2020 22:37:09] \"\u001b[37mPOST /api/test HTTP/1.1\u001b[0m\" 200 -\n"
     ]
    },
    {
     "name": "stdout",
     "output_type": "stream",
     "text": [
      "[{\"label\": \"No Mask: 96.59%\", \"x\": \"123\", \"y\": \"105\", \"x2\": \"320\", \"y2\": \"302\", \"mask\": \"0.034055073\", \"withoutMask\": \"0.96594495\"}]\n"
     ]
    },
    {
     "name": "stderr",
     "output_type": "stream",
     "text": [
      "127.0.0.1 - - [26/Sep/2020 22:37:10] \"\u001b[37mPOST /api/test HTTP/1.1\u001b[0m\" 200 -\n"
     ]
    },
    {
     "name": "stdout",
     "output_type": "stream",
     "text": [
      "[{\"label\": \"No Mask: 98.87%\", \"x\": \"117\", \"y\": \"100\", \"x2\": \"329\", \"y2\": \"312\", \"mask\": \"0.011338396\", \"withoutMask\": \"0.98866165\"}]\n"
     ]
    },
    {
     "name": "stderr",
     "output_type": "stream",
     "text": [
      "127.0.0.1 - - [26/Sep/2020 22:37:10] \"\u001b[37mPOST /api/test HTTP/1.1\u001b[0m\" 200 -\n"
     ]
    },
    {
     "name": "stdout",
     "output_type": "stream",
     "text": [
      "[{\"label\": \"No Mask: 99.61%\", \"x\": \"121\", \"y\": \"101\", \"x2\": \"324\", \"y2\": \"304\", \"mask\": \"0.0038924091\", \"withoutMask\": \"0.99610764\"}]\n"
     ]
    },
    {
     "name": "stderr",
     "output_type": "stream",
     "text": [
      "127.0.0.1 - - [26/Sep/2020 22:37:10] \"\u001b[37mPOST /api/test HTTP/1.1\u001b[0m\" 200 -\n"
     ]
    },
    {
     "name": "stdout",
     "output_type": "stream",
     "text": [
      "[{\"label\": \"No Mask: 98.27%\", \"x\": \"117\", \"y\": \"103\", \"x2\": \"322\", \"y2\": \"308\", \"mask\": \"0.017327793\", \"withoutMask\": \"0.9826722\"}]\n"
     ]
    },
    {
     "name": "stderr",
     "output_type": "stream",
     "text": [
      "127.0.0.1 - - [26/Sep/2020 22:37:11] \"\u001b[37mPOST /api/test HTTP/1.1\u001b[0m\" 200 -\n"
     ]
    },
    {
     "name": "stdout",
     "output_type": "stream",
     "text": [
      "[{\"label\": \"No Mask: 97.40%\", \"x\": \"113\", \"y\": \"101\", \"x2\": \"316\", \"y2\": \"304\", \"mask\": \"0.026027584\", \"withoutMask\": \"0.9739724\"}]\n"
     ]
    }
   ],
   "source": [
    "from flask import Flask, request, Response\n",
    "import jsonpickle\n",
    "import numpy as np\n",
    "import cv2\n",
    "import numpy as np\n",
    "import cv2\n",
    "from cv2 import imread\n",
    "from cv2 import imshow\n",
    "from cv2 import waitKey\n",
    "from cv2 import destroyAllWindows\n",
    "from cv2 import CascadeClassifier\n",
    "from cv2 import rectangle\n",
    "from tensorflow.keras.preprocessing.image import img_to_array\n",
    "from tensorflow.keras.applications.mobilenet_v2 import preprocess_input\n",
    "import json\n",
    "\n",
    "app = Flask(__name__)\n",
    " \n",
    "classifier = CascadeClassifier('haarcascade_frontalface_default.xml')\n",
    "m = models.load_model(\"face_mask_model.h5\")  \n",
    "    \n",
    "@app.route('/api/test', methods=['POST'])\n",
    "def draw_image_with_boxes():\n",
    "    # load the image\n",
    "    r = request\n",
    "    #print(len(r.data))\n",
    "    # convert string of image data to uint8\n",
    "    nparr = np.frombuffer(r.data, np.uint8)\n",
    "    # decode image\n",
    "    frame = cv2.imdecode(nparr, cv2.IMREAD_COLOR)\n",
    "    # perform face detection\n",
    "    bboxes = classifier.detectMultiScale(frame)\n",
    "    reslist = []\n",
    "    for box in bboxes:\n",
    "        x, y, width, height = box\n",
    "        x2, y2 = x + width, y + height\n",
    "        # draw a rectangle over the pixels\n",
    "        face = frame[y:y2, x:x2]\n",
    "        face = cv2.resize(face, (224, 224))\n",
    "        face = img_to_array(face)\n",
    "        face = preprocess_input(face)\n",
    "        face = np.expand_dims(face, axis=0)\n",
    "        (mask, withoutMask) = m.predict(face)[0]\n",
    "        label = \"Mask\" if mask > withoutMask else \"No Mask\"\n",
    "        color = (0, 255, 0) if label == \"Mask\" else (0, 0, 255)\n",
    "        # include the probability in the label\n",
    "        label = \"{}: {:.2f}%\".format(label, max(mask, withoutMask) * 100)\n",
    "        # display the label and bounding box rectangle on the output\n",
    "        # frame\n",
    "        #cv2.putText(frame, label, (x, y - 10),\n",
    "        #    cv2.FONT_HERSHEY_SIMPLEX, 0.45, color, 2)\n",
    "        res = {'label':str(label),'x':str(x),'y':str(y),'x2':str(x2),'y2':str(y2),'mask':str(mask),'withoutMask':str(withoutMask)}\n",
    "        reslist.append(res)\n",
    "    \n",
    "    jsonres = json.dumps(reslist)\n",
    "    print(jsonres)\n",
    "    return Response(response=jsonres, status=200, mimetype=\"application/json\")\n",
    " \n",
    "if __name__ == \"__main__\":\n",
    "    app.run()"
   ]
  },
  {
   "cell_type": "code",
   "execution_count": null,
   "metadata": {},
   "outputs": [],
   "source": []
  }
 ],
 "metadata": {
  "kernelspec": {
   "display_name": "Python 3",
   "language": "python",
   "name": "python3"
  },
  "language_info": {
   "codemirror_mode": {
    "name": "ipython",
    "version": 3
   },
   "file_extension": ".py",
   "mimetype": "text/x-python",
   "name": "python",
   "nbconvert_exporter": "python",
   "pygments_lexer": "ipython3",
   "version": "3.7.1"
  }
 },
 "nbformat": 4,
 "nbformat_minor": 2
}
