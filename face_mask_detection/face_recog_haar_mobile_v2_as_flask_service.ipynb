{
 "cells": [
  {
   "cell_type": "code",
   "execution_count": 1,
   "metadata": {},
   "outputs": [],
   "source": [
    "import cv2\n",
    "import numpy as np\n",
    "import tensorflow.keras.models as models\n",
    "from flask import Flask, request, Response\n",
    "from cv2 import CascadeClassifier\n",
    "from tensorflow.keras.preprocessing.image import img_to_array\n",
    "from tensorflow.keras.applications.mobilenet_v2 import preprocess_input\n",
    "import json"
   ]
  },
  {
   "cell_type": "code",
   "execution_count": 2,
   "metadata": {},
   "outputs": [
    {
     "name": "stdout",
     "output_type": "stream",
     "text": [
      " * Serving Flask app \"__main__\" (lazy loading)\n",
      " * Environment: production\n",
      "   WARNING: Do not use the development server in a production environment.\n",
      "   Use a production WSGI server instead.\n",
      " * Debug mode: off\n"
     ]
    },
    {
     "name": "stderr",
     "output_type": "stream",
     "text": [
      " * Running on http://0.0.0.0:5000/ (Press CTRL+C to quit)\n",
      "127.0.0.1 - - [31/Oct/2020 17:50:45] \"\u001b[37mPOST /api/test HTTP/1.1\u001b[0m\" 200 -\n"
     ]
    },
    {
     "name": "stdout",
     "output_type": "stream",
     "text": [
      "[]\n"
     ]
    },
    {
     "name": "stderr",
     "output_type": "stream",
     "text": [
      "127.0.0.1 - - [31/Oct/2020 17:50:46] \"\u001b[37mPOST /api/test HTTP/1.1\u001b[0m\" 200 -\n",
      "127.0.0.1 - - [31/Oct/2020 17:50:46] \"\u001b[37mPOST /api/test HTTP/1.1\u001b[0m\" 200 -\n"
     ]
    },
    {
     "name": "stdout",
     "output_type": "stream",
     "text": [
      "[]\n",
      "[]\n"
     ]
    },
    {
     "name": "stderr",
     "output_type": "stream",
     "text": [
      "127.0.0.1 - - [31/Oct/2020 17:50:46] \"\u001b[37mPOST /api/test HTTP/1.1\u001b[0m\" 200 -\n",
      "127.0.0.1 - - [31/Oct/2020 17:50:46] \"\u001b[37mPOST /api/test HTTP/1.1\u001b[0m\" 200 -\n"
     ]
    },
    {
     "name": "stdout",
     "output_type": "stream",
     "text": [
      "[]\n",
      "[]\n",
      "[]"
     ]
    },
    {
     "name": "stderr",
     "output_type": "stream",
     "text": [
      "127.0.0.1 - - [31/Oct/2020 17:50:46] \"\u001b[37mPOST /api/test HTTP/1.1\u001b[0m\" 200 -\n",
      "127.0.0.1 - - [31/Oct/2020 17:50:46] \"\u001b[37mPOST /api/test HTTP/1.1\u001b[0m\" 200 -\n"
     ]
    },
    {
     "name": "stdout",
     "output_type": "stream",
     "text": [
      "\n",
      "[]\n"
     ]
    },
    {
     "name": "stderr",
     "output_type": "stream",
     "text": [
      "127.0.0.1 - - [31/Oct/2020 17:50:46] \"\u001b[37mPOST /api/test HTTP/1.1\u001b[0m\" 200 -\n",
      "127.0.0.1 - - [31/Oct/2020 17:50:46] \"\u001b[37mPOST /api/test HTTP/1.1\u001b[0m\" 200 -\n"
     ]
    },
    {
     "name": "stdout",
     "output_type": "stream",
     "text": [
      "[]\n",
      "[]\n",
      "[]"
     ]
    },
    {
     "name": "stderr",
     "output_type": "stream",
     "text": [
      "127.0.0.1 - - [31/Oct/2020 17:50:47] \"\u001b[37mPOST /api/test HTTP/1.1\u001b[0m\" 200 -\n",
      "127.0.0.1 - - [31/Oct/2020 17:50:47] \"\u001b[37mPOST /api/test HTTP/1.1\u001b[0m\" 200 -\n",
      "127.0.0.1 - - [31/Oct/2020 17:50:47] \"\u001b[37mPOST /api/test HTTP/1.1\u001b[0m\" 200 -\n",
      "127.0.0.1 - - [31/Oct/2020 17:50:47] \"\u001b[37mPOST /api/test HTTP/1.1\u001b[0m\" 200 -\n"
     ]
    },
    {
     "name": "stdout",
     "output_type": "stream",
     "text": [
      "\n",
      "[]\n",
      "[]\n",
      "[]\n"
     ]
    },
    {
     "name": "stderr",
     "output_type": "stream",
     "text": [
      "127.0.0.1 - - [31/Oct/2020 17:50:47] \"\u001b[37mPOST /api/test HTTP/1.1\u001b[0m\" 200 -\n",
      "127.0.0.1 - - [31/Oct/2020 17:50:47] \"\u001b[37mPOST /api/test HTTP/1.1\u001b[0m\" 200 -\n",
      "127.0.0.1 - - [31/Oct/2020 17:50:47] \"\u001b[37mPOST /api/test HTTP/1.1\u001b[0m\" 200 -\n",
      "127.0.0.1 - - [31/Oct/2020 17:50:47] \"\u001b[37mPOST /api/test HTTP/1.1\u001b[0m\" 200 -\n"
     ]
    },
    {
     "name": "stdout",
     "output_type": "stream",
     "text": [
      "[]\n",
      "[]\n",
      "[]\n",
      "[]\n",
      "[]"
     ]
    },
    {
     "name": "stderr",
     "output_type": "stream",
     "text": [
      "127.0.0.1 - - [31/Oct/2020 17:50:47] \"\u001b[37mPOST /api/test HTTP/1.1\u001b[0m\" 200 -\n",
      "127.0.0.1 - - [31/Oct/2020 17:50:47] \"\u001b[37mPOST /api/test HTTP/1.1\u001b[0m\" 200 -\n",
      "127.0.0.1 - - [31/Oct/2020 17:50:47] \"\u001b[37mPOST /api/test HTTP/1.1\u001b[0m\" 200 -\n",
      "127.0.0.1 - - [31/Oct/2020 17:50:47] \"\u001b[37mPOST /api/test HTTP/1.1\u001b[0m\" 200 -\n"
     ]
    },
    {
     "name": "stdout",
     "output_type": "stream",
     "text": [
      "\n",
      "[]\n",
      "[]\n",
      "[]\n"
     ]
    },
    {
     "name": "stderr",
     "output_type": "stream",
     "text": [
      "127.0.0.1 - - [31/Oct/2020 17:50:47] \"\u001b[37mPOST /api/test HTTP/1.1\u001b[0m\" 200 -\n",
      "127.0.0.1 - - [31/Oct/2020 17:50:47] \"\u001b[37mPOST /api/test HTTP/1.1\u001b[0m\" 200 -\n",
      "127.0.0.1 - - [31/Oct/2020 17:50:47] \"\u001b[37mPOST /api/test HTTP/1.1\u001b[0m\" 200 -\n",
      "127.0.0.1 - - [31/Oct/2020 17:50:47] \"\u001b[37mPOST /api/test HTTP/1.1\u001b[0m\" 200 -\n"
     ]
    },
    {
     "name": "stdout",
     "output_type": "stream",
     "text": [
      "[]\n",
      "[]\n",
      "[]\n",
      "[]\n"
     ]
    },
    {
     "name": "stderr",
     "output_type": "stream",
     "text": [
      "127.0.0.1 - - [31/Oct/2020 17:50:47] \"\u001b[37mPOST /api/test HTTP/1.1\u001b[0m\" 200 -\n",
      "127.0.0.1 - - [31/Oct/2020 17:50:47] \"\u001b[37mPOST /api/test HTTP/1.1\u001b[0m\" 200 -\n",
      "127.0.0.1 - - [31/Oct/2020 17:50:48] \"\u001b[37mPOST /api/test HTTP/1.1\u001b[0m\" 200 -\n",
      "127.0.0.1 - - [31/Oct/2020 17:50:48] \"\u001b[37mPOST /api/test HTTP/1.1\u001b[0m\" 200 -\n"
     ]
    },
    {
     "name": "stdout",
     "output_type": "stream",
     "text": [
      "[]\n",
      "[]\n",
      "[]\n",
      "[]\n"
     ]
    },
    {
     "name": "stderr",
     "output_type": "stream",
     "text": [
      "127.0.0.1 - - [31/Oct/2020 17:50:48] \"\u001b[37mPOST /api/test HTTP/1.1\u001b[0m\" 200 -\n",
      "127.0.0.1 - - [31/Oct/2020 17:50:48] \"\u001b[37mPOST /api/test HTTP/1.1\u001b[0m\" 200 -\n",
      "127.0.0.1 - - [31/Oct/2020 17:50:48] \"\u001b[37mPOST /api/test HTTP/1.1\u001b[0m\" 200 -\n",
      "127.0.0.1 - - [31/Oct/2020 17:50:48] \"\u001b[37mPOST /api/test HTTP/1.1\u001b[0m\" 200 -\n"
     ]
    },
    {
     "name": "stdout",
     "output_type": "stream",
     "text": [
      "[]\n",
      "[]\n",
      "[]\n",
      "[]\n"
     ]
    },
    {
     "name": "stderr",
     "output_type": "stream",
     "text": [
      "127.0.0.1 - - [31/Oct/2020 17:50:48] \"\u001b[37mPOST /api/test HTTP/1.1\u001b[0m\" 200 -\n",
      "127.0.0.1 - - [31/Oct/2020 17:50:48] \"\u001b[37mPOST /api/test HTTP/1.1\u001b[0m\" 200 -\n",
      "127.0.0.1 - - [31/Oct/2020 17:50:48] \"\u001b[37mPOST /api/test HTTP/1.1\u001b[0m\" 200 -\n",
      "127.0.0.1 - - [31/Oct/2020 17:50:48] \"\u001b[37mPOST /api/test HTTP/1.1\u001b[0m\" 200 -\n"
     ]
    },
    {
     "name": "stdout",
     "output_type": "stream",
     "text": [
      "[]\n",
      "[]\n",
      "[]\n",
      "[]\n"
     ]
    },
    {
     "name": "stderr",
     "output_type": "stream",
     "text": [
      "127.0.0.1 - - [31/Oct/2020 17:50:48] \"\u001b[37mPOST /api/test HTTP/1.1\u001b[0m\" 200 -\n",
      "127.0.0.1 - - [31/Oct/2020 17:50:48] \"\u001b[37mPOST /api/test HTTP/1.1\u001b[0m\" 200 -\n",
      "127.0.0.1 - - [31/Oct/2020 17:50:48] \"\u001b[37mPOST /api/test HTTP/1.1\u001b[0m\" 200 -\n",
      "127.0.0.1 - - [31/Oct/2020 17:50:48] \"\u001b[37mPOST /api/test HTTP/1.1\u001b[0m\" 200 -\n"
     ]
    },
    {
     "name": "stdout",
     "output_type": "stream",
     "text": [
      "[]\n",
      "[]\n",
      "[]\n",
      "[]\n"
     ]
    },
    {
     "name": "stderr",
     "output_type": "stream",
     "text": [
      "127.0.0.1 - - [31/Oct/2020 17:50:48] \"\u001b[37mPOST /api/test HTTP/1.1\u001b[0m\" 200 -\n",
      "127.0.0.1 - - [31/Oct/2020 17:50:48] \"\u001b[37mPOST /api/test HTTP/1.1\u001b[0m\" 200 -\n",
      "127.0.0.1 - - [31/Oct/2020 17:50:48] \"\u001b[37mPOST /api/test HTTP/1.1\u001b[0m\" 200 -\n"
     ]
    },
    {
     "name": "stdout",
     "output_type": "stream",
     "text": [
      "[]\n",
      "[]\n",
      "[]\n",
      "[]"
     ]
    },
    {
     "name": "stderr",
     "output_type": "stream",
     "text": [
      "127.0.0.1 - - [31/Oct/2020 17:50:49] \"\u001b[37mPOST /api/test HTTP/1.1\u001b[0m\" 200 -\n",
      "127.0.0.1 - - [31/Oct/2020 17:50:49] \"\u001b[37mPOST /api/test HTTP/1.1\u001b[0m\" 200 -\n",
      "127.0.0.1 - - [31/Oct/2020 17:50:49] \"\u001b[37mPOST /api/test HTTP/1.1\u001b[0m\" 200 -\n",
      "127.0.0.1 - - [31/Oct/2020 17:50:49] \"\u001b[37mPOST /api/test HTTP/1.1\u001b[0m\" 200 -\n"
     ]
    },
    {
     "name": "stdout",
     "output_type": "stream",
     "text": [
      "\n",
      "[]\n",
      "[]\n",
      "[]\n",
      "[]"
     ]
    },
    {
     "name": "stderr",
     "output_type": "stream",
     "text": [
      "127.0.0.1 - - [31/Oct/2020 17:50:49] \"\u001b[37mPOST /api/test HTTP/1.1\u001b[0m\" 200 -\n",
      "127.0.0.1 - - [31/Oct/2020 17:50:49] \"\u001b[37mPOST /api/test HTTP/1.1\u001b[0m\" 200 -\n",
      "127.0.0.1 - - [31/Oct/2020 17:50:49] \"\u001b[37mPOST /api/test HTTP/1.1\u001b[0m\" 200 -\n",
      "127.0.0.1 - - [31/Oct/2020 17:50:49] \"\u001b[37mPOST /api/test HTTP/1.1\u001b[0m\" 200 -\n"
     ]
    },
    {
     "name": "stdout",
     "output_type": "stream",
     "text": [
      "\n",
      "[]\n",
      "[]\n",
      "[]\n"
     ]
    },
    {
     "name": "stderr",
     "output_type": "stream",
     "text": [
      "127.0.0.1 - - [31/Oct/2020 17:50:49] \"\u001b[37mPOST /api/test HTTP/1.1\u001b[0m\" 200 -\n",
      "127.0.0.1 - - [31/Oct/2020 17:50:49] \"\u001b[37mPOST /api/test HTTP/1.1\u001b[0m\" 200 -\n",
      "127.0.0.1 - - [31/Oct/2020 17:50:49] \"\u001b[37mPOST /api/test HTTP/1.1\u001b[0m\" 200 -\n",
      "127.0.0.1 - - [31/Oct/2020 17:50:49] \"\u001b[37mPOST /api/test HTTP/1.1\u001b[0m\" 200 -\n"
     ]
    },
    {
     "name": "stdout",
     "output_type": "stream",
     "text": [
      "[]\n",
      "[]\n",
      "[]\n",
      "[]\n"
     ]
    },
    {
     "name": "stderr",
     "output_type": "stream",
     "text": [
      "127.0.0.1 - - [31/Oct/2020 17:50:49] \"\u001b[37mPOST /api/test HTTP/1.1\u001b[0m\" 200 -\n",
      "127.0.0.1 - - [31/Oct/2020 17:50:49] \"\u001b[37mPOST /api/test HTTP/1.1\u001b[0m\" 200 -\n",
      "127.0.0.1 - - [31/Oct/2020 17:50:49] \"\u001b[37mPOST /api/test HTTP/1.1\u001b[0m\" 200 -\n",
      "127.0.0.1 - - [31/Oct/2020 17:50:49] \"\u001b[37mPOST /api/test HTTP/1.1\u001b[0m\" 200 -\n"
     ]
    },
    {
     "name": "stdout",
     "output_type": "stream",
     "text": [
      "[]\n",
      "[]\n",
      "[]\n",
      "[]\n"
     ]
    },
    {
     "name": "stderr",
     "output_type": "stream",
     "text": [
      "127.0.0.1 - - [31/Oct/2020 17:50:49] \"\u001b[37mPOST /api/test HTTP/1.1\u001b[0m\" 200 -\n"
     ]
    },
    {
     "name": "stdout",
     "output_type": "stream",
     "text": [
      "[]\n"
     ]
    },
    {
     "name": "stderr",
     "output_type": "stream",
     "text": [
      "127.0.0.1 - - [31/Oct/2020 17:50:51] \"\u001b[37mPOST /api/test HTTP/1.1\u001b[0m\" 200 -\n"
     ]
    },
    {
     "name": "stdout",
     "output_type": "stream",
     "text": [
      "[{\"label\": \"No Mask: 98.50%\", \"x\": \"86\", \"y\": \"126\", \"x2\": \"252\", \"y2\": \"292\", \"mask\": \"0.014991845\", \"withoutMask\": \"0.9850081\"}]\n"
     ]
    },
    {
     "name": "stderr",
     "output_type": "stream",
     "text": [
      "127.0.0.1 - - [31/Oct/2020 17:51:33] \"\u001b[37mPOST /api/test HTTP/1.1\u001b[0m\" 200 -\n"
     ]
    },
    {
     "name": "stdout",
     "output_type": "stream",
     "text": [
      "[{\"label\": \"No Mask: 99.89%\", \"x\": \"153\", \"y\": \"147\", \"x2\": \"323\", \"y2\": \"317\", \"mask\": \"0.0011310492\", \"withoutMask\": \"0.9988689\"}]\n"
     ]
    },
    {
     "name": "stderr",
     "output_type": "stream",
     "text": [
      "127.0.0.1 - - [31/Oct/2020 17:52:33] \"\u001b[37mPOST /api/test HTTP/1.1\u001b[0m\" 200 -\n"
     ]
    },
    {
     "name": "stdout",
     "output_type": "stream",
     "text": [
      "[{\"label\": \"Mask: 65.37%\", \"x\": \"208\", \"y\": \"141\", \"x2\": \"372\", \"y2\": \"305\", \"mask\": \"0.65366435\", \"withoutMask\": \"0.34633565\"}]\n"
     ]
    },
    {
     "name": "stderr",
     "output_type": "stream",
     "text": [
      "127.0.0.1 - - [31/Oct/2020 17:52:33] \"\u001b[37mPOST /api/test HTTP/1.1\u001b[0m\" 200 -\n"
     ]
    },
    {
     "name": "stdout",
     "output_type": "stream",
     "text": [
      "[{\"label\": \"No Mask: 96.64%\", \"x\": \"233\", \"y\": \"158\", \"x2\": \"409\", \"y2\": \"334\", \"mask\": \"0.033573892\", \"withoutMask\": \"0.96642613\"}]\n"
     ]
    },
    {
     "name": "stderr",
     "output_type": "stream",
     "text": [
      "127.0.0.1 - - [31/Oct/2020 17:52:34] \"\u001b[37mPOST /api/test HTTP/1.1\u001b[0m\" 200 -\n"
     ]
    },
    {
     "name": "stdout",
     "output_type": "stream",
     "text": [
      "[{\"label\": \"No Mask: 93.42%\", \"x\": \"233\", \"y\": \"153\", \"x2\": \"424\", \"y2\": \"344\", \"mask\": \"0.06577543\", \"withoutMask\": \"0.9342246\"}]\n"
     ]
    },
    {
     "name": "stderr",
     "output_type": "stream",
     "text": [
      "127.0.0.1 - - [31/Oct/2020 17:52:34] \"\u001b[37mPOST /api/test HTTP/1.1\u001b[0m\" 200 -\n"
     ]
    },
    {
     "name": "stdout",
     "output_type": "stream",
     "text": [
      "[{\"label\": \"No Mask: 96.15%\", \"x\": \"232\", \"y\": \"156\", \"x2\": \"418\", \"y2\": \"342\", \"mask\": \"0.038510237\", \"withoutMask\": \"0.9614898\"}]\n"
     ]
    },
    {
     "name": "stderr",
     "output_type": "stream",
     "text": [
      "127.0.0.1 - - [31/Oct/2020 17:52:34] \"\u001b[37mPOST /api/test HTTP/1.1\u001b[0m\" 200 -\n"
     ]
    },
    {
     "name": "stdout",
     "output_type": "stream",
     "text": [
      "[{\"label\": \"No Mask: 93.47%\", \"x\": \"230\", \"y\": \"156\", \"x2\": \"414\", \"y2\": \"340\", \"mask\": \"0.06530078\", \"withoutMask\": \"0.93469924\"}]\n"
     ]
    },
    {
     "name": "stderr",
     "output_type": "stream",
     "text": [
      "127.0.0.1 - - [31/Oct/2020 17:52:35] \"\u001b[37mPOST /api/test HTTP/1.1\u001b[0m\" 200 -\n"
     ]
    },
    {
     "name": "stdout",
     "output_type": "stream",
     "text": [
      "[{\"label\": \"No Mask: 98.79%\", \"x\": \"231\", \"y\": \"158\", \"x2\": \"414\", \"y2\": \"341\", \"mask\": \"0.012056312\", \"withoutMask\": \"0.98794365\"}, {\"label\": \"No Mask: 79.93%\", \"x\": \"294\", \"y\": \"331\", \"x2\": \"359\", \"y2\": \"396\", \"mask\": \"0.2006599\", \"withoutMask\": \"0.79934007\"}]\n"
     ]
    },
    {
     "name": "stderr",
     "output_type": "stream",
     "text": [
      "127.0.0.1 - - [31/Oct/2020 17:52:35] \"\u001b[37mPOST /api/test HTTP/1.1\u001b[0m\" 200 -\n"
     ]
    },
    {
     "name": "stdout",
     "output_type": "stream",
     "text": [
      "[{\"label\": \"No Mask: 97.98%\", \"x\": \"230\", \"y\": \"157\", \"x2\": \"415\", \"y2\": \"342\", \"mask\": \"0.020192247\", \"withoutMask\": \"0.97980773\"}]\n"
     ]
    },
    {
     "name": "stderr",
     "output_type": "stream",
     "text": [
      "127.0.0.1 - - [31/Oct/2020 17:52:35] \"\u001b[37mPOST /api/test HTTP/1.1\u001b[0m\" 200 -\n"
     ]
    },
    {
     "name": "stdout",
     "output_type": "stream",
     "text": [
      "[{\"label\": \"No Mask: 97.86%\", \"x\": \"227\", \"y\": \"157\", \"x2\": \"416\", \"y2\": \"346\", \"mask\": \"0.021380665\", \"withoutMask\": \"0.9786194\"}]\n"
     ]
    },
    {
     "name": "stderr",
     "output_type": "stream",
     "text": [
      "127.0.0.1 - - [31/Oct/2020 17:52:36] \"\u001b[37mPOST /api/test HTTP/1.1\u001b[0m\" 200 -\n"
     ]
    },
    {
     "name": "stdout",
     "output_type": "stream",
     "text": [
      "[{\"label\": \"No Mask: 98.90%\", \"x\": \"226\", \"y\": \"156\", \"x2\": \"416\", \"y2\": \"346\", \"mask\": \"0.010969144\", \"withoutMask\": \"0.9890309\"}]\n"
     ]
    },
    {
     "name": "stderr",
     "output_type": "stream",
     "text": [
      "127.0.0.1 - - [31/Oct/2020 17:52:36] \"\u001b[37mPOST /api/test HTTP/1.1\u001b[0m\" 200 -\n"
     ]
    },
    {
     "name": "stdout",
     "output_type": "stream",
     "text": [
      "[{\"label\": \"No Mask: 99.22%\", \"x\": \"227\", \"y\": \"154\", \"x2\": \"411\", \"y2\": \"338\", \"mask\": \"0.007823199\", \"withoutMask\": \"0.99217683\"}]\n"
     ]
    },
    {
     "name": "stderr",
     "output_type": "stream",
     "text": [
      "127.0.0.1 - - [31/Oct/2020 17:52:36] \"\u001b[37mPOST /api/test HTTP/1.1\u001b[0m\" 200 -\n"
     ]
    },
    {
     "name": "stdout",
     "output_type": "stream",
     "text": [
      "[{\"label\": \"No Mask: 99.84%\", \"x\": \"231\", \"y\": \"157\", \"x2\": \"411\", \"y2\": \"337\", \"mask\": \"0.00160408\", \"withoutMask\": \"0.99839586\"}]\n"
     ]
    },
    {
     "name": "stderr",
     "output_type": "stream",
     "text": [
      "127.0.0.1 - - [31/Oct/2020 17:52:36] \"\u001b[37mPOST /api/test HTTP/1.1\u001b[0m\" 200 -\n"
     ]
    },
    {
     "name": "stdout",
     "output_type": "stream",
     "text": [
      "[{\"label\": \"No Mask: 99.12%\", \"x\": \"229\", \"y\": \"158\", \"x2\": \"408\", \"y2\": \"337\", \"mask\": \"0.008800775\", \"withoutMask\": \"0.9911992\"}]\n"
     ]
    },
    {
     "name": "stderr",
     "output_type": "stream",
     "text": [
      "127.0.0.1 - - [31/Oct/2020 17:52:37] \"\u001b[37mPOST /api/test HTTP/1.1\u001b[0m\" 200 -\n"
     ]
    },
    {
     "name": "stdout",
     "output_type": "stream",
     "text": [
      "[{\"label\": \"No Mask: 99.54%\", \"x\": \"230\", \"y\": \"159\", \"x2\": \"412\", \"y2\": \"341\", \"mask\": \"0.0046269833\", \"withoutMask\": \"0.9953731\"}]\n"
     ]
    },
    {
     "name": "stderr",
     "output_type": "stream",
     "text": [
      "127.0.0.1 - - [31/Oct/2020 17:52:37] \"\u001b[37mPOST /api/test HTTP/1.1\u001b[0m\" 200 -\n"
     ]
    },
    {
     "name": "stdout",
     "output_type": "stream",
     "text": [
      "[{\"label\": \"No Mask: 93.79%\", \"x\": \"232\", \"y\": \"160\", \"x2\": \"412\", \"y2\": \"340\", \"mask\": \"0.062118158\", \"withoutMask\": \"0.93788177\"}]\n"
     ]
    },
    {
     "name": "stderr",
     "output_type": "stream",
     "text": [
      "127.0.0.1 - - [31/Oct/2020 17:52:37] \"\u001b[37mPOST /api/test HTTP/1.1\u001b[0m\" 200 -\n"
     ]
    },
    {
     "name": "stdout",
     "output_type": "stream",
     "text": [
      "[{\"label\": \"No Mask: 99.98%\", \"x\": \"232\", \"y\": \"156\", \"x2\": \"414\", \"y2\": \"338\", \"mask\": \"0.00019242281\", \"withoutMask\": \"0.99980766\"}]\n"
     ]
    },
    {
     "name": "stderr",
     "output_type": "stream",
     "text": [
      "127.0.0.1 - - [31/Oct/2020 17:52:37] \"\u001b[37mPOST /api/test HTTP/1.1\u001b[0m\" 200 -\n"
     ]
    },
    {
     "name": "stdout",
     "output_type": "stream",
     "text": [
      "[{\"label\": \"No Mask: 99.76%\", \"x\": \"231\", \"y\": \"156\", \"x2\": \"417\", \"y2\": \"342\", \"mask\": \"0.0023538554\", \"withoutMask\": \"0.99764615\"}]\n"
     ]
    },
    {
     "name": "stderr",
     "output_type": "stream",
     "text": [
      "127.0.0.1 - - [31/Oct/2020 17:52:38] \"\u001b[37mPOST /api/test HTTP/1.1\u001b[0m\" 200 -\n"
     ]
    },
    {
     "name": "stdout",
     "output_type": "stream",
     "text": [
      "[{\"label\": \"No Mask: 99.95%\", \"x\": \"232\", \"y\": \"157\", \"x2\": \"415\", \"y2\": \"340\", \"mask\": \"0.00047484954\", \"withoutMask\": \"0.9995252\"}]\n"
     ]
    },
    {
     "name": "stderr",
     "output_type": "stream",
     "text": [
      "127.0.0.1 - - [31/Oct/2020 17:52:38] \"\u001b[37mPOST /api/test HTTP/1.1\u001b[0m\" 200 -\n"
     ]
    },
    {
     "name": "stdout",
     "output_type": "stream",
     "text": [
      "[{\"label\": \"No Mask: 99.15%\", \"x\": \"232\", \"y\": \"159\", \"x2\": \"413\", \"y2\": \"340\", \"mask\": \"0.008481164\", \"withoutMask\": \"0.9915188\"}]\n"
     ]
    },
    {
     "name": "stderr",
     "output_type": "stream",
     "text": [
      "127.0.0.1 - - [31/Oct/2020 17:52:38] \"\u001b[37mPOST /api/test HTTP/1.1\u001b[0m\" 200 -\n"
     ]
    },
    {
     "name": "stdout",
     "output_type": "stream",
     "text": [
      "[{\"label\": \"No Mask: 99.67%\", \"x\": \"234\", \"y\": \"159\", \"x2\": \"416\", \"y2\": \"341\", \"mask\": \"0.0032839784\", \"withoutMask\": \"0.996716\"}]\n"
     ]
    },
    {
     "name": "stderr",
     "output_type": "stream",
     "text": [
      "127.0.0.1 - - [31/Oct/2020 17:52:38] \"\u001b[37mPOST /api/test HTTP/1.1\u001b[0m\" 200 -\n"
     ]
    },
    {
     "name": "stdout",
     "output_type": "stream",
     "text": [
      "[{\"label\": \"No Mask: 99.78%\", \"x\": \"234\", \"y\": \"159\", \"x2\": \"415\", \"y2\": \"340\", \"mask\": \"0.0022086063\", \"withoutMask\": \"0.9977914\"}]\n"
     ]
    },
    {
     "name": "stderr",
     "output_type": "stream",
     "text": [
      "127.0.0.1 - - [31/Oct/2020 17:52:39] \"\u001b[37mPOST /api/test HTTP/1.1\u001b[0m\" 200 -\n"
     ]
    },
    {
     "name": "stdout",
     "output_type": "stream",
     "text": [
      "[{\"label\": \"No Mask: 99.88%\", \"x\": \"238\", \"y\": \"157\", \"x2\": \"422\", \"y2\": \"341\", \"mask\": \"0.0012360929\", \"withoutMask\": \"0.9987639\"}, {\"label\": \"No Mask: 89.97%\", \"x\": \"484\", \"y\": \"230\", \"x2\": \"511\", \"y2\": \"257\", \"mask\": \"0.100296125\", \"withoutMask\": \"0.8997039\"}]\n"
     ]
    },
    {
     "name": "stderr",
     "output_type": "stream",
     "text": [
      "127.0.0.1 - - [31/Oct/2020 17:52:39] \"\u001b[37mPOST /api/test HTTP/1.1\u001b[0m\" 200 -\n"
     ]
    },
    {
     "name": "stdout",
     "output_type": "stream",
     "text": [
      "[{\"label\": \"No Mask: 75.81%\", \"x\": \"254\", \"y\": \"152\", \"x2\": \"449\", \"y2\": \"347\", \"mask\": \"0.24191813\", \"withoutMask\": \"0.75808185\"}]\n"
     ]
    },
    {
     "name": "stderr",
     "output_type": "stream",
     "text": [
      "127.0.0.1 - - [31/Oct/2020 17:52:39] \"\u001b[37mPOST /api/test HTTP/1.1\u001b[0m\" 200 -\n"
     ]
    },
    {
     "name": "stdout",
     "output_type": "stream",
     "text": [
      "[{\"label\": \"No Mask: 81.89%\", \"x\": \"261\", \"y\": \"145\", \"x2\": \"465\", \"y2\": \"349\", \"mask\": \"0.18105598\", \"withoutMask\": \"0.818944\"}]\n"
     ]
    },
    {
     "name": "stderr",
     "output_type": "stream",
     "text": [
      "127.0.0.1 - - [31/Oct/2020 17:52:39] \"\u001b[37mPOST /api/test HTTP/1.1\u001b[0m\" 200 -\n"
     ]
    },
    {
     "name": "stdout",
     "output_type": "stream",
     "text": [
      "[{\"label\": \"No Mask: 79.45%\", \"x\": \"262\", \"y\": \"152\", \"x2\": \"455\", \"y2\": \"345\", \"mask\": \"0.20550768\", \"withoutMask\": \"0.7944923\"}]\n"
     ]
    },
    {
     "name": "stderr",
     "output_type": "stream",
     "text": [
      "127.0.0.1 - - [31/Oct/2020 17:52:40] \"\u001b[37mPOST /api/test HTTP/1.1\u001b[0m\" 200 -\n"
     ]
    },
    {
     "name": "stdout",
     "output_type": "stream",
     "text": [
      "[{\"label\": \"No Mask: 92.03%\", \"x\": \"255\", \"y\": \"155\", \"x2\": \"444\", \"y2\": \"344\", \"mask\": \"0.079675585\", \"withoutMask\": \"0.92032444\"}]\n"
     ]
    },
    {
     "name": "stderr",
     "output_type": "stream",
     "text": [
      "127.0.0.1 - - [31/Oct/2020 17:52:40] \"\u001b[37mPOST /api/test HTTP/1.1\u001b[0m\" 200 -\n"
     ]
    },
    {
     "name": "stdout",
     "output_type": "stream",
     "text": [
      "[{\"label\": \"No Mask: 79.75%\", \"x\": \"251\", \"y\": \"151\", \"x2\": \"440\", \"y2\": \"340\", \"mask\": \"0.20254456\", \"withoutMask\": \"0.7974555\"}]\n"
     ]
    },
    {
     "name": "stderr",
     "output_type": "stream",
     "text": [
      "127.0.0.1 - - [31/Oct/2020 17:52:40] \"\u001b[37mPOST /api/test HTTP/1.1\u001b[0m\" 200 -\n"
     ]
    },
    {
     "name": "stdout",
     "output_type": "stream",
     "text": [
      "[{\"label\": \"No Mask: 94.43%\", \"x\": \"246\", \"y\": \"149\", \"x2\": \"442\", \"y2\": \"345\", \"mask\": \"0.0557238\", \"withoutMask\": \"0.9442762\"}]\n"
     ]
    },
    {
     "name": "stderr",
     "output_type": "stream",
     "text": [
      "127.0.0.1 - - [31/Oct/2020 17:52:40] \"\u001b[37mPOST /api/test HTTP/1.1\u001b[0m\" 200 -\n"
     ]
    },
    {
     "name": "stdout",
     "output_type": "stream",
     "text": [
      "[{\"label\": \"No Mask: 95.67%\", \"x\": \"253\", \"y\": \"151\", \"x2\": \"442\", \"y2\": \"340\", \"mask\": \"0.04333566\", \"withoutMask\": \"0.9566643\"}]\n"
     ]
    },
    {
     "name": "stderr",
     "output_type": "stream",
     "text": [
      "127.0.0.1 - - [31/Oct/2020 17:52:40] \"\u001b[37mPOST /api/test HTTP/1.1\u001b[0m\" 200 -\n"
     ]
    },
    {
     "name": "stdout",
     "output_type": "stream",
     "text": [
      "[{\"label\": \"No Mask: 94.11%\", \"x\": \"252\", \"y\": \"152\", \"x2\": \"443\", \"y2\": \"343\", \"mask\": \"0.058935802\", \"withoutMask\": \"0.94106424\"}]\n"
     ]
    },
    {
     "name": "stderr",
     "output_type": "stream",
     "text": [
      "127.0.0.1 - - [31/Oct/2020 17:52:41] \"\u001b[37mPOST /api/test HTTP/1.1\u001b[0m\" 200 -\n"
     ]
    },
    {
     "name": "stdout",
     "output_type": "stream",
     "text": [
      "[{\"label\": \"No Mask: 77.34%\", \"x\": \"255\", \"y\": \"154\", \"x2\": \"441\", \"y2\": \"340\", \"mask\": \"0.22656922\", \"withoutMask\": \"0.7734307\"}]\n",
      "[{\"label\": \"No Mask: 82.69%\", \"x\": \"254\", \"y\": \"153\", \"x2\": \"445\", \"y2\": \"344\", \"mask\": \"0.17310986\", \"withoutMask\": \"0.8268902\"}]"
     ]
    },
    {
     "name": "stderr",
     "output_type": "stream",
     "text": [
      "127.0.0.1 - - [31/Oct/2020 17:52:41] \"\u001b[37mPOST /api/test HTTP/1.1\u001b[0m\" 200 -\n"
     ]
    },
    {
     "name": "stdout",
     "output_type": "stream",
     "text": [
      "\n"
     ]
    },
    {
     "name": "stderr",
     "output_type": "stream",
     "text": [
      "127.0.0.1 - - [31/Oct/2020 17:52:41] \"\u001b[37mPOST /api/test HTTP/1.1\u001b[0m\" 200 -\n"
     ]
    },
    {
     "name": "stdout",
     "output_type": "stream",
     "text": [
      "[{\"label\": \"No Mask: 58.43%\", \"x\": \"256\", \"y\": \"154\", \"x2\": \"445\", \"y2\": \"343\", \"mask\": \"0.41566968\", \"withoutMask\": \"0.58433026\"}]\n"
     ]
    },
    {
     "name": "stderr",
     "output_type": "stream",
     "text": [
      "127.0.0.1 - - [31/Oct/2020 17:52:41] \"\u001b[37mPOST /api/test HTTP/1.1\u001b[0m\" 200 -\n"
     ]
    },
    {
     "name": "stdout",
     "output_type": "stream",
     "text": [
      "[{\"label\": \"No Mask: 92.78%\", \"x\": \"255\", \"y\": \"154\", \"x2\": \"446\", \"y2\": \"345\", \"mask\": \"0.072228745\", \"withoutMask\": \"0.9277713\"}]\n"
     ]
    },
    {
     "name": "stderr",
     "output_type": "stream",
     "text": [
      "127.0.0.1 - - [31/Oct/2020 17:52:42] \"\u001b[37mPOST /api/test HTTP/1.1\u001b[0m\" 200 -\n"
     ]
    },
    {
     "name": "stdout",
     "output_type": "stream",
     "text": [
      "[{\"label\": \"No Mask: 85.04%\", \"x\": \"257\", \"y\": \"155\", \"x2\": \"442\", \"y2\": \"340\", \"mask\": \"0.14956565\", \"withoutMask\": \"0.85043436\"}]\n"
     ]
    },
    {
     "name": "stderr",
     "output_type": "stream",
     "text": [
      "127.0.0.1 - - [31/Oct/2020 17:52:42] \"\u001b[37mPOST /api/test HTTP/1.1\u001b[0m\" 200 -\n"
     ]
    },
    {
     "name": "stdout",
     "output_type": "stream",
     "text": [
      "[{\"label\": \"No Mask: 93.78%\", \"x\": \"256\", \"y\": \"146\", \"x2\": \"448\", \"y2\": \"338\", \"mask\": \"0.062164962\", \"withoutMask\": \"0.93783504\"}]\n"
     ]
    },
    {
     "name": "stderr",
     "output_type": "stream",
     "text": [
      "127.0.0.1 - - [31/Oct/2020 17:52:42] \"\u001b[37mPOST /api/test HTTP/1.1\u001b[0m\" 200 -\n"
     ]
    },
    {
     "name": "stdout",
     "output_type": "stream",
     "text": [
      "[{\"label\": \"No Mask: 98.14%\", \"x\": \"257\", \"y\": \"145\", \"x2\": \"451\", \"y2\": \"339\", \"mask\": \"0.018570736\", \"withoutMask\": \"0.9814293\"}]\n"
     ]
    },
    {
     "name": "stderr",
     "output_type": "stream",
     "text": [
      "127.0.0.1 - - [31/Oct/2020 17:52:42] \"\u001b[37mPOST /api/test HTTP/1.1\u001b[0m\" 200 -\n"
     ]
    },
    {
     "name": "stdout",
     "output_type": "stream",
     "text": [
      "[{\"label\": \"Mask: 53.66%\", \"x\": \"151\", \"y\": \"379\", \"x2\": \"181\", \"y2\": \"409\", \"mask\": \"0.5366216\", \"withoutMask\": \"0.46337846\"}, {\"label\": \"No Mask: 95.22%\", \"x\": \"253\", \"y\": \"145\", \"x2\": \"451\", \"y2\": \"343\", \"mask\": \"0.04775505\", \"withoutMask\": \"0.952245\"}]\n"
     ]
    },
    {
     "name": "stderr",
     "output_type": "stream",
     "text": [
      "127.0.0.1 - - [31/Oct/2020 17:52:43] \"\u001b[37mPOST /api/test HTTP/1.1\u001b[0m\" 200 -\n"
     ]
    },
    {
     "name": "stdout",
     "output_type": "stream",
     "text": [
      "[{\"label\": \"No Mask: 85.95%\", \"x\": \"251\", \"y\": \"143\", \"x2\": \"452\", \"y2\": \"344\", \"mask\": \"0.14052969\", \"withoutMask\": \"0.8594703\"}]\n"
     ]
    },
    {
     "name": "stderr",
     "output_type": "stream",
     "text": [
      "127.0.0.1 - - [31/Oct/2020 17:52:43] \"\u001b[37mPOST /api/test HTTP/1.1\u001b[0m\" 200 -\n"
     ]
    },
    {
     "name": "stdout",
     "output_type": "stream",
     "text": [
      "[{\"label\": \"No Mask: 96.44%\", \"x\": \"256\", \"y\": \"147\", \"x2\": \"446\", \"y2\": \"337\", \"mask\": \"0.035616383\", \"withoutMask\": \"0.9643836\"}]\n"
     ]
    },
    {
     "name": "stderr",
     "output_type": "stream",
     "text": [
      "127.0.0.1 - - [31/Oct/2020 17:52:43] \"\u001b[37mPOST /api/test HTTP/1.1\u001b[0m\" 200 -\n"
     ]
    },
    {
     "name": "stdout",
     "output_type": "stream",
     "text": [
      "[{\"label\": \"No Mask: 81.16%\", \"x\": \"254\", \"y\": \"142\", \"x2\": \"445\", \"y2\": \"333\", \"mask\": \"0.1883697\", \"withoutMask\": \"0.8116303\"}]\n"
     ]
    },
    {
     "name": "stderr",
     "output_type": "stream",
     "text": [
      "127.0.0.1 - - [31/Oct/2020 17:52:43] \"\u001b[37mPOST /api/test HTTP/1.1\u001b[0m\" 200 -\n"
     ]
    },
    {
     "name": "stdout",
     "output_type": "stream",
     "text": [
      "[{\"label\": \"No Mask: 80.04%\", \"x\": \"254\", \"y\": \"144\", \"x2\": \"443\", \"y2\": \"333\", \"mask\": \"0.19961521\", \"withoutMask\": \"0.80038476\"}]\n"
     ]
    },
    {
     "name": "stderr",
     "output_type": "stream",
     "text": [
      "127.0.0.1 - - [31/Oct/2020 17:52:44] \"\u001b[37mPOST /api/test HTTP/1.1\u001b[0m\" 200 -\n"
     ]
    },
    {
     "name": "stdout",
     "output_type": "stream",
     "text": [
      "[{\"label\": \"No Mask: 95.81%\", \"x\": \"257\", \"y\": \"143\", \"x2\": \"449\", \"y2\": \"335\", \"mask\": \"0.04187779\", \"withoutMask\": \"0.9581222\"}]\n"
     ]
    },
    {
     "name": "stderr",
     "output_type": "stream",
     "text": [
      "127.0.0.1 - - [31/Oct/2020 17:52:44] \"\u001b[37mPOST /api/test HTTP/1.1\u001b[0m\" 200 -\n"
     ]
    },
    {
     "name": "stdout",
     "output_type": "stream",
     "text": [
      "[{\"label\": \"No Mask: 92.10%\", \"x\": \"259\", \"y\": \"142\", \"x2\": \"455\", \"y2\": \"338\", \"mask\": \"0.0790304\", \"withoutMask\": \"0.92096955\"}]\n"
     ]
    },
    {
     "name": "stderr",
     "output_type": "stream",
     "text": [
      "127.0.0.1 - - [31/Oct/2020 17:52:44] \"\u001b[37mPOST /api/test HTTP/1.1\u001b[0m\" 200 -\n"
     ]
    },
    {
     "name": "stdout",
     "output_type": "stream",
     "text": [
      "[{\"label\": \"No Mask: 99.21%\", \"x\": \"257\", \"y\": \"144\", \"x2\": \"454\", \"y2\": \"341\", \"mask\": \"0.007941299\", \"withoutMask\": \"0.9920587\"}]\n"
     ]
    },
    {
     "name": "stderr",
     "output_type": "stream",
     "text": [
      "127.0.0.1 - - [31/Oct/2020 17:52:44] \"\u001b[37mPOST /api/test HTTP/1.1\u001b[0m\" 200 -\n"
     ]
    },
    {
     "name": "stdout",
     "output_type": "stream",
     "text": [
      "[{\"label\": \"No Mask: 97.38%\", \"x\": \"256\", \"y\": \"141\", \"x2\": \"455\", \"y2\": \"340\", \"mask\": \"0.026174085\", \"withoutMask\": \"0.9738259\"}]\n"
     ]
    },
    {
     "name": "stderr",
     "output_type": "stream",
     "text": [
      "127.0.0.1 - - [31/Oct/2020 17:52:44] \"\u001b[37mPOST /api/test HTTP/1.1\u001b[0m\" 200 -\n"
     ]
    },
    {
     "name": "stdout",
     "output_type": "stream",
     "text": [
      "[{\"label\": \"No Mask: 99.13%\", \"x\": \"254\", \"y\": \"140\", \"x2\": \"455\", \"y2\": \"341\", \"mask\": \"0.008663994\", \"withoutMask\": \"0.991336\"}]\n"
     ]
    },
    {
     "name": "stderr",
     "output_type": "stream",
     "text": [
      "127.0.0.1 - - [31/Oct/2020 17:52:45] \"\u001b[37mPOST /api/test HTTP/1.1\u001b[0m\" 200 -\n"
     ]
    },
    {
     "name": "stdout",
     "output_type": "stream",
     "text": [
      "[{\"label\": \"No Mask: 97.58%\", \"x\": \"256\", \"y\": \"142\", \"x2\": \"453\", \"y2\": \"339\", \"mask\": \"0.024208974\", \"withoutMask\": \"0.97579104\"}]\n"
     ]
    }
   ],
   "source": [
    "app = Flask(__name__)\n",
    " \n",
    "classifier = CascadeClassifier('haarcascade_frontalface_default.xml')\n",
    "m = models.load_model(\"face_mask_model.h5\")  \n",
    "    \n",
    "@app.route('/api/test', methods=['POST'])\n",
    "def draw_image_with_boxes():\n",
    "    # load the image\n",
    "    r = request\n",
    "    #print(len(r.data))\n",
    "    # convert string of image data to uint8\n",
    "    nparr = np.frombuffer(r.data, np.uint8)\n",
    "    # decode image\n",
    "    frame = cv2.imdecode(nparr, cv2.IMREAD_COLOR)\n",
    "    # perform face detection\n",
    "    bboxes = classifier.detectMultiScale(frame)\n",
    "    reslist = []\n",
    "    for box in bboxes:\n",
    "        x, y, width, height = box\n",
    "        x2, y2 = x + width, y + height\n",
    "        # draw a rectangle over the pixels\n",
    "        face = frame[y:y2, x:x2]\n",
    "        face = cv2.resize(face, (224, 224))\n",
    "        face = img_to_array(face)\n",
    "        face = preprocess_input(face)\n",
    "        face = np.expand_dims(face, axis=0)\n",
    "        (mask, withoutMask) = m.predict(face)[0]\n",
    "        label = \"Mask\" if mask > withoutMask else \"No Mask\"\n",
    "        color = (0, 255, 0) if label == \"Mask\" else (0, 0, 255)\n",
    "        # include the probability in the label\n",
    "        label = \"{}: {:.2f}%\".format(label, max(mask, withoutMask) * 100)\n",
    "        # display the label and bounding box rectangle on the output\n",
    "        # frame\n",
    "        #cv2.putText(frame, label, (x, y - 10),\n",
    "        #    cv2.FONT_HERSHEY_SIMPLEX, 0.45, color, 2)\n",
    "        res = {'label':str(label),'x':str(x),'y':str(y),'x2':str(x2),'y2':str(y2),'mask':str(mask),'withoutMask':str(withoutMask)}\n",
    "        reslist.append(res)\n",
    "    \n",
    "    jsonres = json.dumps(reslist)\n",
    "    print(jsonres)\n",
    "    return Response(response=jsonres, status=200, mimetype=\"application/json\")\n",
    " \n",
    "if __name__ == \"__main__\":\n",
    "    app.run(host='0.0.0.0')"
   ]
  },
  {
   "cell_type": "code",
   "execution_count": 3,
   "metadata": {},
   "outputs": [
    {
     "name": "stdout",
     "output_type": "stream",
     "text": [
      " * Serving Flask app \"__main__\" (lazy loading)\n",
      " * Environment: production\n",
      "   WARNING: Do not use the development server in a production environment.\n",
      "   Use a production WSGI server instead.\n",
      " * Debug mode: off\n"
     ]
    },
    {
     "name": "stderr",
     "output_type": "stream",
     "text": [
      " * Running on http://0.0.0.0:5000/ (Press CTRL+C to quit)\n",
      "127.0.0.1 - - [27/Oct/2020 20:32:57] \"\u001b[37mPOST /api/test HTTP/1.1\u001b[0m\" 200 -\n"
     ]
    },
    {
     "name": "stdout",
     "output_type": "stream",
     "text": [
      "[{\"label\": \"No Mask: 65.81%\", \"x\": \"149\", \"y\": \"4\", \"x2\": \"306\", \"y2\": \"161\", \"mask\": \"0.34186333\", \"withoutMask\": \"0.6581366\"}]\n"
     ]
    },
    {
     "name": "stderr",
     "output_type": "stream",
     "text": [
      "127.0.0.1 - - [27/Oct/2020 20:32:58] \"\u001b[37mPOST /api/test HTTP/1.1\u001b[0m\" 200 -\n"
     ]
    },
    {
     "name": "stdout",
     "output_type": "stream",
     "text": [
      "[{\"label\": \"No Mask: 96.96%\", \"x\": \"143\", \"y\": \"2\", \"x2\": \"301\", \"y2\": \"160\", \"mask\": \"0.030350253\", \"withoutMask\": \"0.9696498\"}]\n"
     ]
    },
    {
     "name": "stderr",
     "output_type": "stream",
     "text": [
      "127.0.0.1 - - [27/Oct/2020 20:32:58] \"\u001b[37mPOST /api/test HTTP/1.1\u001b[0m\" 200 -\n"
     ]
    },
    {
     "name": "stdout",
     "output_type": "stream",
     "text": [
      "[{\"label\": \"Mask: 68.52%\", \"x\": \"245\", \"y\": \"76\", \"x2\": \"295\", \"y2\": \"126\", \"mask\": \"0.68522185\", \"withoutMask\": \"0.31477812\"}]\n"
     ]
    },
    {
     "name": "stderr",
     "output_type": "stream",
     "text": [
      "127.0.0.1 - - [27/Oct/2020 20:32:59] \"\u001b[37mPOST /api/test HTTP/1.1\u001b[0m\" 200 -\n"
     ]
    },
    {
     "name": "stdout",
     "output_type": "stream",
     "text": [
      "[{\"label\": \"No Mask: 74.34%\", \"x\": \"151\", \"y\": \"1\", \"x2\": \"304\", \"y2\": \"154\", \"mask\": \"0.25663027\", \"withoutMask\": \"0.74336976\"}]\n",
      "[]"
     ]
    },
    {
     "name": "stderr",
     "output_type": "stream",
     "text": [
      "127.0.0.1 - - [27/Oct/2020 20:32:59] \"\u001b[37mPOST /api/test HTTP/1.1\u001b[0m\" 200 -\n"
     ]
    },
    {
     "name": "stdout",
     "output_type": "stream",
     "text": [
      "\n"
     ]
    },
    {
     "name": "stderr",
     "output_type": "stream",
     "text": [
      "127.0.0.1 - - [27/Oct/2020 20:32:59] \"\u001b[37mPOST /api/test HTTP/1.1\u001b[0m\" 200 -\n",
      "127.0.0.1 - - [27/Oct/2020 20:33:00] \"\u001b[37mPOST /api/test HTTP/1.1\u001b[0m\" 200 -\n"
     ]
    },
    {
     "name": "stdout",
     "output_type": "stream",
     "text": [
      "[{\"label\": \"No Mask: 99.06%\", \"x\": \"149\", \"y\": \"3\", \"x2\": \"304\", \"y2\": \"158\", \"mask\": \"0.009427246\", \"withoutMask\": \"0.99057275\"}]\n",
      "[]\n"
     ]
    },
    {
     "name": "stderr",
     "output_type": "stream",
     "text": [
      "127.0.0.1 - - [27/Oct/2020 20:33:00] \"\u001b[37mPOST /api/test HTTP/1.1\u001b[0m\" 200 -\n",
      "127.0.0.1 - - [27/Oct/2020 20:33:00] \"\u001b[37mPOST /api/test HTTP/1.1\u001b[0m\" 200 -\n"
     ]
    },
    {
     "name": "stdout",
     "output_type": "stream",
     "text": [
      "[]\n",
      "[]\n"
     ]
    },
    {
     "name": "stderr",
     "output_type": "stream",
     "text": [
      "127.0.0.1 - - [27/Oct/2020 20:33:00] \"\u001b[37mPOST /api/test HTTP/1.1\u001b[0m\" 200 -\n",
      "127.0.0.1 - - [27/Oct/2020 20:33:00] \"\u001b[37mPOST /api/test HTTP/1.1\u001b[0m\" 200 -\n"
     ]
    },
    {
     "name": "stdout",
     "output_type": "stream",
     "text": [
      "[{\"label\": \"No Mask: 70.26%\", \"x\": \"149\", \"y\": \"1\", \"x2\": \"302\", \"y2\": \"154\", \"mask\": \"0.29736105\", \"withoutMask\": \"0.702639\"}]\n",
      "[]\n"
     ]
    },
    {
     "name": "stderr",
     "output_type": "stream",
     "text": [
      "127.0.0.1 - - [27/Oct/2020 20:33:00] \"\u001b[37mPOST /api/test HTTP/1.1\u001b[0m\" 200 -\n"
     ]
    },
    {
     "name": "stdout",
     "output_type": "stream",
     "text": [
      "[]\n"
     ]
    },
    {
     "name": "stderr",
     "output_type": "stream",
     "text": [
      "127.0.0.1 - - [27/Oct/2020 20:33:01] \"\u001b[37mPOST /api/test HTTP/1.1\u001b[0m\" 200 -\n"
     ]
    },
    {
     "name": "stdout",
     "output_type": "stream",
     "text": [
      "[{\"label\": \"No Mask: 91.44%\", \"x\": \"145\", \"y\": \"2\", \"x2\": \"303\", \"y2\": \"160\", \"mask\": \"0.0856127\", \"withoutMask\": \"0.9143873\"}]\n"
     ]
    },
    {
     "name": "stderr",
     "output_type": "stream",
     "text": [
      "127.0.0.1 - - [27/Oct/2020 20:33:01] \"\u001b[37mPOST /api/test HTTP/1.1\u001b[0m\" 200 -\n",
      "127.0.0.1 - - [27/Oct/2020 20:33:01] \"\u001b[37mPOST /api/test HTTP/1.1\u001b[0m\" 200 -\n"
     ]
    },
    {
     "name": "stdout",
     "output_type": "stream",
     "text": [
      "[{\"label\": \"No Mask: 99.42%\", \"x\": \"143\", \"y\": \"3\", \"x2\": \"302\", \"y2\": \"162\", \"mask\": \"0.005830978\", \"withoutMask\": \"0.994169\"}]\n",
      "[]\n"
     ]
    },
    {
     "name": "stderr",
     "output_type": "stream",
     "text": [
      "127.0.0.1 - - [27/Oct/2020 20:33:01] \"\u001b[37mPOST /api/test HTTP/1.1\u001b[0m\" 200 -\n",
      "127.0.0.1 - - [27/Oct/2020 20:33:01] \"\u001b[37mPOST /api/test HTTP/1.1\u001b[0m\" 200 -\n"
     ]
    },
    {
     "name": "stdout",
     "output_type": "stream",
     "text": [
      "[]\n",
      "[]\n"
     ]
    },
    {
     "name": "stderr",
     "output_type": "stream",
     "text": [
      "127.0.0.1 - - [27/Oct/2020 20:33:02] \"\u001b[37mPOST /api/test HTTP/1.1\u001b[0m\" 200 -\n"
     ]
    },
    {
     "name": "stdout",
     "output_type": "stream",
     "text": [
      "[{\"label\": \"No Mask: 85.37%\", \"x\": \"142\", \"y\": \"2\", \"x2\": \"304\", \"y2\": \"164\", \"mask\": \"0.1463368\", \"withoutMask\": \"0.8536632\"}]\n"
     ]
    },
    {
     "name": "stderr",
     "output_type": "stream",
     "text": [
      "127.0.0.1 - - [27/Oct/2020 20:33:02] \"\u001b[37mPOST /api/test HTTP/1.1\u001b[0m\" 200 -\n"
     ]
    },
    {
     "name": "stdout",
     "output_type": "stream",
     "text": [
      "[{\"label\": \"No Mask: 97.40%\", \"x\": \"150\", \"y\": \"4\", \"x2\": \"312\", \"y2\": \"166\", \"mask\": \"0.025972502\", \"withoutMask\": \"0.97402745\"}]\n",
      "[{\"label\": \"Mask: 66.22%\", \"x\": \"159\", \"y\": \"6\", \"x2\": \"336\", \"y2\": \"183\", \"mask\": \"0.6622488\", \"withoutMask\": \"0.3377512\"}]"
     ]
    },
    {
     "name": "stderr",
     "output_type": "stream",
     "text": [
      "127.0.0.1 - - [27/Oct/2020 20:33:02] \"\u001b[37mPOST /api/test HTTP/1.1\u001b[0m\" 200 -\n"
     ]
    },
    {
     "name": "stdout",
     "output_type": "stream",
     "text": [
      "\n"
     ]
    },
    {
     "name": "stderr",
     "output_type": "stream",
     "text": [
      "127.0.0.1 - - [27/Oct/2020 20:33:02] \"\u001b[37mPOST /api/test HTTP/1.1\u001b[0m\" 200 -\n"
     ]
    },
    {
     "name": "stdout",
     "output_type": "stream",
     "text": [
      "[{\"label\": \"No Mask: 92.84%\", \"x\": \"147\", \"y\": \"14\", \"x2\": \"359\", \"y2\": \"226\", \"mask\": \"0.0716371\", \"withoutMask\": \"0.92836285\"}]\n"
     ]
    },
    {
     "name": "stderr",
     "output_type": "stream",
     "text": [
      "127.0.0.1 - - [27/Oct/2020 20:33:03] \"\u001b[37mPOST /api/test HTTP/1.1\u001b[0m\" 200 -\n"
     ]
    },
    {
     "name": "stdout",
     "output_type": "stream",
     "text": [
      "[{\"label\": \"No Mask: 94.73%\", \"x\": \"141\", \"y\": \"33\", \"x2\": \"349\", \"y2\": \"241\", \"mask\": \"0.052734848\", \"withoutMask\": \"0.94726515\"}]\n"
     ]
    },
    {
     "name": "stderr",
     "output_type": "stream",
     "text": [
      "127.0.0.1 - - [27/Oct/2020 20:33:03] \"\u001b[37mPOST /api/test HTTP/1.1\u001b[0m\" 200 -\n"
     ]
    },
    {
     "name": "stdout",
     "output_type": "stream",
     "text": [
      "[{\"label\": \"No Mask: 93.30%\", \"x\": \"143\", \"y\": \"38\", \"x2\": \"346\", \"y2\": \"241\", \"mask\": \"0.067036234\", \"withoutMask\": \"0.93296385\"}]\n"
     ]
    },
    {
     "name": "stderr",
     "output_type": "stream",
     "text": [
      "127.0.0.1 - - [27/Oct/2020 20:33:03] \"\u001b[37mPOST /api/test HTTP/1.1\u001b[0m\" 200 -\n"
     ]
    },
    {
     "name": "stdout",
     "output_type": "stream",
     "text": [
      "[{\"label\": \"No Mask: 96.69%\", \"x\": \"140\", \"y\": \"35\", \"x2\": \"347\", \"y2\": \"242\", \"mask\": \"0.033078663\", \"withoutMask\": \"0.9669213\"}]\n"
     ]
    },
    {
     "name": "stderr",
     "output_type": "stream",
     "text": [
      "127.0.0.1 - - [27/Oct/2020 20:33:03] \"\u001b[37mPOST /api/test HTTP/1.1\u001b[0m\" 200 -\n"
     ]
    },
    {
     "name": "stdout",
     "output_type": "stream",
     "text": [
      "[{\"label\": \"No Mask: 99.82%\", \"x\": \"140\", \"y\": \"42\", \"x2\": \"338\", \"y2\": \"240\", \"mask\": \"0.0017844526\", \"withoutMask\": \"0.99821556\"}]\n"
     ]
    },
    {
     "name": "stderr",
     "output_type": "stream",
     "text": [
      "127.0.0.1 - - [27/Oct/2020 20:33:03] \"\u001b[37mPOST /api/test HTTP/1.1\u001b[0m\" 200 -\n"
     ]
    },
    {
     "name": "stdout",
     "output_type": "stream",
     "text": [
      "[{\"label\": \"No Mask: 98.78%\", \"x\": \"135\", \"y\": \"40\", \"x2\": \"334\", \"y2\": \"239\", \"mask\": \"0.012191227\", \"withoutMask\": \"0.9878087\"}]\n"
     ]
    },
    {
     "name": "stderr",
     "output_type": "stream",
     "text": [
      "127.0.0.1 - - [27/Oct/2020 20:33:04] \"\u001b[37mPOST /api/test HTTP/1.1\u001b[0m\" 200 -\n"
     ]
    },
    {
     "name": "stdout",
     "output_type": "stream",
     "text": [
      "[{\"label\": \"No Mask: 98.69%\", \"x\": \"135\", \"y\": \"44\", \"x2\": \"331\", \"y2\": \"240\", \"mask\": \"0.01305127\", \"withoutMask\": \"0.9869487\"}]\n"
     ]
    },
    {
     "name": "stderr",
     "output_type": "stream",
     "text": [
      "127.0.0.1 - - [27/Oct/2020 20:33:04] \"\u001b[37mPOST /api/test HTTP/1.1\u001b[0m\" 200 -\n"
     ]
    },
    {
     "name": "stdout",
     "output_type": "stream",
     "text": [
      "[{\"label\": \"Mask: 61.17%\", \"x\": \"133\", \"y\": \"42\", \"x2\": \"328\", \"y2\": \"237\", \"mask\": \"0.61173165\", \"withoutMask\": \"0.38826838\"}]\n"
     ]
    },
    {
     "name": "stderr",
     "output_type": "stream",
     "text": [
      "127.0.0.1 - - [27/Oct/2020 20:33:04] \"\u001b[37mPOST /api/test HTTP/1.1\u001b[0m\" 200 -\n"
     ]
    },
    {
     "name": "stdout",
     "output_type": "stream",
     "text": [
      "[{\"label\": \"No Mask: 55.32%\", \"x\": \"130\", \"y\": \"32\", \"x2\": \"326\", \"y2\": \"228\", \"mask\": \"0.44676274\", \"withoutMask\": \"0.55323726\"}]\n"
     ]
    },
    {
     "name": "stderr",
     "output_type": "stream",
     "text": [
      "127.0.0.1 - - [27/Oct/2020 20:33:04] \"\u001b[37mPOST /api/test HTTP/1.1\u001b[0m\" 200 -\n"
     ]
    },
    {
     "name": "stdout",
     "output_type": "stream",
     "text": [
      "[{\"label\": \"No Mask: 94.08%\", \"x\": \"128\", \"y\": \"27\", \"x2\": \"329\", \"y2\": \"228\", \"mask\": \"0.059192244\", \"withoutMask\": \"0.94080776\"}]\n"
     ]
    },
    {
     "name": "stderr",
     "output_type": "stream",
     "text": [
      "127.0.0.1 - - [27/Oct/2020 20:33:05] \"\u001b[37mPOST /api/test HTTP/1.1\u001b[0m\" 200 -\n"
     ]
    },
    {
     "name": "stdout",
     "output_type": "stream",
     "text": [
      "[{\"label\": \"No Mask: 59.88%\", \"x\": \"128\", \"y\": \"29\", \"x2\": \"325\", \"y2\": \"226\", \"mask\": \"0.40116692\", \"withoutMask\": \"0.5988331\"}]\n"
     ]
    },
    {
     "name": "stderr",
     "output_type": "stream",
     "text": [
      "127.0.0.1 - - [27/Oct/2020 20:33:05] \"\u001b[37mPOST /api/test HTTP/1.1\u001b[0m\" 200 -\n"
     ]
    },
    {
     "name": "stdout",
     "output_type": "stream",
     "text": [
      "[{\"label\": \"Mask: 58.10%\", \"x\": \"130\", \"y\": \"28\", \"x2\": \"324\", \"y2\": \"222\", \"mask\": \"0.5810026\", \"withoutMask\": \"0.4189974\"}]\n"
     ]
    },
    {
     "name": "stderr",
     "output_type": "stream",
     "text": [
      "127.0.0.1 - - [27/Oct/2020 20:33:05] \"\u001b[37mPOST /api/test HTTP/1.1\u001b[0m\" 200 -\n"
     ]
    },
    {
     "name": "stdout",
     "output_type": "stream",
     "text": [
      "[{\"label\": \"Mask: 62.37%\", \"x\": \"124\", \"y\": \"23\", \"x2\": \"325\", \"y2\": \"224\", \"mask\": \"0.6237051\", \"withoutMask\": \"0.37629488\"}]\n"
     ]
    },
    {
     "name": "stderr",
     "output_type": "stream",
     "text": [
      "127.0.0.1 - - [27/Oct/2020 20:33:05] \"\u001b[37mPOST /api/test HTTP/1.1\u001b[0m\" 200 -\n"
     ]
    },
    {
     "name": "stdout",
     "output_type": "stream",
     "text": [
      "[{\"label\": \"No Mask: 86.75%\", \"x\": \"128\", \"y\": \"24\", \"x2\": \"333\", \"y2\": \"229\", \"mask\": \"0.13248584\", \"withoutMask\": \"0.8675142\"}]\n"
     ]
    },
    {
     "name": "stderr",
     "output_type": "stream",
     "text": [
      "127.0.0.1 - - [27/Oct/2020 20:33:06] \"\u001b[37mPOST /api/test HTTP/1.1\u001b[0m\" 200 -\n"
     ]
    },
    {
     "name": "stdout",
     "output_type": "stream",
     "text": [
      "[{\"label\": \"No Mask: 93.38%\", \"x\": \"132\", \"y\": \"28\", \"x2\": \"333\", \"y2\": \"229\", \"mask\": \"0.06622933\", \"withoutMask\": \"0.93377066\"}]\n"
     ]
    },
    {
     "name": "stderr",
     "output_type": "stream",
     "text": [
      "127.0.0.1 - - [27/Oct/2020 20:33:06] \"\u001b[37mPOST /api/test HTTP/1.1\u001b[0m\" 200 -\n"
     ]
    },
    {
     "name": "stdout",
     "output_type": "stream",
     "text": [
      "[{\"label\": \"No Mask: 84.33%\", \"x\": \"130\", \"y\": \"23\", \"x2\": \"336\", \"y2\": \"229\", \"mask\": \"0.15673552\", \"withoutMask\": \"0.8432645\"}]\n"
     ]
    },
    {
     "name": "stderr",
     "output_type": "stream",
     "text": [
      "127.0.0.1 - - [27/Oct/2020 20:33:06] \"\u001b[37mPOST /api/test HTTP/1.1\u001b[0m\" 200 -\n"
     ]
    },
    {
     "name": "stdout",
     "output_type": "stream",
     "text": [
      "[{\"label\": \"No Mask: 66.20%\", \"x\": \"132\", \"y\": \"26\", \"x2\": \"334\", \"y2\": \"228\", \"mask\": \"0.33801806\", \"withoutMask\": \"0.66198194\"}]\n"
     ]
    },
    {
     "name": "stderr",
     "output_type": "stream",
     "text": [
      "127.0.0.1 - - [27/Oct/2020 20:33:06] \"\u001b[37mPOST /api/test HTTP/1.1\u001b[0m\" 200 -\n"
     ]
    },
    {
     "name": "stdout",
     "output_type": "stream",
     "text": [
      "[{\"label\": \"No Mask: 91.32%\", \"x\": \"136\", \"y\": \"27\", \"x2\": \"335\", \"y2\": \"226\", \"mask\": \"0.086822666\", \"withoutMask\": \"0.9131774\"}]\n"
     ]
    },
    {
     "name": "stderr",
     "output_type": "stream",
     "text": [
      "127.0.0.1 - - [27/Oct/2020 20:33:07] \"\u001b[37mPOST /api/test HTTP/1.1\u001b[0m\" 200 -\n"
     ]
    },
    {
     "name": "stdout",
     "output_type": "stream",
     "text": [
      "[{\"label\": \"No Mask: 81.50%\", \"x\": \"136\", \"y\": \"31\", \"x2\": \"333\", \"y2\": \"228\", \"mask\": \"0.18500805\", \"withoutMask\": \"0.81499195\"}]\n",
      "[{\"label\": \"Mask: 58.57%\", \"x\": \"138\", \"y\": \"34\", \"x2\": \"332\", \"y2\": \"228\", \"mask\": \"0.58567804\", \"withoutMask\": \"0.41432193\"}]"
     ]
    },
    {
     "name": "stderr",
     "output_type": "stream",
     "text": [
      "127.0.0.1 - - [27/Oct/2020 20:33:07] \"\u001b[37mPOST /api/test HTTP/1.1\u001b[0m\" 200 -\n"
     ]
    },
    {
     "name": "stdout",
     "output_type": "stream",
     "text": [
      "\n"
     ]
    },
    {
     "name": "stderr",
     "output_type": "stream",
     "text": [
      "127.0.0.1 - - [27/Oct/2020 20:33:07] \"\u001b[37mPOST /api/test HTTP/1.1\u001b[0m\" 200 -\n"
     ]
    },
    {
     "name": "stdout",
     "output_type": "stream",
     "text": [
      "[{\"label\": \"No Mask: 52.33%\", \"x\": \"137\", \"y\": \"34\", \"x2\": \"330\", \"y2\": \"227\", \"mask\": \"0.47674146\", \"withoutMask\": \"0.5232585\"}]\n"
     ]
    },
    {
     "name": "stderr",
     "output_type": "stream",
     "text": [
      "127.0.0.1 - - [27/Oct/2020 20:33:07] \"\u001b[37mPOST /api/test HTTP/1.1\u001b[0m\" 200 -\n"
     ]
    },
    {
     "name": "stdout",
     "output_type": "stream",
     "text": [
      "[{\"label\": \"Mask: 61.50%\", \"x\": \"130\", \"y\": \"25\", \"x2\": \"340\", \"y2\": \"235\", \"mask\": \"0.6150133\", \"withoutMask\": \"0.38498673\"}]\n"
     ]
    }
   ],
   "source": [
    "import cv2\n",
    "import numpy as np\n",
    "import tensorflow.keras.models as models\n",
    "from flask import Flask, request, Response\n",
    "from cv2 import CascadeClassifier\n",
    "from tensorflow.keras.preprocessing.image import img_to_array\n",
    "from tensorflow.keras.applications.mobilenet_v2 import preprocess_input\n",
    "import json\n",
    "\n",
    "server = Flask(__name__)\n",
    " \n",
    "classifier = CascadeClassifier('haarcascade_frontalface_default.xml')\n",
    "m = models.load_model(\"face_mask_model.h5\")  \n",
    "    \n",
    "@server.route('/api/test', methods=['POST'])\n",
    "def draw_image_with_boxes():\n",
    "    # load the image\n",
    "    r = request\n",
    "    #print(len(r.data))\n",
    "    # convert string of image data to uint8\n",
    "    nparr = np.frombuffer(r.data, np.uint8)\n",
    "    # decode image\n",
    "    frame = cv2.imdecode(nparr, cv2.IMREAD_COLOR)\n",
    "    # perform face detection\n",
    "    bboxes = classifier.detectMultiScale(frame)\n",
    "    reslist = []\n",
    "    for box in bboxes:\n",
    "        x, y, width, height = box\n",
    "        x2, y2 = x + width, y + height\n",
    "        # draw a rectangle over the pixels\n",
    "        face = frame[y:y2, x:x2]\n",
    "        face = cv2.resize(face, (224, 224))\n",
    "        face = img_to_array(face)\n",
    "        face = preprocess_input(face)\n",
    "        face = np.expand_dims(face, axis=0)\n",
    "        (mask, withoutMask) = m.predict(face)[0]\n",
    "        label = \"Mask\" if mask > withoutMask else \"No Mask\"\n",
    "        color = (0, 255, 0) if label == \"Mask\" else (0, 0, 255)\n",
    "        # include the probability in the label\n",
    "        label = \"{}: {:.2f}%\".format(label, max(mask, withoutMask) * 100)\n",
    "        # display the label and bounding box rectangle on the output\n",
    "        # frame\n",
    "        #cv2.putText(frame, label, (x, y - 10),\n",
    "        #    cv2.FONT_HERSHEY_SIMPLEX, 0.45, color, 2)\n",
    "        res = {'label':str(label),'x':str(x),'y':str(y),'x2':str(x2),'y2':str(y2),'mask':str(mask),'withoutMask':str(withoutMask)}\n",
    "        reslist.append(res)\n",
    "    \n",
    "    jsonres = json.dumps(reslist)\n",
    "    print(jsonres)\n",
    "    return Response(response=jsonres, status=200, mimetype=\"application/json\")\n",
    " \n",
    "@server.route(\"/hello\")\n",
    "def hello():\n",
    "    return \"Hello World!\"\n",
    "\n",
    "if __name__ == \"__main__\":\n",
    "    server.run(host='0.0.0.0')\n"
   ]
  }
 ],
 "metadata": {
  "kernelspec": {
   "display_name": "Python 3",
   "language": "python",
   "name": "python3"
  },
  "language_info": {
   "codemirror_mode": {
    "name": "ipython",
    "version": 3
   },
   "file_extension": ".py",
   "mimetype": "text/x-python",
   "name": "python",
   "nbconvert_exporter": "python",
   "pygments_lexer": "ipython3",
   "version": "3.7.1"
  }
 },
 "nbformat": 4,
 "nbformat_minor": 2
}
