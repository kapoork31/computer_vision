{
 "cells": [
  {
   "cell_type": "code",
   "execution_count": 1,
   "metadata": {},
   "outputs": [
    {
     "name": "stderr",
     "output_type": "stream",
     "text": [
      "Using TensorFlow backend.\n"
     ]
    }
   ],
   "source": [
    "from keras.optimizers import RMSprop\n",
    "from keras.preprocessing.image import ImageDataGenerator\n",
    "import cv2\n",
    "from keras.models import Sequential\n",
    "from keras.layers import Conv2D, Input, ZeroPadding2D, BatchNormalization, Activation, MaxPooling2D, Flatten, Dense,Dropout\n",
    "from keras.models import Model, load_model\n",
    "#from keras.callbacks import TensorBoard, ModelCheckpoint\n",
    "from sklearn.model_selection import train_test_split\n",
    "from sklearn.metrics import f1_score\n",
    "from sklearn.utils import shuffle\n",
    "import imutils\n",
    "import numpy as np\n",
    "import tensorflow.keras.models as models"
   ]
  },
  {
   "cell_type": "code",
   "execution_count": 2,
   "metadata": {},
   "outputs": [
    {
     "name": "stdout",
     "output_type": "stream",
     "text": [
      " * Serving Flask app \"__main__\" (lazy loading)\n",
      " * Environment: production\n",
      "   WARNING: Do not use the development server in a production environment.\n",
      "   Use a production WSGI server instead.\n",
      " * Debug mode: off\n"
     ]
    },
    {
     "name": "stderr",
     "output_type": "stream",
     "text": [
      " * Running on http://127.0.0.1:5000/ (Press CTRL+C to quit)\n",
      "127.0.0.1 - - [28/Sep/2020 22:25:23] \"\u001b[37mPOST /api/test HTTP/1.1\u001b[0m\" 200 -\n"
     ]
    },
    {
     "name": "stdout",
     "output_type": "stream",
     "text": [
      "[]\n"
     ]
    },
    {
     "name": "stderr",
     "output_type": "stream",
     "text": [
      "127.0.0.1 - - [28/Sep/2020 22:25:23] \"\u001b[37mPOST /api/test HTTP/1.1\u001b[0m\" 200 -\n",
      "127.0.0.1 - - [28/Sep/2020 22:25:23] \"\u001b[37mPOST /api/test HTTP/1.1\u001b[0m\" 200 -\n"
     ]
    },
    {
     "name": "stdout",
     "output_type": "stream",
     "text": [
      "[]\n",
      "[]\n"
     ]
    },
    {
     "name": "stderr",
     "output_type": "stream",
     "text": [
      "127.0.0.1 - - [28/Sep/2020 22:25:23] \"\u001b[37mPOST /api/test HTTP/1.1\u001b[0m\" 200 -\n",
      "127.0.0.1 - - [28/Sep/2020 22:25:23] \"\u001b[37mPOST /api/test HTTP/1.1\u001b[0m\" 200 -\n"
     ]
    },
    {
     "name": "stdout",
     "output_type": "stream",
     "text": [
      "[]\n",
      "[]\n"
     ]
    },
    {
     "name": "stderr",
     "output_type": "stream",
     "text": [
      "127.0.0.1 - - [28/Sep/2020 22:25:23] \"\u001b[37mPOST /api/test HTTP/1.1\u001b[0m\" 200 -\n",
      "127.0.0.1 - - [28/Sep/2020 22:25:24] \"\u001b[37mPOST /api/test HTTP/1.1\u001b[0m\" 200 -\n"
     ]
    },
    {
     "name": "stdout",
     "output_type": "stream",
     "text": [
      "[]\n",
      "[]\n"
     ]
    },
    {
     "name": "stderr",
     "output_type": "stream",
     "text": [
      "127.0.0.1 - - [28/Sep/2020 22:25:24] \"\u001b[37mPOST /api/test HTTP/1.1\u001b[0m\" 200 -\n"
     ]
    },
    {
     "name": "stdout",
     "output_type": "stream",
     "text": [
      "[]\n"
     ]
    },
    {
     "name": "stderr",
     "output_type": "stream",
     "text": [
      "127.0.0.1 - - [28/Sep/2020 22:25:24] \"\u001b[37mPOST /api/test HTTP/1.1\u001b[0m\" 200 -\n",
      "127.0.0.1 - - [28/Sep/2020 22:25:24] \"\u001b[37mPOST /api/test HTTP/1.1\u001b[0m\" 200 -\n"
     ]
    },
    {
     "name": "stdout",
     "output_type": "stream",
     "text": [
      "[]\n",
      "[]\n"
     ]
    },
    {
     "name": "stderr",
     "output_type": "stream",
     "text": [
      "127.0.0.1 - - [28/Sep/2020 22:25:24] \"\u001b[37mPOST /api/test HTTP/1.1\u001b[0m\" 200 -\n",
      "127.0.0.1 - - [28/Sep/2020 22:25:24] \"\u001b[37mPOST /api/test HTTP/1.1\u001b[0m\" 200 -\n"
     ]
    },
    {
     "name": "stdout",
     "output_type": "stream",
     "text": [
      "[]\n",
      "[]\n"
     ]
    },
    {
     "name": "stderr",
     "output_type": "stream",
     "text": [
      "127.0.0.1 - - [28/Sep/2020 22:25:25] \"\u001b[37mPOST /api/test HTTP/1.1\u001b[0m\" 200 -\n",
      "127.0.0.1 - - [28/Sep/2020 22:25:25] \"\u001b[37mPOST /api/test HTTP/1.1\u001b[0m\" 200 -\n"
     ]
    },
    {
     "name": "stdout",
     "output_type": "stream",
     "text": [
      "[]\n",
      "[]\n",
      "[]"
     ]
    },
    {
     "name": "stderr",
     "output_type": "stream",
     "text": [
      "127.0.0.1 - - [28/Sep/2020 22:25:25] \"\u001b[37mPOST /api/test HTTP/1.1\u001b[0m\" 200 -\n",
      "127.0.0.1 - - [28/Sep/2020 22:25:25] \"\u001b[37mPOST /api/test HTTP/1.1\u001b[0m\" 200 -\n"
     ]
    },
    {
     "name": "stdout",
     "output_type": "stream",
     "text": [
      "\n",
      "[]\n",
      "[]"
     ]
    },
    {
     "name": "stderr",
     "output_type": "stream",
     "text": [
      "127.0.0.1 - - [28/Sep/2020 22:25:25] \"\u001b[37mPOST /api/test HTTP/1.1\u001b[0m\" 200 -\n",
      "127.0.0.1 - - [28/Sep/2020 22:25:25] \"\u001b[37mPOST /api/test HTTP/1.1\u001b[0m\" 200 -\n",
      "127.0.0.1 - - [28/Sep/2020 22:25:25] \"\u001b[37mPOST /api/test HTTP/1.1\u001b[0m\" 200 -\n"
     ]
    },
    {
     "name": "stdout",
     "output_type": "stream",
     "text": [
      "\n",
      "[]\n",
      "[]\n",
      "[]"
     ]
    },
    {
     "name": "stderr",
     "output_type": "stream",
     "text": [
      "127.0.0.1 - - [28/Sep/2020 22:25:25] \"\u001b[37mPOST /api/test HTTP/1.1\u001b[0m\" 200 -\n",
      "127.0.0.1 - - [28/Sep/2020 22:25:25] \"\u001b[37mPOST /api/test HTTP/1.1\u001b[0m\" 200 -\n",
      "127.0.0.1 - - [28/Sep/2020 22:25:25] \"\u001b[37mPOST /api/test HTTP/1.1\u001b[0m\" 200 -\n"
     ]
    },
    {
     "name": "stdout",
     "output_type": "stream",
     "text": [
      "\n",
      "[]\n",
      "[]\n",
      "[]"
     ]
    },
    {
     "name": "stderr",
     "output_type": "stream",
     "text": [
      "127.0.0.1 - - [28/Sep/2020 22:25:25] \"\u001b[37mPOST /api/test HTTP/1.1\u001b[0m\" 200 -\n",
      "127.0.0.1 - - [28/Sep/2020 22:25:25] \"\u001b[37mPOST /api/test HTTP/1.1\u001b[0m\" 200 -\n",
      "127.0.0.1 - - [28/Sep/2020 22:25:25] \"\u001b[37mPOST /api/test HTTP/1.1\u001b[0m\" 200 -\n",
      "127.0.0.1 - - [28/Sep/2020 22:25:26] \"\u001b[37mPOST /api/test HTTP/1.1\u001b[0m\" 200 -\n"
     ]
    },
    {
     "name": "stdout",
     "output_type": "stream",
     "text": [
      "\n",
      "[]\n",
      "[]\n",
      "[]\n"
     ]
    },
    {
     "name": "stderr",
     "output_type": "stream",
     "text": [
      "127.0.0.1 - - [28/Sep/2020 22:25:26] \"\u001b[37mPOST /api/test HTTP/1.1\u001b[0m\" 200 -\n",
      "127.0.0.1 - - [28/Sep/2020 22:25:26] \"\u001b[37mPOST /api/test HTTP/1.1\u001b[0m\" 200 -\n",
      "127.0.0.1 - - [28/Sep/2020 22:25:26] \"\u001b[37mPOST /api/test HTTP/1.1\u001b[0m\" 200 -\n",
      "127.0.0.1 - - [28/Sep/2020 22:25:26] \"\u001b[37mPOST /api/test HTTP/1.1\u001b[0m\" 200 -\n"
     ]
    },
    {
     "name": "stdout",
     "output_type": "stream",
     "text": [
      "[]\n",
      "[]\n",
      "[]\n",
      "[]\n"
     ]
    },
    {
     "name": "stderr",
     "output_type": "stream",
     "text": [
      "127.0.0.1 - - [28/Sep/2020 22:25:26] \"\u001b[37mPOST /api/test HTTP/1.1\u001b[0m\" 200 -\n",
      "127.0.0.1 - - [28/Sep/2020 22:25:26] \"\u001b[37mPOST /api/test HTTP/1.1\u001b[0m\" 200 -\n",
      "127.0.0.1 - - [28/Sep/2020 22:25:26] \"\u001b[37mPOST /api/test HTTP/1.1\u001b[0m\" 200 -\n",
      "127.0.0.1 - - [28/Sep/2020 22:25:26] \"\u001b[37mPOST /api/test HTTP/1.1\u001b[0m\" 200 -\n"
     ]
    },
    {
     "name": "stdout",
     "output_type": "stream",
     "text": [
      "[]\n",
      "[]\n",
      "[]\n",
      "[]\n"
     ]
    },
    {
     "name": "stderr",
     "output_type": "stream",
     "text": [
      "127.0.0.1 - - [28/Sep/2020 22:25:26] \"\u001b[37mPOST /api/test HTTP/1.1\u001b[0m\" 200 -\n",
      "127.0.0.1 - - [28/Sep/2020 22:25:26] \"\u001b[37mPOST /api/test HTTP/1.1\u001b[0m\" 200 -\n",
      "127.0.0.1 - - [28/Sep/2020 22:25:26] \"\u001b[37mPOST /api/test HTTP/1.1\u001b[0m\" 200 -\n"
     ]
    },
    {
     "name": "stdout",
     "output_type": "stream",
     "text": [
      "[]\n",
      "[]\n",
      "[]\n",
      "[]"
     ]
    },
    {
     "name": "stderr",
     "output_type": "stream",
     "text": [
      "127.0.0.1 - - [28/Sep/2020 22:25:26] \"\u001b[37mPOST /api/test HTTP/1.1\u001b[0m\" 200 -\n",
      "127.0.0.1 - - [28/Sep/2020 22:25:26] \"\u001b[37mPOST /api/test HTTP/1.1\u001b[0m\" 200 -\n",
      "127.0.0.1 - - [28/Sep/2020 22:25:26] \"\u001b[37mPOST /api/test HTTP/1.1\u001b[0m\" 200 -\n",
      "127.0.0.1 - - [28/Sep/2020 22:25:26] \"\u001b[37mPOST /api/test HTTP/1.1\u001b[0m\" 200 -\n"
     ]
    },
    {
     "name": "stdout",
     "output_type": "stream",
     "text": [
      "\n",
      "[]\n",
      "[]\n",
      "[]\n"
     ]
    },
    {
     "name": "stderr",
     "output_type": "stream",
     "text": [
      "127.0.0.1 - - [28/Sep/2020 22:25:26] \"\u001b[37mPOST /api/test HTTP/1.1\u001b[0m\" 200 -\n",
      "127.0.0.1 - - [28/Sep/2020 22:25:26] \"\u001b[37mPOST /api/test HTTP/1.1\u001b[0m\" 200 -\n",
      "127.0.0.1 - - [28/Sep/2020 22:25:27] \"\u001b[37mPOST /api/test HTTP/1.1\u001b[0m\" 200 -\n"
     ]
    },
    {
     "name": "stdout",
     "output_type": "stream",
     "text": [
      "[]\n",
      "[]\n",
      "[]\n",
      "[]"
     ]
    },
    {
     "name": "stderr",
     "output_type": "stream",
     "text": [
      "127.0.0.1 - - [28/Sep/2020 22:25:27] \"\u001b[37mPOST /api/test HTTP/1.1\u001b[0m\" 200 -\n",
      "127.0.0.1 - - [28/Sep/2020 22:25:27] \"\u001b[37mPOST /api/test HTTP/1.1\u001b[0m\" 200 -\n",
      "127.0.0.1 - - [28/Sep/2020 22:25:27] \"\u001b[37mPOST /api/test HTTP/1.1\u001b[0m\" 200 -\n",
      "127.0.0.1 - - [28/Sep/2020 22:25:27] \"\u001b[37mPOST /api/test HTTP/1.1\u001b[0m\" 200 -\n"
     ]
    },
    {
     "name": "stdout",
     "output_type": "stream",
     "text": [
      "\n",
      "[]\n",
      "[]\n",
      "[]\n"
     ]
    },
    {
     "name": "stderr",
     "output_type": "stream",
     "text": [
      "127.0.0.1 - - [28/Sep/2020 22:25:27] \"\u001b[37mPOST /api/test HTTP/1.1\u001b[0m\" 200 -\n",
      "127.0.0.1 - - [28/Sep/2020 22:25:27] \"\u001b[37mPOST /api/test HTTP/1.1\u001b[0m\" 200 -\n",
      "127.0.0.1 - - [28/Sep/2020 22:25:27] \"\u001b[37mPOST /api/test HTTP/1.1\u001b[0m\" 200 -\n",
      "127.0.0.1 - - [28/Sep/2020 22:25:27] \"\u001b[37mPOST /api/test HTTP/1.1\u001b[0m\" 200 -\n"
     ]
    },
    {
     "name": "stdout",
     "output_type": "stream",
     "text": [
      "[]\n",
      "[]\n",
      "[]\n",
      "[]\n"
     ]
    },
    {
     "name": "stderr",
     "output_type": "stream",
     "text": [
      "127.0.0.1 - - [28/Sep/2020 22:25:27] \"\u001b[37mPOST /api/test HTTP/1.1\u001b[0m\" 200 -\n",
      "127.0.0.1 - - [28/Sep/2020 22:25:27] \"\u001b[37mPOST /api/test HTTP/1.1\u001b[0m\" 200 -\n",
      "127.0.0.1 - - [28/Sep/2020 22:25:27] \"\u001b[37mPOST /api/test HTTP/1.1\u001b[0m\" 200 -\n",
      "127.0.0.1 - - [28/Sep/2020 22:25:27] \"\u001b[37mPOST /api/test HTTP/1.1\u001b[0m\" 200 -\n"
     ]
    },
    {
     "name": "stdout",
     "output_type": "stream",
     "text": [
      "[]\n",
      "[]\n",
      "[]\n",
      "[]\n"
     ]
    },
    {
     "name": "stderr",
     "output_type": "stream",
     "text": [
      "127.0.0.1 - - [28/Sep/2020 22:25:27] \"\u001b[37mPOST /api/test HTTP/1.1\u001b[0m\" 200 -\n",
      "127.0.0.1 - - [28/Sep/2020 22:25:27] \"\u001b[37mPOST /api/test HTTP/1.1\u001b[0m\" 200 -\n",
      "127.0.0.1 - - [28/Sep/2020 22:25:27] \"\u001b[37mPOST /api/test HTTP/1.1\u001b[0m\" 200 -\n"
     ]
    },
    {
     "name": "stdout",
     "output_type": "stream",
     "text": [
      "[]\n",
      "[]\n",
      "[]\n",
      "[]"
     ]
    },
    {
     "name": "stderr",
     "output_type": "stream",
     "text": [
      "127.0.0.1 - - [28/Sep/2020 22:25:27] \"\u001b[37mPOST /api/test HTTP/1.1\u001b[0m\" 200 -\n",
      "127.0.0.1 - - [28/Sep/2020 22:25:28] \"\u001b[37mPOST /api/test HTTP/1.1\u001b[0m\" 200 -\n"
     ]
    },
    {
     "name": "stdout",
     "output_type": "stream",
     "text": [
      "\n",
      "[]\n"
     ]
    },
    {
     "name": "stderr",
     "output_type": "stream",
     "text": [
      "127.0.0.1 - - [28/Sep/2020 22:25:29] \"\u001b[37mPOST /api/test HTTP/1.1\u001b[0m\" 200 -\n"
     ]
    },
    {
     "name": "stdout",
     "output_type": "stream",
     "text": [
      "[{\"label\": \"No Mask: 79.42%\", \"x\": \"110\", \"y\": \"91\", \"x2\": \"317\", \"y2\": \"298\", \"mask\": \"0.20576733\", \"withoutMask\": \"0.7942326\"}]\n"
     ]
    },
    {
     "name": "stderr",
     "output_type": "stream",
     "text": [
      "127.0.0.1 - - [28/Sep/2020 22:25:29] \"\u001b[37mPOST /api/test HTTP/1.1\u001b[0m\" 200 -\n"
     ]
    },
    {
     "name": "stdout",
     "output_type": "stream",
     "text": [
      "[{\"label\": \"No Mask: 92.21%\", \"x\": \"109\", \"y\": \"47\", \"x2\": \"340\", \"y2\": \"278\", \"mask\": \"0.07787341\", \"withoutMask\": \"0.9221266\"}]\n"
     ]
    },
    {
     "name": "stderr",
     "output_type": "stream",
     "text": [
      "127.0.0.1 - - [28/Sep/2020 22:25:30] \"\u001b[37mPOST /api/test HTTP/1.1\u001b[0m\" 200 -\n"
     ]
    },
    {
     "name": "stdout",
     "output_type": "stream",
     "text": [
      "[{\"label\": \"No Mask: 99.51%\", \"x\": \"106\", \"y\": \"47\", \"x2\": \"339\", \"y2\": \"280\", \"mask\": \"0.0049211984\", \"withoutMask\": \"0.9950788\"}, {\"label\": \"Mask: 81.41%\", \"x\": \"150\", \"y\": \"330\", \"x2\": \"191\", \"y2\": \"371\", \"mask\": \"0.8140975\", \"withoutMask\": \"0.18590246\"}]\n"
     ]
    },
    {
     "name": "stderr",
     "output_type": "stream",
     "text": [
      "127.0.0.1 - - [28/Sep/2020 22:25:30] \"\u001b[37mPOST /api/test HTTP/1.1\u001b[0m\" 200 -\n"
     ]
    },
    {
     "name": "stdout",
     "output_type": "stream",
     "text": [
      "[{\"label\": \"No Mask: 98.29%\", \"x\": \"108\", \"y\": \"47\", \"x2\": \"339\", \"y2\": \"278\", \"mask\": \"0.017117256\", \"withoutMask\": \"0.9828827\"}, {\"label\": \"Mask: 86.18%\", \"x\": \"149\", \"y\": \"328\", \"x2\": \"196\", \"y2\": \"375\", \"mask\": \"0.86177063\", \"withoutMask\": \"0.13822934\"}]\n"
     ]
    },
    {
     "name": "stderr",
     "output_type": "stream",
     "text": [
      "127.0.0.1 - - [28/Sep/2020 22:25:30] \"\u001b[37mPOST /api/test HTTP/1.1\u001b[0m\" 200 -\n"
     ]
    },
    {
     "name": "stdout",
     "output_type": "stream",
     "text": [
      "[{\"label\": \"No Mask: 97.08%\", \"x\": \"112\", \"y\": \"49\", \"x2\": \"344\", \"y2\": \"281\", \"mask\": \"0.029198818\", \"withoutMask\": \"0.97080123\"}]\n"
     ]
    },
    {
     "name": "stderr",
     "output_type": "stream",
     "text": [
      "127.0.0.1 - - [28/Sep/2020 22:25:31] \"\u001b[37mPOST /api/test HTTP/1.1\u001b[0m\" 200 -\n"
     ]
    },
    {
     "name": "stdout",
     "output_type": "stream",
     "text": [
      "[{\"label\": \"No Mask: 98.97%\", \"x\": \"116\", \"y\": \"52\", \"x2\": \"343\", \"y2\": \"279\", \"mask\": \"0.010264077\", \"withoutMask\": \"0.98973596\"}]\n"
     ]
    },
    {
     "name": "stderr",
     "output_type": "stream",
     "text": [
      "127.0.0.1 - - [28/Sep/2020 22:25:31] \"\u001b[37mPOST /api/test HTTP/1.1\u001b[0m\" 200 -\n"
     ]
    },
    {
     "name": "stdout",
     "output_type": "stream",
     "text": [
      "[{\"label\": \"No Mask: 95.73%\", \"x\": \"126\", \"y\": \"61\", \"x2\": \"337\", \"y2\": \"272\", \"mask\": \"0.04269763\", \"withoutMask\": \"0.9573024\"}]\n"
     ]
    },
    {
     "name": "stderr",
     "output_type": "stream",
     "text": [
      "127.0.0.1 - - [28/Sep/2020 22:25:31] \"\u001b[37mPOST /api/test HTTP/1.1\u001b[0m\" 200 -\n"
     ]
    },
    {
     "name": "stdout",
     "output_type": "stream",
     "text": [
      "[{\"label\": \"No Mask: 99.17%\", \"x\": \"128\", \"y\": \"67\", \"x2\": \"332\", \"y2\": \"271\", \"mask\": \"0.008317332\", \"withoutMask\": \"0.99168265\"}]\n"
     ]
    },
    {
     "name": "stderr",
     "output_type": "stream",
     "text": [
      "127.0.0.1 - - [28/Sep/2020 22:25:31] \"\u001b[37mPOST /api/test HTTP/1.1\u001b[0m\" 200 -\n"
     ]
    },
    {
     "name": "stdout",
     "output_type": "stream",
     "text": [
      "[{\"label\": \"No Mask: 99.74%\", \"x\": \"141\", \"y\": \"74\", \"x2\": \"336\", \"y2\": \"269\", \"mask\": \"0.0025718731\", \"withoutMask\": \"0.9974281\"}]\n"
     ]
    },
    {
     "name": "stderr",
     "output_type": "stream",
     "text": [
      "127.0.0.1 - - [28/Sep/2020 22:25:32] \"\u001b[37mPOST /api/test HTTP/1.1\u001b[0m\" 200 -\n"
     ]
    },
    {
     "name": "stdout",
     "output_type": "stream",
     "text": [
      "[{\"label\": \"No Mask: 99.56%\", \"x\": \"142\", \"y\": \"71\", \"x2\": \"342\", \"y2\": \"271\", \"mask\": \"0.004379562\", \"withoutMask\": \"0.9956204\"}]\n"
     ]
    },
    {
     "name": "stderr",
     "output_type": "stream",
     "text": [
      "127.0.0.1 - - [28/Sep/2020 22:25:32] \"\u001b[37mPOST /api/test HTTP/1.1\u001b[0m\" 200 -\n"
     ]
    },
    {
     "name": "stdout",
     "output_type": "stream",
     "text": [
      "[{\"label\": \"No Mask: 99.85%\", \"x\": \"140\", \"y\": \"70\", \"x2\": \"340\", \"y2\": \"270\", \"mask\": \"0.0014769518\", \"withoutMask\": \"0.99852306\"}]\n"
     ]
    },
    {
     "name": "stderr",
     "output_type": "stream",
     "text": [
      "127.0.0.1 - - [28/Sep/2020 22:25:32] \"\u001b[37mPOST /api/test HTTP/1.1\u001b[0m\" 200 -\n"
     ]
    },
    {
     "name": "stdout",
     "output_type": "stream",
     "text": [
      "[{\"label\": \"No Mask: 99.81%\", \"x\": \"138\", \"y\": \"72\", \"x2\": \"336\", \"y2\": \"270\", \"mask\": \"0.0019224846\", \"withoutMask\": \"0.9980775\"}]\n"
     ]
    },
    {
     "name": "stderr",
     "output_type": "stream",
     "text": [
      "127.0.0.1 - - [28/Sep/2020 22:25:32] \"\u001b[37mPOST /api/test HTTP/1.1\u001b[0m\" 200 -\n"
     ]
    },
    {
     "name": "stdout",
     "output_type": "stream",
     "text": [
      "[{\"label\": \"No Mask: 99.34%\", \"x\": \"140\", \"y\": \"72\", \"x2\": \"339\", \"y2\": \"271\", \"mask\": \"0.0065958705\", \"withoutMask\": \"0.9934041\"}]\n"
     ]
    },
    {
     "name": "stderr",
     "output_type": "stream",
     "text": [
      "127.0.0.1 - - [28/Sep/2020 22:25:33] \"\u001b[37mPOST /api/test HTTP/1.1\u001b[0m\" 200 -\n"
     ]
    },
    {
     "name": "stdout",
     "output_type": "stream",
     "text": [
      "[{\"label\": \"No Mask: 99.00%\", \"x\": \"147\", \"y\": \"74\", \"x2\": \"343\", \"y2\": \"270\", \"mask\": \"0.009978161\", \"withoutMask\": \"0.9900219\"}]\n"
     ]
    },
    {
     "name": "stderr",
     "output_type": "stream",
     "text": [
      "127.0.0.1 - - [28/Sep/2020 22:25:33] \"\u001b[37mPOST /api/test HTTP/1.1\u001b[0m\" 200 -\n"
     ]
    },
    {
     "name": "stdout",
     "output_type": "stream",
     "text": [
      "[{\"label\": \"No Mask: 99.19%\", \"x\": \"149\", \"y\": \"73\", \"x2\": \"350\", \"y2\": \"274\", \"mask\": \"0.008050137\", \"withoutMask\": \"0.9919499\"}]\n"
     ]
    },
    {
     "name": "stderr",
     "output_type": "stream",
     "text": [
      "127.0.0.1 - - [28/Sep/2020 22:25:33] \"\u001b[37mPOST /api/test HTTP/1.1\u001b[0m\" 200 -\n"
     ]
    },
    {
     "name": "stdout",
     "output_type": "stream",
     "text": [
      "[{\"label\": \"No Mask: 98.16%\", \"x\": \"151\", \"y\": \"71\", \"x2\": \"358\", \"y2\": \"278\", \"mask\": \"0.018385002\", \"withoutMask\": \"0.981615\"}]\n"
     ]
    },
    {
     "name": "stderr",
     "output_type": "stream",
     "text": [
      "127.0.0.1 - - [28/Sep/2020 22:25:33] \"\u001b[37mPOST /api/test HTTP/1.1\u001b[0m\" 200 -\n"
     ]
    },
    {
     "name": "stdout",
     "output_type": "stream",
     "text": [
      "[{\"label\": \"No Mask: 96.38%\", \"x\": \"148\", \"y\": \"72\", \"x2\": \"357\", \"y2\": \"281\", \"mask\": \"0.03623147\", \"withoutMask\": \"0.9637686\"}]\n"
     ]
    },
    {
     "name": "stderr",
     "output_type": "stream",
     "text": [
      "127.0.0.1 - - [28/Sep/2020 22:25:34] \"\u001b[37mPOST /api/test HTTP/1.1\u001b[0m\" 200 -\n"
     ]
    },
    {
     "name": "stdout",
     "output_type": "stream",
     "text": [
      "[{\"label\": \"No Mask: 96.74%\", \"x\": \"153\", \"y\": \"77\", \"x2\": \"358\", \"y2\": \"282\", \"mask\": \"0.032607358\", \"withoutMask\": \"0.9673926\"}]\n"
     ]
    },
    {
     "name": "stderr",
     "output_type": "stream",
     "text": [
      "127.0.0.1 - - [28/Sep/2020 22:25:34] \"\u001b[37mPOST /api/test HTTP/1.1\u001b[0m\" 200 -\n"
     ]
    },
    {
     "name": "stdout",
     "output_type": "stream",
     "text": [
      "[{\"label\": \"No Mask: 99.73%\", \"x\": \"153\", \"y\": \"80\", \"x2\": \"355\", \"y2\": \"282\", \"mask\": \"0.0027390055\", \"withoutMask\": \"0.9972609\"}]\n"
     ]
    },
    {
     "name": "stderr",
     "output_type": "stream",
     "text": [
      "127.0.0.1 - - [28/Sep/2020 22:25:34] \"\u001b[37mPOST /api/test HTTP/1.1\u001b[0m\" 200 -\n",
      "127.0.0.1 - - [28/Sep/2020 22:25:34] \"\u001b[37mPOST /api/test HTTP/1.1\u001b[0m\" 200 -\n"
     ]
    },
    {
     "name": "stdout",
     "output_type": "stream",
     "text": [
      "[{\"label\": \"No Mask: 98.29%\", \"x\": \"147\", \"y\": \"86\", \"x2\": \"342\", \"y2\": \"281\", \"mask\": \"0.017141424\", \"withoutMask\": \"0.98285866\"}]\n",
      "[]\n"
     ]
    },
    {
     "name": "stderr",
     "output_type": "stream",
     "text": [
      "127.0.0.1 - - [28/Sep/2020 22:25:34] \"\u001b[37mPOST /api/test HTTP/1.1\u001b[0m\" 200 -\n"
     ]
    },
    {
     "name": "stdout",
     "output_type": "stream",
     "text": [
      "[{\"label\": \"No Mask: 96.54%\", \"x\": \"144\", \"y\": \"91\", \"x2\": \"334\", \"y2\": \"281\", \"mask\": \"0.03462539\", \"withoutMask\": \"0.9653746\"}]\n"
     ]
    },
    {
     "name": "stderr",
     "output_type": "stream",
     "text": [
      "127.0.0.1 - - [28/Sep/2020 22:25:35] \"\u001b[37mPOST /api/test HTTP/1.1\u001b[0m\" 200 -\n"
     ]
    },
    {
     "name": "stdout",
     "output_type": "stream",
     "text": [
      "[{\"label\": \"No Mask: 99.48%\", \"x\": \"136\", \"y\": \"81\", \"x2\": \"331\", \"y2\": \"276\", \"mask\": \"0.005160289\", \"withoutMask\": \"0.9948397\"}]\n"
     ]
    },
    {
     "name": "stderr",
     "output_type": "stream",
     "text": [
      "127.0.0.1 - - [28/Sep/2020 22:25:35] \"\u001b[37mPOST /api/test HTTP/1.1\u001b[0m\" 200 -\n"
     ]
    },
    {
     "name": "stdout",
     "output_type": "stream",
     "text": [
      "[{\"label\": \"No Mask: 99.70%\", \"x\": \"127\", \"y\": \"62\", \"x2\": \"336\", \"y2\": \"271\", \"mask\": \"0.0030230961\", \"withoutMask\": \"0.996977\"}]\n"
     ]
    },
    {
     "name": "stderr",
     "output_type": "stream",
     "text": [
      "127.0.0.1 - - [28/Sep/2020 22:25:35] \"\u001b[37mPOST /api/test HTTP/1.1\u001b[0m\" 200 -\n"
     ]
    },
    {
     "name": "stdout",
     "output_type": "stream",
     "text": [
      "[{\"label\": \"No Mask: 98.73%\", \"x\": \"117\", \"y\": \"51\", \"x2\": \"339\", \"y2\": \"273\", \"mask\": \"0.012691237\", \"withoutMask\": \"0.9873088\"}]\n"
     ]
    },
    {
     "name": "stderr",
     "output_type": "stream",
     "text": [
      "127.0.0.1 - - [28/Sep/2020 22:25:35] \"\u001b[37mPOST /api/test HTTP/1.1\u001b[0m\" 200 -\n"
     ]
    },
    {
     "name": "stdout",
     "output_type": "stream",
     "text": [
      "[{\"label\": \"No Mask: 98.96%\", \"x\": \"116\", \"y\": \"48\", \"x2\": \"347\", \"y2\": \"279\", \"mask\": \"0.01037222\", \"withoutMask\": \"0.98962784\"}]\n"
     ]
    },
    {
     "name": "stderr",
     "output_type": "stream",
     "text": [
      "127.0.0.1 - - [28/Sep/2020 22:25:36] \"\u001b[37mPOST /api/test HTTP/1.1\u001b[0m\" 200 -\n"
     ]
    },
    {
     "name": "stdout",
     "output_type": "stream",
     "text": [
      "[{\"label\": \"No Mask: 96.35%\", \"x\": \"115\", \"y\": \"48\", \"x2\": \"345\", \"y2\": \"278\", \"mask\": \"0.036465533\", \"withoutMask\": \"0.9635345\"}]\n"
     ]
    },
    {
     "name": "stderr",
     "output_type": "stream",
     "text": [
      "127.0.0.1 - - [28/Sep/2020 22:25:36] \"\u001b[37mPOST /api/test HTTP/1.1\u001b[0m\" 200 -\n"
     ]
    },
    {
     "name": "stdout",
     "output_type": "stream",
     "text": [
      "[{\"label\": \"No Mask: 98.90%\", \"x\": \"114\", \"y\": \"49\", \"x2\": \"344\", \"y2\": \"279\", \"mask\": \"0.011025834\", \"withoutMask\": \"0.9889741\"}]\n"
     ]
    },
    {
     "name": "stderr",
     "output_type": "stream",
     "text": [
      "127.0.0.1 - - [28/Sep/2020 22:25:36] \"\u001b[37mPOST /api/test HTTP/1.1\u001b[0m\" 200 -\n"
     ]
    },
    {
     "name": "stdout",
     "output_type": "stream",
     "text": [
      "[{\"label\": \"No Mask: 95.52%\", \"x\": \"113\", \"y\": \"48\", \"x2\": \"346\", \"y2\": \"281\", \"mask\": \"0.04484629\", \"withoutMask\": \"0.9551537\"}]\n"
     ]
    },
    {
     "name": "stderr",
     "output_type": "stream",
     "text": [
      "127.0.0.1 - - [28/Sep/2020 22:25:36] \"\u001b[37mPOST /api/test HTTP/1.1\u001b[0m\" 200 -\n"
     ]
    },
    {
     "name": "stdout",
     "output_type": "stream",
     "text": [
      "[{\"label\": \"Mask: 96.55%\", \"x\": \"107\", \"y\": \"45\", \"x2\": \"336\", \"y2\": \"274\", \"mask\": \"0.9655214\", \"withoutMask\": \"0.03447868\"}]\n"
     ]
    },
    {
     "name": "stderr",
     "output_type": "stream",
     "text": [
      "127.0.0.1 - - [28/Sep/2020 22:25:37] \"\u001b[37mPOST /api/test HTTP/1.1\u001b[0m\" 200 -\n"
     ]
    },
    {
     "name": "stdout",
     "output_type": "stream",
     "text": [
      "[{\"label\": \"Mask: 76.21%\", \"x\": \"121\", \"y\": \"44\", \"x2\": \"350\", \"y2\": \"273\", \"mask\": \"0.7621292\", \"withoutMask\": \"0.23787084\"}]\n"
     ]
    },
    {
     "name": "stderr",
     "output_type": "stream",
     "text": [
      "127.0.0.1 - - [28/Sep/2020 22:25:37] \"\u001b[37mPOST /api/test HTTP/1.1\u001b[0m\" 200 -\n"
     ]
    },
    {
     "name": "stdout",
     "output_type": "stream",
     "text": [
      "[{\"label\": \"Mask: 51.30%\", \"x\": \"120\", \"y\": \"40\", \"x2\": \"360\", \"y2\": \"280\", \"mask\": \"0.5129615\", \"withoutMask\": \"0.48703852\"}]\n"
     ]
    },
    {
     "name": "stderr",
     "output_type": "stream",
     "text": [
      "127.0.0.1 - - [28/Sep/2020 22:25:37] \"\u001b[37mPOST /api/test HTTP/1.1\u001b[0m\" 200 -\n"
     ]
    },
    {
     "name": "stdout",
     "output_type": "stream",
     "text": [
      "[{\"label\": \"Mask: 75.54%\", \"x\": \"118\", \"y\": \"39\", \"x2\": \"361\", \"y2\": \"282\", \"mask\": \"0.75540894\", \"withoutMask\": \"0.24459109\"}]\n"
     ]
    },
    {
     "name": "stderr",
     "output_type": "stream",
     "text": [
      "127.0.0.1 - - [28/Sep/2020 22:25:37] \"\u001b[37mPOST /api/test HTTP/1.1\u001b[0m\" 200 -\n"
     ]
    },
    {
     "name": "stdout",
     "output_type": "stream",
     "text": [
      "[{\"label\": \"Mask: 65.11%\", \"x\": \"122\", \"y\": \"40\", \"x2\": \"359\", \"y2\": \"277\", \"mask\": \"0.65108865\", \"withoutMask\": \"0.34891137\"}]\n"
     ]
    },
    {
     "name": "stderr",
     "output_type": "stream",
     "text": [
      "127.0.0.1 - - [28/Sep/2020 22:25:38] \"\u001b[37mPOST /api/test HTTP/1.1\u001b[0m\" 200 -\n"
     ]
    },
    {
     "name": "stdout",
     "output_type": "stream",
     "text": [
      "[{\"label\": \"No Mask: 76.33%\", \"x\": \"123\", \"y\": \"41\", \"x2\": \"360\", \"y2\": \"278\", \"mask\": \"0.23671128\", \"withoutMask\": \"0.76328874\"}]\n"
     ]
    },
    {
     "name": "stderr",
     "output_type": "stream",
     "text": [
      "127.0.0.1 - - [28/Sep/2020 22:25:38] \"\u001b[37mPOST /api/test HTTP/1.1\u001b[0m\" 200 -\n"
     ]
    },
    {
     "name": "stdout",
     "output_type": "stream",
     "text": [
      "[{\"label\": \"No Mask: 66.30%\", \"x\": \"120\", \"y\": \"40\", \"x2\": \"363\", \"y2\": \"283\", \"mask\": \"0.33700767\", \"withoutMask\": \"0.6629924\"}]\n"
     ]
    },
    {
     "name": "stderr",
     "output_type": "stream",
     "text": [
      "127.0.0.1 - - [28/Sep/2020 22:25:38] \"\u001b[37mPOST /api/test HTTP/1.1\u001b[0m\" 200 -\n"
     ]
    },
    {
     "name": "stdout",
     "output_type": "stream",
     "text": [
      "[{\"label\": \"No Mask: 51.84%\", \"x\": \"119\", \"y\": \"39\", \"x2\": \"364\", \"y2\": \"284\", \"mask\": \"0.4815671\", \"withoutMask\": \"0.518433\"}]\n"
     ]
    },
    {
     "name": "stderr",
     "output_type": "stream",
     "text": [
      "127.0.0.1 - - [28/Sep/2020 22:25:39] \"\u001b[37mPOST /api/test HTTP/1.1\u001b[0m\" 200 -\n"
     ]
    },
    {
     "name": "stdout",
     "output_type": "stream",
     "text": [
      "[{\"label\": \"Mask: 54.70%\", \"x\": \"119\", \"y\": \"39\", \"x2\": \"362\", \"y2\": \"282\", \"mask\": \"0.547034\", \"withoutMask\": \"0.45296603\"}]\n"
     ]
    },
    {
     "name": "stderr",
     "output_type": "stream",
     "text": [
      "127.0.0.1 - - [28/Sep/2020 22:25:39] \"\u001b[37mPOST /api/test HTTP/1.1\u001b[0m\" 200 -\n"
     ]
    },
    {
     "name": "stdout",
     "output_type": "stream",
     "text": [
      "[{\"label\": \"No Mask: 94.63%\", \"x\": \"134\", \"y\": \"47\", \"x2\": \"352\", \"y2\": \"265\", \"mask\": \"0.05373127\", \"withoutMask\": \"0.94626874\"}]\n"
     ]
    },
    {
     "name": "stderr",
     "output_type": "stream",
     "text": [
      "127.0.0.1 - - [28/Sep/2020 22:25:39] \"\u001b[37mPOST /api/test HTTP/1.1\u001b[0m\" 200 -\n"
     ]
    },
    {
     "name": "stdout",
     "output_type": "stream",
     "text": [
      "[{\"label\": \"No Mask: 99.14%\", \"x\": \"137\", \"y\": \"53\", \"x2\": \"376\", \"y2\": \"292\", \"mask\": \"0.008601926\", \"withoutMask\": \"0.9913981\"}]\n"
     ]
    },
    {
     "name": "stderr",
     "output_type": "stream",
     "text": [
      "127.0.0.1 - - [28/Sep/2020 22:25:39] \"\u001b[37mPOST /api/test HTTP/1.1\u001b[0m\" 200 -\n"
     ]
    },
    {
     "name": "stdout",
     "output_type": "stream",
     "text": [
      "[{\"label\": \"Mask: 89.76%\", \"x\": \"63\", \"y\": \"56\", \"x2\": \"301\", \"y2\": \"294\", \"mask\": \"0.8975833\", \"withoutMask\": \"0.102416694\"}]\n"
     ]
    },
    {
     "name": "stderr",
     "output_type": "stream",
     "text": [
      "127.0.0.1 - - [28/Sep/2020 22:25:40] \"\u001b[37mPOST /api/test HTTP/1.1\u001b[0m\" 200 -\n",
      "127.0.0.1 - - [28/Sep/2020 22:25:40] \"\u001b[37mPOST /api/test HTTP/1.1\u001b[0m\" 200 -\n"
     ]
    },
    {
     "name": "stdout",
     "output_type": "stream",
     "text": [
      "[{\"label\": \"Mask: 69.05%\", \"x\": \"238\", \"y\": \"312\", \"x2\": \"298\", \"y2\": \"372\", \"mask\": \"0.6905438\", \"withoutMask\": \"0.30945623\"}, {\"label\": \"Mask: 86.17%\", \"x\": \"236\", \"y\": \"327\", \"x2\": \"297\", \"y2\": \"388\", \"mask\": \"0.8617438\", \"withoutMask\": \"0.13825622\"}]\n",
      "[]\n"
     ]
    },
    {
     "name": "stderr",
     "output_type": "stream",
     "text": [
      "127.0.0.1 - - [28/Sep/2020 22:25:40] \"\u001b[37mPOST /api/test HTTP/1.1\u001b[0m\" 200 -\n"
     ]
    },
    {
     "name": "stdout",
     "output_type": "stream",
     "text": [
      "[{\"label\": \"No Mask: 78.70%\", \"x\": \"74\", \"y\": \"67\", \"x2\": \"282\", \"y2\": \"275\", \"mask\": \"0.21295431\", \"withoutMask\": \"0.78704566\"}, {\"label\": \"Mask: 68.92%\", \"x\": \"245\", \"y\": \"322\", \"x2\": \"297\", \"y2\": \"374\", \"mask\": \"0.68917924\", \"withoutMask\": \"0.31082076\"}]\n"
     ]
    },
    {
     "name": "stderr",
     "output_type": "stream",
     "text": [
      "127.0.0.1 - - [28/Sep/2020 22:25:40] \"\u001b[37mPOST /api/test HTTP/1.1\u001b[0m\" 200 -\n"
     ]
    },
    {
     "name": "stdout",
     "output_type": "stream",
     "text": [
      "[{\"label\": \"No Mask: 76.35%\", \"x\": \"73\", \"y\": \"104\", \"x2\": \"171\", \"y2\": \"202\", \"mask\": \"0.23648769\", \"withoutMask\": \"0.7635124\"}, {\"label\": \"No Mask: 96.46%\", \"x\": \"120\", \"y\": \"89\", \"x2\": \"324\", \"y2\": \"293\", \"mask\": \"0.035427585\", \"withoutMask\": \"0.9645725\"}]\n"
     ]
    },
    {
     "name": "stderr",
     "output_type": "stream",
     "text": [
      "127.0.0.1 - - [28/Sep/2020 22:25:41] \"\u001b[37mPOST /api/test HTTP/1.1\u001b[0m\" 200 -\n"
     ]
    },
    {
     "name": "stdout",
     "output_type": "stream",
     "text": [
      "[{\"label\": \"No Mask: 77.75%\", \"x\": \"82\", \"y\": \"115\", \"x2\": \"196\", \"y2\": \"229\", \"mask\": \"0.22249418\", \"withoutMask\": \"0.7775058\"}, {\"label\": \"No Mask: 86.36%\", \"x\": \"141\", \"y\": \"116\", \"x2\": \"325\", \"y2\": \"300\", \"mask\": \"0.13637477\", \"withoutMask\": \"0.8636252\"}]\n"
     ]
    },
    {
     "name": "stderr",
     "output_type": "stream",
     "text": [
      "127.0.0.1 - - [28/Sep/2020 22:25:41] \"\u001b[37mPOST /api/test HTTP/1.1\u001b[0m\" 200 -\n"
     ]
    },
    {
     "name": "stdout",
     "output_type": "stream",
     "text": [
      "[{\"label\": \"Mask: 98.26%\", \"x\": \"139\", \"y\": \"107\", \"x2\": \"329\", \"y2\": \"297\", \"mask\": \"0.9826414\", \"withoutMask\": \"0.017358575\"}]\n"
     ]
    },
    {
     "name": "stderr",
     "output_type": "stream",
     "text": [
      "127.0.0.1 - - [28/Sep/2020 22:25:42] \"\u001b[37mPOST /api/test HTTP/1.1\u001b[0m\" 200 -\n"
     ]
    },
    {
     "name": "stdout",
     "output_type": "stream",
     "text": [
      "[{\"label\": \"Mask: 95.07%\", \"x\": \"140\", \"y\": \"106\", \"x2\": \"334\", \"y2\": \"300\", \"mask\": \"0.9506886\", \"withoutMask\": \"0.049311444\"}]\n"
     ]
    },
    {
     "name": "stderr",
     "output_type": "stream",
     "text": [
      "127.0.0.1 - - [28/Sep/2020 22:25:42] \"\u001b[37mPOST /api/test HTTP/1.1\u001b[0m\" 200 -\n"
     ]
    },
    {
     "name": "stdout",
     "output_type": "stream",
     "text": [
      "[{\"label\": \"No Mask: 96.38%\", \"x\": \"507\", \"y\": \"344\", \"x2\": \"571\", \"y2\": \"408\", \"mask\": \"0.036199123\", \"withoutMask\": \"0.9638009\"}, {\"label\": \"Mask: 99.37%\", \"x\": \"142\", \"y\": \"98\", \"x2\": \"343\", \"y2\": \"299\", \"mask\": \"0.99371415\", \"withoutMask\": \"0.0062858025\"}]\n"
     ]
    },
    {
     "name": "stderr",
     "output_type": "stream",
     "text": [
      "127.0.0.1 - - [28/Sep/2020 22:25:42] \"\u001b[37mPOST /api/test HTTP/1.1\u001b[0m\" 200 -\n"
     ]
    },
    {
     "name": "stdout",
     "output_type": "stream",
     "text": [
      "[{\"label\": \"Mask: 72.31%\", \"x\": \"150\", \"y\": \"103\", \"x2\": \"325\", \"y2\": \"278\", \"mask\": \"0.72311705\", \"withoutMask\": \"0.276883\"}]\n"
     ]
    },
    {
     "name": "stderr",
     "output_type": "stream",
     "text": [
      "127.0.0.1 - - [28/Sep/2020 22:25:43] \"\u001b[37mPOST /api/test HTTP/1.1\u001b[0m\" 200 -\n"
     ]
    },
    {
     "name": "stdout",
     "output_type": "stream",
     "text": [
      "[{\"label\": \"Mask: 50.18%\", \"x\": \"144\", \"y\": \"100\", \"x2\": \"327\", \"y2\": \"283\", \"mask\": \"0.5017823\", \"withoutMask\": \"0.4982177\"}]\n"
     ]
    },
    {
     "name": "stderr",
     "output_type": "stream",
     "text": [
      "127.0.0.1 - - [28/Sep/2020 22:25:43] \"\u001b[37mPOST /api/test HTTP/1.1\u001b[0m\" 200 -\n"
     ]
    },
    {
     "name": "stdout",
     "output_type": "stream",
     "text": [
      "[{\"label\": \"Mask: 95.69%\", \"x\": \"139\", \"y\": \"102\", \"x2\": \"318\", \"y2\": \"281\", \"mask\": \"0.9569029\", \"withoutMask\": \"0.043097142\"}]\n"
     ]
    },
    {
     "name": "stderr",
     "output_type": "stream",
     "text": [
      "127.0.0.1 - - [28/Sep/2020 22:25:43] \"\u001b[37mPOST /api/test HTTP/1.1\u001b[0m\" 200 -\n"
     ]
    },
    {
     "name": "stdout",
     "output_type": "stream",
     "text": [
      "[{\"label\": \"Mask: 60.72%\", \"x\": \"138\", \"y\": \"101\", \"x2\": \"319\", \"y2\": \"282\", \"mask\": \"0.6072033\", \"withoutMask\": \"0.39279667\"}]\n"
     ]
    },
    {
     "name": "stderr",
     "output_type": "stream",
     "text": [
      "127.0.0.1 - - [28/Sep/2020 22:25:43] \"\u001b[37mPOST /api/test HTTP/1.1\u001b[0m\" 200 -\n"
     ]
    },
    {
     "name": "stdout",
     "output_type": "stream",
     "text": [
      "[{\"label\": \"Mask: 82.99%\", \"x\": \"141\", \"y\": \"107\", \"x2\": \"313\", \"y2\": \"279\", \"mask\": \"0.82992435\", \"withoutMask\": \"0.17007561\"}]\n"
     ]
    },
    {
     "name": "stderr",
     "output_type": "stream",
     "text": [
      "127.0.0.1 - - [28/Sep/2020 22:25:44] \"\u001b[37mPOST /api/test HTTP/1.1\u001b[0m\" 200 -\n"
     ]
    },
    {
     "name": "stdout",
     "output_type": "stream",
     "text": [
      "[{\"label\": \"Mask: 84.55%\", \"x\": \"138\", \"y\": \"104\", \"x2\": \"315\", \"y2\": \"281\", \"mask\": \"0.84551424\", \"withoutMask\": \"0.15448579\"}]\n"
     ]
    },
    {
     "name": "stderr",
     "output_type": "stream",
     "text": [
      "127.0.0.1 - - [28/Sep/2020 22:25:44] \"\u001b[37mPOST /api/test HTTP/1.1\u001b[0m\" 200 -\n"
     ]
    },
    {
     "name": "stdout",
     "output_type": "stream",
     "text": [
      "[{\"label\": \"Mask: 92.83%\", \"x\": \"134\", \"y\": \"104\", \"x2\": \"313\", \"y2\": \"283\", \"mask\": \"0.92827535\", \"withoutMask\": \"0.071724646\"}]\n"
     ]
    },
    {
     "name": "stderr",
     "output_type": "stream",
     "text": [
      "127.0.0.1 - - [28/Sep/2020 22:25:44] \"\u001b[37mPOST /api/test HTTP/1.1\u001b[0m\" 200 -\n"
     ]
    },
    {
     "name": "stdout",
     "output_type": "stream",
     "text": [
      "[{\"label\": \"Mask: 85.80%\", \"x\": \"129\", \"y\": \"100\", \"x2\": \"316\", \"y2\": \"287\", \"mask\": \"0.8580219\", \"withoutMask\": \"0.14197816\"}]\n"
     ]
    },
    {
     "name": "stderr",
     "output_type": "stream",
     "text": [
      "127.0.0.1 - - [28/Sep/2020 22:25:45] \"\u001b[37mPOST /api/test HTTP/1.1\u001b[0m\" 200 -\n"
     ]
    },
    {
     "name": "stdout",
     "output_type": "stream",
     "text": [
      "[{\"label\": \"Mask: 80.34%\", \"x\": \"129\", \"y\": \"99\", \"x2\": \"317\", \"y2\": \"287\", \"mask\": \"0.8033632\", \"withoutMask\": \"0.1966368\"}]\n"
     ]
    },
    {
     "name": "stderr",
     "output_type": "stream",
     "text": [
      "127.0.0.1 - - [28/Sep/2020 22:25:45] \"\u001b[37mPOST /api/test HTTP/1.1\u001b[0m\" 200 -\n"
     ]
    },
    {
     "name": "stdout",
     "output_type": "stream",
     "text": [
      "[{\"label\": \"Mask: 60.94%\", \"x\": \"131\", \"y\": \"104\", \"x2\": \"310\", \"y2\": \"283\", \"mask\": \"0.6094461\", \"withoutMask\": \"0.3905539\"}]\n"
     ]
    },
    {
     "name": "stderr",
     "output_type": "stream",
     "text": [
      "127.0.0.1 - - [28/Sep/2020 22:25:45] \"\u001b[37mPOST /api/test HTTP/1.1\u001b[0m\" 200 -\n"
     ]
    },
    {
     "name": "stdout",
     "output_type": "stream",
     "text": [
      "[{\"label\": \"No Mask: 95.16%\", \"x\": \"134\", \"y\": \"91\", \"x2\": \"330\", \"y2\": \"287\", \"mask\": \"0.048390187\", \"withoutMask\": \"0.9516098\"}]\n"
     ]
    },
    {
     "name": "stderr",
     "output_type": "stream",
     "text": [
      "127.0.0.1 - - [28/Sep/2020 22:25:46] \"\u001b[37mPOST /api/test HTTP/1.1\u001b[0m\" 200 -\n"
     ]
    },
    {
     "name": "stdout",
     "output_type": "stream",
     "text": [
      "[{\"label\": \"No Mask: 99.68%\", \"x\": \"148\", \"y\": \"99\", \"x2\": \"337\", \"y2\": \"288\", \"mask\": \"0.0032263936\", \"withoutMask\": \"0.99677354\"}]\n"
     ]
    },
    {
     "name": "stderr",
     "output_type": "stream",
     "text": [
      "127.0.0.1 - - [28/Sep/2020 22:25:46] \"\u001b[37mPOST /api/test HTTP/1.1\u001b[0m\" 200 -\n"
     ]
    },
    {
     "name": "stdout",
     "output_type": "stream",
     "text": [
      "[{\"label\": \"No Mask: 99.80%\", \"x\": \"158\", \"y\": \"103\", \"x2\": \"346\", \"y2\": \"291\", \"mask\": \"0.0020214184\", \"withoutMask\": \"0.9979786\"}]\n"
     ]
    },
    {
     "name": "stderr",
     "output_type": "stream",
     "text": [
      "127.0.0.1 - - [28/Sep/2020 22:25:46] \"\u001b[37mPOST /api/test HTTP/1.1\u001b[0m\" 200 -\n"
     ]
    },
    {
     "name": "stdout",
     "output_type": "stream",
     "text": [
      "[{\"label\": \"No Mask: 99.81%\", \"x\": \"163\", \"y\": \"105\", \"x2\": \"349\", \"y2\": \"291\", \"mask\": \"0.0018614038\", \"withoutMask\": \"0.99813855\"}]\n"
     ]
    },
    {
     "name": "stderr",
     "output_type": "stream",
     "text": [
      "127.0.0.1 - - [28/Sep/2020 22:25:46] \"\u001b[37mPOST /api/test HTTP/1.1\u001b[0m\" 200 -\n"
     ]
    },
    {
     "name": "stdout",
     "output_type": "stream",
     "text": [
      "[{\"label\": \"No Mask: 99.35%\", \"x\": \"163\", \"y\": \"102\", \"x2\": \"348\", \"y2\": \"287\", \"mask\": \"0.0065055764\", \"withoutMask\": \"0.99349445\"}]\n"
     ]
    },
    {
     "name": "stderr",
     "output_type": "stream",
     "text": [
      "127.0.0.1 - - [28/Sep/2020 22:25:47] \"\u001b[37mPOST /api/test HTTP/1.1\u001b[0m\" 200 -\n"
     ]
    },
    {
     "name": "stdout",
     "output_type": "stream",
     "text": [
      "[{\"label\": \"No Mask: 99.83%\", \"x\": \"157\", \"y\": \"101\", \"x2\": \"345\", \"y2\": \"289\", \"mask\": \"0.0017420347\", \"withoutMask\": \"0.99825794\"}]\n"
     ]
    },
    {
     "name": "stderr",
     "output_type": "stream",
     "text": [
      "127.0.0.1 - - [28/Sep/2020 22:25:47] \"\u001b[37mPOST /api/test HTTP/1.1\u001b[0m\" 200 -\n"
     ]
    },
    {
     "name": "stdout",
     "output_type": "stream",
     "text": [
      "[{\"label\": \"No Mask: 97.92%\", \"x\": \"138\", \"y\": \"110\", \"x2\": \"324\", \"y2\": \"296\", \"mask\": \"0.020763082\", \"withoutMask\": \"0.97923696\"}]\n"
     ]
    },
    {
     "name": "stderr",
     "output_type": "stream",
     "text": [
      "127.0.0.1 - - [28/Sep/2020 22:25:47] \"\u001b[37mPOST /api/test HTTP/1.1\u001b[0m\" 200 -\n"
     ]
    },
    {
     "name": "stdout",
     "output_type": "stream",
     "text": [
      "[{\"label\": \"No Mask: 96.01%\", \"x\": \"118\", \"y\": \"103\", \"x2\": \"311\", \"y2\": \"296\", \"mask\": \"0.039889403\", \"withoutMask\": \"0.96011055\"}]\n"
     ]
    }
   ],
   "source": [
    "from flask import Flask, request, Response\n",
    "import jsonpickle\n",
    "import numpy as np\n",
    "import cv2\n",
    "import numpy as np\n",
    "import cv2\n",
    "from cv2 import imread\n",
    "from cv2 import imshow\n",
    "from cv2 import waitKey\n",
    "from cv2 import destroyAllWindows\n",
    "from cv2 import CascadeClassifier\n",
    "from cv2 import rectangle\n",
    "from tensorflow.keras.preprocessing.image import img_to_array\n",
    "from tensorflow.keras.applications.mobilenet_v2 import preprocess_input\n",
    "import json\n",
    "\n",
    "app = Flask(__name__)\n",
    " \n",
    "classifier = CascadeClassifier('haarcascade_frontalface_default.xml')\n",
    "m = models.load_model(\"face_mask_model.h5\")  \n",
    "    \n",
    "@app.route('/api/test', methods=['POST'])\n",
    "def draw_image_with_boxes():\n",
    "    # load the image\n",
    "    r = request\n",
    "    #print(len(r.data))\n",
    "    # convert string of image data to uint8\n",
    "    nparr = np.frombuffer(r.data, np.uint8)\n",
    "    # decode image\n",
    "    frame = cv2.imdecode(nparr, cv2.IMREAD_COLOR)\n",
    "    # perform face detection\n",
    "    bboxes = classifier.detectMultiScale(frame)\n",
    "    reslist = []\n",
    "    for box in bboxes:\n",
    "        x, y, width, height = box\n",
    "        x2, y2 = x + width, y + height\n",
    "        # draw a rectangle over the pixels\n",
    "        face = frame[y:y2, x:x2]\n",
    "        face = cv2.resize(face, (224, 224))\n",
    "        face = img_to_array(face)\n",
    "        face = preprocess_input(face)\n",
    "        face = np.expand_dims(face, axis=0)\n",
    "        (mask, withoutMask) = m.predict(face)[0]\n",
    "        label = \"Mask\" if mask > withoutMask else \"No Mask\"\n",
    "        color = (0, 255, 0) if label == \"Mask\" else (0, 0, 255)\n",
    "        # include the probability in the label\n",
    "        label = \"{}: {:.2f}%\".format(label, max(mask, withoutMask) * 100)\n",
    "        # display the label and bounding box rectangle on the output\n",
    "        # frame\n",
    "        #cv2.putText(frame, label, (x, y - 10),\n",
    "        #    cv2.FONT_HERSHEY_SIMPLEX, 0.45, color, 2)\n",
    "        res = {'label':str(label),'x':str(x),'y':str(y),'x2':str(x2),'y2':str(y2),'mask':str(mask),'withoutMask':str(withoutMask)}\n",
    "        reslist.append(res)\n",
    "    \n",
    "    jsonres = json.dumps(reslist)\n",
    "    print(jsonres)\n",
    "    return Response(response=jsonres, status=200, mimetype=\"application/json\")\n",
    " \n",
    "if __name__ == \"__main__\":\n",
    "    app.run()"
   ]
  },
  {
   "cell_type": "code",
   "execution_count": null,
   "metadata": {},
   "outputs": [],
   "source": []
  }
 ],
 "metadata": {
  "kernelspec": {
   "display_name": "Python 3",
   "language": "python",
   "name": "python3"
  },
  "language_info": {
   "codemirror_mode": {
    "name": "ipython",
    "version": 3
   },
   "file_extension": ".py",
   "mimetype": "text/x-python",
   "name": "python",
   "nbconvert_exporter": "python",
   "pygments_lexer": "ipython3",
   "version": "3.7.1"
  }
 },
 "nbformat": 4,
 "nbformat_minor": 2
}
