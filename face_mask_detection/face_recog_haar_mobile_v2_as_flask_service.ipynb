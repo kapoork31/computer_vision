{
 "cells": [
  {
   "cell_type": "code",
   "execution_count": 1,
   "metadata": {},
   "outputs": [],
   "source": [
    "import cv2\n",
    "import numpy as np\n",
    "import tensorflow.keras.models as models\n",
    "from flask import Flask, request, Response\n",
    "from cv2 import CascadeClassifier\n",
    "from tensorflow.keras.preprocessing.image import img_to_array\n",
    "from tensorflow.keras.applications.mobilenet_v2 import preprocess_input\n",
    "import json"
   ]
  },
  {
   "cell_type": "code",
   "execution_count": 4,
   "metadata": {},
   "outputs": [
    {
     "name": "stdout",
     "output_type": "stream",
     "text": [
      " * Serving Flask app \"__main__\" (lazy loading)\n",
      " * Environment: production\n",
      "   WARNING: Do not use the development server in a production environment.\n",
      "   Use a production WSGI server instead.\n",
      " * Debug mode: off\n"
     ]
    },
    {
     "name": "stderr",
     "output_type": "stream",
     "text": [
      " * Running on http://0.0.0.0:5000/ (Press CTRL+C to quit)\n",
      "127.0.0.1 - - [27/Oct/2020 20:38:08] \"\u001b[37mPOST /api/test HTTP/1.1\u001b[0m\" 200 -\n"
     ]
    },
    {
     "name": "stdout",
     "output_type": "stream",
     "text": [
      "[]\n"
     ]
    },
    {
     "name": "stderr",
     "output_type": "stream",
     "text": [
      "127.0.0.1 - - [27/Oct/2020 20:38:09] \"\u001b[37mPOST /api/test HTTP/1.1\u001b[0m\" 200 -\n"
     ]
    },
    {
     "name": "stdout",
     "output_type": "stream",
     "text": [
      "[{\"label\": \"Mask: 90.26%\", \"x\": \"145\", \"y\": \"29\", \"x2\": \"291\", \"y2\": \"175\", \"mask\": \"0.9026153\", \"withoutMask\": \"0.0973847\"}]\n",
      "[{\"label\": \"Mask: 70.35%\", \"x\": \"147\", \"y\": \"45\", \"x2\": \"338\", \"y2\": \"236\", \"mask\": \"0.7034564\", \"withoutMask\": \"0.2965436\"}]"
     ]
    },
    {
     "name": "stderr",
     "output_type": "stream",
     "text": [
      "127.0.0.1 - - [27/Oct/2020 20:38:10] \"\u001b[37mPOST /api/test HTTP/1.1\u001b[0m\" 200 -\n"
     ]
    },
    {
     "name": "stdout",
     "output_type": "stream",
     "text": [
      "\n",
      "[{\"label\": \"No Mask: 54.96%\", \"x\": \"150\", \"y\": \"46\", \"x2\": \"338\", \"y2\": \"234\", \"mask\": \"0.4504077\", \"withoutMask\": \"0.54959226\"}]"
     ]
    },
    {
     "name": "stderr",
     "output_type": "stream",
     "text": [
      "127.0.0.1 - - [27/Oct/2020 20:38:10] \"\u001b[37mPOST /api/test HTTP/1.1\u001b[0m\" 200 -\n"
     ]
    },
    {
     "name": "stdout",
     "output_type": "stream",
     "text": [
      "\n"
     ]
    },
    {
     "name": "stderr",
     "output_type": "stream",
     "text": [
      "127.0.0.1 - - [27/Oct/2020 20:38:10] \"\u001b[37mPOST /api/test HTTP/1.1\u001b[0m\" 200 -\n"
     ]
    },
    {
     "name": "stdout",
     "output_type": "stream",
     "text": [
      "[{\"label\": \"Mask: 93.21%\", \"x\": \"148\", \"y\": \"47\", \"x2\": \"338\", \"y2\": \"237\", \"mask\": \"0.93207586\", \"withoutMask\": \"0.06792418\"}]\n"
     ]
    },
    {
     "name": "stderr",
     "output_type": "stream",
     "text": [
      "127.0.0.1 - - [27/Oct/2020 20:38:10] \"\u001b[37mPOST /api/test HTTP/1.1\u001b[0m\" 200 -\n"
     ]
    },
    {
     "name": "stdout",
     "output_type": "stream",
     "text": [
      "[{\"label\": \"Mask: 86.44%\", \"x\": \"148\", \"y\": \"51\", \"x2\": \"331\", \"y2\": \"234\", \"mask\": \"0.86437595\", \"withoutMask\": \"0.13562404\"}]\n"
     ]
    },
    {
     "name": "stderr",
     "output_type": "stream",
     "text": [
      "127.0.0.1 - - [27/Oct/2020 20:38:11] \"\u001b[37mPOST /api/test HTTP/1.1\u001b[0m\" 200 -\n"
     ]
    },
    {
     "name": "stdout",
     "output_type": "stream",
     "text": [
      "[{\"label\": \"Mask: 93.38%\", \"x\": \"144\", \"y\": \"52\", \"x2\": \"326\", \"y2\": \"234\", \"mask\": \"0.9338328\", \"withoutMask\": \"0.06616716\"}]\n"
     ]
    },
    {
     "name": "stderr",
     "output_type": "stream",
     "text": [
      "127.0.0.1 - - [27/Oct/2020 20:38:11] \"\u001b[37mPOST /api/test HTTP/1.1\u001b[0m\" 200 -\n"
     ]
    },
    {
     "name": "stdout",
     "output_type": "stream",
     "text": [
      "[{\"label\": \"Mask: 80.97%\", \"x\": \"143\", \"y\": \"50\", \"x2\": \"324\", \"y2\": \"231\", \"mask\": \"0.8096919\", \"withoutMask\": \"0.19030815\"}]\n"
     ]
    },
    {
     "name": "stderr",
     "output_type": "stream",
     "text": [
      "127.0.0.1 - - [27/Oct/2020 20:38:11] \"\u001b[37mPOST /api/test HTTP/1.1\u001b[0m\" 200 -\n"
     ]
    },
    {
     "name": "stdout",
     "output_type": "stream",
     "text": [
      "[{\"label\": \"Mask: 91.42%\", \"x\": \"150\", \"y\": \"52\", \"x2\": \"327\", \"y2\": \"229\", \"mask\": \"0.91416407\", \"withoutMask\": \"0.08583596\"}]\n"
     ]
    },
    {
     "name": "stderr",
     "output_type": "stream",
     "text": [
      "127.0.0.1 - - [27/Oct/2020 20:38:11] \"\u001b[37mPOST /api/test HTTP/1.1\u001b[0m\" 200 -\n"
     ]
    },
    {
     "name": "stdout",
     "output_type": "stream",
     "text": [
      "[{\"label\": \"No Mask: 55.62%\", \"x\": \"144\", \"y\": \"42\", \"x2\": \"331\", \"y2\": \"229\", \"mask\": \"0.4437741\", \"withoutMask\": \"0.55622584\"}]\n"
     ]
    },
    {
     "name": "stderr",
     "output_type": "stream",
     "text": [
      "127.0.0.1 - - [27/Oct/2020 20:38:11] \"\u001b[37mPOST /api/test HTTP/1.1\u001b[0m\" 200 -\n"
     ]
    },
    {
     "name": "stdout",
     "output_type": "stream",
     "text": [
      "[{\"label\": \"Mask: 91.48%\", \"x\": \"137\", \"y\": \"38\", \"x2\": \"333\", \"y2\": \"234\", \"mask\": \"0.9147996\", \"withoutMask\": \"0.085200354\"}]\n"
     ]
    },
    {
     "name": "stderr",
     "output_type": "stream",
     "text": [
      "127.0.0.1 - - [27/Oct/2020 20:38:12] \"\u001b[37mPOST /api/test HTTP/1.1\u001b[0m\" 200 -\n"
     ]
    },
    {
     "name": "stdout",
     "output_type": "stream",
     "text": [
      "[{\"label\": \"No Mask: 81.37%\", \"x\": \"142\", \"y\": \"51\", \"x2\": \"325\", \"y2\": \"234\", \"mask\": \"0.18627378\", \"withoutMask\": \"0.8137262\"}]\n",
      "[{\"label\": \"Mask: 78.28%\", \"x\": \"146\", \"y\": \"52\", \"x2\": \"321\", \"y2\": \"227\", \"mask\": \"0.78275853\", \"withoutMask\": \"0.21724148\"}]"
     ]
    },
    {
     "name": "stderr",
     "output_type": "stream",
     "text": [
      "127.0.0.1 - - [27/Oct/2020 20:38:12] \"\u001b[37mPOST /api/test HTTP/1.1\u001b[0m\" 200 -\n"
     ]
    },
    {
     "name": "stdout",
     "output_type": "stream",
     "text": [
      "\n"
     ]
    },
    {
     "name": "stderr",
     "output_type": "stream",
     "text": [
      "127.0.0.1 - - [27/Oct/2020 20:38:12] \"\u001b[37mPOST /api/test HTTP/1.1\u001b[0m\" 200 -\n"
     ]
    },
    {
     "name": "stdout",
     "output_type": "stream",
     "text": [
      "[{\"label\": \"Mask: 58.07%\", \"x\": \"141\", \"y\": \"54\", \"x2\": \"317\", \"y2\": \"230\", \"mask\": \"0.5806554\", \"withoutMask\": \"0.41934454\"}]\n"
     ]
    },
    {
     "name": "stderr",
     "output_type": "stream",
     "text": [
      "127.0.0.1 - - [27/Oct/2020 20:38:12] \"\u001b[37mPOST /api/test HTTP/1.1\u001b[0m\" 200 -\n"
     ]
    },
    {
     "name": "stdout",
     "output_type": "stream",
     "text": [
      "[{\"label\": \"No Mask: 62.76%\", \"x\": \"143\", \"y\": \"52\", \"x2\": \"315\", \"y2\": \"224\", \"mask\": \"0.37240613\", \"withoutMask\": \"0.6275939\"}]\n"
     ]
    },
    {
     "name": "stderr",
     "output_type": "stream",
     "text": [
      "127.0.0.1 - - [27/Oct/2020 20:38:13] \"\u001b[37mPOST /api/test HTTP/1.1\u001b[0m\" 200 -\n"
     ]
    },
    {
     "name": "stdout",
     "output_type": "stream",
     "text": [
      "[{\"label\": \"Mask: 84.04%\", \"x\": \"140\", \"y\": \"47\", \"x2\": \"320\", \"y2\": \"227\", \"mask\": \"0.84036034\", \"withoutMask\": \"0.15963967\"}]\n",
      "[{\"label\": \"Mask: 84.21%\", \"x\": \"143\", \"y\": \"46\", \"x2\": \"321\", \"y2\": \"224\", \"mask\": \"0.8421148\", \"withoutMask\": \"0.15788518\"}]"
     ]
    },
    {
     "name": "stderr",
     "output_type": "stream",
     "text": [
      "127.0.0.1 - - [27/Oct/2020 20:38:13] \"\u001b[37mPOST /api/test HTTP/1.1\u001b[0m\" 200 -\n"
     ]
    },
    {
     "name": "stdout",
     "output_type": "stream",
     "text": [
      "\n"
     ]
    }
   ],
   "source": [
    "app = Flask(__name__)\n",
    " \n",
    "classifier = CascadeClassifier('haarcascade_frontalface_default.xml')\n",
    "m = models.load_model(\"face_mask_model.h5\")  \n",
    "    \n",
    "@app.route('/api/test', methods=['POST'])\n",
    "def draw_image_with_boxes():\n",
    "    # load the image\n",
    "    r = request\n",
    "    #print(len(r.data))\n",
    "    # convert string of image data to uint8\n",
    "    nparr = np.frombuffer(r.data, np.uint8)\n",
    "    # decode image\n",
    "    frame = cv2.imdecode(nparr, cv2.IMREAD_COLOR)\n",
    "    # perform face detection\n",
    "    bboxes = classifier.detectMultiScale(frame)\n",
    "    reslist = []\n",
    "    for box in bboxes:\n",
    "        x, y, width, height = box\n",
    "        x2, y2 = x + width, y + height\n",
    "        # draw a rectangle over the pixels\n",
    "        face = frame[y:y2, x:x2]\n",
    "        face = cv2.resize(face, (224, 224))\n",
    "        face = img_to_array(face)\n",
    "        face = preprocess_input(face)\n",
    "        face = np.expand_dims(face, axis=0)\n",
    "        (mask, withoutMask) = m.predict(face)[0]\n",
    "        label = \"Mask\" if mask > withoutMask else \"No Mask\"\n",
    "        color = (0, 255, 0) if label == \"Mask\" else (0, 0, 255)\n",
    "        # include the probability in the label\n",
    "        label = \"{}: {:.2f}%\".format(label, max(mask, withoutMask) * 100)\n",
    "        # display the label and bounding box rectangle on the output\n",
    "        # frame\n",
    "        #cv2.putText(frame, label, (x, y - 10),\n",
    "        #    cv2.FONT_HERSHEY_SIMPLEX, 0.45, color, 2)\n",
    "        res = {'label':str(label),'x':str(x),'y':str(y),'x2':str(x2),'y2':str(y2),'mask':str(mask),'withoutMask':str(withoutMask)}\n",
    "        reslist.append(res)\n",
    "    \n",
    "    jsonres = json.dumps(reslist)\n",
    "    print(jsonres)\n",
    "    return Response(response=jsonres, status=200, mimetype=\"application/json\")\n",
    " \n",
    "if __name__ == \"__main__\":\n",
    "    app.run(host='0.0.0.0')"
   ]
  },
  {
   "cell_type": "code",
   "execution_count": 3,
   "metadata": {},
   "outputs": [
    {
     "name": "stdout",
     "output_type": "stream",
     "text": [
      " * Serving Flask app \"__main__\" (lazy loading)\n",
      " * Environment: production\n",
      "   WARNING: Do not use the development server in a production environment.\n",
      "   Use a production WSGI server instead.\n",
      " * Debug mode: off\n"
     ]
    },
    {
     "name": "stderr",
     "output_type": "stream",
     "text": [
      " * Running on http://0.0.0.0:5000/ (Press CTRL+C to quit)\n",
      "127.0.0.1 - - [27/Oct/2020 20:32:57] \"\u001b[37mPOST /api/test HTTP/1.1\u001b[0m\" 200 -\n"
     ]
    },
    {
     "name": "stdout",
     "output_type": "stream",
     "text": [
      "[{\"label\": \"No Mask: 65.81%\", \"x\": \"149\", \"y\": \"4\", \"x2\": \"306\", \"y2\": \"161\", \"mask\": \"0.34186333\", \"withoutMask\": \"0.6581366\"}]\n"
     ]
    },
    {
     "name": "stderr",
     "output_type": "stream",
     "text": [
      "127.0.0.1 - - [27/Oct/2020 20:32:58] \"\u001b[37mPOST /api/test HTTP/1.1\u001b[0m\" 200 -\n"
     ]
    },
    {
     "name": "stdout",
     "output_type": "stream",
     "text": [
      "[{\"label\": \"No Mask: 96.96%\", \"x\": \"143\", \"y\": \"2\", \"x2\": \"301\", \"y2\": \"160\", \"mask\": \"0.030350253\", \"withoutMask\": \"0.9696498\"}]\n"
     ]
    },
    {
     "name": "stderr",
     "output_type": "stream",
     "text": [
      "127.0.0.1 - - [27/Oct/2020 20:32:58] \"\u001b[37mPOST /api/test HTTP/1.1\u001b[0m\" 200 -\n"
     ]
    },
    {
     "name": "stdout",
     "output_type": "stream",
     "text": [
      "[{\"label\": \"Mask: 68.52%\", \"x\": \"245\", \"y\": \"76\", \"x2\": \"295\", \"y2\": \"126\", \"mask\": \"0.68522185\", \"withoutMask\": \"0.31477812\"}]\n"
     ]
    },
    {
     "name": "stderr",
     "output_type": "stream",
     "text": [
      "127.0.0.1 - - [27/Oct/2020 20:32:59] \"\u001b[37mPOST /api/test HTTP/1.1\u001b[0m\" 200 -\n"
     ]
    },
    {
     "name": "stdout",
     "output_type": "stream",
     "text": [
      "[{\"label\": \"No Mask: 74.34%\", \"x\": \"151\", \"y\": \"1\", \"x2\": \"304\", \"y2\": \"154\", \"mask\": \"0.25663027\", \"withoutMask\": \"0.74336976\"}]\n",
      "[]"
     ]
    },
    {
     "name": "stderr",
     "output_type": "stream",
     "text": [
      "127.0.0.1 - - [27/Oct/2020 20:32:59] \"\u001b[37mPOST /api/test HTTP/1.1\u001b[0m\" 200 -\n"
     ]
    },
    {
     "name": "stdout",
     "output_type": "stream",
     "text": [
      "\n"
     ]
    },
    {
     "name": "stderr",
     "output_type": "stream",
     "text": [
      "127.0.0.1 - - [27/Oct/2020 20:32:59] \"\u001b[37mPOST /api/test HTTP/1.1\u001b[0m\" 200 -\n",
      "127.0.0.1 - - [27/Oct/2020 20:33:00] \"\u001b[37mPOST /api/test HTTP/1.1\u001b[0m\" 200 -\n"
     ]
    },
    {
     "name": "stdout",
     "output_type": "stream",
     "text": [
      "[{\"label\": \"No Mask: 99.06%\", \"x\": \"149\", \"y\": \"3\", \"x2\": \"304\", \"y2\": \"158\", \"mask\": \"0.009427246\", \"withoutMask\": \"0.99057275\"}]\n",
      "[]\n"
     ]
    },
    {
     "name": "stderr",
     "output_type": "stream",
     "text": [
      "127.0.0.1 - - [27/Oct/2020 20:33:00] \"\u001b[37mPOST /api/test HTTP/1.1\u001b[0m\" 200 -\n",
      "127.0.0.1 - - [27/Oct/2020 20:33:00] \"\u001b[37mPOST /api/test HTTP/1.1\u001b[0m\" 200 -\n"
     ]
    },
    {
     "name": "stdout",
     "output_type": "stream",
     "text": [
      "[]\n",
      "[]\n"
     ]
    },
    {
     "name": "stderr",
     "output_type": "stream",
     "text": [
      "127.0.0.1 - - [27/Oct/2020 20:33:00] \"\u001b[37mPOST /api/test HTTP/1.1\u001b[0m\" 200 -\n",
      "127.0.0.1 - - [27/Oct/2020 20:33:00] \"\u001b[37mPOST /api/test HTTP/1.1\u001b[0m\" 200 -\n"
     ]
    },
    {
     "name": "stdout",
     "output_type": "stream",
     "text": [
      "[{\"label\": \"No Mask: 70.26%\", \"x\": \"149\", \"y\": \"1\", \"x2\": \"302\", \"y2\": \"154\", \"mask\": \"0.29736105\", \"withoutMask\": \"0.702639\"}]\n",
      "[]\n"
     ]
    },
    {
     "name": "stderr",
     "output_type": "stream",
     "text": [
      "127.0.0.1 - - [27/Oct/2020 20:33:00] \"\u001b[37mPOST /api/test HTTP/1.1\u001b[0m\" 200 -\n"
     ]
    },
    {
     "name": "stdout",
     "output_type": "stream",
     "text": [
      "[]\n"
     ]
    },
    {
     "name": "stderr",
     "output_type": "stream",
     "text": [
      "127.0.0.1 - - [27/Oct/2020 20:33:01] \"\u001b[37mPOST /api/test HTTP/1.1\u001b[0m\" 200 -\n"
     ]
    },
    {
     "name": "stdout",
     "output_type": "stream",
     "text": [
      "[{\"label\": \"No Mask: 91.44%\", \"x\": \"145\", \"y\": \"2\", \"x2\": \"303\", \"y2\": \"160\", \"mask\": \"0.0856127\", \"withoutMask\": \"0.9143873\"}]\n"
     ]
    },
    {
     "name": "stderr",
     "output_type": "stream",
     "text": [
      "127.0.0.1 - - [27/Oct/2020 20:33:01] \"\u001b[37mPOST /api/test HTTP/1.1\u001b[0m\" 200 -\n",
      "127.0.0.1 - - [27/Oct/2020 20:33:01] \"\u001b[37mPOST /api/test HTTP/1.1\u001b[0m\" 200 -\n"
     ]
    },
    {
     "name": "stdout",
     "output_type": "stream",
     "text": [
      "[{\"label\": \"No Mask: 99.42%\", \"x\": \"143\", \"y\": \"3\", \"x2\": \"302\", \"y2\": \"162\", \"mask\": \"0.005830978\", \"withoutMask\": \"0.994169\"}]\n",
      "[]\n"
     ]
    },
    {
     "name": "stderr",
     "output_type": "stream",
     "text": [
      "127.0.0.1 - - [27/Oct/2020 20:33:01] \"\u001b[37mPOST /api/test HTTP/1.1\u001b[0m\" 200 -\n",
      "127.0.0.1 - - [27/Oct/2020 20:33:01] \"\u001b[37mPOST /api/test HTTP/1.1\u001b[0m\" 200 -\n"
     ]
    },
    {
     "name": "stdout",
     "output_type": "stream",
     "text": [
      "[]\n",
      "[]\n"
     ]
    },
    {
     "name": "stderr",
     "output_type": "stream",
     "text": [
      "127.0.0.1 - - [27/Oct/2020 20:33:02] \"\u001b[37mPOST /api/test HTTP/1.1\u001b[0m\" 200 -\n"
     ]
    },
    {
     "name": "stdout",
     "output_type": "stream",
     "text": [
      "[{\"label\": \"No Mask: 85.37%\", \"x\": \"142\", \"y\": \"2\", \"x2\": \"304\", \"y2\": \"164\", \"mask\": \"0.1463368\", \"withoutMask\": \"0.8536632\"}]\n"
     ]
    },
    {
     "name": "stderr",
     "output_type": "stream",
     "text": [
      "127.0.0.1 - - [27/Oct/2020 20:33:02] \"\u001b[37mPOST /api/test HTTP/1.1\u001b[0m\" 200 -\n"
     ]
    },
    {
     "name": "stdout",
     "output_type": "stream",
     "text": [
      "[{\"label\": \"No Mask: 97.40%\", \"x\": \"150\", \"y\": \"4\", \"x2\": \"312\", \"y2\": \"166\", \"mask\": \"0.025972502\", \"withoutMask\": \"0.97402745\"}]\n",
      "[{\"label\": \"Mask: 66.22%\", \"x\": \"159\", \"y\": \"6\", \"x2\": \"336\", \"y2\": \"183\", \"mask\": \"0.6622488\", \"withoutMask\": \"0.3377512\"}]"
     ]
    },
    {
     "name": "stderr",
     "output_type": "stream",
     "text": [
      "127.0.0.1 - - [27/Oct/2020 20:33:02] \"\u001b[37mPOST /api/test HTTP/1.1\u001b[0m\" 200 -\n"
     ]
    },
    {
     "name": "stdout",
     "output_type": "stream",
     "text": [
      "\n"
     ]
    },
    {
     "name": "stderr",
     "output_type": "stream",
     "text": [
      "127.0.0.1 - - [27/Oct/2020 20:33:02] \"\u001b[37mPOST /api/test HTTP/1.1\u001b[0m\" 200 -\n"
     ]
    },
    {
     "name": "stdout",
     "output_type": "stream",
     "text": [
      "[{\"label\": \"No Mask: 92.84%\", \"x\": \"147\", \"y\": \"14\", \"x2\": \"359\", \"y2\": \"226\", \"mask\": \"0.0716371\", \"withoutMask\": \"0.92836285\"}]\n"
     ]
    },
    {
     "name": "stderr",
     "output_type": "stream",
     "text": [
      "127.0.0.1 - - [27/Oct/2020 20:33:03] \"\u001b[37mPOST /api/test HTTP/1.1\u001b[0m\" 200 -\n"
     ]
    },
    {
     "name": "stdout",
     "output_type": "stream",
     "text": [
      "[{\"label\": \"No Mask: 94.73%\", \"x\": \"141\", \"y\": \"33\", \"x2\": \"349\", \"y2\": \"241\", \"mask\": \"0.052734848\", \"withoutMask\": \"0.94726515\"}]\n"
     ]
    },
    {
     "name": "stderr",
     "output_type": "stream",
     "text": [
      "127.0.0.1 - - [27/Oct/2020 20:33:03] \"\u001b[37mPOST /api/test HTTP/1.1\u001b[0m\" 200 -\n"
     ]
    },
    {
     "name": "stdout",
     "output_type": "stream",
     "text": [
      "[{\"label\": \"No Mask: 93.30%\", \"x\": \"143\", \"y\": \"38\", \"x2\": \"346\", \"y2\": \"241\", \"mask\": \"0.067036234\", \"withoutMask\": \"0.93296385\"}]\n"
     ]
    },
    {
     "name": "stderr",
     "output_type": "stream",
     "text": [
      "127.0.0.1 - - [27/Oct/2020 20:33:03] \"\u001b[37mPOST /api/test HTTP/1.1\u001b[0m\" 200 -\n"
     ]
    },
    {
     "name": "stdout",
     "output_type": "stream",
     "text": [
      "[{\"label\": \"No Mask: 96.69%\", \"x\": \"140\", \"y\": \"35\", \"x2\": \"347\", \"y2\": \"242\", \"mask\": \"0.033078663\", \"withoutMask\": \"0.9669213\"}]\n"
     ]
    },
    {
     "name": "stderr",
     "output_type": "stream",
     "text": [
      "127.0.0.1 - - [27/Oct/2020 20:33:03] \"\u001b[37mPOST /api/test HTTP/1.1\u001b[0m\" 200 -\n"
     ]
    },
    {
     "name": "stdout",
     "output_type": "stream",
     "text": [
      "[{\"label\": \"No Mask: 99.82%\", \"x\": \"140\", \"y\": \"42\", \"x2\": \"338\", \"y2\": \"240\", \"mask\": \"0.0017844526\", \"withoutMask\": \"0.99821556\"}]\n"
     ]
    },
    {
     "name": "stderr",
     "output_type": "stream",
     "text": [
      "127.0.0.1 - - [27/Oct/2020 20:33:03] \"\u001b[37mPOST /api/test HTTP/1.1\u001b[0m\" 200 -\n"
     ]
    },
    {
     "name": "stdout",
     "output_type": "stream",
     "text": [
      "[{\"label\": \"No Mask: 98.78%\", \"x\": \"135\", \"y\": \"40\", \"x2\": \"334\", \"y2\": \"239\", \"mask\": \"0.012191227\", \"withoutMask\": \"0.9878087\"}]\n"
     ]
    },
    {
     "name": "stderr",
     "output_type": "stream",
     "text": [
      "127.0.0.1 - - [27/Oct/2020 20:33:04] \"\u001b[37mPOST /api/test HTTP/1.1\u001b[0m\" 200 -\n"
     ]
    },
    {
     "name": "stdout",
     "output_type": "stream",
     "text": [
      "[{\"label\": \"No Mask: 98.69%\", \"x\": \"135\", \"y\": \"44\", \"x2\": \"331\", \"y2\": \"240\", \"mask\": \"0.01305127\", \"withoutMask\": \"0.9869487\"}]\n"
     ]
    },
    {
     "name": "stderr",
     "output_type": "stream",
     "text": [
      "127.0.0.1 - - [27/Oct/2020 20:33:04] \"\u001b[37mPOST /api/test HTTP/1.1\u001b[0m\" 200 -\n"
     ]
    },
    {
     "name": "stdout",
     "output_type": "stream",
     "text": [
      "[{\"label\": \"Mask: 61.17%\", \"x\": \"133\", \"y\": \"42\", \"x2\": \"328\", \"y2\": \"237\", \"mask\": \"0.61173165\", \"withoutMask\": \"0.38826838\"}]\n"
     ]
    },
    {
     "name": "stderr",
     "output_type": "stream",
     "text": [
      "127.0.0.1 - - [27/Oct/2020 20:33:04] \"\u001b[37mPOST /api/test HTTP/1.1\u001b[0m\" 200 -\n"
     ]
    },
    {
     "name": "stdout",
     "output_type": "stream",
     "text": [
      "[{\"label\": \"No Mask: 55.32%\", \"x\": \"130\", \"y\": \"32\", \"x2\": \"326\", \"y2\": \"228\", \"mask\": \"0.44676274\", \"withoutMask\": \"0.55323726\"}]\n"
     ]
    },
    {
     "name": "stderr",
     "output_type": "stream",
     "text": [
      "127.0.0.1 - - [27/Oct/2020 20:33:04] \"\u001b[37mPOST /api/test HTTP/1.1\u001b[0m\" 200 -\n"
     ]
    },
    {
     "name": "stdout",
     "output_type": "stream",
     "text": [
      "[{\"label\": \"No Mask: 94.08%\", \"x\": \"128\", \"y\": \"27\", \"x2\": \"329\", \"y2\": \"228\", \"mask\": \"0.059192244\", \"withoutMask\": \"0.94080776\"}]\n"
     ]
    },
    {
     "name": "stderr",
     "output_type": "stream",
     "text": [
      "127.0.0.1 - - [27/Oct/2020 20:33:05] \"\u001b[37mPOST /api/test HTTP/1.1\u001b[0m\" 200 -\n"
     ]
    },
    {
     "name": "stdout",
     "output_type": "stream",
     "text": [
      "[{\"label\": \"No Mask: 59.88%\", \"x\": \"128\", \"y\": \"29\", \"x2\": \"325\", \"y2\": \"226\", \"mask\": \"0.40116692\", \"withoutMask\": \"0.5988331\"}]\n"
     ]
    },
    {
     "name": "stderr",
     "output_type": "stream",
     "text": [
      "127.0.0.1 - - [27/Oct/2020 20:33:05] \"\u001b[37mPOST /api/test HTTP/1.1\u001b[0m\" 200 -\n"
     ]
    },
    {
     "name": "stdout",
     "output_type": "stream",
     "text": [
      "[{\"label\": \"Mask: 58.10%\", \"x\": \"130\", \"y\": \"28\", \"x2\": \"324\", \"y2\": \"222\", \"mask\": \"0.5810026\", \"withoutMask\": \"0.4189974\"}]\n"
     ]
    },
    {
     "name": "stderr",
     "output_type": "stream",
     "text": [
      "127.0.0.1 - - [27/Oct/2020 20:33:05] \"\u001b[37mPOST /api/test HTTP/1.1\u001b[0m\" 200 -\n"
     ]
    },
    {
     "name": "stdout",
     "output_type": "stream",
     "text": [
      "[{\"label\": \"Mask: 62.37%\", \"x\": \"124\", \"y\": \"23\", \"x2\": \"325\", \"y2\": \"224\", \"mask\": \"0.6237051\", \"withoutMask\": \"0.37629488\"}]\n"
     ]
    },
    {
     "name": "stderr",
     "output_type": "stream",
     "text": [
      "127.0.0.1 - - [27/Oct/2020 20:33:05] \"\u001b[37mPOST /api/test HTTP/1.1\u001b[0m\" 200 -\n"
     ]
    },
    {
     "name": "stdout",
     "output_type": "stream",
     "text": [
      "[{\"label\": \"No Mask: 86.75%\", \"x\": \"128\", \"y\": \"24\", \"x2\": \"333\", \"y2\": \"229\", \"mask\": \"0.13248584\", \"withoutMask\": \"0.8675142\"}]\n"
     ]
    },
    {
     "name": "stderr",
     "output_type": "stream",
     "text": [
      "127.0.0.1 - - [27/Oct/2020 20:33:06] \"\u001b[37mPOST /api/test HTTP/1.1\u001b[0m\" 200 -\n"
     ]
    },
    {
     "name": "stdout",
     "output_type": "stream",
     "text": [
      "[{\"label\": \"No Mask: 93.38%\", \"x\": \"132\", \"y\": \"28\", \"x2\": \"333\", \"y2\": \"229\", \"mask\": \"0.06622933\", \"withoutMask\": \"0.93377066\"}]\n"
     ]
    },
    {
     "name": "stderr",
     "output_type": "stream",
     "text": [
      "127.0.0.1 - - [27/Oct/2020 20:33:06] \"\u001b[37mPOST /api/test HTTP/1.1\u001b[0m\" 200 -\n"
     ]
    },
    {
     "name": "stdout",
     "output_type": "stream",
     "text": [
      "[{\"label\": \"No Mask: 84.33%\", \"x\": \"130\", \"y\": \"23\", \"x2\": \"336\", \"y2\": \"229\", \"mask\": \"0.15673552\", \"withoutMask\": \"0.8432645\"}]\n"
     ]
    },
    {
     "name": "stderr",
     "output_type": "stream",
     "text": [
      "127.0.0.1 - - [27/Oct/2020 20:33:06] \"\u001b[37mPOST /api/test HTTP/1.1\u001b[0m\" 200 -\n"
     ]
    },
    {
     "name": "stdout",
     "output_type": "stream",
     "text": [
      "[{\"label\": \"No Mask: 66.20%\", \"x\": \"132\", \"y\": \"26\", \"x2\": \"334\", \"y2\": \"228\", \"mask\": \"0.33801806\", \"withoutMask\": \"0.66198194\"}]\n"
     ]
    },
    {
     "name": "stderr",
     "output_type": "stream",
     "text": [
      "127.0.0.1 - - [27/Oct/2020 20:33:06] \"\u001b[37mPOST /api/test HTTP/1.1\u001b[0m\" 200 -\n"
     ]
    },
    {
     "name": "stdout",
     "output_type": "stream",
     "text": [
      "[{\"label\": \"No Mask: 91.32%\", \"x\": \"136\", \"y\": \"27\", \"x2\": \"335\", \"y2\": \"226\", \"mask\": \"0.086822666\", \"withoutMask\": \"0.9131774\"}]\n"
     ]
    },
    {
     "name": "stderr",
     "output_type": "stream",
     "text": [
      "127.0.0.1 - - [27/Oct/2020 20:33:07] \"\u001b[37mPOST /api/test HTTP/1.1\u001b[0m\" 200 -\n"
     ]
    },
    {
     "name": "stdout",
     "output_type": "stream",
     "text": [
      "[{\"label\": \"No Mask: 81.50%\", \"x\": \"136\", \"y\": \"31\", \"x2\": \"333\", \"y2\": \"228\", \"mask\": \"0.18500805\", \"withoutMask\": \"0.81499195\"}]\n",
      "[{\"label\": \"Mask: 58.57%\", \"x\": \"138\", \"y\": \"34\", \"x2\": \"332\", \"y2\": \"228\", \"mask\": \"0.58567804\", \"withoutMask\": \"0.41432193\"}]"
     ]
    },
    {
     "name": "stderr",
     "output_type": "stream",
     "text": [
      "127.0.0.1 - - [27/Oct/2020 20:33:07] \"\u001b[37mPOST /api/test HTTP/1.1\u001b[0m\" 200 -\n"
     ]
    },
    {
     "name": "stdout",
     "output_type": "stream",
     "text": [
      "\n"
     ]
    },
    {
     "name": "stderr",
     "output_type": "stream",
     "text": [
      "127.0.0.1 - - [27/Oct/2020 20:33:07] \"\u001b[37mPOST /api/test HTTP/1.1\u001b[0m\" 200 -\n"
     ]
    },
    {
     "name": "stdout",
     "output_type": "stream",
     "text": [
      "[{\"label\": \"No Mask: 52.33%\", \"x\": \"137\", \"y\": \"34\", \"x2\": \"330\", \"y2\": \"227\", \"mask\": \"0.47674146\", \"withoutMask\": \"0.5232585\"}]\n"
     ]
    },
    {
     "name": "stderr",
     "output_type": "stream",
     "text": [
      "127.0.0.1 - - [27/Oct/2020 20:33:07] \"\u001b[37mPOST /api/test HTTP/1.1\u001b[0m\" 200 -\n"
     ]
    },
    {
     "name": "stdout",
     "output_type": "stream",
     "text": [
      "[{\"label\": \"Mask: 61.50%\", \"x\": \"130\", \"y\": \"25\", \"x2\": \"340\", \"y2\": \"235\", \"mask\": \"0.6150133\", \"withoutMask\": \"0.38498673\"}]\n"
     ]
    }
   ],
   "source": [
    "import cv2\n",
    "import numpy as np\n",
    "import tensorflow.keras.models as models\n",
    "from flask import Flask, request, Response\n",
    "from cv2 import CascadeClassifier\n",
    "from tensorflow.keras.preprocessing.image import img_to_array\n",
    "from tensorflow.keras.applications.mobilenet_v2 import preprocess_input\n",
    "import json\n",
    "\n",
    "server = Flask(__name__)\n",
    " \n",
    "classifier = CascadeClassifier('haarcascade_frontalface_default.xml')\n",
    "m = models.load_model(\"face_mask_model.h5\")  \n",
    "    \n",
    "@server.route('/api/test', methods=['POST'])\n",
    "def draw_image_with_boxes():\n",
    "    # load the image\n",
    "    r = request\n",
    "    #print(len(r.data))\n",
    "    # convert string of image data to uint8\n",
    "    nparr = np.frombuffer(r.data, np.uint8)\n",
    "    # decode image\n",
    "    frame = cv2.imdecode(nparr, cv2.IMREAD_COLOR)\n",
    "    # perform face detection\n",
    "    bboxes = classifier.detectMultiScale(frame)\n",
    "    reslist = []\n",
    "    for box in bboxes:\n",
    "        x, y, width, height = box\n",
    "        x2, y2 = x + width, y + height\n",
    "        # draw a rectangle over the pixels\n",
    "        face = frame[y:y2, x:x2]\n",
    "        face = cv2.resize(face, (224, 224))\n",
    "        face = img_to_array(face)\n",
    "        face = preprocess_input(face)\n",
    "        face = np.expand_dims(face, axis=0)\n",
    "        (mask, withoutMask) = m.predict(face)[0]\n",
    "        label = \"Mask\" if mask > withoutMask else \"No Mask\"\n",
    "        color = (0, 255, 0) if label == \"Mask\" else (0, 0, 255)\n",
    "        # include the probability in the label\n",
    "        label = \"{}: {:.2f}%\".format(label, max(mask, withoutMask) * 100)\n",
    "        # display the label and bounding box rectangle on the output\n",
    "        # frame\n",
    "        #cv2.putText(frame, label, (x, y - 10),\n",
    "        #    cv2.FONT_HERSHEY_SIMPLEX, 0.45, color, 2)\n",
    "        res = {'label':str(label),'x':str(x),'y':str(y),'x2':str(x2),'y2':str(y2),'mask':str(mask),'withoutMask':str(withoutMask)}\n",
    "        reslist.append(res)\n",
    "    \n",
    "    jsonres = json.dumps(reslist)\n",
    "    print(jsonres)\n",
    "    return Response(response=jsonres, status=200, mimetype=\"application/json\")\n",
    " \n",
    "@server.route(\"/hello\")\n",
    "def hello():\n",
    "    return \"Hello World!\"\n",
    "\n",
    "if __name__ == \"__main__\":\n",
    "    server.run(host='0.0.0.0')\n"
   ]
  }
 ],
 "metadata": {
  "kernelspec": {
   "display_name": "Python 3",
   "language": "python",
   "name": "python3"
  },
  "language_info": {
   "codemirror_mode": {
    "name": "ipython",
    "version": 3
   },
   "file_extension": ".py",
   "mimetype": "text/x-python",
   "name": "python",
   "nbconvert_exporter": "python",
   "pygments_lexer": "ipython3",
   "version": "3.7.1"
  }
 },
 "nbformat": 4,
 "nbformat_minor": 2
}
